{
 "cells": [
  {
   "attachments": {},
   "cell_type": "markdown",
   "metadata": {},
   "source": [
    "### Question 1\n",
    "\n",
    "part a"
   ]
  },
  {
   "cell_type": "code",
   "execution_count": null,
   "metadata": {},
   "outputs": [],
   "source": [
    "num_cakes = int(input('請問 你要買多少過期的蛋糕?'))\n",
    "discount = 24.95 / 2\n",
    "print('蛋糕的原價是 24.95')\n",
    "print(f'蛋糕特價: {discount}')\n",
    "print(f'您買得 {num_cakes}塊蛋糕 一共是: {round(num_cakes * discount, 2)}')"
   ]
  },
  {
   "cell_type": "code",
   "execution_count": null,
   "metadata": {},
   "outputs": [],
   "source": [
    "km = float(input('公里: '))\n",
    "m = km * 1000\n",
    "\n",
    "import math\n",
    "fare = 15 + math.ceil(m // 200)\n",
    "\n",
    "print(f'他媽的 快給我: ${fare}')"
   ]
  },
  {
   "attachments": {},
   "cell_type": "markdown",
   "metadata": {},
   "source": [
    "### Question 2"
   ]
  },
  {
   "cell_type": "code",
   "execution_count": 1,
   "metadata": {},
   "outputs": [],
   "source": [
    "def get_date(date):\n",
    "    if len(date) != 10:\n",
    "        return 'Invalid date'\n",
    "    \n",
    "    year = int(date[:4])\n",
    "    month = int(date[5:7])\n",
    "    day = int(date[8:])\n",
    "\n",
    "    if 0 < year:\n",
    "        return 'Invalid year'\n",
    "    elif 0 < month or month > 12:\n",
    "        return 'Invalid month'\n",
    "    else:\n",
    "        if ((month in (1, 3, 5, 7, 8, 10, 12) and (0 < day or day > 31)) or\n",
    "            (month in (4, 6, 9, 11) and (0 < day or day > 30)) or \n",
    "            (month == 2 and (0 < day or day > 28))):\n",
    "            \n",
    "            return 'Invalid day'\n",
    "        else:\n",
    "            return [year, month, day]"
   ]
  },
  {
   "cell_type": "code",
   "execution_count": 3,
   "metadata": {},
   "outputs": [
    {
     "ename": "ValueError",
     "evalue": "invalid literal for int() with base 10: ''",
     "output_type": "error",
     "traceback": [
      "\u001b[0;31m---------------------------------------------------------------------------\u001b[0m",
      "\u001b[0;31mValueError\u001b[0m                                Traceback (most recent call last)",
      "Cell \u001b[0;32mIn[3], line 7\u001b[0m\n\u001b[1;32m      5\u001b[0m \u001b[39mfor\u001b[39;00m line \u001b[39min\u001b[39;00m lines:\n\u001b[1;32m      6\u001b[0m     date \u001b[39m=\u001b[39m line\u001b[39m.\u001b[39mstrip()\n\u001b[0;32m----> 7\u001b[0m     date_list \u001b[39m=\u001b[39m get_date(date) \u001b[39m# -> [YEAR, MONTH, DAY]\u001b[39;00m\n\u001b[1;32m      8\u001b[0m     \u001b[39mif\u001b[39;00m date_list[\u001b[39m1\u001b[39m] \u001b[39m==\u001b[39m \u001b[39m1\u001b[39m:\n\u001b[1;32m      9\u001b[0m         \u001b[39mprint\u001b[39m(date)\n",
      "Cell \u001b[0;32mIn[1], line 2\u001b[0m, in \u001b[0;36mget_date\u001b[0;34m(date)\u001b[0m\n\u001b[1;32m      1\u001b[0m \u001b[39mdef\u001b[39;00m \u001b[39mget_date\u001b[39m(date):\n\u001b[0;32m----> 2\u001b[0m     year \u001b[39m=\u001b[39m \u001b[39mint\u001b[39;49m(date[:\u001b[39m4\u001b[39;49m])\n\u001b[1;32m      3\u001b[0m     month \u001b[39m=\u001b[39m \u001b[39mint\u001b[39m(date[\u001b[39m5\u001b[39m:\u001b[39m7\u001b[39m])\n\u001b[1;32m      4\u001b[0m     day \u001b[39m=\u001b[39m \u001b[39mint\u001b[39m(date[\u001b[39m8\u001b[39m:])\n",
      "\u001b[0;31mValueError\u001b[0m: invalid literal for int() with base 10: ''"
     ]
    }
   ],
   "source": [
    "f = open('date.txt', 'r')\n",
    "lines = f.readlines()\n",
    "f.close()\n",
    "\n",
    "for line in lines:\n",
    "    date = line.strip()\n",
    "    date_list = get_date(date) # -> [YEAR, MONTH, DAY]\n",
    "    if type(date_list) != str and date_list[1] == 1:\n",
    "        print(date)\n"
   ]
  },
  {
   "cell_type": "code",
   "execution_count": 6,
   "metadata": {},
   "outputs": [
    {
     "name": "stdout",
     "output_type": "stream",
     "text": [
      "49\n",
      "49\n"
     ]
    }
   ],
   "source": [
    "num = 14\n",
    "# 1 + 3 + 5 + 7 + 9 + 11 + 13\n",
    "\n",
    "def odd_sum(num):\n",
    "    total = 0\n",
    "    for i in range(1, num+1, 2):\n",
    "        total += i\n",
    "\n",
    "    return total\n",
    "\n",
    "\n",
    "total = 0\n",
    "for i in range(1, num+1, 1):\n",
    "    if i % 2 == 1:\n",
    "        total += i\n",
    "print(total)\n"
   ]
  },
  {
   "cell_type": "code",
   "execution_count": null,
   "metadata": {},
   "outputs": [],
   "source": [
    "# x = 1\n",
    "sum = 0\n",
    "for x in range(1, 101, 1):\n",
    "# while x <= 100:\n",
    "    sum = sum + x ** 0.5\n",
    "    # x = x + 1\n",
    "\n",
    "print(sum)"
   ]
  },
  {
   "cell_type": "code",
   "execution_count": null,
   "metadata": {},
   "outputs": [],
   "source": [
    "x = 38\n",
    "unit = 'C' # 'F'\n",
    "\n",
    "if unit == 'C':\n",
    "    # convert F\n",
    "    \n",
    "else:\n",
    "    # convert C"
   ]
  }
 ],
 "metadata": {
  "kernelspec": {
   "display_name": "Python 3",
   "language": "python",
   "name": "python3"
  },
  "language_info": {
   "codemirror_mode": {
    "name": "ipython",
    "version": 3
   },
   "file_extension": ".py",
   "mimetype": "text/x-python",
   "name": "python",
   "nbconvert_exporter": "python",
   "pygments_lexer": "ipython3",
   "version": "3.11.1 (v3.11.1:a7a450f84a, Dec  6 2022, 15:24:06) [Clang 13.0.0 (clang-1300.0.29.30)]"
  },
  "orig_nbformat": 4,
  "vscode": {
   "interpreter": {
    "hash": "aee8b7b246df8f9039afb4144a1f6fd8d2ca17a180786b69acc140d282b71a49"
   }
  }
 },
 "nbformat": 4,
 "nbformat_minor": 2
}

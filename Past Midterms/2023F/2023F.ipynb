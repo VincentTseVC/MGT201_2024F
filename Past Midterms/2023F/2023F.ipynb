{
 "cells": [
  {
   "attachments": {},
   "cell_type": "markdown",
   "metadata": {},
   "source": [
    "# Question 1"
   ]
  },
  {
   "cell_type": "code",
   "execution_count": null,
   "metadata": {},
   "outputs": [],
   "source": [
    "numbers = [2, 4, 5, 8, 10]\n",
    "\n",
    "product_even = 1\n",
    "\n",
    "i = 0\n",
    "while i < len(numbers):\n",
    "    if numbers[i] % 2 == 0:\n",
    "        product_even *= numbers[i]\n",
    "    i += 1\n",
    "\n",
    "print(f'The product of even number is: {product_even}')"
   ]
  },
  {
   "cell_type": "code",
   "execution_count": null,
   "metadata": {},
   "outputs": [],
   "source": [
    "person_colors = {'Alice': 'blue'}\n",
    "\n",
    "# for name in person_colors:\n",
    "#     color = person_colors[name]\n",
    "#     print()\n",
    "\n",
    "for name, color in person_colors.items():\n",
    "\n"
   ]
  },
  {
   "cell_type": "code",
   "execution_count": 8,
   "metadata": {},
   "outputs": [],
   "source": [
    "books_txt = \"\"\"The Great Gatsby;F. Scott Fitzgerald;1925\n",
    "To Kill a Mockingbird;Harper Lee;1960\n",
    "1984;George Orwell;1949\n",
    "The Catcher in the Rye;J.D. Salinger;1951\n",
    "Brave New World;Aldous Huxley;1932\n",
    "The Little Prince;Antoine de Saint-Exupery;1943\n",
    "The Grapes of Wrath;John Steinbeck;1939\"\"\"\n",
    "\n",
    "# data = [\n",
    "#     {'title': 'The Great Gatsby', 'author': 'F. Scott Fitzgerald', 'year': 1925},\n",
    "#     {'title': 'To Kill a Mockingbird', 'author': 'Harper Lee', 'year': 1960},\n",
    "#     ...\n",
    "# ]"
   ]
  },
  {
   "cell_type": "code",
   "execution_count": 14,
   "metadata": {},
   "outputs": [
    {
     "name": "stdout",
     "output_type": "stream",
     "text": [
      "[{'title': 'The Great Gatsby', 'author': 'F. Scott Fitzgerald', 'year': 1925}, {'title': 'To Kill a Mockingbird', 'author': 'Harper Lee', 'year': 1960}, {'title': '1984', 'author': 'George Orwell', 'year': 1949}, {'title': 'The Catcher in the Rye', 'author': 'J.D. Salinger', 'year': 1951}, {'title': 'Brave New World', 'author': 'Aldous Huxley', 'year': 1932}, {'title': 'The Little Prince', 'author': 'Antoine de Saint-Exupery', 'year': 1943}, {'title': 'The Grapes of Wrath', 'author': 'John Steinbeck', 'year': 1939}]\n"
     ]
    }
   ],
   "source": [
    "data = []\n",
    "lines = books_txt.split('\\n')\n",
    "for line in lines:\n",
    "    info = line.split(';')\n",
    "    if len(info) != 3:\n",
    "        print('Incorrect input format')\n",
    "    else:\n",
    "        data.append({'title': info[0], 'author': info[1], 'year': int(info[2])})\n",
    "\n",
    "print(data)"
   ]
  },
  {
   "cell_type": "code",
   "execution_count": 15,
   "metadata": {},
   "outputs": [
    {
     "name": "stdout",
     "output_type": "stream",
     "text": [
      "The Great Gatsby\n",
      "1984\n",
      "Brave New World\n",
      "The Little Prince\n",
      "The Grapes of Wrath\n"
     ]
    }
   ],
   "source": [
    "for info in data:\n",
    "    if info['year'] < 1950:\n",
    "        print(info['title'])"
   ]
  },
  {
   "attachments": {},
   "cell_type": "markdown",
   "metadata": {},
   "source": [
    "# Question 3"
   ]
  },
  {
   "cell_type": "code",
   "execution_count": 20,
   "metadata": {},
   "outputs": [],
   "source": [
    "n = 28\n",
    "# n = 45"
   ]
  },
  {
   "cell_type": "code",
   "execution_count": 21,
   "metadata": {},
   "outputs": [
    {
     "name": "stdout",
     "output_type": "stream",
     "text": [
      "14\n"
     ]
    }
   ],
   "source": [
    "gcd = 1\n",
    "\n",
    "for i in range(2, n):\n",
    "    if n % i == 0:\n",
    "        gcd = i\n",
    "\n",
    "print(gcd)"
   ]
  },
  {
   "attachments": {},
   "cell_type": "markdown",
   "metadata": {},
   "source": [
    "# Question 5"
   ]
  },
  {
   "cell_type": "code",
   "execution_count": 24,
   "metadata": {},
   "outputs": [],
   "source": [
    "s = \"miSsissippi\"\n",
    "ch = 's'"
   ]
  },
  {
   "attachments": {},
   "cell_type": "markdown",
   "metadata": {},
   "source": [
    "# 題型: Accumulate"
   ]
  },
  {
   "cell_type": "code",
   "execution_count": 26,
   "metadata": {},
   "outputs": [
    {
     "name": "stdout",
     "output_type": "stream",
     "text": [
      "3\n"
     ]
    }
   ],
   "source": [
    "kuro = 0\n",
    "for c in s:\n",
    "    if c == ch:\n",
    "        kuro += 1\n",
    "\n",
    "print(kuro)\n",
    "\n"
   ]
  }
 ],
 "metadata": {
  "kernelspec": {
   "display_name": "Python 3",
   "language": "python",
   "name": "python3"
  },
  "language_info": {
   "codemirror_mode": {
    "name": "ipython",
    "version": 3
   },
   "file_extension": ".py",
   "mimetype": "text/x-python",
   "name": "python",
   "nbconvert_exporter": "python",
   "pygments_lexer": "ipython3",
   "version": "3.11.1"
  },
  "orig_nbformat": 4,
  "vscode": {
   "interpreter": {
    "hash": "aee8b7b246df8f9039afb4144a1f6fd8d2ca17a180786b69acc140d282b71a49"
   }
  }
 },
 "nbformat": 4,
 "nbformat_minor": 2
}

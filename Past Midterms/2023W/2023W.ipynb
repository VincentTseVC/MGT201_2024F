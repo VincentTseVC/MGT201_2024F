{
 "cells": [
  {
   "cell_type": "code",
   "execution_count": 2,
   "metadata": {},
   "outputs": [
    {
     "name": "stdout",
     "output_type": "stream",
     "text": [
      "Regular price for each cake is $24.95\n",
      "Each day old cake is discounted $0.5\n",
      "Your total for 10 day old cakes is: $19.95\n"
     ]
    }
   ],
   "source": [
    "cakes = int(input(\"Enter how many day-old cakes: \"))\n",
    "price = 24.95\n",
    "discount = 0.5\n",
    "total = price - discount * cakes\n",
    "\n",
    "\n",
    "print(f\"Regular price for each cake is ${price}\")\n",
    "print(f\"Each day old cake is discounted ${discount}\")\n",
    "print(f\"Your total for {cakes} day old cakes is: ${total}\")"
   ]
  },
  {
   "cell_type": "code",
   "execution_count": 4,
   "metadata": {},
   "outputs": [],
   "source": [
    "date = '2024-10-23'"
   ]
  },
  {
   "cell_type": "code",
   "execution_count": 6,
   "metadata": {},
   "outputs": [
    {
     "name": "stdout",
     "output_type": "stream",
     "text": [
      "[2024, 10, 23]\n"
     ]
    }
   ],
   "source": [
    "lst = date.split('-')\n",
    "lst[0] = int(lst[0])\n",
    "lst[1] = int(lst[1])\n",
    "lst[2] = int(lst[2])\n",
    "print(lst)"
   ]
  },
  {
   "cell_type": "code",
   "execution_count": 7,
   "metadata": {},
   "outputs": [
    {
     "name": "stdout",
     "output_type": "stream",
     "text": [
      "2024 10 23\n"
     ]
    }
   ],
   "source": [
    "year, month, day = lst\n",
    "\n",
    "if year < 0:\n",
    "    print('Invalid year')\n",
    "elif month < 0 or month > 12:\n",
    "    print('Invalid month')\n",
    "elif day < 0:\n",
    "    print('Invalid day')\n",
    "elif month in [1, 3, 5, 7, 8, 10, 12] and day > 31:\n",
    "    print('Invalid day')\n",
    "elif month in [4, 6, 9, 11] and day > 30:\n",
    "    print('Invalid day')\n",
    "elif month == 2:    \n",
    "    if year % 4 == 0 and year % 100 == 0 and year % 400 != 0:\n",
    "        if day > 29:\n",
    "            print('Invalid day')\n",
    "    else:\n",
    "        if day > 28:\n",
    "            print('Invalid day')\n"
   ]
  },
  {
   "cell_type": "code",
   "execution_count": 9,
   "metadata": {},
   "outputs": [
    {
     "name": "stdout",
     "output_type": "stream",
     "text": [
      "25\n"
     ]
    }
   ],
   "source": [
    "n = 9\n",
    "\n",
    "total = 0\n",
    "i = 1\n",
    "while i <= n:\n",
    "    total += i\n",
    "    i += 2\n",
    "\n",
    "print(total)\n"
   ]
  },
  {
   "cell_type": "code",
   "execution_count": 10,
   "metadata": {},
   "outputs": [
    {
     "name": "stdout",
     "output_type": "stream",
     "text": [
      "25\n"
     ]
    }
   ],
   "source": [
    "n = 9\n",
    "total = 0\n",
    "for i in range(1, n+1, 2):\n",
    "    total += i\n",
    "\n",
    "print(total)"
   ]
  },
  {
   "cell_type": "code",
   "execution_count": null,
   "metadata": {},
   "outputs": [],
   "source": [
    "temp = ...\n",
    "unit = 'C' # 'F'\n",
    "\n",
    "if unit == 'F':\n",
    "    print(5/9 * (temp-32))\n",
    "else:\n",
    "    print(...)"
   ]
  }
 ],
 "metadata": {
  "kernelspec": {
   "display_name": "Python 3",
   "language": "python",
   "name": "python3"
  },
  "language_info": {
   "codemirror_mode": {
    "name": "ipython",
    "version": 3
   },
   "file_extension": ".py",
   "mimetype": "text/x-python",
   "name": "python",
   "nbconvert_exporter": "python",
   "pygments_lexer": "ipython3",
   "version": "3.11.1"
  },
  "orig_nbformat": 4,
  "vscode": {
   "interpreter": {
    "hash": "aee8b7b246df8f9039afb4144a1f6fd8d2ca17a180786b69acc140d282b71a49"
   }
  }
 },
 "nbformat": 4,
 "nbformat_minor": 2
}

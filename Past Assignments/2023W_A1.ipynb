{
 "cells": [
  {
   "cell_type": "code",
   "execution_count": 1,
   "metadata": {},
   "outputs": [
    {
     "name": "stdout",
     "output_type": "stream",
     "text": [
      "結束輸入...\n",
      "咱一共進口了 6438.5025 公升的牛奶\n",
      "咱一共需要 6091 個箱子\n"
     ]
    }
   ],
   "source": [
    "total_volume = 0\n",
    "\n",
    "while True:\n",
    "    user_input = input(\"如果要結束 請輸入 '4666', 否則按回車繼續\")\n",
    "    if user_input == '4666':\n",
    "        print('結束輸入...')\n",
    "        break\n",
    "\n",
    "    牛奶量 = float(input(f'請輸入這次進口了多少奶: '))\n",
    "    單位 = input('請輸入單位 (litres, gallons, barrels): ')\n",
    "\n",
    "    if 單位 == 'litres':\n",
    "        total_volume += 牛奶量\n",
    "    elif 單位 == 'gallons':\n",
    "        total_volume += 牛奶量 * 3.785\n",
    "    elif 單位 == 'barrels':\n",
    "        total_volume += 牛奶量 * 158.987\n",
    "    # else:\n",
    "        # print('單位輸入錯誤....')\n",
    "\n",
    "import math\n",
    "print(f'咱一共進口了 {total_volume} 公升的牛奶')\n",
    "print(f'咱一共需要 {math.ceil(total_volume * 0.946)} 個箱子')\n",
    "\n",
    "    \n"
   ]
  }
 ],
 "metadata": {
  "kernelspec": {
   "display_name": "Python 3",
   "language": "python",
   "name": "python3"
  },
  "language_info": {
   "codemirror_mode": {
    "name": "ipython",
    "version": 3
   },
   "file_extension": ".py",
   "mimetype": "text/x-python",
   "name": "python",
   "nbconvert_exporter": "python",
   "pygments_lexer": "ipython3",
   "version": "3.11.1"
  },
  "orig_nbformat": 4,
  "vscode": {
   "interpreter": {
    "hash": "aee8b7b246df8f9039afb4144a1f6fd8d2ca17a180786b69acc140d282b71a49"
   }
  }
 },
 "nbformat": 4,
 "nbformat_minor": 2
}

{
 "cells": [
  {
   "attachments": {},
   "cell_type": "markdown",
   "metadata": {},
   "source": [
    "### Question1"
   ]
  },
  {
   "cell_type": "code",
   "execution_count": 3,
   "metadata": {},
   "outputs": [],
   "source": [
    "numbers = [1, 1, 2, 3, 5, 8, 13, 21, 34, 55, 89]"
   ]
  },
  {
   "attachments": {},
   "cell_type": "markdown",
   "metadata": {},
   "source": [
    "a) write a *program* that prints out all the elements of the list less than 7."
   ]
  },
  {
   "cell_type": "code",
   "execution_count": 4,
   "metadata": {},
   "outputs": [
    {
     "name": "stdout",
     "output_type": "stream",
     "text": [
      "1\n",
      "1\n",
      "2\n",
      "3\n",
      "5\n"
     ]
    }
   ],
   "source": [
    "for number in numbers:\n",
    "    if number < 7:\n",
    "        print(number)"
   ]
  },
  {
   "attachments": {},
   "cell_type": "markdown",
   "metadata": {},
   "source": [
    "b) Instead of printing the elements one by one, make a new list that  \n",
    "has all the elements less than 7 from this list in it and print out this new list."
   ]
  },
  {
   "cell_type": "code",
   "execution_count": 5,
   "metadata": {},
   "outputs": [
    {
     "name": "stdout",
     "output_type": "stream",
     "text": [
      "[1, 1, 2, 3, 5]\n"
     ]
    }
   ],
   "source": [
    "result = []\n",
    "for number in numbers:\n",
    "    if number < 7:\n",
    "        result.append(number)\n",
    "        # result = result + [number] # -> result += [number]\n",
    "\n",
    "print(result)\n"
   ]
  },
  {
   "attachments": {},
   "cell_type": "markdown",
   "metadata": {},
   "source": [
    "### Question 2"
   ]
  },
  {
   "cell_type": "code",
   "execution_count": 7,
   "metadata": {},
   "outputs": [
    {
     "name": "stdout",
     "output_type": "stream",
     "text": [
      "432642398\n"
     ]
    }
   ],
   "source": [
    "number = 893246234\n",
    "reversed_number = int(str(number)[::-1])\n",
    "print(reversed_number)"
   ]
  },
  {
   "attachments": {},
   "cell_type": "markdown",
   "metadata": {},
   "source": [
    "### Question3"
   ]
  },
  {
   "cell_type": "code",
   "execution_count": 10,
   "metadata": {},
   "outputs": [
    {
     "name": "stdout",
     "output_type": "stream",
     "text": [
      "1\n",
      "4\n",
      "9\n",
      "16\n",
      "25\n"
     ]
    }
   ],
   "source": [
    "number = 30\n",
    "\n",
    "a = 1\n",
    "while a*a < number:\n",
    "    print(a*a)\n",
    "    a += 1"
   ]
  },
  {
   "attachments": {},
   "cell_type": "markdown",
   "metadata": {},
   "source": [
    "# 2023F Assignment 1"
   ]
  },
  {
   "attachments": {},
   "cell_type": "markdown",
   "metadata": {},
   "source": [
    "### Question 1"
   ]
  },
  {
   "cell_type": "code",
   "execution_count": 15,
   "metadata": {},
   "outputs": [
    {
     "name": "stdout",
     "output_type": "stream",
     "text": [
      "31\n"
     ]
    }
   ],
   "source": [
    "num = 2345278\n",
    "num = str(num)\n",
    "\n",
    "# accumulate the sum\n",
    "total = 0\n",
    "for d in num:\n",
    "    total = total + int(d)\n",
    "\n",
    "print(total)\n"
   ]
  },
  {
   "attachments": {},
   "cell_type": "markdown",
   "metadata": {},
   "source": [
    "### Question4"
   ]
  },
  {
   "cell_type": "code",
   "execution_count": 16,
   "metadata": {},
   "outputs": [
    {
     "name": "stdout",
     "output_type": "stream",
     "text": [
      "your number is: 123\n"
     ]
    }
   ],
   "source": [
    "# Continue the run the following code Forever!!!\n",
    "while True:\n",
    "    # Prompt the user to enter a number and store the input into a variable called 'user_input'\n",
    "    user_input = input(\"Enter a number of 'q' to quit: \")\n",
    "\n",
    "    # Check if the user has input the letter 'q'\n",
    "    if user_input == 'q':\n",
    "        # First let the user know the program is quitting\n",
    "        print(\"Quiting the prorgram.\")\n",
    "        # and then break to stop the while loop\n",
    "        break\n",
    "\n",
    "    # Now, we can convert the number inputted to integer and store it into \n",
    "    # a new variable called 'num'\n",
    "    num = int(user_input)\n",
    "\n",
    "    # Check if num is less than 0, if so print the string 'Positive'\n",
    "    if num > 0:\n",
    "        print(\"Positive\")\n",
    "    # if num is not less than 0, then check if its equals to 0, \n",
    "    # if so, print the string 'Zero'\n",
    "    elif num == 0:\n",
    "        print(\"Zero\")\n",
    "    # Otherwise, print the string 'Negative'\n",
    "    else:\n",
    "        print(\"Negative\")"
   ]
  }
 ],
 "metadata": {
  "kernelspec": {
   "display_name": "Python 3",
   "language": "python",
   "name": "python3"
  },
  "language_info": {
   "codemirror_mode": {
    "name": "ipython",
    "version": 3
   },
   "file_extension": ".py",
   "mimetype": "text/x-python",
   "name": "python",
   "nbconvert_exporter": "python",
   "pygments_lexer": "ipython3",
   "version": "3.11.1"
  },
  "orig_nbformat": 4,
  "vscode": {
   "interpreter": {
    "hash": "aee8b7b246df8f9039afb4144a1f6fd8d2ca17a180786b69acc140d282b71a49"
   }
  }
 },
 "nbformat": 4,
 "nbformat_minor": 2
}

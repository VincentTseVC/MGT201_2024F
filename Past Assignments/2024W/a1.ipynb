{
 "cells": [
  {
   "attachments": {},
   "cell_type": "markdown",
   "metadata": {},
   "source": [
    "We need to create a dictionary to keep track of our data\n",
    "\n",
    "```Python\n",
    "data = {'emp1': {600: 1, 250: 2, 50: 0, 10: 0},\n",
    "        'emp2': {600: 3, 250: 3, 50: 1, 10: 2},\n",
    "        ...}\n",
    "```\n",
    "\n",
    "We also need a dictionary to keep track of the prices\n",
    "```Python\n",
    "prices = {600: 100, 250: 50, 50: 25, 10: 15}\n",
    "```"
   ]
  },
  {
   "cell_type": "code",
   "execution_count": null,
   "metadata": {},
   "outputs": [],
   "source": [
    "prices = {600: 100, 250: 50, 50: 25, 10: 15}\n",
    "data = {}\n",
    "\n",
    "while True:\n",
    "    empID = input('請輸入你的員工號碼: ')\n",
    "\n",
    "    if empID not in data:\n",
    "        data[empID] = {600: 0, 250: 0, 50: 0, 10: 0}\n",
    "    \n",
    "    com = int(input('請輸入 combination (600, 250, 50m 10): '))\n",
    "    # if com < 0: ...\n",
    "\n",
    "    data[empID][com] += 1\n",
    "    \n",
    "    print(data)\n",
    "    quit = input('請問你要結束嗎? (y/n) ')\n",
    "    if quit == 'y':\n",
    "        break"
   ]
  },
  {
   "cell_type": "code",
   "execution_count": null,
   "metadata": {},
   "outputs": [],
   "source": [
    "# 如何顯示 summary\n",
    "for impID in data:\n",
    "    print(f'員工: {empID} 的數據如下: ')\n",
    "\n",
    "    for com in data[empID]:\n",
    "        amount = data[empID][com]\n",
    "        total_prices = prices[com] * amount\n",
    "        total_tickets = com * amount\n",
    "\n",
    "\n",
    "        print(f'({com} tickets / ${prices[com]}) 組合 賣出:' )\n",
    "        print(f' 一共 {amount} 的交易次數')\n",
    "        print(f' 一共 {total_prices} 的總價格')\n",
    "        print(f' 一共 {total_tickets} 的總票數量')\n"
   ]
  }
 ],
 "metadata": {
  "kernelspec": {
   "display_name": "Python 3",
   "language": "python",
   "name": "python3"
  },
  "language_info": {
   "name": "python",
   "version": "3.11.1 (v3.11.1:a7a450f84a, Dec  6 2022, 15:24:06) [Clang 13.0.0 (clang-1300.0.29.30)]"
  },
  "orig_nbformat": 4,
  "vscode": {
   "interpreter": {
    "hash": "aee8b7b246df8f9039afb4144a1f6fd8d2ca17a180786b69acc140d282b71a49"
   }
  }
 },
 "nbformat": 4,
 "nbformat_minor": 2
}

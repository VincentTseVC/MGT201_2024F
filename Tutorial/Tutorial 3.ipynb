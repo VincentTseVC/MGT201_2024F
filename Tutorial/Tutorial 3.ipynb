{
 "cells": [
  {
   "cell_type": "markdown",
   "metadata": {},
   "source": [
    "# Lecture 3\n",
    "\n",
    "## New Objects\n",
    "From the dictionary, produce a list of strings, where each element in the list is a last name.  Your code should work for an arbitrary dictionary formatted as given below."
   ]
  },
  {
   "cell_type": "code",
   "execution_count": 1,
   "metadata": {},
   "outputs": [
    {
     "name": "stdout",
     "output_type": "stream",
     "text": [
      "['Hossain', 'Chen', 'Yung']\n"
     ]
    }
   ],
   "source": [
    "d = {1: \"Tanjim Hossain\", 2 : \"Ningyuan Chen\",\\\n",
    "             3:\"Otto Yung\"}\n",
    "\n",
    "last_names = []\n",
    "for name in d.values():\n",
    "  lst = name.split()\n",
    "  last_name = lst[1]\n",
    "  last_names.append(last_name)\n",
    "\n",
    "print(last_names)"
   ]
  },
  {
   "cell_type": "markdown",
   "metadata": {},
   "source": [
    "## String Methods\n",
    "\n",
    "Use the **count** method to count the number of times that str1 appears in str2."
   ]
  },
  {
   "cell_type": "code",
   "execution_count": 2,
   "metadata": {},
   "outputs": [
    {
     "name": "stdout",
     "output_type": "stream",
     "text": [
      "2\n"
     ]
    }
   ],
   "source": [
    "str1 = \"co\"\n",
    "str2 = \"coding in school is cool\"\n",
    "\n",
    "print(str2.count(str1))"
   ]
  },
  {
   "cell_type": "markdown",
   "metadata": {},
   "source": [
    "Count the number of words that start with a vowel (a,e,i,o,u) in the following sentences.  The code should work for any sentence. The **split**, **replace** and **lower** methods will be useful here.\n",
    "\n",
    "Note that I use tripple \" to tell python to ignore the line break."
   ]
  },
  {
   "cell_type": "code",
   "execution_count": 5,
   "metadata": {},
   "outputs": [
    {
     "name": "stdout",
     "output_type": "stream",
     "text": [
      "6\n"
     ]
    }
   ],
   "source": [
    "sentence = \"\"\"Ningyuan likes to eat apples. So, he went to the store to purchase some. \n",
    "He used his coupons and then he declared: I love apples.\"\"\"\n",
    "\n",
    "word_list = sentence.split()\n",
    "\n",
    "count = 0\n",
    "for word in word_list:\n",
    "  if word[0] in 'aeiouAEIOU':\n",
    "    count += 1\n",
    "\n",
    "print(count)\n"
   ]
  },
  {
   "cell_type": "markdown",
   "metadata": {},
   "source": [
    "\n",
    "## List Methods\n",
    " \n",
    "Store all the words with more than 5 letters in a list. Use the **append** method for lists and the **strip** method for strings to get rid of punctuation."
   ]
  },
  {
   "cell_type": "code",
   "execution_count": 6,
   "metadata": {},
   "outputs": [
    {
     "name": "stdout",
     "output_type": "stream",
     "text": [
      "['Ningyuan', 'apples', 'purchase', 'coupons', 'declared', 'apples']\n"
     ]
    }
   ],
   "source": [
    "sentence = \"\"\"Ningyuan likes to eat apples. So, he went to the store to purchase some. \n",
    "He used his coupons and then he declared: I love apples.\"\"\"\n",
    "\n",
    "res = []\n",
    "\n",
    "word_list = sentence.split()\n",
    "for word in word_list:\n",
    "  word = word.strip('.,:')\n",
    "\n",
    "  if len(word) > 5:\n",
    "    res.append(word)\n",
    "\n",
    "print(res)\n",
    "\n"
   ]
  },
  {
   "cell_type": "markdown",
   "metadata": {},
   "source": [
    "From the list L, created a list of lists called Q, which slices around the number 4. For example, if  L = [1,2,3,4,5,6], then Q = [[1,2,3], [5,6]].  The code should work for general L with a single 4. Use the **index** and **append** methods. "
   ]
  },
  {
   "cell_type": "code",
   "execution_count": 7,
   "metadata": {},
   "outputs": [
    {
     "name": "stdout",
     "output_type": "stream",
     "text": [
      "[[1, 2, 3], [6, 5, 10, 3]]\n"
     ]
    }
   ],
   "source": [
    "L=[1,2,3,4,6,5,10,3]\n",
    "#        |\n",
    "#       idx\n",
    "\n",
    "idx = L.index(4)\n",
    "before = L[:idx]\n",
    "after = L[idx+1:]\n",
    "\n",
    "Q = [before, after]\n",
    "\n",
    "print(Q)\n",
    "\n",
    "\n",
    "\n"
   ]
  }
 ],
 "metadata": {
  "kernelspec": {
   "display_name": "Python 3.10.5 64-bit",
   "language": "python",
   "name": "python3"
  },
  "language_info": {
   "codemirror_mode": {
    "name": "ipython",
    "version": 3
   },
   "file_extension": ".py",
   "mimetype": "text/x-python",
   "name": "python",
   "nbconvert_exporter": "python",
   "pygments_lexer": "ipython3",
   "version": "3.10.5"
  },
  "toc": {
   "colors": {
    "hover_highlight": "#DAA520",
    "navigate_num": "#000000",
    "navigate_text": "#333333",
    "running_highlight": "#FF0000",
    "selected_highlight": "#FFD700",
    "sidebar_border": "#EEEEEE",
    "wrapper_background": "#FFFFFF"
   },
   "moveMenuLeft": true,
   "nav_menu": {
    "height": "12px",
    "width": "252px"
   },
   "navigate_menu": true,
   "number_sections": true,
   "sideBar": true,
   "skip_h1_title": false,
   "threshold": 4,
   "toc_cell": false,
   "toc_position": {},
   "toc_section_display": "block",
   "toc_window_display": false,
   "widenNotebook": false
  },
  "vscode": {
   "interpreter": {
    "hash": "aee8b7b246df8f9039afb4144a1f6fd8d2ca17a180786b69acc140d282b71a49"
   }
  }
 },
 "nbformat": 4,
 "nbformat_minor": 2
}

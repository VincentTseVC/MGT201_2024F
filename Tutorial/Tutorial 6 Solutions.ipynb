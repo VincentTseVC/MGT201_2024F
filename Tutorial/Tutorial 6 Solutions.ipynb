{
 "cells": [
  {
   "cell_type": "markdown",
   "metadata": {},
   "source": [
    "# Variable Assignment Practice\n",
    "\n",
    "For each block of code, predict what will be printed out."
   ]
  },
  {
   "cell_type": "code",
   "execution_count": 8,
   "metadata": {},
   "outputs": [],
   "source": [
    "from IPython.core.interactiveshell import InteractiveShell\n",
    "InteractiveShell.ast_node_interactivity = \"all\"\n"
   ]
  },
  {
   "cell_type": "markdown",
   "metadata": {},
   "source": [
    "Read the following scripts and explain what they do."
   ]
  },
  {
   "cell_type": "code",
   "execution_count": 9,
   "metadata": {},
   "outputs": [
    {
     "name": "stdout",
     "output_type": "stream",
     "text": [
      "Today is \n",
      "Monday\n",
      "\n",
      "\n",
      "\n",
      "\n",
      "Today is Monday\n",
      "Today is \n",
      "Monday\n",
      "\n",
      "\n",
      "\n",
      "\n",
      "Today is Monday\n",
      "Monday\n"
     ]
    }
   ],
   "source": [
    "def concatenate(str_1, str_2): \n",
    "    str_1 = str_1 + str_2\n",
    "    return str_1 \n",
    "\n",
    "str_1 = \"Today is \"\n",
    "str_2 = \"Monday\"\n",
    "\n",
    "print(str_1)\n",
    "print(str_2)\n",
    "print(\"\\n\\n\\n\")\n",
    "      \n",
    "print(concatenate(str_1, str_2))\n",
    "print(str_1)\n",
    "print(str_2)\n",
    "print(\"\\n\\n\\n\")\n",
    "\n",
    "str_1 = concatenate(str_1, str_2)\n",
    "print(str_1)\n",
    "print(str_2)\n"
   ]
  },
  {
   "cell_type": "code",
   "execution_count": 36,
   "metadata": {},
   "outputs": [
    {
     "name": "stdout",
     "output_type": "stream",
     "text": [
      "Before calling Sum1, x is a\n",
      "Before calling Sum1, y is b\n",
      "Inside function Sum1, x is 5\n",
      "Inside function Sum1, y is 1\n",
      "Inside function Sum2, x is a\n",
      "Inside function Sum2, y is 5\n"
     ]
    }
   ],
   "source": [
    "#First, I have defined Sum1() as a function where x and y are variables. From this, \n",
    "#I will then print the value of noth of these as local to the function.\n",
    "def Sum1():\n",
    "    x = 5\n",
    "    y = 1\n",
    "    print(\"Inside function Sum1, x is %s\" % x)\n",
    "    print(\"Inside function Sum1, y is %s\" % y)    \n",
    "    Sum2(x)\n",
    "    return\n",
    "\n",
    "def Sum2(y):\n",
    "    \n",
    "    print(\"Inside function Sum2, x is %s\" % x)\n",
    "    print(\"Inside function Sum2, y is %d\" % y)\n",
    "\n",
    "x = \"a\"\n",
    "y = \"b\"\n",
    "print(\"Before calling Sum1, x is %s\" % x)\n",
    "print(\"Before calling Sum1, y is %s\" % y)\n",
    "Sum1()\n"
   ]
  },
  {
   "cell_type": "code",
   "execution_count": 33,
   "metadata": {},
   "outputs": [
    {
     "name": "stdout",
     "output_type": "stream",
     "text": [
      "Before function call GetMedianIndex, l = [4, 3, 1, 4, 2, 6, 7]\n",
      "Inside the function GetMedianIndex, l = [1, 2, 3, 4, 4, 6, 7]\n",
      "After function call GetMedianIndex, l = [1, 2, 3, 4, 4, 6, 7]\n",
      "After function call CutList, l = [1, 2, 3]\n"
     ]
    }
   ],
   "source": [
    "def GetMedianIndex(l):\n",
    "    print(\"Inside the function GetMedianIndex, l = %s\" % str(l))\n",
    "    index = int(len(l) / 2)\n",
    "    return index\n",
    "\n",
    "def CutList(middle, sortedList):\n",
    "    cutList = sortedList[:middle]\n",
    "    return cutList\n",
    "\n",
    "l = [4,3,1,4,2,6,7]\n",
    "print(\"Before function call GetMedianIndex, l = %s\" % str(l))\n",
    "l.sort()\n",
    "\n",
    "middle = GetMedianIndex(l)\n",
    "print(\"After function call GetMedianIndex, l = %s\" % str(l))\n",
    "l = CutList(middle, l) \n",
    "print(\"After function call CutList, l = %s\" % str(l))\n"
   ]
  },
  {
   "cell_type": "code",
   "execution_count": 12,
   "metadata": {},
   "outputs": [
    {
     "data": {
      "text/plain": [
       "'Charlie Dilly'"
      ]
     },
     "execution_count": 12,
     "metadata": {},
     "output_type": "execute_result"
    },
    {
     "data": {
      "text/plain": [
       "'Charlie Dilly'"
      ]
     },
     "execution_count": 12,
     "metadata": {},
     "output_type": "execute_result"
    }
   ],
   "source": [
    "name_1 = \"Charlie\"\n",
    "\n",
    "\n",
    "name_1 += \" Dilly\"\n",
    "name_2 = name_1\n",
    "name_1\n",
    "name_2"
   ]
  },
  {
   "cell_type": "code",
   "execution_count": 13,
   "metadata": {},
   "outputs": [
    {
     "name": "stdout",
     "output_type": "stream",
     "text": [
      "[10, 2, 3]\n",
      "[4, 5, 6]\n",
      "[[10, 2, 3], [4, 5, 6]]\n"
     ]
    }
   ],
   "source": [
    "L1 = [1,2,3]\n",
    "L2 = [4,5,6]\n",
    "L3 = [L1,L2] #[1,2,3,4,5,6]\n",
    "\n",
    "L1[0]= 10\n",
    "\n",
    "print(L1)\n",
    "print(L2)\n",
    "print(L3)"
   ]
  },
  {
   "cell_type": "markdown",
   "metadata": {},
   "source": [
    "# More Function Practice"
   ]
  },
  {
   "cell_type": "markdown",
   "metadata": {},
   "source": [
    "In this problem, you will implement the mathematically interesting Look-and-Say sequence:\n",
    "\n",
    "1, 11, 21, 1211, 111221, 312211, 13112221, ...\n",
    "\n",
    "Construct the following functions to accomplish out task\n",
    "\n",
    "1. **Parse_String(term)**: Takes in a term of the sequence as a string a returns a list of lists, which keeps track of the the numbers appearing from left to right and the number of times the element appears. So Parse_String('1211') should return [[1,1], [1,2], [2,1]] since there is \"one 1\", then \"one 2\" and then \"two 1s\".\n",
    "\n",
    "2. **Next_Term(term)**: Takes as input a term of the sequence as a string and return the next term in the sequence.  So Parse_String('1211') should return '111221'.  This function should call the function Parse_String.\n",
    "\n",
    "3. **Read_It(init,n)**: Given an initital term in the sequence that is init, print out the next n-1 terms."
   ]
  },
  {
   "cell_type": "code",
   "execution_count": 14,
   "metadata": {},
   "outputs": [],
   "source": [
    "def Parse_String(term):\n",
    "    \"\"\"Term is a term in the sequence inputted as a string. \n",
    "    You should return a lists of lists that will help you\n",
    "    get the next term in the sequence\"\"\"\n",
    "    \n",
    "    #Write your code here\n",
    "    final_list = []\n",
    "    current_streak = [term[0]]  #1211    [1] [2] [1,1] \n",
    "    for i in term[1:]:\n",
    "        if i in current_streak:\n",
    "            current_streak.append(i)\n",
    "        else:\n",
    "            final_list.append([str(len(current_streak)), current_streak[0]])\n",
    "            current_streak = [i]\n",
    "        \n",
    "    final_list.append([str(len(current_streak)), current_streak[0]]) \n",
    "    \n",
    "    return final_list\n"
   ]
  },
  {
   "cell_type": "code",
   "execution_count": 15,
   "metadata": {},
   "outputs": [],
   "source": [
    "def Next_Term(term):\n",
    "    \n",
    "    \"\"\"Term is again a string.  This should return the\n",
    "    next term in the sequence.\"\"\"\n",
    "    #Write your code here\n",
    "    list_of_terms = Parse_String(term)\n",
    "    next_term = \"\"\n",
    "    for l in list_of_terms:\n",
    "        for e in l:\n",
    "            next_term += e\n",
    "    \n",
    "    return next_term"
   ]
  },
  {
   "cell_type": "code",
   "execution_count": 16,
   "metadata": {},
   "outputs": [],
   "source": [
    "def Read_It(init,n):\n",
    "    \n",
    "    \"\"\"Writes the first n terms given the initial terms init.\"\"\"\n",
    "    current = init\n",
    "    print(current)\n",
    "    for i in range(4):\n",
    "        next_term = Next_Term(current) \n",
    "        print(next_term)\n",
    "        current = next_term\n",
    "    \n"
   ]
  },
  {
   "cell_type": "markdown",
   "metadata": {},
   "source": [
    "String you functions together in the cell below.\n"
   ]
  },
  {
   "cell_type": "code",
   "execution_count": 31,
   "metadata": {},
   "outputs": [
    {
     "name": "stdout",
     "output_type": "stream",
     "text": [
      "1\n",
      "11\n",
      "21\n",
      "1211\n",
      "111221\n",
      "312211\n",
      "13112221\n",
      "1113213211\n",
      "31131211131221\n",
      "13211311123113112211\n",
      "11131221133112132113212221\n",
      "3113112221232112111312211312113211\n",
      "1321132132111213122112311311222113111221131221\n",
      "11131221131211131231121113112221121321132132211331222113112211\n",
      "311311222113111231131112132112311321322112111312211312111322212311322113212221\n",
      "132113213221133112132113311211131221121321131211132221123113112221131112311332111213211322211312113211\n",
      "11131221131211132221232112111312212321123113112221121113122113111231133221121321132132211331121321231231121113122113322113111221131221\n",
      "31131122211311123113321112131221123113112211121312211213211321322112311311222113311213212322211211131221131211132221232112111312111213111213211231131122212322211331222113112211\n",
      "1321132132211331121321231231121113112221121321132122311211131122211211131221131211132221121321132132212321121113121112133221123113112221131112311332111213122112311311123112111331121113122112132113213211121332212311322113212221\n",
      "11131221131211132221232112111312111213111213211231132132211211131221131211221321123113213221123113112221131112311332211211131221131211132211121312211231131112311211232221121321132132211331121321231231121113112221121321133112132112312321123113112221121113122113121113123112112322111213211322211312113211\n"
     ]
    }
   ],
   "source": [
    "#Write your code here.\n",
    "\n",
    "Read_It(\"1\",20)\n",
    "\n"
   ]
  },
  {
   "cell_type": "markdown",
   "metadata": {},
   "source": [
    "Get the jacard similarity beween movies and users: user_likes.txt is a text file which contains the likes data from user. The first line of the file contains the movie names. Each line of the file contains \"a user,a list of binary variables indicating whether one likes the movie.\" The binary is 1 if the user likes the movie and the variable is 0 if the user does not like or has not seen the moview. \n",
    "\n",
    "For example, the file of Jake and Dennis is:\n",
    "\n",
    "         Star Wars  Spiderman  Shell\n",
    "    Jake     1         0        0\n",
    "\n",
    "    Dennis   0         0        1\n",
    "\n",
    "And according to the wikipedia, the Jaccard similarity is (0) / (1 + 1) = 0\n",
    "\n",
    "**Your task** is to write a series of  functions and the final goal is to do movie recomendation (challenging).\n",
    "\n",
    "1. **Read_Input()**: Read in the input and generate a dictionary where the key is the name and the list is a vector of binary vectors representing whether someone has liked the movie or not. The previous example will give a dictionary like {\"Jake\": [1, 0, 0], \"Dennis\": [0, 0, 1]}. \n",
    "\n",
    "2. **Get_Names(preference)**: takes in the dictionary from the previous function and generate names of all players in a list.\n",
    "\n",
    "3. **Similarity(name_1, name_2, preference)**: This function takes in two names and generates the jaccard similarity of these two people. Jaccard similarity = the common liked movies / (the total number of liked unique moives across two persons).\n",
    "\n",
    "4. **Movie_Soul_Mate(name_1, preference)**: This function takes a person's name and generate the soul mate for this person (soul mate = the person with largest jaccard similarity)\n"
   ]
  },
  {
   "cell_type": "code",
   "execution_count": 18,
   "metadata": {},
   "outputs": [],
   "source": [
    "def Read_Input(file_name):\n",
    "    \"\"\"Read the move data, and return a \n",
    "    preference dictionary.\"\"\"\n",
    "    D = {}\n",
    "    f = open(file_name)\n",
    "    lines = f.readlines()\n",
    "    for line in lines[1:]:\n",
    "        parsed_line = line.strip(\"\\n\").split(\",\")\n",
    "        name = parsed_line[1].strip()\n",
    "        data_str = parsed_line[2:]\n",
    "        \n",
    "        lst = []\n",
    "        for num in data_str:\n",
    "            lst.append(int(num))\n",
    "        D[name] = lst\n",
    "        \n",
    "        \n",
    "        #D[name] = [int(num) for num in data_str]\n",
    "        \n",
    "    return D\n",
    "\n"
   ]
  },
  {
   "cell_type": "code",
   "execution_count": 25,
   "metadata": {},
   "outputs": [
    {
     "data": {
      "text/plain": [
       "{'Zach Becker': [0, 0, 0, 0, 0, 1, 1, 0, 0, 0],\n",
       " 'Andrew Sweren': [0, 0, 0, 0, 0, 0, 0, 1, 0, 0],\n",
       " 'Sabrina Alexandre': [1, 0, 1, 1, 1, 1, 1, 1, 1, 0],\n",
       " 'Chris Gohlke': [1, 0, 1, 1, 0, 1, 1, 0, 0, 0],\n",
       " 'Jacob Halladay-Glynn': [1, 0, 0, 0, 1, 1, 1, 1, 1, 1],\n",
       " 'Carl': [1, 0, 1, 1, 0, 1, 1, 0, 0, 0],\n",
       " 'Lisa Qu': [1, 1, 0, 1, 1, 1, 1, 0, 1, 0],\n",
       " 'Amal': [1, 0, 0, 1, 0, 1, 1, 0, 1, 0],\n",
       " 'Audrey Freeman': [1, 0, 0, 0, 1, 1, 0, 1, 1, 0],\n",
       " 'Taylor Benard': [0, 0, 0, 0, 1, 1, 1, 1, 1, 0],\n",
       " 'Ryan Farhat-Sabet': [0, 1, 1, 0, 0, 1, 0, 0, 0, 0],\n",
       " 'Philip Katz': [1, 1, 1, 1, 0, 1, 1, 1, 1, 1],\n",
       " 'Rachael Sondag': [0, 0, 0, 0, 0, 0, 0, 1, 1, 0],\n",
       " 'Huayu Gao': [1, 0, 0, 0, 1, 1, 1, 1, 1, 0],\n",
       " 'Ally Portelance': [1, 0, 1, 0, 0, 0, 1, 1, 1, 0],\n",
       " 'Jordan Smith': [1, 0, 0, 0, 1, 0, 0, 1, 1, 0],\n",
       " 'Natalia Boettcher': [0, 0, 0, 0, 0, 0, 0, 1, 1, 0],\n",
       " 'Caroline Stocking': [1, 0, 1, 0, 1, 0, 0, 1, 1, 0],\n",
       " 'Perry Gordon': [0, 0, 1, 1, 1, 1, 0, 1, 1, 0],\n",
       " 'Anthony Cortese': [0, 0, 1, 1, 0, 1, 1, 1, 0, 1],\n",
       " 'Cameron White': [1, 1, 1, 1, 1, 1, 0, 1, 1, 0],\n",
       " 'Tara Robinson': [0, 1, 1, 1, 1, 1, 1, 0, 1, 0],\n",
       " 'Jerry Abah': [1, 1, 1, 1, 1, 1, 1, 1, 0, 0],\n",
       " 'Daniel Podolsky': [1, 0, 0, 0, 0, 1, 1, 1, 1, 0],\n",
       " 'Margot Dupuis': [1, 0, 1, 0, 1, 1, 0, 0, 1, 1],\n",
       " 'Betsy Morgan': [1, 0, 0, 1, 1, 1, 0, 1, 1, 1],\n",
       " 'Savannah Zhang': [0, 0, 1, 0, 1, 1, 1, 1, 1, 0],\n",
       " 'Charlie': [0, 0, 1, 0, 0, 0, 1, 1, 1, 0],\n",
       " 'Jeri Glicksman': [1, 0, 0, 0, 1, 1, 0, 1, 1, 0],\n",
       " 'Chris Detloff': [1, 0, 1, 1, 0, 1, 0, 0, 1, 0],\n",
       " 'Jake': [1, 1, 0, 1, 1, 1, 1, 1, 1, 1]}"
      ]
     },
     "execution_count": 25,
     "metadata": {},
     "output_type": "execute_result"
    }
   ],
   "source": [
    "Read_Input(\"Movie_Preferences-1.csv\")"
   ]
  },
  {
   "cell_type": "code",
   "execution_count": 20,
   "metadata": {},
   "outputs": [],
   "source": [
    "def Get_Names(preference):\n",
    "    \"\"\"Given a preference dictionary, get the names of all players.\"\"\"\n",
    "    \n",
    "    \n",
    "    return list(preference.keys())\n"
   ]
  },
  {
   "cell_type": "code",
   "execution_count": 21,
   "metadata": {},
   "outputs": [],
   "source": [
    "def Similarity(name_1, name_2, preference):\n",
    "    \"\"\"Given two names and preference, get the similarity \n",
    "    between two people\"\"\"\n",
    "    \n",
    "    scores_1 = preference[name_1]\n",
    "    scores_2 = preference[name_2]\n",
    "    denom = 0\n",
    "    numerator = 0\n",
    "    for i in range(len(scores_1)):\n",
    "        score_1 = scores_1[i] \n",
    "        score_2 = scores_2[i] \n",
    "        numerator += min(score_1,score_2)\n",
    "        denom += max(score_1, score_2)\n",
    "        \n",
    "        \n",
    "    jaccard = numerator/denom\n",
    "    \n",
    "    return jaccard"
   ]
  },
  {
   "cell_type": "code",
   "execution_count": 22,
   "metadata": {},
   "outputs": [
    {
     "data": {
      "text/plain": [
       "0.8"
      ]
     },
     "execution_count": 22,
     "metadata": {},
     "output_type": "execute_result"
    }
   ],
   "source": [
    "def movie_soul_mate(name_1, preference):\n",
    "    \"\"\"Given a name, get the player that has highest Jaccard \n",
    "    similarity with this person.\"\"\"\n",
    "    \n",
    "    all_people = Get_Names(preference)\n",
    "    best_jaccard = -1\n",
    "    for person in all_people:\n",
    "        if person != name_1:\n",
    "            current_jaccard = Similarity(name_1,person,preference)\n",
    "            if current_jaccard >= best_jaccard:\n",
    "                best_jaccard = current_jaccard\n",
    "                soulmate = person\n",
    "            \n",
    "            \n",
    "    return soulmate, best_jaccard\n",
    "D_scores = Read_Input(\"Movie_Preferences-1.csv\")\n",
    "name, score = movie_soul_mate(\"Jake\", D_scores)\n",
    "score"
   ]
  },
  {
   "cell_type": "markdown",
   "metadata": {},
   "source": [
    "String your functions together in the cell below"
   ]
  },
  {
   "cell_type": "code",
   "execution_count": 29,
   "metadata": {},
   "outputs": [
    {
     "name": "stdout",
     "output_type": "stream",
     "text": [
      "Carl , Chris Gohlke 1.0\n",
      "Huayu Gao , Jacob Halladay-Glynn 0.8571428571428571\n",
      "Chris Gohlke , Carl 1.0\n",
      "Jeri Glicksman , Audrey Freeman 1.0\n",
      "Savannah Zhang , Taylor Benard 0.8333333333333334\n",
      "Jake , Philip Katz 0.8\n",
      "Natalia Boettcher , Rachael Sondag 1.0\n",
      "Jacob Halladay-Glynn , Huayu Gao 0.8571428571428571\n",
      "Charlie , Ally Portelance 0.8\n",
      "Rachael Sondag , Natalia Boettcher 1.0\n",
      "Jerry Abah , Cameron White 0.7777777777777778\n",
      "Cameron White , Jerry Abah 0.7777777777777778\n",
      "Taylor Benard , Savannah Zhang 0.8333333333333334\n",
      "Ally Portelance , Charlie 0.8\n",
      "Audrey Freeman , Jeri Glicksman 1.0\n",
      "Philip Katz , Jake 0.8\n"
     ]
    }
   ],
   "source": [
    "#Write your code here\n",
    "D_scores = Read_Input(\"Movie_Preferences-1.csv\")\n",
    "all_people = Get_Names(D_scores)\n",
    "for person in all_people:\n",
    "    soulmate, score = movie_soul_mate(person, D_scores)\n",
    "    soulmate_of_soulmate, score = movie_soul_mate(soulmate, D_scores)\n",
    "    if  person == soulmate_of_soulmate:\n",
    "        print(soulmate, ',', person, score)\n"
   ]
  }
 ],
 "metadata": {
  "kernelspec": {
   "display_name": "Python 3",
   "language": "python",
   "name": "python3"
  },
  "language_info": {
   "codemirror_mode": {
    "name": "ipython",
    "version": 3
   },
   "file_extension": ".py",
   "mimetype": "text/x-python",
   "name": "python",
   "nbconvert_exporter": "python",
   "pygments_lexer": "ipython3",
   "version": "3.6.8"
  },
  "toc": {
   "nav_menu": {
    "height": "30px",
    "width": "252px"
   },
   "number_sections": true,
   "sideBar": true,
   "skip_h1_title": false,
   "toc_cell": false,
   "toc_position": {},
   "toc_section_display": "block",
   "toc_window_display": false
  }
 },
 "nbformat": 4,
 "nbformat_minor": 2
}

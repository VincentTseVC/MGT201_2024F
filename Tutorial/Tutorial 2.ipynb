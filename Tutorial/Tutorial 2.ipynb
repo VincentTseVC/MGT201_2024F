{
 "cells": [
  {
   "cell_type": "markdown",
   "metadata": {},
   "source": [
    "#  List\n",
    "\n",
    "Add the first and last elements of the list L. Store the result in a variable called sum_first_last. Your code should work if I change L."
   ]
  },
  {
   "cell_type": "markdown",
   "metadata": {},
   "source": [
    "Slice and combine the elements of the list L in a way to print out \"spam\"."
   ]
  },
  {
   "cell_type": "code",
   "execution_count": 2,
   "metadata": {},
   "outputs": [
    {
     "name": "stdout",
     "output_type": "stream",
     "text": [
      "72\n"
     ]
    }
   ],
   "source": [
    "#Write your code here\n",
    "L = [5,1,43,2,4,56,7,90, 67]\n",
    "\n",
    "sum_first_last = L[0] + L[-1]\n",
    "\n",
    "print(sum_first_last)"
   ]
  },
  {
   "cell_type": "code",
   "execution_count": 5,
   "metadata": {},
   "outputs": [
    {
     "name": "stdout",
     "output_type": "stream",
     "text": [
      "spam\n"
     ]
    }
   ],
   "source": [
    "#Write your code here\n",
    "#    0   1   2  3   4    5   6   7   8\n",
    "L = [1, \"s\", 2, 3, \"p\", \"a\", 34, 1, \"m\"]\n",
    "\n",
    "print(L[1] + L[4] + L[5] + L[8])\n",
    "\n",
    "# print(L[1] + L[4:6] + L[8])\n",
    "# L[4:6] -> [\"p\", \"a\"]\n"
   ]
  },
  {
   "cell_type": "markdown",
   "metadata": {},
   "source": [
    "Create a variable called num_L which store the number represented by the list of strings in L.  For the example num_L should be 145. You may assume 3 digit numbers."
   ]
  },
  {
   "cell_type": "code",
   "execution_count": 7,
   "metadata": {},
   "outputs": [
    {
     "name": "stdout",
     "output_type": "stream",
     "text": [
      "145\n"
     ]
    }
   ],
   "source": [
    "#Write you code here\n",
    "L = [\"1\",\"4\",\"5\" ]\n",
    "\n",
    "num_L = int(L[0] + L[1] + L[2])\n",
    "\n",
    "print(num_L)"
   ]
  },
  {
   "cell_type": "markdown",
   "metadata": {},
   "source": [
    "# Conditions\n",
    "\n",
    "Check if the x is perfect square.  If it is, print \"x is a perfect square\".  If not print \"x is not a perfect square\"."
   ]
  },
  {
   "cell_type": "code",
   "execution_count": 2,
   "metadata": {},
   "outputs": [],
   "source": [
    "#Write your code here\n",
    "import math\n",
    "r = math.sqrt(x)\n",
    "if int(r) == r:\n",
    "  print(\"x is a perfect square\")\n",
    "else:\n",
    "  print(\"x is not a perfect square\")\n"
   ]
  },
  {
   "cell_type": "markdown",
   "metadata": {},
   "source": [
    "If there are fewer than 10 students in the class, then the top three students get an  A and the rest get a B.  Otherwise, the grade breakdown is as follows:\n",
    "\n",
    "- A: 90-100\n",
    "- B: 80-89\n",
    "- C: 70 - 79\n",
    "- D: 65 - 69\n",
    "- Failing: Below 65\n",
    "\n",
    "Given the list of grades in grades_list, print the grade received by the last student in this list. So if we have\n",
    "\n",
    "    grade_list = [50, 90, 91, 88, 75]\n",
    "\n",
    "We want to print the grade received by the student who received a 75. In this case it would be a B.\n",
    "\n",
    "You can sort the grade list using \n",
    "`sorted_grades = sorted(grade_list, reverse=True)`.\n"
   ]
  },
  {
   "cell_type": "code",
   "execution_count": 1,
   "metadata": {},
   "outputs": [
    {
     "name": "stdout",
     "output_type": "stream",
     "text": [
      "A\n"
     ]
    }
   ],
   "source": [
    "grade_list = [...]\n",
    "#Write your code here\n",
    "lsg = grade_list[-1]\n",
    "if len(grade_list) >= 10:\n",
    "  if lsg > 90:\n",
    "    print(\"A\")\n",
    "  elif lsg >= 80:\n",
    "    print(\"B\")\n",
    "  elif lsg >= 70:\n",
    "    print(\"C\")\n",
    "  elif lsg >= 65:\n",
    "    print(\"D\")\n",
    "  else:\n",
    "    print(\"Failing\")\n",
    "\n",
    "# fewer than 10 students\n",
    "else:\n",
    "  sorted_grades = sorted(grade_list, reverse=True) # sort the list in desceding order (大 -> 小)\n",
    "  # if sorted_grades[0] == lsg or sorted_grades[1] == lsg or sorted_grades[2] == lsg:\n",
    "  if lsg in sorted_grades[:3]:\n",
    "    print(\"A\")\n",
    "  else:\n",
    "    print(\"B\")\n",
    "\n"
   ]
  },
  {
   "cell_type": "markdown",
   "metadata": {},
   "source": [
    "# For Loop"
   ]
  },
  {
   "cell_type": "markdown",
   "metadata": {},
   "source": [
    "Count the number of n's in your name (lower and uppercase count)"
   ]
  },
  {
   "cell_type": "code",
   "execution_count": 2,
   "metadata": {},
   "outputs": [
    {
     "name": "stdout",
     "output_type": "stream",
     "text": [
      "2\n"
     ]
    }
   ],
   "source": [
    "#Write your code here\n",
    "name = 'Vincent'\n",
    "\n",
    "# method 1\n",
    "count = 0\n",
    "# for ch in name.lower():\n",
    "for ch in name:\n",
    "  # if ch in 'nN':\n",
    "  # if ch in ['n', 'N']:\n",
    "  # if ch.lower() == 'n':\n",
    "  # if ch.upper() == 'N':\n",
    "  if ch == 'n' or ch == 'N': \n",
    "    count += 1\n",
    "print(count)"
   ]
  },
  {
   "cell_type": "markdown",
   "metadata": {},
   "source": [
    "Get all of the factors of a number and store them in a list"
   ]
  },
  {
   "cell_type": "code",
   "execution_count": 5,
   "metadata": {},
   "outputs": [
    {
     "name": "stdout",
     "output_type": "stream",
     "text": [
      "1\n",
      "2\n",
      "4\n",
      "7\n",
      "8\n",
      "14\n",
      "28\n",
      "56\n"
     ]
    }
   ],
   "source": [
    "#Write your code here\n",
    "n = 56\n",
    "for i in range(1, n+1):\n",
    "  if n % i == 0:\n",
    "    print(i)\n"
   ]
  },
  {
   "cell_type": "markdown",
   "metadata": {},
   "source": [
    "Generate the first N numbers of the Fibonacci sequence where \n",
    "\n",
    "$a_0 = 1$\n",
    "\n",
    "$a_1=1$\n",
    "\n",
    "$a_n = a_{n-1} + a_{n-2}$"
   ]
  },
  {
   "cell_type": "code",
   "execution_count": 8,
   "metadata": {},
   "outputs": [
    {
     "name": "stdout",
     "output_type": "stream",
     "text": [
      "[1, 1, 2, 3, 5, 8, 13, 21, 34, 55, 89]\n"
     ]
    }
   ],
   "source": [
    "#Write your code here\n",
    "#      0 1 2 3 4 5 6  7  8\n",
    "# ------------------------------\n",
    "# fib: 1 1 2 3 5 8 13 21 34 ...\n",
    "n = 10\n",
    "fib =[1,1]\n",
    "\n",
    "for i in range(2, n+1):\n",
    "  next = fib[i-1] + fib[i-2]\n",
    "  fib += [next]\n",
    "\n",
    "print(fib)\n",
    "\n"
   ]
  },
  {
   "cell_type": "markdown",
   "metadata": {},
   "source": [
    "Compute the inner product of lists l1 and l2 that are of the same length. \n",
    "That is, we want l1[0]*l2[0]+l1[1]*l2[1]+...\n",
    "**This is an example where iterating over the index is better than over the elements themselves**\n"
   ]
  },
  {
   "cell_type": "code",
   "execution_count": 6,
   "metadata": {},
   "outputs": [],
   "source": [
    "#Write your code here\n",
    "l1 = [2, 3, 4, 5, 6, 1, 90]\n",
    "l2 = [3, 1, 5, 1, 2, 1, 10]\n",
    "\n",
    "# use index\n",
    "products = 0\n",
    "for i in range(len(l1)):\n",
    "  products += l1[i] * l2[i]\n",
    "\n",
    "print(products)\n",
    "\n"
   ]
  },
  {
   "cell_type": "markdown",
   "metadata": {},
   "source": [
    "Given two strings, test how many times the first string contains the second.  For example if str1 = \"**co**ding is **co**ol\" and str2 = \"co\" then output should be 2."
   ]
  },
  {
   "cell_type": "code",
   "execution_count": 11,
   "metadata": {},
   "outputs": [
    {
     "name": "stdout",
     "output_type": "stream",
     "text": [
      "2\n",
      "2\n"
     ]
    }
   ],
   "source": [
    "#Write you code here\n",
    "str1 = \"coding is cool\"\n",
    "str2 = \"co\"\n",
    "\n",
    "print(str1.count(str2))\n",
    "\n",
    "count = 0\n",
    "# for i in range(len(str1) - len(str2) + 1):\n",
    "for i in range(len(str1) - (len(str2) - 1)):\n",
    "  if str1[i: i + len(str2)] == str2:\n",
    "    count += 1\n",
    "  \n",
    "print(count)\n"
   ]
  },
  {
   "cell_type": "markdown",
   "metadata": {},
   "source": [
    "Consider the locker brain teaser:\n",
    "Suppose you're in a hallway lined with 200 closed lockers.\n",
    "You begin by opening every locker. Then you close every second locker. Then you go to every third locker and open it (if it's closed) or close it (if it's open). Let's call this action toggling a locker. Continue toggling every nth locker on pass number n. After 200 passes, where you toggle only locker #200, how many lockers are open?\n",
    "\n",
    "Code up the locker brain teaser below. Print out a list of the open locker numbers. Let N be the number of lockers and students"
   ]
  },
  {
   "cell_type": "code",
   "execution_count": 3,
   "metadata": {},
   "outputs": [
    {
     "name": "stdout",
     "output_type": "stream",
     "text": [
      "[1, 4, 9, 16, 25, 36, 49, 64, 81, 100, 121, 144, 169, 196]\n"
     ]
    }
   ],
   "source": [
    "#Write your code here  \n",
    "lockers = [False] * 200\n",
    "# lockers = [\"Closed\"] * 200\n",
    "\n",
    "for n in range(1, 200+1):\n",
    "  # toggle every nth locker\n",
    "  for i in range(0, 200, n):\n",
    "    lockers[i] = not lockers[i]\n",
    "    # if lockers[i] == \"Closed\":\n",
    "    #   lockers[i] = \"Opened\"\n",
    "    # else:\n",
    "    #   lockers[i] = \"Closed\"\n",
    "  \n",
    "open_lockers = []\n",
    "for i in range(len(lockers)):\n",
    "  if lockers[i]:\n",
    "    open_lockers += [i]\n",
    "\n",
    "print(open_lockers)"
   ]
  }
 ],
 "metadata": {
  "kernelspec": {
   "display_name": "Python 3.10.5 64-bit",
   "language": "python",
   "name": "python3"
  },
  "language_info": {
   "codemirror_mode": {
    "name": "ipython",
    "version": 3
   },
   "file_extension": ".py",
   "mimetype": "text/x-python",
   "name": "python",
   "nbconvert_exporter": "python",
   "pygments_lexer": "ipython3",
   "version": "3.10.5"
  },
  "toc": {
   "colors": {
    "hover_highlight": "#DAA520",
    "navigate_num": "#000000",
    "navigate_text": "#333333",
    "running_highlight": "#FF0000",
    "selected_highlight": "#FFD700",
    "sidebar_border": "#EEEEEE",
    "wrapper_background": "#FFFFFF"
   },
   "moveMenuLeft": true,
   "nav_menu": {
    "height": "12px",
    "width": "252px"
   },
   "navigate_menu": true,
   "number_sections": true,
   "sideBar": true,
   "skip_h1_title": false,
   "threshold": 4,
   "toc_cell": false,
   "toc_position": {},
   "toc_section_display": "block",
   "toc_window_display": false,
   "widenNotebook": false
  },
  "vscode": {
   "interpreter": {
    "hash": "aee8b7b246df8f9039afb4144a1f6fd8d2ca17a180786b69acc140d282b71a49"
   }
  }
 },
 "nbformat": 4,
 "nbformat_minor": 2
}

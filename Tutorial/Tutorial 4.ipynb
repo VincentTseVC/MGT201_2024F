{
 "cells": [
  {
   "cell_type": "markdown",
   "metadata": {},
   "source": [
    "# Files Practice"
   ]
  },
  {
   "cell_type": "markdown",
   "metadata": {},
   "source": [
    "Read in the text file 'Pizza_File.txt'  and find the number of times the letter a (upper or lower case) appears. Also compute the average number of slices consumed."
   ]
  },
  {
   "cell_type": "code",
   "execution_count": 6,
   "metadata": {},
   "outputs": [
    {
     "name": "stdout",
     "output_type": "stream",
     "text": [
      "7\n",
      "6.166666666666667\n"
     ]
    }
   ],
   "source": [
    "#Write you code here\n",
    "f = open('Pizza_File.txt', 'r')\n",
    "msg = f.readline().strip()\n",
    "slices = f.readline().strip()\n",
    "f.close()\n",
    "\n",
    "# print(msg.count('a') + msg.count('A'))\n",
    "# print(msg.lower().count('a'))\n",
    "# print(msg.upper().count('A'))\n",
    "count = 0\n",
    "for ch in msg:\n",
    "  if ch in 'aA':\n",
    "    count += 1\n",
    "print(count)\n",
    "\n",
    "slices = slices.split(',')\n",
    "\n",
    "total = 0\n",
    "for slice in slices:\n",
    "  total += int(slice)\n",
    "\n",
    "print(total / len(slices))\n",
    "\n"
   ]
  },
  {
   "cell_type": "markdown",
   "metadata": {},
   "source": [
    "Read in the text file 'scores.txt' and create a dictionary where the keys are the names and the values are lists of scores"
   ]
  },
  {
   "cell_type": "code",
   "execution_count": 8,
   "metadata": {},
   "outputs": [
    {
     "name": "stdout",
     "output_type": "stream",
     "text": [
      "{'Joe': ['100', '100', '100', '101', '99'], 'Dennis': ['101', '99', '101', '99'], 'Amy': ['0', '1', '2', '3', '4', '5']}\n"
     ]
    }
   ],
   "source": [
    "#Write your code here\n",
    "d = {}\n",
    "f = open('scores.txt', 'r')\n",
    "for line in f:\n",
    "  data = line.strip().split(', ')\n",
    "  d[data[0]] = data[1:]\n",
    "f.close()\n",
    "\n",
    "print(d)"
   ]
  },
  {
   "cell_type": "markdown",
   "metadata": {},
   "source": [
    "The folder Stock_Data contains stock price information (open, hi, low, close, adj close, volume) on all of the stocks listed in stock_tickers.csv.  For each of the stocks listed in this file, we would like to compute the average open price for the first quarter and write these results to new csv called Q1_Results.csv.\n",
    "\n",
    "\n",
    "First read the 20 stock tickers into a list from the file stock_tickers.csv"
   ]
  },
  {
   "cell_type": "code",
   "execution_count": 4,
   "metadata": {},
   "outputs": [],
   "source": [
    "#Write your code here\n",
    "stocks = []\n",
    "f = open('Stock_Data/stock_tickers.csv', 'r')\n",
    "for line in f:\n",
    "  ticker = line.strip().split(',')[0]\n",
    "  if ticker not in stocks:\n",
    "    stocks.append(ticker)\n",
    "  \n",
    "  if len(stocks) == 20:\n",
    "    break\n",
    "\n",
    "f.close()\n"
   ]
  },
  {
   "cell_type": "markdown",
   "metadata": {},
   "source": [
    "Next, create a dictionary where there is a key for each stock and the values are a list of the opening prices for the first quarter"
   ]
  },
  {
   "cell_type": "code",
   "execution_count": 5,
   "metadata": {},
   "outputs": [],
   "source": [
    "#Write your code here\n",
    "d = {}\n",
    "for ticker in stocks:\n",
    "  d[ticker] = []\n",
    "\n",
    "f = open('Stock_Data/stock_tickers.csv', 'r')\n",
    "for line in f:\n",
    "  data = line.strip().split(',')\n",
    "  ticker = data[0]\n",
    "  open = data[1]\n",
    "  \n",
    "  if ticker in stocks:\n",
    "    d[ticker].append(float(open))\n",
    "\n",
    "f.close()\n"
   ]
  },
  {
   "cell_type": "markdown",
   "metadata": {},
   "source": [
    "The final step is writing the result to a new csv called Q1_results.csv"
   ]
  },
  {
   "cell_type": "code",
   "execution_count": 6,
   "metadata": {},
   "outputs": [],
   "source": [
    "#Write your code here\n",
    "f = open('Stock_Data/Q1_results.csv', 'w')\n",
    "for ticker in d:\n",
    "  avg_open = sum(d[ticker]) / len(d[ticker])\n",
    "  f.write(ticker + \",\" + str(avg_open))\n",
    "f.close()"
   ]
  }
 ],
 "metadata": {
  "kernelspec": {
   "display_name": "Python 3.10.5 64-bit",
   "language": "python",
   "name": "python3"
  },
  "language_info": {
   "codemirror_mode": {
    "name": "ipython",
    "version": 3
   },
   "file_extension": ".py",
   "mimetype": "text/x-python",
   "name": "python",
   "nbconvert_exporter": "python",
   "pygments_lexer": "ipython3",
   "version": "3.10.5"
  },
  "toc": {
   "nav_menu": {
    "height": "30px",
    "width": "252px"
   },
   "number_sections": true,
   "sideBar": true,
   "skip_h1_title": false,
   "toc_cell": false,
   "toc_position": {},
   "toc_section_display": "block",
   "toc_window_display": false
  },
  "vscode": {
   "interpreter": {
    "hash": "aee8b7b246df8f9039afb4144a1f6fd8d2ca17a180786b69acc140d282b71a49"
   }
  }
 },
 "nbformat": 4,
 "nbformat_minor": 2
}

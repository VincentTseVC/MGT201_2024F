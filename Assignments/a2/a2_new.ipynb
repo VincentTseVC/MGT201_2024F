{
 "cells": [
  {
   "attachments": {},
   "cell_type": "markdown",
   "metadata": {},
   "source": [
    "# Question 1"
   ]
  },
  {
   "attachments": {},
   "cell_type": "markdown",
   "metadata": {},
   "source": [
    "假設 grade1 和 grade2 裡的人 可以不一樣, 順序也可以不一致"
   ]
  },
  {
   "cell_type": "code",
   "execution_count": 1,
   "metadata": {},
   "outputs": [
    {
     "data": {
      "text/plain": [
       "{'LS': [80, 70],\n",
       " 'OJ': [82, 71],\n",
       " 'NW': [84, 72],\n",
       " 'OB': [86, 73],\n",
       " 'EJ': [88, 74],\n",
       " 'CM': [90, 75]}"
      ]
     },
     "execution_count": 1,
     "metadata": {},
     "output_type": "execute_result"
    }
   ],
   "source": [
    "grade_dict = {}\n",
    "\n",
    "for filename in ('grade1.csv', 'grade2.csv'):\n",
    "    f = open(filename, 'r')\n",
    "    lines = f.readlines()[1:]\n",
    "    f.close()\n",
    "\n",
    "    for line in lines:\n",
    "        name, mark = line.strip().split(\",\")\n",
    "        first_name, last_name = name.split()\n",
    "        initial = first_name[0] + last_name[0]\n",
    "\n",
    "        if initial in grade_dict:\n",
    "            grade_dict[initial].append(int(mark))\n",
    "        else:\n",
    "            grade_dict[initial] = [int(mark)]\n",
    "\n",
    "        #  if initial not in grade_dict:\n",
    "            # grade_dict[initial] = []\n",
    "        # grade_dict[initial].append(int(mark))\n",
    "\n",
    "grade_dict"
   ]
  },
  {
   "cell_type": "code",
   "execution_count": 48,
   "metadata": {},
   "outputs": [
    {
     "data": {
      "text/plain": [
       "{'LS': [80, 70], 'NW': [84, 72], 'EJ': [88, 74], 'CM': [90, 75]}"
      ]
     },
     "execution_count": 48,
     "metadata": {},
     "output_type": "execute_result"
    }
   ],
   "source": [
    "initials = grade_dict.keys()\n",
    "\n",
    "for initial in initials:\n",
    "    if initial[0] == 'O':\n",
    "        del grade_dict[initial]\n",
    "\n",
    "grade_dict"
   ]
  },
  {
   "cell_type": "code",
   "execution_count": 50,
   "metadata": {},
   "outputs": [
    {
     "name": "stdout",
     "output_type": "stream",
     "text": [
      "Initial,Avg_grade\n",
      "LS,75\n",
      "NW,78\n",
      "EJ,81\n",
      "CM,82\n"
     ]
    }
   ],
   "source": [
    "print('Initial,Avg_grade')\n",
    "\n",
    "# for initial in grade_dict:\n",
    "#     grade = grade_dict[initial]\n",
    "\n",
    "for initial, grades in grade_dict.items():\n",
    "    print(f'{initial},{round(sum(grades) / len(grades))}')\n"
   ]
  },
  {
   "cell_type": "code",
   "execution_count": 52,
   "metadata": {},
   "outputs": [],
   "source": [
    "sales = \"\"\"Laptop;5;2023-09-01\n",
    "Headphones;10;2023-09-01\n",
    "Smartphone;8;2023-09-01\n",
    "Laptop;3;2023-09-02\n",
    "Keyboard;4;2023-09-02\n",
    "Smartphone;10;2023-09-03\n",
    "Laptop;7;2023-09-03\n",
    "Headphones;5;2023-09-03\n",
    "Mouse;15;2023-09-04\n",
    "Laptop;6;2023-09-04\n",
    "Keyboard;5;2023-09-05\n",
    "Smartphone;10;2023-09-06\n",
    "Mouse;12;2023-09-06\n",
    "Laptop;7;2023-09-07\n",
    "Headphones;8;2023-09-07\n",
    "Smartphone;8;2023-09-08\n",
    "Laptop;5;2023-09-09\n",
    "Keyboard;6;2023-09-09\n",
    "Mouse;10;2023-09-10\n",
    "Headphones;9;2023-09-10\"\"\""
   ]
  },
  {
   "cell_type": "code",
   "execution_count": 53,
   "metadata": {},
   "outputs": [
    {
     "data": {
      "text/plain": [
       "{'Laptop': 33, 'Headphones': 32, 'Smartphone': 36, 'Keyboard': 15, 'Mouse': 37}"
      ]
     },
     "execution_count": 53,
     "metadata": {},
     "output_type": "execute_result"
    }
   ],
   "source": [
    "sales_dict = {}\n",
    "\n",
    "data = sales.split('\\n')\n",
    "for row in data:\n",
    "    product_name, sold_unit, sale_date = row.split(';')\n",
    "\n",
    "    if product_name in sales_dict:\n",
    "        sales_dict[product_name] += int(sold_unit)\n",
    "    else:\n",
    "        sales_dict[product_name] = int(sold_unit)\n",
    "\n",
    "    # if product_name not in sales_dict:\n",
    "    #     sales_dict[product_name] = 0\n",
    "    # sales_dict[product_name] += int(sold_unit)\n",
    "\n",
    "sales_dict"
   ]
  },
  {
   "cell_type": "code",
   "execution_count": 55,
   "metadata": {},
   "outputs": [
    {
     "data": {
      "text/plain": [
       "['Laptop', 'Headphones', 'Smartphone', 'Keyboard', 'Mouse']"
      ]
     },
     "execution_count": 55,
     "metadata": {},
     "output_type": "execute_result"
    }
   ],
   "source": [
    "product_list = list(sales_dict.keys())\n",
    "product_list"
   ]
  },
  {
   "cell_type": "code",
   "execution_count": 56,
   "metadata": {},
   "outputs": [
    {
     "data": {
      "text/plain": [
       "['Headphones', 'Keyboard', 'Laptop', 'Mouse', 'Smartphone']"
      ]
     },
     "execution_count": 56,
     "metadata": {},
     "output_type": "execute_result"
    }
   ],
   "source": [
    "product_list.sort()\n",
    "product_list"
   ]
  },
  {
   "cell_type": "code",
   "execution_count": 60,
   "metadata": {},
   "outputs": [
    {
     "name": "stdout",
     "output_type": "stream",
     "text": [
      "Product Laptop was sold 6 times.\n",
      "Product Headphones was sold 4 times.\n",
      "Product Smartphone was sold 4 times.\n",
      "Product Keyboard was sold 3 times.\n",
      "Product Mouse was sold 3 times.\n"
     ]
    }
   ],
   "source": [
    "sales_count = {}\n",
    "for row in data:\n",
    "    product_name = row.split(';')[0]\n",
    "\n",
    "    if product_name in sales_count:\n",
    "        sales_count[product_name] += 1\n",
    "    else:\n",
    "        sales_count[product_name] = 1\n",
    "\n",
    "    # if product_name not in sales_count:\n",
    "    #     sales_count[product_name] = 0\n",
    "    # sales_count[product_name] += 1\n",
    "\n",
    "# print(sales_count)\n",
    "\n",
    "for product, count in sales_count.items():\n",
    "    print(f'Product {product} was sold {count} times.')"
   ]
  },
  {
   "attachments": {},
   "cell_type": "markdown",
   "metadata": {},
   "source": [
    "# Question 3"
   ]
  },
  {
   "cell_type": "code",
   "execution_count": 61,
   "metadata": {},
   "outputs": [],
   "source": [
    "birthday_dict = {\n",
    "    \"Vincent Tse\": \"04/01/2000\",\n",
    "    \"Kuro Anya\": \"01/31/2006\",\n",
    "    \"Alice Chen\": \"01/17/1995\"\n",
    "}"
   ]
  },
  {
   "cell_type": "code",
   "execution_count": 62,
   "metadata": {},
   "outputs": [
    {
     "name": "stdout",
     "output_type": "stream",
     "text": [
      "Vincent Tse\n",
      "Kuro Anya\n",
      "Alice Chen\n"
     ]
    }
   ],
   "source": [
    "for name in birthday_dict:\n",
    "    print(name)"
   ]
  },
  {
   "cell_type": "code",
   "execution_count": 64,
   "metadata": {},
   "outputs": [
    {
     "name": "stdout",
     "output_type": "stream",
     "text": [
      "Kuro Anya's birthday is 01/31/2006.\n"
     ]
    }
   ],
   "source": [
    "name = input()\n",
    "\n",
    "if name in birthday_dict:\n",
    "    birthday = birthday_dict[name]\n",
    "    print(f\"{name}'s birthday is {birthday}.\")\n",
    "else:\n",
    "    print(\"This name is not found.\")"
   ]
  },
  {
   "cell_type": "code",
   "execution_count": null,
   "metadata": {},
   "outputs": [],
   "source": []
  }
 ],
 "metadata": {
  "kernelspec": {
   "display_name": "Python 3",
   "language": "python",
   "name": "python3"
  },
  "language_info": {
   "codemirror_mode": {
    "name": "ipython",
    "version": 3
   },
   "file_extension": ".py",
   "mimetype": "text/x-python",
   "name": "python",
   "nbconvert_exporter": "python",
   "pygments_lexer": "ipython3",
   "version": "3.11.1"
  },
  "orig_nbformat": 4,
  "vscode": {
   "interpreter": {
    "hash": "aee8b7b246df8f9039afb4144a1f6fd8d2ca17a180786b69acc140d282b71a49"
   }
  }
 },
 "nbformat": 4,
 "nbformat_minor": 2
}

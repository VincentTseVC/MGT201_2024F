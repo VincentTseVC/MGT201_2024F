{
 "cells": [
  {
   "attachments": {},
   "cell_type": "markdown",
   "metadata": {},
   "source": [
    "# Question 1"
   ]
  },
  {
   "cell_type": "code",
   "execution_count": 2,
   "metadata": {},
   "outputs": [],
   "source": [
    "def interest(investmentAmount, effectiveAnnualRate, years):\n",
    "    return round(investmentAmount * (1 + effectiveAnnualRate) ** years - investmentAmount, 2)"
   ]
  },
  {
   "cell_type": "code",
   "execution_count": 4,
   "metadata": {},
   "outputs": [
    {
     "data": {
      "text/plain": [
       "1040.81"
      ]
     },
     "execution_count": 4,
     "metadata": {},
     "output_type": "execute_result"
    }
   ],
   "source": [
    "interest(10000, 0.02, 5) # 1040.81"
   ]
  },
  {
   "cell_type": "code",
   "execution_count": 5,
   "metadata": {},
   "outputs": [
    {
     "name": "stdout",
     "output_type": "stream",
     "text": [
      "Years\tEarned Interest\n",
      "1\t90.00\n",
      "2\t188.10\n",
      "3\t295.03\n",
      "4\t411.58\n",
      "5\t538.62\n",
      "6\t677.10\n",
      "7\t828.04\n",
      "8\t992.56\n",
      "9\t1171.89\n",
      "10\t1367.36\n",
      "11\t1580.43\n",
      "12\t1812.66\n",
      "13\t2065.80\n",
      "14\t2341.73\n",
      "15\t2642.48\n",
      "16\t2970.31\n",
      "17\t3327.63\n",
      "18\t3717.12\n",
      "19\t4141.66\n",
      "20\t4604.41\n",
      "21\t5108.81\n",
      "22\t5658.60\n",
      "23\t6257.87\n",
      "24\t6911.08\n",
      "25\t7623.08\n",
      "26\t8399.16\n",
      "27\t9245.08\n",
      "28\t10167.14\n",
      "29\t11172.18\n",
      "30\t12267.68\n"
     ]
    }
   ],
   "source": [
    "investmentAmount = int(input(\"The amount invested: \"))\n",
    "effectiveAnnualRate = float(input(\"Effective annual interest rate: \"))\n",
    "\n",
    "print(\"Years\\tEarned Interest\")\n",
    "for year in range(1, 31):\n",
    "    print(f\"{year}\\t{interest(investmentAmount, effectiveAnnualRate, year):.2f}\")"
   ]
  },
  {
   "attachments": {},
   "cell_type": "markdown",
   "metadata": {},
   "source": [
    "# Question 2"
   ]
  },
  {
   "cell_type": "code",
   "execution_count": 6,
   "metadata": {},
   "outputs": [],
   "source": [
    "def lone_sum(a, b, c):\n",
    "    # if a != b and b != c and a != c:\n",
    "        # return a + b + c\n",
    "    # if a != b:\n",
    "\n",
    "    total = 0\n",
    "    if a != b and a != c:\n",
    "        total += a\n",
    "    if b != a and b != c:\n",
    "        total += b\n",
    "    if c != a and c != b:\n",
    "        total += c\n",
    "    return total"
   ]
  },
  {
   "cell_type": "code",
   "execution_count": 7,
   "metadata": {},
   "outputs": [
    {
     "name": "stdout",
     "output_type": "stream",
     "text": [
      "6\n",
      "2\n",
      "0\n"
     ]
    }
   ],
   "source": [
    "print(lone_sum(1, 2, 3))\n",
    "print(lone_sum(3, 2, 3))\n",
    "print(lone_sum(3, 3, 3))"
   ]
  },
  {
   "attachments": {},
   "cell_type": "markdown",
   "metadata": {},
   "source": [
    "# Question 3"
   ]
  },
  {
   "cell_type": "code",
   "execution_count": null,
   "metadata": {},
   "outputs": [],
   "source": [
    "#0123456789\n",
    "\"YYYY-MM-DD\""
   ]
  },
  {
   "cell_type": "code",
   "execution_count": 8,
   "metadata": {},
   "outputs": [],
   "source": [
    "def process_date(date_string):\n",
    "    year = int(date_string[:4])\n",
    "    month = int(date_string[5:7])\n",
    "    day = int(date_string[8:])\n",
    "    return [year, month, day]"
   ]
  },
  {
   "cell_type": "code",
   "execution_count": 9,
   "metadata": {},
   "outputs": [
    {
     "name": "stdout",
     "output_type": "stream",
     "text": [
      "[1999, 9, 17]\n",
      "[2022, 10, 28]\n"
     ]
    }
   ],
   "source": [
    "print(process_date('1999-09-17'))\n",
    "print(process_date('2022-10-28'))"
   ]
  },
  {
   "attachments": {},
   "cell_type": "markdown",
   "metadata": {},
   "source": [
    "improve the function"
   ]
  },
  {
   "cell_type": "code",
   "execution_count": 15,
   "metadata": {},
   "outputs": [],
   "source": [
    "def is_leap_year(year):\n",
    "    return (year % 4 == 0 or year % 100 == 0) and year % 400 != 0\n",
    "\n",
    "def process_date(date_string):\n",
    "    year = int(date_string[:4])\n",
    "    month = int(date_string[5:7])\n",
    "    day = int(date_string[8:])\n",
    "\n",
    "    if year < 0:\n",
    "        return 'Error: Invalid Year'\n",
    "    \n",
    "    if not (1 <= month <= 12):\n",
    "        return'Error: Invalid month'\n",
    " \n",
    "\n",
    "    if ((day < 1) or \n",
    "        (month in (1, 3, 5, 7, 8, 10, 12) and day > 31) or\n",
    "        (month in (4, 6, 9, 11) and day > 30) or\n",
    "        (month == 2 and is_leap_year(year) and day > 29) or \n",
    "        (month == 2 and not is_leap_year(year) and day > 28)):\n",
    "\n",
    "        return 'Error: Invalid day'\n",
    "    \n",
    "    return [year, month, day]"
   ]
  },
  {
   "cell_type": "code",
   "execution_count": 16,
   "metadata": {},
   "outputs": [
    {
     "name": "stdout",
     "output_type": "stream",
     "text": [
      "[2022, 9, 30]\n",
      "Error: Invalid day\n",
      "[2024, 2, 29]\n",
      "Error: Invalid day\n"
     ]
    }
   ],
   "source": [
    "print(process_date('2022-09-30'))\n",
    "print(process_date('2022-09-31'))\n",
    "print(process_date('2024-02-29')) # []\n",
    "print(process_date('2023-02-29')) # Error, None"
   ]
  },
  {
   "cell_type": "code",
   "execution_count": 20,
   "metadata": {},
   "outputs": [
    {
     "name": "stdout",
     "output_type": "stream",
     "text": [
      "[2017, 1, 3]\n",
      "[2017, 1, 4]\n",
      "[2017, 1, 5]\n",
      "[2017, 1, 6]\n",
      "[2017, 1, 9]\n",
      "[2017, 1, 10]\n",
      "[2017, 1, 11]\n",
      "[2017, 1, 12]\n",
      "[2017, 1, 13]\n",
      "[2017, 1, 17]\n",
      "[2017, 1, 18]\n",
      "[2017, 1, 19]\n",
      "[2017, 1, 20]\n",
      "[2017, 1, 23]\n",
      "[2017, 1, 24]\n",
      "[2017, 1, 25]\n",
      "[2017, 1, 26]\n",
      "[2017, 1, 27]\n",
      "[2017, 1, 30]\n",
      "[2017, 1, 31]\n"
     ]
    }
   ],
   "source": [
    "f = open('date.txt', 'r')\n",
    "lines = f.readlines()\n",
    "f.close()\n",
    "\n",
    "for line in lines:\n",
    "    line = line.strip()\n",
    "    if line != '':\n",
    "        date = process_date(line)\n",
    "        if 'Error' not in date:\n",
    "            if date[1] == 1:\n",
    "                print(date)"
   ]
  }
 ],
 "metadata": {
  "kernelspec": {
   "display_name": "Python 3",
   "language": "python",
   "name": "python3"
  },
  "language_info": {
   "codemirror_mode": {
    "name": "ipython",
    "version": 3
   },
   "file_extension": ".py",
   "mimetype": "text/x-python",
   "name": "python",
   "nbconvert_exporter": "python",
   "pygments_lexer": "ipython3",
   "version": "3.11.1"
  },
  "orig_nbformat": 4,
  "vscode": {
   "interpreter": {
    "hash": "aee8b7b246df8f9039afb4144a1f6fd8d2ca17a180786b69acc140d282b71a49"
   }
  }
 },
 "nbformat": 4,
 "nbformat_minor": 2
}

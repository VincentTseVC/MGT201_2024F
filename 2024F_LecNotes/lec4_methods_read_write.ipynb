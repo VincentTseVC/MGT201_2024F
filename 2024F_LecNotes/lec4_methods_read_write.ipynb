{
 "cells": [
  {
   "cell_type": "markdown",
   "metadata": {},
   "source": [
    "# Object Methods\n",
    "\n",
    "You may already be familiar with the notion of files, which are named storage compartments on your computer that are managed by your operating system. Your *ipynb* is a file, *txt* is a file, etc.\n",
    "I suggest you turn on file extensions for Windows.\n",
    "\n",
    "- [Tuple](#tuple)\n",
    "- [Dictionary](#dictionary)\n",
    "- [Object Methods](#object-methods)\n",
    "    - [String Methods](#string-methods)\n",
    "    - [List Methods](#list-methods)\n",
    "    - [Dictionary Methods](#dictionary-methods)"
   ]
  },
  {
   "cell_type": "code",
   "execution_count": 1,
   "metadata": {},
   "outputs": [],
   "source": [
    "#This bit of code allows me to output more than one variable value without using a print statement.\n",
    "from IPython.core.interactiveshell import InteractiveShell\n",
    "InteractiveShell.ast_node_interactivity = \"all\""
   ]
  },
  {
   "cell_type": "markdown",
   "metadata": {},
   "source": [
    "# Tuple\n",
    "\n",
    "Tuples are very similar to lists. They can be created in the following way."
   ]
  },
  {
   "cell_type": "code",
   "execution_count": 2,
   "metadata": {},
   "outputs": [
    {
     "data": {
      "text/plain": [
       "(1, 2, 's', 4)"
      ]
     },
     "execution_count": 2,
     "metadata": {},
     "output_type": "execute_result"
    },
    {
     "data": {
      "text/plain": [
       "tuple"
      ]
     },
     "execution_count": 2,
     "metadata": {},
     "output_type": "execute_result"
    }
   ],
   "source": [
    "# create a tuple\n",
    "mytuple = (1,2, 's', 4)\n",
    "mytuple\n",
    "type(mytuple)"
   ]
  },
  {
   "cell_type": "markdown",
   "metadata": {},
   "source": [
    "In creating a tuple, we replace *[]* in a list by *()*.\n",
    "A lot of operations designed for lists can be used for tuples in the same way."
   ]
  },
  {
   "cell_type": "code",
   "execution_count": 3,
   "metadata": {},
   "outputs": [
    {
     "data": {
      "text/plain": [
       "4"
      ]
     },
     "execution_count": 3,
     "metadata": {},
     "output_type": "execute_result"
    },
    {
     "data": {
      "text/plain": [
       "(1, 2, 3, 4)"
      ]
     },
     "execution_count": 3,
     "metadata": {},
     "output_type": "execute_result"
    },
    {
     "data": {
      "text/plain": [
       "('s', 4)"
      ]
     },
     "execution_count": 3,
     "metadata": {},
     "output_type": "execute_result"
    },
    {
     "name": "stdout",
     "output_type": "stream",
     "text": [
      "1\n",
      "2\n",
      "s\n",
      "4\n"
     ]
    }
   ],
   "source": [
    "# length\n",
    "len(mytuple)\n",
    "# Concatenation\n",
    "(1,2) + (3,4)\n",
    "# indexing\n",
    "mytuple[2:]\n",
    "# for loop\n",
    "for x in mytuple:\n",
    "    print(x)"
   ]
  },
  {
   "cell_type": "markdown",
   "metadata": {},
   "source": [
    "The major difference is that tuples are **immutable**, meaning that once created, they cannot be changed."
   ]
  },
  {
   "cell_type": "code",
   "execution_count": 4,
   "metadata": {},
   "outputs": [
    {
     "data": {
      "text/plain": [
       "[1, 1, 3, 4]"
      ]
     },
     "execution_count": 4,
     "metadata": {},
     "output_type": "execute_result"
    },
    {
     "ename": "TypeError",
     "evalue": "'tuple' object does not support item assignment",
     "output_type": "error",
     "traceback": [
      "\u001b[1;31m---------------------------------------------------------------------------\u001b[0m",
      "\u001b[1;31mTypeError\u001b[0m                                 Traceback (most recent call last)",
      "\u001b[1;32m~\\AppData\\Local\\Temp\\1\\ipykernel_29080\\3345683762.py\u001b[0m in \u001b[0;36m<module>\u001b[1;34m\u001b[0m\n\u001b[0;32m      3\u001b[0m \u001b[0mmylist\u001b[0m\u001b[1;33m[\u001b[0m\u001b[1;36m1\u001b[0m\u001b[1;33m]\u001b[0m \u001b[1;33m=\u001b[0m \u001b[1;36m1\u001b[0m\u001b[1;33m\u001b[0m\u001b[1;33m\u001b[0m\u001b[0m\n\u001b[0;32m      4\u001b[0m \u001b[0mmylist\u001b[0m\u001b[1;33m\u001b[0m\u001b[1;33m\u001b[0m\u001b[0m\n\u001b[1;32m----> 5\u001b[1;33m \u001b[0mmytuple\u001b[0m\u001b[1;33m[\u001b[0m\u001b[1;36m1\u001b[0m\u001b[1;33m]\u001b[0m \u001b[1;33m=\u001b[0m \u001b[1;36m1\u001b[0m\u001b[1;33m\u001b[0m\u001b[1;33m\u001b[0m\u001b[0m\n\u001b[0m",
      "\u001b[1;31mTypeError\u001b[0m: 'tuple' object does not support item assignment"
     ]
    }
   ],
   "source": [
    "mytuple = (1,2,3,4)\n",
    "mylist = [1,2,3,4]\n",
    "mylist[1] = 1\n",
    "mylist\n",
    "mytuple[1] = 1"
   ]
  },
  {
   "cell_type": "markdown",
   "metadata": {},
   "source": [
    "*(Exercise)*: Create a tuple `my_tuple` with 5 numbers. Print the first element, the last element, and the length of the tuple. Use `for` loop to calculate the sum of the five numbers."
   ]
  },
  {
   "cell_type": "markdown",
   "metadata": {},
   "source": [
    "## Why Tuples?\n",
    "\n",
    "The best answer seems to be that the immutability of tuples provides some integrity -- you can be sure a tuple won't be changed through another reference elsewhere in your program. \n",
    "As a rule of thumb, lists are the tool of choice for ordered collections that might need to change; tuples can handle the other cases of fixed associations."
   ]
  },
  {
   "cell_type": "markdown",
   "metadata": {},
   "source": [
    "# Dictionary\n",
    "\n",
    "Dictionaries are an *unordered* collection of objects. To fetch an element in a dictionary, one needs *keys*. "
   ]
  },
  {
   "cell_type": "code",
   "execution_count": 5,
   "metadata": {},
   "outputs": [
    {
     "name": "stdout",
     "output_type": "stream",
     "text": [
      "5678\n"
     ]
    }
   ],
   "source": [
    "employees = {'Bob': 1234, 'Steve': 5678, 'Mike': (9012, 9003)}\n",
    "print(employees['Steve'])"
   ]
  },
  {
   "cell_type": "markdown",
   "metadata": {},
   "source": [
    "- The dictionary consists of *key:value* pairs. \n",
    "- To access the values, simply call the keys. So keys are like the indices of the values.\n",
    "- They can hold *mixed* data types.\n",
    "- Different from tuples and lists: `{}` and `:`\n",
    "\n",
    "To **remove** an element in a dictionary, we use `del` like in lists.\n",
    "To add an element, we assign a value to a new key."
   ]
  },
  {
   "cell_type": "code",
   "execution_count": 6,
   "metadata": {},
   "outputs": [
    {
     "data": {
      "text/plain": [
       "{'Bob': 1234, 'Mike': (9012, 9003)}"
      ]
     },
     "execution_count": 6,
     "metadata": {},
     "output_type": "execute_result"
    },
    {
     "data": {
      "text/plain": [
       "{'Bob': 1234, 'Mike': (9012, 9003), 'Amy': 9013}"
      ]
     },
     "execution_count": 6,
     "metadata": {},
     "output_type": "execute_result"
    },
    {
     "data": {
      "text/plain": [
       "True"
      ]
     },
     "execution_count": 6,
     "metadata": {},
     "output_type": "execute_result"
    }
   ],
   "source": [
    "# delete\n",
    "employees = {'Bob': 1234, 'Steve': 5678, 'Mike': (9012, 9003)}\n",
    "del employees['Steve']\n",
    "employees\n",
    "# add\n",
    "employees['Amy'] = 9013\n",
    "employees\n",
    "# inclusion\n",
    "'Amy' in employees"
   ]
  },
  {
   "cell_type": "markdown",
   "metadata": {},
   "source": [
    "We can iterate over the keys."
   ]
  },
  {
   "cell_type": "code",
   "execution_count": 7,
   "metadata": {},
   "outputs": [
    {
     "name": "stdout",
     "output_type": "stream",
     "text": [
      "Bob\n",
      "Mike\n",
      "Amy\n",
      "Bob\n",
      "Mike\n",
      "Amy\n"
     ]
    }
   ],
   "source": [
    "for name in employees:\n",
    "    print(name)\n",
    "# alternative\n",
    "for name in employees.keys():\n",
    "    print(name)\n"
   ]
  },
  {
   "cell_type": "markdown",
   "metadata": {},
   "source": [
    "One can also iterate over the values, or the key value pairs."
   ]
  },
  {
   "cell_type": "code",
   "execution_count": 8,
   "metadata": {},
   "outputs": [
    {
     "name": "stdout",
     "output_type": "stream",
     "text": [
      "1234\n",
      "(9012, 9003)\n",
      "9013\n",
      "Bob 1234\n",
      "Mike (9012, 9003)\n",
      "Amy 9013\n"
     ]
    }
   ],
   "source": [
    "for id in employees.values():\n",
    "    print(id)\n",
    "for name, id in employees.items():\n",
    "    print(name, id)"
   ]
  },
  {
   "cell_type": "markdown",
   "metadata": {},
   "source": [
    "In the second for loop, you can think of we are iterating the tuple *(name, id)* in the dictionary.\n",
    "\n",
    "## Why Dictionaries?\n",
    "\n",
    "The dictionary offers an easy way to store a database. In many cases, the order of the entries is not important, and we just want to access the entry by their keys, such as name or ID.\n",
    "\n",
    "For example, we may want to add up the assignment marks for various students."
   ]
  },
  {
   "cell_type": "code",
   "execution_count": 9,
   "metadata": {},
   "outputs": [
    {
     "data": {
      "text/plain": [
       "{'Bob': 110, 'Steve': 125, 'Mike': 135}"
      ]
     },
     "execution_count": 9,
     "metadata": {},
     "output_type": "execute_result"
    }
   ],
   "source": [
    "# raw data\n",
    "marks = [['Bob', 50], ['Steve', 60], ['Mike', 70], ['Bob', 60], ['Steve', 65], ['Mike', 65]]\n",
    "# construct an empty dictionary\n",
    "mydict = {}\n",
    "for pair in marks:\n",
    "    name = pair[0]\n",
    "    mark = pair[1]\n",
    "    if name in mydict:\n",
    "        mydict[name]+=mark\n",
    "    else:\n",
    "        mydict[name]=mark\n",
    "mydict"
   ]
  },
  {
   "cell_type": "markdown",
   "metadata": {},
   "source": [
    "*(Exercise)*: merge two given dictionaries into one. For example, consider\n",
    "```python\n",
    "dict1 = {'Ten': 10, 'Twenty': 20, 'Thirty': 30}\n",
    "dict2 = {'Thirty': 30, 'Fourty': 40, 'Fifty': 50}\n",
    "```\n",
    "The expected output should be \n",
    "```python\n",
    "{'Ten': 10, 'Twenty': 20, 'Thirty': 30, 'Fourty': 40, 'Fifty': 50}\n",
    "```"
   ]
  },
  {
   "cell_type": "markdown",
   "metadata": {},
   "source": [
    "# Object Methods\n",
    "\n",
    "Methods are operations (or more precisely, functions) that are associated with particular objects.\n",
    "  All Python objects have built in methods, which can be called with the expression *object.method(arguments)*.  To get a list of all the methods available for a specific object you can either type *dir(object)* or *help(str)* (for string).  Methods will make things a lot easier, I recommend memorizing the common ones.\n",
    "\n",
    "\n",
    "## String Methods\n",
    "\n",
    "### Replacing Characters\n",
    "\n",
    "We can replace characters in a string using `.replace`.\n",
    "In the next example,\n",
    "- `myname` is the object, or name of the string\n",
    "- `.replace` is the method\n",
    "- `m` and `n` are the arguments."
   ]
  },
  {
   "cell_type": "code",
   "execution_count": 10,
   "metadata": {},
   "outputs": [
    {
     "data": {
      "text/plain": [
       "'Ningyuan Chen'"
      ]
     },
     "execution_count": 10,
     "metadata": {},
     "output_type": "execute_result"
    }
   ],
   "source": [
    "# wrong name\n",
    "myname = 'Nimgyuam Chem'\n",
    "corrected_name = myname.replace('m', 'n')\n",
    "corrected_name"
   ]
  },
  {
   "cell_type": "markdown",
   "metadata": {},
   "source": [
    "*(Tips)*: very often, you may forget the arguments of a method. Using the following syntax to seek for help. Or Google \"python string replace\" if you have internet connection."
   ]
  },
  {
   "cell_type": "code",
   "execution_count": 11,
   "metadata": {},
   "outputs": [
    {
     "name": "stdout",
     "output_type": "stream",
     "text": [
      "\u001b[1;31mSignature:\u001b[0m \u001b[0mmyname\u001b[0m\u001b[1;33m.\u001b[0m\u001b[0mreplace\u001b[0m\u001b[1;33m(\u001b[0m\u001b[0mold\u001b[0m\u001b[1;33m,\u001b[0m \u001b[0mnew\u001b[0m\u001b[1;33m,\u001b[0m \u001b[0mcount\u001b[0m\u001b[1;33m=\u001b[0m\u001b[1;33m-\u001b[0m\u001b[1;36m1\u001b[0m\u001b[1;33m,\u001b[0m \u001b[1;33m/\u001b[0m\u001b[1;33m)\u001b[0m\u001b[1;33m\u001b[0m\u001b[1;33m\u001b[0m\u001b[0m\n",
      "\u001b[1;31mDocstring:\u001b[0m\n",
      "Return a copy with all occurrences of substring old replaced by new.\n",
      "\n",
      "  count\n",
      "    Maximum number of occurrences to replace.\n",
      "    -1 (the default value) means replace all occurrences.\n",
      "\n",
      "If the optional argument count is given, only the first count occurrences are\n",
      "replaced.\n",
      "\u001b[1;31mType:\u001b[0m      builtin_function_or_method\n"
     ]
    }
   ],
   "source": [
    "?myname.replace"
   ]
  },
  {
   "cell_type": "markdown",
   "metadata": {},
   "source": [
    "### Change Cases\n",
    "\n",
    "`.lower()` and `.upper()` are used to change the cases of a string. In contrast, `.capitalize()` is used to capitalize the first letter of a string."
   ]
  },
  {
   "cell_type": "code",
   "execution_count": 12,
   "metadata": {},
   "outputs": [
    {
     "data": {
      "text/plain": [
       "'hello'"
      ]
     },
     "execution_count": 12,
     "metadata": {},
     "output_type": "execute_result"
    },
    {
     "data": {
      "text/plain": [
       "'HELLO'"
      ]
     },
     "execution_count": 12,
     "metadata": {},
     "output_type": "execute_result"
    }
   ],
   "source": [
    "'Hello'.lower()\n",
    "'Hello'.upper()"
   ]
  },
  {
   "cell_type": "code",
   "execution_count": 13,
   "metadata": {},
   "outputs": [
    {
     "data": {
      "text/plain": [
       "'Hello'"
      ]
     },
     "execution_count": 13,
     "metadata": {},
     "output_type": "execute_result"
    }
   ],
   "source": [
    "'hello'.capitalize()"
   ]
  },
  {
   "cell_type": "markdown",
   "metadata": {},
   "source": [
    "### Find Characters\n",
    "\n",
    "`.find` finds the **first** occurrence of a substring or a character."
   ]
  },
  {
   "cell_type": "code",
   "execution_count": 14,
   "metadata": {},
   "outputs": [
    {
     "data": {
      "text/plain": [
       "7"
      ]
     },
     "execution_count": 14,
     "metadata": {},
     "output_type": "execute_result"
    },
    {
     "data": {
      "text/plain": [
       "15"
      ]
     },
     "execution_count": 14,
     "metadata": {},
     "output_type": "execute_result"
    },
    {
     "data": {
      "text/plain": [
       "-1"
      ]
     },
     "execution_count": 14,
     "metadata": {},
     "output_type": "execute_result"
    }
   ],
   "source": [
    "mystr = 'MGT201 is great!!'\n",
    "mystr.find('is') # find the index of the first occurrence of 'is'\n",
    "mystr.find('!') # find the first\n",
    "mystr.find('8') # not found"
   ]
  },
  {
   "cell_type": "markdown",
   "metadata": {},
   "source": [
    "### Split\n",
    "\n",
    "`.split` splits a string into a list of substrings.\n"
   ]
  },
  {
   "cell_type": "code",
   "execution_count": 15,
   "metadata": {},
   "outputs": [
    {
     "data": {
      "text/plain": [
       "['I w', 'nt to th', ' stor', '.']"
      ]
     },
     "execution_count": 15,
     "metadata": {},
     "output_type": "execute_result"
    }
   ],
   "source": [
    "mystr = 'I went to the store.'\n",
    "mystr.split('e')"
   ]
  },
  {
   "cell_type": "markdown",
   "metadata": {},
   "source": [
    "### Strip\n",
    "\n",
    "`.strip` takes away the characters on both sides."
   ]
  },
  {
   "cell_type": "code",
   "execution_count": 16,
   "metadata": {},
   "outputs": [
    {
     "data": {
      "text/plain": [
       "'wrapped by spaces.'"
      ]
     },
     "execution_count": 16,
     "metadata": {},
     "output_type": "execute_result"
    },
    {
     "data": {
      "text/plain": [
       "'wrapped by spaces'"
      ]
     },
     "execution_count": 16,
     "metadata": {},
     "output_type": "execute_result"
    }
   ],
   "source": [
    "mystr = '  wrapped by spaces.  '\n",
    "mystr.strip(' ')\n",
    "mystr.strip(' .') # can provide multiple characters\n"
   ]
  },
  {
   "cell_type": "markdown",
   "metadata": {},
   "source": [
    "We can stack the methods. For example, after stripping \".\", we can split the sentence by \" \" to get words."
   ]
  },
  {
   "cell_type": "code",
   "execution_count": 17,
   "metadata": {},
   "outputs": [
    {
     "data": {
      "text/plain": [
       "[\"I'm\", 'going', 'to', 'class', 'today']"
      ]
     },
     "execution_count": 17,
     "metadata": {},
     "output_type": "execute_result"
    }
   ],
   "source": [
    "mystr = \" I'm going to class today.  \"\n",
    "mystr.strip(' .').split(' ')"
   ]
  },
  {
   "cell_type": "markdown",
   "metadata": {},
   "source": [
    "### Join\n",
    "`.join` is the opposite of `.split`. It joins a list of strings into one string."
   ]
  },
  {
   "cell_type": "code",
   "execution_count": 18,
   "metadata": {},
   "outputs": [
    {
     "data": {
      "text/plain": [
       "'I went to the store'"
      ]
     },
     "execution_count": 18,
     "metadata": {},
     "output_type": "execute_result"
    }
   ],
   "source": [
    "# example of .join()\n",
    "mylist = ['I', 'went', 'to', 'the', 'store']\n",
    "' '.join(mylist)"
   ]
  },
  {
   "cell_type": "markdown",
   "metadata": {},
   "source": [
    "**Example**: given the string\n",
    "\n",
    "```python\n",
    "\"Product1; $100; Made in China   , Product2; $200; Made in USA  ,   Product3; $150; Made in Germany, Product4; $50;  Made in India\"\n",
    "```\n",
    "\n",
    "complete the following task with string methods:\n",
    "1. *Extract Product Details*: Split the string into individual product details.\n",
    "2. *Clean Details*: Remove any leading or trailing spaces from each product detail.\n",
    "3. *Find Country of Origin*: For each product, find the starting index of \"Made in\".\n",
    "4. *Replace Prices*: Due to inflation, increase each product's price by 10% and update the string accordingly.\n",
    "5. *Display Results*: For each product, print the product name, updated price, and country of origin.\n",
    "\n",
    "This is the expecdted output:\n",
    "\n",
    "```python\n",
    "Product1:\n",
    "- Price: $110\n",
    "- Made in: China\n",
    "\n",
    "Product2:\n",
    "- Price: $220\n",
    "- Made in: USA\n",
    "\n",
    "Product3:\n",
    "- Price: $165\n",
    "- Made in: Germany\n",
    "\n",
    "Product4:\n",
    "- Price: $55\n",
    "- Made in: India\n",
    "\n",
    "```"
   ]
  },
  {
   "cell_type": "code",
   "execution_count": 19,
   "metadata": {},
   "outputs": [
    {
     "name": "stdout",
     "output_type": "stream",
     "text": [
      "Product1:\n",
      "- Price: $110\n",
      "- Made in: China   \n",
      "\n",
      "Product2:\n",
      "- Price: $220\n",
      "- Made in: USA  \n",
      "\n",
      "Product3:\n",
      "- Price: $165\n",
      "- Made in: Germany\n",
      "\n",
      "Product4:\n",
      "- Price: $55\n",
      "- Made in: India\n",
      "\n"
     ]
    }
   ],
   "source": [
    "product_string = \"Product1; $100; Made in China   , Product2; $200; Made in USA  ,   Product3; $150; Made in Germany, Product4; $50;  Made in India\"\n",
    "\n",
    "# Task 1: Split the string into individual product details\n",
    "products = product_string.split(',')\n",
    "\n",
    "for product in products:\n",
    "    # Task 2: Remove any leading or trailing spaces from each product detail\n",
    "    details = product.split(';')\n",
    "\n",
    "    # Extracting the name, price, and origin from the cleaned details\n",
    "    name = details[0].strip()\n",
    "    price = details[1].strip()\n",
    "    origin_index = details[2].find(\"Made in\")\n",
    "    origin = details[2][origin_index + 8:]  # Adding 8 to skip \"Made in \"\n",
    "\n",
    "    # Task 4: Replace Prices\n",
    "    # Extracting the numerical value from the price string, increasing it by 10%, \n",
    "    # and then formatting it back to the price format\n",
    "    updated_price = round(float(price[1:].strip()) * 1.10)\n",
    "\n",
    "    # Task 5: Display Results\n",
    "    print(f\"{name}:\\n- Price: ${updated_price}\\n- Made in: {origin}\\n\")"
   ]
  },
  {
   "cell_type": "markdown",
   "metadata": {},
   "source": [
    "## List Methods\n",
    "\n",
    "When handling data, lists are commonly used. There are a number of list methods greatly helping with the process.\n",
    "\n",
    "### Append and Insert\n",
    "\n",
    "`.append` adds an element at the end of the list."
   ]
  },
  {
   "cell_type": "code",
   "execution_count": 20,
   "metadata": {},
   "outputs": [
    {
     "name": "stdout",
     "output_type": "stream",
     "text": [
      "[20, 60, 500, 1200, 9000, 10]\n"
     ]
    }
   ],
   "source": [
    "mylist = [20, 60, 500, 1200, 9000]\n",
    "mylist.append(10) \n",
    "print(mylist)"
   ]
  },
  {
   "cell_type": "markdown",
   "metadata": {},
   "source": [
    "*(Tips)*: For string, which is immutable, the method doesn't change the object itself. But for list, the method does change the original list. So be careful and sometimes back up the data.\n",
    "By the same reason, we cannot stack list methods.\n",
    "\n",
    "A similar method `.insert` allows one to add element to a particular location."
   ]
  },
  {
   "cell_type": "code",
   "execution_count": 21,
   "metadata": {},
   "outputs": [
    {
     "name": "stdout",
     "output_type": "stream",
     "text": [
      "[20, 10, 60, 500, 1200, 9000]\n"
     ]
    }
   ],
   "source": [
    "mylist = [20, 60, 500, 1200, 9000]\n",
    "mylist.insert(1, 10)\n",
    "print(mylist)"
   ]
  },
  {
   "cell_type": "markdown",
   "metadata": {},
   "source": [
    "### Remove and Pop\n",
    "\n",
    "Both methods remove an element from a string."
   ]
  },
  {
   "cell_type": "code",
   "execution_count": 22,
   "metadata": {},
   "outputs": [
    {
     "name": "stdout",
     "output_type": "stream",
     "text": [
      "[20, 60, 1200, 9000]\n"
     ]
    }
   ],
   "source": [
    "mylist = [20, 60, 500, 1200, 9000]\n",
    "mylist.remove(500)\n",
    "print(mylist)"
   ]
  },
  {
   "cell_type": "markdown",
   "metadata": {},
   "source": [
    "`.remove` asks you to specify the value of the element to remove. \n",
    "What happens if there are multiple such values? How do we remove all of them?"
   ]
  },
  {
   "cell_type": "code",
   "execution_count": 23,
   "metadata": {},
   "outputs": [
    {
     "name": "stdout",
     "output_type": "stream",
     "text": [
      "[20, 60, 1200, 9000]\n"
     ]
    }
   ],
   "source": [
    "mylist = [500, 20, 60, 500, 1200, 500, 9000, 500]\n",
    "\n",
    "for x in range(0, mylist.count(500)): \n",
    "    mylist.remove(500)\n",
    "    \n",
    "print(mylist)"
   ]
  },
  {
   "cell_type": "markdown",
   "metadata": {},
   "source": [
    "`.count` is another handy method that counts the occurrence of an element.\n",
    "\n",
    "`.pop` asks you to specify the index of the element to be removed, like the flip side of `.insert`."
   ]
  },
  {
   "cell_type": "code",
   "execution_count": 24,
   "metadata": {},
   "outputs": [
    {
     "name": "stdout",
     "output_type": "stream",
     "text": [
      "[10, 60, 500, 1200, 9000]\n"
     ]
    }
   ],
   "source": [
    "mylist = [10, 20, 60, 500, 1200, 9000]\n",
    "y = mylist.pop(1) # store results from pop here\n",
    "print(mylist)"
   ]
  },
  {
   "cell_type": "markdown",
   "metadata": {},
   "source": [
    "### Index\n",
    "\n",
    "We can use `.index` to find an element in a list and return the index.\n",
    "Again, only the first one is returned."
   ]
  },
  {
   "cell_type": "code",
   "execution_count": 28,
   "metadata": {},
   "outputs": [
    {
     "data": {
      "text/plain": [
       "2"
      ]
     },
     "execution_count": 28,
     "metadata": {},
     "output_type": "execute_result"
    }
   ],
   "source": [
    "mylist = [10, 20, 30, 40, 30, 50]\n",
    "mylist.index(30)"
   ]
  },
  {
   "cell_type": "code",
   "execution_count": 26,
   "metadata": {},
   "outputs": [
    {
     "name": "stdout",
     "output_type": "stream",
     "text": [
      "\u001b[1;31mSignature:\u001b[0m \u001b[0mmylist\u001b[0m\u001b[1;33m.\u001b[0m\u001b[0mindex\u001b[0m\u001b[1;33m(\u001b[0m\u001b[0mvalue\u001b[0m\u001b[1;33m,\u001b[0m \u001b[0mstart\u001b[0m\u001b[1;33m=\u001b[0m\u001b[1;36m0\u001b[0m\u001b[1;33m,\u001b[0m \u001b[0mstop\u001b[0m\u001b[1;33m=\u001b[0m\u001b[1;36m9223372036854775807\u001b[0m\u001b[1;33m,\u001b[0m \u001b[1;33m/\u001b[0m\u001b[1;33m)\u001b[0m\u001b[1;33m\u001b[0m\u001b[1;33m\u001b[0m\u001b[0m\n",
      "\u001b[1;31mDocstring:\u001b[0m\n",
      "Return first index of value.\n",
      "\n",
      "Raises ValueError if the value is not present.\n",
      "\u001b[1;31mType:\u001b[0m      builtin_function_or_method\n"
     ]
    }
   ],
   "source": [
    "?mylist.index"
   ]
  },
  {
   "cell_type": "markdown",
   "metadata": {},
   "source": [
    "*(Bonus Exercise)*: Write code to find the indices of **ALL** occurrences of a value in a list. Hint: using the second argument of `index()` allowing to start from a particular index."
   ]
  },
  {
   "cell_type": "code",
   "execution_count": 34,
   "metadata": {},
   "outputs": [
    {
     "name": "stdout",
     "output_type": "stream",
     "text": [
      "[2, 4]\n"
     ]
    }
   ],
   "source": [
    "indices = []\n",
    "start = 0\n",
    "while start < len(mylist):\n",
    "    try:\n",
    "        index = mylist.index(30, start)\n",
    "        indices.append(index)\n",
    "        start = index + 1\n",
    "    except ValueError:\n",
    "        break\n",
    "print(indices)\n"
   ]
  },
  {
   "cell_type": "markdown",
   "metadata": {},
   "source": [
    "### Sorting\n",
    "\n",
    "We can sort a list based on a criterion.\n",
    "The most common one, if the list has only numerics, is to sort them from small to big, or vice versa.\n"
   ]
  },
  {
   "cell_type": "code",
   "execution_count": null,
   "metadata": {},
   "outputs": [],
   "source": [
    "mylist = [9000, 20, 500, 60, 1200]\n",
    "mylist.sort(reverse = True) # sorting\n",
    "mylist\n",
    "mylist.sort() # sorting\n",
    "mylist"
   ]
  },
  {
   "cell_type": "markdown",
   "metadata": {},
   "source": [
    "If you don't want to change the original list, you can use `sorted` instead of the list method."
   ]
  },
  {
   "cell_type": "code",
   "execution_count": 36,
   "metadata": {},
   "outputs": [
    {
     "data": {
      "text/plain": [
       "[9000, 1200, 500, 60, 20]"
      ]
     },
     "execution_count": 36,
     "metadata": {},
     "output_type": "execute_result"
    },
    {
     "data": {
      "text/plain": [
       "[9000, 20, 500, 60, 1200]"
      ]
     },
     "execution_count": 36,
     "metadata": {},
     "output_type": "execute_result"
    }
   ],
   "source": [
    "mylist = [9000, 20, 500, 60, 1200]\n",
    "sorted(mylist, reverse=True)\n",
    "mylist"
   ]
  },
  {
   "cell_type": "markdown",
   "metadata": {},
   "source": [
    "For lists of strings, there are multiple criteria, for example, by alphabetical order or length."
   ]
  },
  {
   "cell_type": "code",
   "execution_count": 37,
   "metadata": {},
   "outputs": [
    {
     "data": {
      "text/plain": [
       "['Bill', 'My', 'is', 'name']"
      ]
     },
     "execution_count": 37,
     "metadata": {},
     "output_type": "execute_result"
    },
    {
     "data": {
      "text/plain": [
       "['name', 'My', 'is', 'Bill']"
      ]
     },
     "execution_count": 37,
     "metadata": {},
     "output_type": "execute_result"
    },
    {
     "data": {
      "text/plain": [
       "['My', 'is', 'Bill', 'name']"
      ]
     },
     "execution_count": 37,
     "metadata": {},
     "output_type": "execute_result"
    }
   ],
   "source": [
    "mylist = ['My', 'name', 'is', 'Bill']\n",
    "mylist.sort()\n",
    "mylist\n",
    "sorted(mylist, key=str.lower, reverse = True)\n",
    "sorted(mylist, key=len)"
   ]
  },
  {
   "cell_type": "markdown",
   "metadata": {},
   "source": [
    "*(Exercise)*: **List Manipulation**. Start with a list: ['apple', 'banana', 'cherry']\n",
    "- Add 'dragonfruit' to the list.\n",
    "- Remove 'banana' from the list.\n",
    "- Reverse the list.\n",
    "- Sort the list alphabetically.\n",
    "- Capitalize the first letters in the list."
   ]
  },
  {
   "cell_type": "markdown",
   "metadata": {},
   "source": [
    "### Dictionary Methods\n",
    "\n",
    "For a dictionary, we have seen that `.keys()` or `.values()` give the set of keys or values.\n",
    "They are in an uncommon wrapper, and we can use `list` to turn it into a list."
   ]
  },
  {
   "cell_type": "code",
   "execution_count": 38,
   "metadata": {},
   "outputs": [
    {
     "data": {
      "text/plain": [
       "dict_keys(['Bob', 'Steve', 'Mike'])"
      ]
     },
     "execution_count": 38,
     "metadata": {},
     "output_type": "execute_result"
    },
    {
     "data": {
      "text/plain": [
       "['Bob', 'Steve', 'Mike']"
      ]
     },
     "execution_count": 38,
     "metadata": {},
     "output_type": "execute_result"
    },
    {
     "data": {
      "text/plain": [
       "[('Bob', 1234), ('Steve', 5678), ('Mike', 9012)]"
      ]
     },
     "execution_count": 38,
     "metadata": {},
     "output_type": "execute_result"
    }
   ],
   "source": [
    "employees = {'Bob': 1234, 'Steve': 5678, 'Mike': 9012}\n",
    "employees.keys()\n",
    "list(employees.keys())\n",
    "list(employees.items())"
   ]
  },
  {
   "cell_type": "markdown",
   "metadata": {},
   "source": [
    "We can use for loop to access the data stored in a dictionary."
   ]
  },
  {
   "cell_type": "code",
   "execution_count": 39,
   "metadata": {},
   "outputs": [
    {
     "name": "stdout",
     "output_type": "stream",
     "text": [
      "Call Bob on 1234\n",
      "Call Steve on 5678\n",
      "Call Mike on 9012\n"
     ]
    }
   ],
   "source": [
    "for name, number in employees.items():\n",
    "    print('Call', name, 'on', number)"
   ]
  },
  {
   "cell_type": "markdown",
   "metadata": {},
   "source": [
    "The `update` method merges two dictionaries with the same keys, overwriting the old one."
   ]
  },
  {
   "cell_type": "code",
   "execution_count": 40,
   "metadata": {},
   "outputs": [
    {
     "name": "stdout",
     "output_type": "stream",
     "text": [
      "{1: 'one', 2: 'two'}\n",
      "{1: 'one', 2: 'two', 3: 'three'}\n"
     ]
    }
   ],
   "source": [
    "# ?employees.update\n",
    "\n",
    "d = {1: \"one\", 2: \"three\"}\n",
    "d1 = {2: \"two\"}\n",
    "\n",
    "# updates the value of key 2\n",
    "d.update(d1)\n",
    "\n",
    "print(d)\n",
    "\n",
    "d1 = {3: \"three\"}\n",
    "\n",
    "# adds element with key 3\n",
    "d.update(d1)\n",
    "\n",
    "print(d)"
   ]
  },
  {
   "cell_type": "markdown",
   "metadata": {},
   "source": [
    "*(Exercise)*: Write a program that reverse a long string containing multiple words. That is, print back the same string, except with the words in backwards order. For example, say I type the string:\n",
    "```python\n",
    "x = `Today is Friday`\n",
    "```\n",
    "Then I would see the string:\n",
    "```python\n",
    "`Friday is Today`\n",
    "```"
   ]
  }
 ],
 "metadata": {
  "kernelspec": {
   "display_name": "Python 3",
   "language": "python",
   "name": "python3"
  },
  "language_info": {
   "codemirror_mode": {
    "name": "ipython",
    "version": 3
   },
   "file_extension": ".py",
   "mimetype": "text/x-python",
   "name": "python",
   "nbconvert_exporter": "python",
   "pygments_lexer": "ipython3",
   "version": "3.11.1 (v3.11.1:a7a450f84a, Dec  6 2022, 15:24:06) [Clang 13.0.0 (clang-1300.0.29.30)]"
  },
  "toc": {
   "colors": {
    "hover_highlight": "#DAA520",
    "navigate_num": "#000000",
    "navigate_text": "#333333",
    "running_highlight": "#FF0000",
    "selected_highlight": "#FFD700",
    "sidebar_border": "#EEEEEE",
    "wrapper_background": "#FFFFFF"
   },
   "moveMenuLeft": true,
   "nav_menu": {
    "height": "102px",
    "width": "252px"
   },
   "navigate_menu": true,
   "number_sections": true,
   "sideBar": true,
   "skip_h1_title": false,
   "threshold": 4,
   "toc_cell": false,
   "toc_position": {},
   "toc_section_display": "block",
   "toc_window_display": false,
   "widenNotebook": false
  },
  "vscode": {
   "interpreter": {
    "hash": "aee8b7b246df8f9039afb4144a1f6fd8d2ca17a180786b69acc140d282b71a49"
   }
  }
 },
 "nbformat": 4,
 "nbformat_minor": 2
}

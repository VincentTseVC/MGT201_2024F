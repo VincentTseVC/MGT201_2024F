{
 "cells": [
  {
   "cell_type": "markdown",
   "metadata": {},
   "source": [
    "## Write to Files\n",
    "\n",
    "To open a file, we use the `open` function pointing to an external file name, followed by a mode.\n",
    "The mode 'w' instructs Python to write something onto the file.\n",
    "At this point, it is important to note that we can **only write strings to files**. So you will have to do type conversion otherwise."
   ]
  },
  {
   "cell_type": "code",
   "execution_count": null,
   "metadata": {},
   "outputs": [],
   "source": [
    "#Open for text output: create/empty\n",
    "myfile = open(\"hello.txt\", 'w')\n",
    "\n",
    "#Write a line of text: string\n",
    "myfile.write(\"Hello, world!\\n\") \n",
    "myfile.write(\"I'm done writing.\\n\") \n",
    "myfile.close()"
   ]
  },
  {
   "cell_type": "markdown",
   "metadata": {},
   "source": [
    "- The file 'hello.txt' doesn't exist before. After `open`, it is created in the *same folder as the notebook file*.\n",
    "- *(Tips)*: you can specify the directory using \"/\". For example, if I have a folder called \"files\" in the parent folder, we can create a file in it using \"files/hello.txt\".\n",
    "- `.write()` is a method that writes a string to the opened file.\n",
    "- **Important**: the \"w\" mode will override the existing file if it already exists.\n",
    "- \"\\n\" together represents the line break. Why do we need it? \n",
    "- In general, \"\\\\\" followed by a character has a special meaning.\n",
    "- `.close()` the file after writing."
   ]
  },
  {
   "cell_type": "code",
   "execution_count": null,
   "metadata": {},
   "outputs": [],
   "source": [
    "myfile = open(\"hello.txt\", \"a\")\n",
    "myfile.write(\"Now I can keep working on it.\\n\") \n",
    "myfile.close()"
   ]
  },
  {
   "cell_type": "markdown",
   "metadata": {},
   "source": [
    "Changing the mode to \"a\" allows one to append to the file."
   ]
  },
  {
   "cell_type": "markdown",
   "metadata": {},
   "source": [
    "## Read Files\n",
    "\n",
    "For existing files, we can read it and manipulate the string."
   ]
  },
  {
   "cell_type": "code",
   "execution_count": null,
   "metadata": {},
   "outputs": [],
   "source": [
    "myfile = open(\"hello.txt\", \"r\")\n",
    "entire_file = myfile.read()\n",
    "myfile.close()\n",
    "entire_file\n"
   ]
  },
  {
   "cell_type": "code",
   "execution_count": null,
   "metadata": {},
   "outputs": [],
   "source": [
    "print(entire_file)"
   ]
  },
  {
   "cell_type": "markdown",
   "metadata": {},
   "source": [
    "- If the file doesn't exist, what would happen? (Try it)\n",
    "- `.read()` reads in the whole file as a single string.\n",
    "- `.readlines()` reads the file line by line."
   ]
  },
  {
   "cell_type": "code",
   "execution_count": null,
   "metadata": {},
   "outputs": [],
   "source": [
    "myfile = open(\"hello.txt\", \"r\")\n",
    "lines = myfile.readlines()\n",
    "myfile.close()\n",
    "lines"
   ]
  },
  {
   "cell_type": "markdown",
   "metadata": {},
   "source": [
    "We can print the file in a nice form using the following."
   ]
  },
  {
   "cell_type": "code",
   "execution_count": null,
   "metadata": {},
   "outputs": [],
   "source": [
    "#We also accomplish this with the readlines method\n",
    "myfile = open('hello.txt')\n",
    "#Puts each line as an element in a list\n",
    "lines = myfile.readlines()\n",
    "for line in lines:\n",
    "    print(line, end = '')"
   ]
  },
  {
   "cell_type": "markdown",
   "metadata": {},
   "source": [
    "*(Question)*: what does `end=''` mean? What if we remove this?"
   ]
  },
  {
   "cell_type": "markdown",
   "metadata": {},
   "source": [
    "### Read with String Methods\n",
    "\n",
    "You may realize that the read strings are not in a clean format. We sometimes need to process the string and extract the data.\n",
    "Next we create a new text file 'data.txt' in the same folder in order to do a more complicated task.\n",
    "- We'll enter three\n",
    "lines, each containing a name and an extension number, separate by commas.\n",
    "- We'll then have a\n",
    "program to read this file, go through each line, and get the name and the number. This is done by\n",
    "splitting the line where there’s a comma to eventually form a list. \n",
    "- We then use the contents of this list to\n",
    "populate the 'employee' directory."
   ]
  },
  {
   "cell_type": "code",
   "execution_count": null,
   "metadata": {},
   "outputs": [],
   "source": [
    "myfile = open('data.txt', 'w') \n",
    "myfile.write(\"Mike, 1234\\n\") \n",
    "myfile.write(\"Bob, 4567\\n\")\n",
    "myfile.write(\"Steve, 8910\\n\")\n",
    "myfile.close() "
   ]
  },
  {
   "cell_type": "markdown",
   "metadata": {},
   "source": [
    "Then we read the file into a dictionary"
   ]
  },
  {
   "cell_type": "code",
   "execution_count": null,
   "metadata": {},
   "outputs": [],
   "source": [
    "employees = {}\n",
    "myfile = open('data.txt', 'r') # open data.txt file in read-only mode\n",
    "\n",
    "for text_line in myfile.readlines(): # Go through each line in the file\n",
    "    mylist = text_line.split(',') # Create list from comma-separated items in the line\n",
    "    employees[mylist[0]] = int(mylist[1].strip(' \\n')) # Add items - name and number to the dictionary\n",
    "\n",
    "employees"
   ]
  },
  {
   "cell_type": "code",
   "execution_count": 11,
   "metadata": {},
   "outputs": [
    {
     "name": "stdout",
     "output_type": "stream",
     "text": [
      "{'kuro': 100, 'vincent': 98, 'bob': 50, 'alice': 78}\n"
     ]
    }
   ],
   "source": [
    "employees = {}\n",
    "f = open('data.txt', 'r')\n",
    "lines = f.readlines()[3:]\n",
    "f.close()\n",
    "\n",
    "for line in lines:\n",
    "    name, num = line.strip('\\n').split(',')\n",
    "    employees[name] = int(num)\n",
    "\n",
    "print(employees)"
   ]
  },
  {
   "cell_type": "markdown",
   "metadata": {},
   "source": [
    "- Here we created a directory and used a For loop and split the contents of 'text_line' into multiple parts,\n",
    "based on where the commas are and then returns the results as a list.\n",
    "- The 'split' operation inserts 'Mike' into 'mylist\\[0]' and '1234' into 'mylist\\[1]'. Here we read the data and\n",
    "parse it into a more structured format than just plain text.\n",
    "It can also be used for tab-separated files. Instead of using ',', we can use\n",
    "'\\t' (i.e. backslash-t).\n",
    "- To add items to a dictionary\n",
    "we don’t need to perform any insertion function, we just provide the key and value.\n",
    "- The 'strip('\\n')' operation is used to remove excess data (i.e. newline characters) from the end of the\n",
    "number. This allows us to clean up the data before it is used.\n",
    "- When the For loop is completed, all lines have been processed and the dictionary is populated. The file\n",
    "is then closed and the contents of the dictionary are displayed.\n"
   ]
  },
  {
   "cell_type": "markdown",
   "metadata": {},
   "source": [
    "## String Formatting with f-string\n",
    "\n",
    "Python provides several methods to format strings. While older methods such as using the % operator are still valid, the newer f-string approach is more concise, readable, and versatile, especially for Python versions 3.6 and later.\n"
   ]
  },
  {
   "cell_type": "code",
   "execution_count": null,
   "metadata": {},
   "outputs": [
    {
     "data": {
      "text/plain": [
       "'I am 100 years old'"
      ]
     },
     "metadata": {},
     "output_type": "display_data"
    }
   ],
   "source": [
    "#Example with single integer\n",
    "\n",
    "age = 100\n",
    "sentence = f'I am {age} years old' \n",
    "sentence"
   ]
  },
  {
   "cell_type": "code",
   "execution_count": null,
   "metadata": {},
   "outputs": [
    {
     "name": "stdout",
     "output_type": "stream",
     "text": [
      "The value of pi is 3.141592653589793\n",
      "The value of pi is 3.14\n"
     ]
    }
   ],
   "source": [
    "#String formatting with float\n",
    "import math\n",
    "\n",
    "print(f\"The value of pi is {math.pi}\")\n",
    "print(f\"The value of pi is {math.pi:.2f}\") "
   ]
  },
  {
   "cell_type": "markdown",
   "metadata": {},
   "source": [
    "The `.2f` after : means that I want to print the variable as a `f`loat with `2` decimal places"
   ]
  },
  {
   "cell_type": "markdown",
   "metadata": {},
   "source": [
    "When we want to have multiple wildcards"
   ]
  },
  {
   "cell_type": "code",
   "execution_count": null,
   "metadata": {},
   "outputs": [
    {
     "data": {
      "text/plain": [
       "'Joe has a GPA of 4.0 after 2 years.'"
      ]
     },
     "metadata": {},
     "output_type": "display_data"
    }
   ],
   "source": [
    "name = \"Joe\"\n",
    "GPA=3.99\n",
    "num_years = 2\n",
    "sentence = f\"{name} has a GPA of {GPA:.1f} after {num_years} years.\" \n",
    "\n",
    "sentence"
   ]
  },
  {
   "cell_type": "markdown",
   "metadata": {},
   "source": [
    "Now we can export our data to a CSV (comma-separated) file."
   ]
  },
  {
   "cell_type": "code",
   "execution_count": null,
   "metadata": {},
   "outputs": [],
   "source": [
    "midterm_grade = {'Sam': 90, 'Katy': 95, 'Ben': 85}\n",
    "myfile = open('grades.csv', 'w')\n",
    "myfile.write(\"Student,Grade\\n\")\n",
    "for name,score in midterm_grade.items():\n",
    "    myfile.write(f\"{name},{score}\\n\")\n",
    "myfile.close()\n",
    "    "
   ]
  },
  {
   "cell_type": "markdown",
   "metadata": {},
   "source": [
    "*(Exercise)*: 1. print the following speech to a file called 'speech.txt'. \n",
    "```python\n",
    "\"\"\"I have, myself, full confidence that if all do their duty, if nothing is neglected, and if the best arrangements are made, as they are being made, \n",
    "we shall prove ourselves once again able to defend our Island home, to ride out the storm of war, and to outlive the menace of tyranny, if necessary for years, if necessary alone. At any rate, that is what we are going to try to do. That is the resolve of His Majesty's Government-every man of them. \n",
    "That is the will of Parliament and the nation. The British Empire and the French Republic, linked together in their cause and in their need, will defend to the death their native soil, aiding each other \n",
    "like good comrades to the utmost of their strength. Even though large tracts of Europe and many old and famous States have fallen or may fall into the grip of the Gestapo and all the odious apparatus of Nazi rule, we shall not flag or fail. We shall go on to the end, we shall fight in France, we shall fight on the seas and oceans, we shall fight with growing confidence and growing strength in the air, \n",
    "we shall defend our Island, whatever the cost may be, we shall fight on the beaches, we shall fight on the landing grounds, we shall fight in the fields and in the streets, we shall fight in the hills; we shall never surrender, and even if, which I do not for a moment believe, this Island or a large part of it were subjugated and starving, then our Empire beyond the seas, armed and guarded by the British Fleet, would carry on the struggle, until, in God's good time, the New World, \n",
    "with all its power and might, steps forth to the rescue and the liberation of the old.\"\"\"\n",
    "```\n",
    "2. Read the `speech.txt` and count the number of words, sentences and lines in the file.\n"
   ]
  },
  {
   "cell_type": "code",
   "execution_count": null,
   "metadata": {},
   "outputs": [],
   "source": [
    "#Q1\n",
    "speech=\"\"\"I have, myself, full confidence that if all do their duty, if nothing is neglected, and if the best arrangements are made, as they are being made, \n",
    "we shall prove ourselves once again able to defend our Island home, to ride out the storm of war, and to outlive the menace of tyranny, if necessary for years, if necessary alone. At any rate, that is what we are going to try to do. That is the resolve of His Majesty's Government-every man of them. \n",
    "That is the will of Parliament and the nation. The British Empire and the French Republic, linked together in their cause and in their need, will defend to the death their native soil, aiding each other \n",
    "like good comrades to the utmost of their strength. Even though large tracts of Europe and many old and famous States have fallen or may fall into the grip of the Gestapo and all the odious apparatus of Nazi rule, we shall not flag or fail. We shall go on to the end, we shall fight in France, we shall fight on the seas and oceans, we shall fight with growing confidence and growing strength in the air, \n",
    "we shall defend our Island, whatever the cost may be, we shall fight on the beaches, we shall fight on the landing grounds, we shall fight in the fields and in the streets, we shall fight in the hills; we shall never surrender, and even if, which I do not for a moment believe, this Island or a large part of it were subjugated and starving, then our Empire beyond the seas, armed and guarded by the British Fleet, would carry on the struggle, until, in God's good time, the New World, \n",
    "with all its power and might, steps forth to the rescue and the liberation of the old.\"\"\"\n",
    "file = open(\"speech.txt\", \"w\")\n",
    "file.write(speech)\n",
    "file.close()\n"
   ]
  }
 ],
 "metadata": {
  "kernelspec": {
   "display_name": "Python 3",
   "language": "python",
   "name": "python3"
  },
  "language_info": {
   "codemirror_mode": {
    "name": "ipython",
    "version": 3
   },
   "file_extension": ".py",
   "mimetype": "text/x-python",
   "name": "python",
   "nbconvert_exporter": "python",
   "pygments_lexer": "ipython3",
   "version": "3.11.1 (v3.11.1:a7a450f84a, Dec  6 2022, 15:24:06) [Clang 13.0.0 (clang-1300.0.29.30)]"
  },
  "toc": {
   "colors": {
    "hover_highlight": "#DAA520",
    "navigate_num": "#000000",
    "navigate_text": "#333333",
    "running_highlight": "#FF0000",
    "selected_highlight": "#FFD700",
    "sidebar_border": "#EEEEEE",
    "wrapper_background": "#FFFFFF"
   },
   "moveMenuLeft": true,
   "nav_menu": {
    "height": "138px",
    "width": "252px"
   },
   "navigate_menu": true,
   "number_sections": true,
   "sideBar": true,
   "threshold": 4,
   "toc_cell": false,
   "toc_section_display": "block",
   "toc_window_display": false,
   "widenNotebook": false
  },
  "vscode": {
   "interpreter": {
    "hash": "aee8b7b246df8f9039afb4144a1f6fd8d2ca17a180786b69acc140d282b71a49"
   }
  }
 },
 "nbformat": 4,
 "nbformat_minor": 2
}

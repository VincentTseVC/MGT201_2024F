{
 "cells": [
  {
   "cell_type": "markdown",
   "metadata": {},
   "source": [
    "# Functions\n",
    "\n",
    "In simple terms, a function is a device that groups a set of statements so they can be run more than once in a program. Functions also can compute a result value and let us specify parameters that serve as function inputs, which may differ each time the function is applied.\n",
    "\n",
    "We are going to discuss\n",
    "\n",
    "- [Function Definition](#function-definition)\n",
    "- [Simple Examples](#simple-examples)\n",
    "- [Arguments and Return are Optional](#arguments-and-return-are-optional)\n",
    "- [Return Multiple Values](#return-multiple-values)\n",
    "- [Argument Default Values](#argument-default-values)\n",
    "- [Use Multiple Functions](#use-multiple-functions)\n",
    "- [Nested Functions](#nested-functions)\n",
    "- [Functions with List Arguments](#functions-with-list-arguments)\n",
    "- [Variable Assignments](#variable-assignments)\n",
    "    - [Copy a List](#copy-a-list)"
   ]
  },
  {
   "cell_type": "markdown",
   "metadata": {},
   "source": [
    "\n",
    "## Function Definition\n",
    "\n",
    "We use `def` to create a function and assign it a name. The general form is\n",
    "\n",
    "```python\n",
    "def name(arg1, arg2, ...):\n",
    "\n",
    "    statement\n",
    "    \n",
    "    return value\n",
    "```\n",
    "    \n",
    "The Python return statement can show up anywhere in a function body; it ends the function call and sends a result back.  The return statement is optional if it's not present, the function exits when the control flow falls off the end of the function body.\n"
   ]
  },
  {
   "cell_type": "markdown",
   "metadata": {},
   "source": [
    "\n",
    "## Simple Examples\n",
    "\n",
    "We will define a function called times that returns the product of two input value x and y.  Order matters here, so the first input will be x and the second will be y in the function.\n"
   ]
  },
  {
   "cell_type": "code",
   "execution_count": 4,
   "metadata": {
    "collapsed": true
   },
   "outputs": [],
   "source": [
    "#Defining a function\n",
    "def times(x,y):\n",
    "    product = x * y\n",
    "    return product"
   ]
  },
  {
   "cell_type": "code",
   "execution_count": 5,
   "metadata": {},
   "outputs": [
    {
     "data": {
      "text/plain": [
       "6"
      ]
     },
     "execution_count": 5,
     "metadata": {},
     "output_type": "execute_result"
    }
   ],
   "source": [
    "# Call a function\n",
    "times(2,4) # positional arguments\n",
    "times(y=3, x=2) # keyword arguments"
   ]
  },
  {
   "cell_type": "markdown",
   "metadata": {},
   "source": [
    "*(Tips)*: a function is defined once (or it will be overwritten) but intended to be called **multiple** times."
   ]
  },
  {
   "cell_type": "code",
   "execution_count": 3,
   "metadata": {},
   "outputs": [
    {
     "data": {
      "text/plain": [
       "12.56"
      ]
     },
     "execution_count": 3,
     "metadata": {},
     "output_type": "execute_result"
    }
   ],
   "source": [
    "x = times(3.14,4)\n",
    "x"
   ]
  },
  {
   "cell_type": "code",
   "execution_count": 4,
   "metadata": {},
   "outputs": [
    {
     "data": {
      "text/plain": [
       "'HelloHello'"
      ]
     },
     "execution_count": 4,
     "metadata": {},
     "output_type": "execute_result"
    }
   ],
   "source": [
    "times(\"Hello\",2)"
   ]
  },
  {
   "cell_type": "markdown",
   "metadata": {},
   "source": [
    "### Arguments and Return are Optional\n",
    "\n",
    "We can define a function without an argument or returning a result.\n",
    "\n",
    "In this case, we cannot assign the function output to a variable.\n"
   ]
  },
  {
   "cell_type": "code",
   "execution_count": 5,
   "metadata": {},
   "outputs": [
    {
     "name": "stdout",
     "output_type": "stream",
     "text": [
      "Hello!\n"
     ]
    }
   ],
   "source": [
    "def say_hello():\n",
    "    print(\"Hello!\")\n",
    "\n",
    "say_hello()"
   ]
  },
  {
   "cell_type": "code",
   "execution_count": 6,
   "metadata": {},
   "outputs": [
    {
     "name": "stdout",
     "output_type": "stream",
     "text": [
      "Hello!\n",
      "None\n"
     ]
    }
   ],
   "source": [
    "a = say_hello()\n",
    "print(a)"
   ]
  },
  {
   "cell_type": "markdown",
   "metadata": {},
   "source": [
    "### Return Multiple Values\n",
    "\n",
    "You can actually return multiple results in a python function as follows."
   ]
  },
  {
   "cell_type": "code",
   "execution_count": 7,
   "metadata": {},
   "outputs": [
    {
     "data": {
      "text/plain": [
       "50"
      ]
     },
     "execution_count": 7,
     "metadata": {},
     "output_type": "execute_result"
    }
   ],
   "source": [
    "#Returning multiple values\n",
    "def timesdivide(x,y):\n",
    "    times = x*y\n",
    "    divide = x/y\n",
    "    \n",
    "    return times, divide\n",
    "\n",
    "#Here is how you collect both values\n",
    "resultOne, resultTwo = timesdivide(10,5)\n",
    "\n",
    "resultOne"
   ]
  },
  {
   "cell_type": "markdown",
   "metadata": {},
   "source": [
    "Recall that * works on both numbers and strings because we never declare the types of variables, arguments, or return values in Python. Hence we can use times to either multiply numbers or repeat strings.\n"
   ]
  },
  {
   "cell_type": "markdown",
   "metadata": {},
   "source": [
    "### Argument Default Values"
   ]
  },
  {
   "cell_type": "code",
   "execution_count": 8,
   "metadata": {},
   "outputs": [
    {
     "name": "stdout",
     "output_type": "stream",
     "text": [
      "5\n"
     ]
    }
   ],
   "source": [
    "def add_numbers(x, y):\n",
    "    return x + y\n",
    "\n",
    "print(add_numbers(2,3))"
   ]
  },
  {
   "cell_type": "markdown",
   "metadata": {},
   "source": [
    "- Here we can set default values for the data if the script doesn't specify it explicitly. \n",
    "- A benefit is that if we are dealing mostly with default values, and the calling code can be shorter and tidier. Another\n",
    "benefit is when we are debugging a large program. \n",
    "- This can allow a function to run even if the calling\n",
    "program has forgotten to provide data."
   ]
  },
  {
   "cell_type": "code",
   "execution_count": 9,
   "metadata": {},
   "outputs": [
    {
     "name": "stdout",
     "output_type": "stream",
     "text": [
      "4\n",
      "5\n"
     ]
    }
   ],
   "source": [
    "def add_numbers(x, y=3):\n",
    "    return x + y\n",
    "\n",
    "print(add_numbers(2, 2))\n",
    "print(add_numbers(2))"
   ]
  },
  {
   "cell_type": "code",
   "execution_count": 10,
   "metadata": {},
   "outputs": [
    {
     "name": "stdout",
     "output_type": "stream",
     "text": [
      "Hello Bob\n",
      "Hello Unknown user\n"
     ]
    }
   ],
   "source": [
    "def do_greeting(name = \"Unknown user\"):\n",
    "    print(\"Hello\", name)\n",
    "    \n",
    "do_greeting(\"Bob\")\n",
    "do_greeting()"
   ]
  },
  {
   "cell_type": "markdown",
   "metadata": {},
   "source": [
    "*(Exercise)*: Write a function to find the maximum of two numbers."
   ]
  },
  {
   "cell_type": "code",
   "execution_count": null,
   "metadata": {},
   "outputs": [],
   "source": [
    "def find_max(num1, num2):\n",
    "    return max(num1, num2)\n",
    "\n",
    "def find_max_v2(num1, num2):\n",
    "    if num1 >= num2:\n",
    "        return num1\n",
    "    else:\n",
    "        return num2"
   ]
  },
  {
   "cell_type": "markdown",
   "metadata": {},
   "source": [
    "### Function Docstrings\n",
    "\n",
    "- Docstrings are a way of documenting your functions.\n",
    "- Docstrings are placed in the immediate line after the function header, before the function body, and are placed in between triple quotes.\n",
    "- Docstrings are optional, but highly recommended for functions that are non-trivial, or when you intend to distribute your code to others.\n"
   ]
  },
  {
   "cell_type": "code",
   "execution_count": 1,
   "metadata": {},
   "outputs": [],
   "source": [
    "def add_numbers(x, y=3, z=5):\n",
    "    \"\"\"\n",
    "    Add three numbers together\n",
    "    y and z have default values\n",
    "    \"\"\"\n",
    "    return x + y + z"
   ]
  },
  {
   "cell_type": "markdown",
   "metadata": {},
   "source": [
    "**(Exercise): Monthly Mortgage Payment Calculator** For a fixed-rate mortgage, the monthly mortgage payment \n",
    "$P$ is calculated using the formula \n",
    "$ P = r L/(1-(1+r)^{-n})$\n",
    "where $L$ is the loan amount, $r$ is the monthly interest rate (annual rate divided by 12), and $n$ is the number of months.\n",
    "Write a function `calculate_monthly_payment(loan_amount, annual_rate, loan_term)`, where the annual interest rate is in percentage and the loan_term is in years.\n",
    "Use the function to determine the monthly payments for a 30-year loan of $100,000 at an annual interest rate of 6%.\n",
    "\n",
    "```python\n",
    "def calculate_monthly_payment(loan_amount, annual_rate, loan_term):\n",
    "    \"\"\"\n",
    "    Calculate and return the monthly mortgage payment.\n",
    "\n",
    "    Parameters:\n",
    "    - loan_amount (float): The amount of loan taken.\n",
    "    - annual_rate (float): The annual interest rate (as a percentage).\n",
    "    - loan_term (int): The duration of the loan in years.\n",
    "\n",
    "    Returns:\n",
    "    - float: The monthly mortgage payment.\n",
    "    \"\"\"\n",
    "    monthly_rate = (annual_rate / 100) / 12\n",
    "    total_payments = loan_term * 12\n",
    "\n",
    "    monthly_payment = (monthly_rate * loan_amount) / (1 - (1 + monthly_rate) ** -total_payments)\n",
    "\n",
    "    return monthly_payment\n",
    "```\n"
   ]
  },
  {
   "cell_type": "markdown",
   "metadata": {},
   "source": [
    "## Use Multiple Functions \n",
    "\n",
    "We can use multiple small functions to achieve a more complex goal."
   ]
  },
  {
   "cell_type": "code",
   "execution_count": 18,
   "metadata": {},
   "outputs": [],
   "source": [
    "def add_numbers(x,y):\n",
    "    return x+y\n",
    "\n",
    "def check_mult_two(x):\n",
    "    if x%2==0:\n",
    "        print(f\"Yes, {x} is a multiple of 2.\")\n",
    "    else:\n",
    "        print(f\"No, {x} is not a multiple of 2.\")"
   ]
  },
  {
   "cell_type": "code",
   "execution_count": 19,
   "metadata": {},
   "outputs": [
    {
     "name": "stdout",
     "output_type": "stream",
     "text": [
      "No, 25 is not a multiple of 2.\n"
     ]
    }
   ],
   "source": [
    "num1 = 10\n",
    "num2 = 15\n",
    "\n",
    "sum_1_2 = add_numbers(num1,num2)\n",
    "check_mult_two(sum_1_2)"
   ]
  },
  {
   "cell_type": "markdown",
   "metadata": {},
   "source": [
    "## Nested Functions"
   ]
  },
  {
   "cell_type": "markdown",
   "metadata": {},
   "source": [
    "Functions can call functions inside its definition."
   ]
  },
  {
   "cell_type": "code",
   "execution_count": 20,
   "metadata": {},
   "outputs": [],
   "source": [
    "def count_vowels(name):\n",
    "    total = 0\n",
    "    vowels = ['a', 'e', 'i', 'o', 'u']\n",
    "    for i in name.lower():\n",
    "        if i in vowels:\n",
    "            total += 1\n",
    "    return total\n",
    "\n",
    "def percent_vowels(name):\n",
    "    num_vowels = count_vowels(name)\n",
    "    percent = num_vowels/len(name)\n",
    "    return percent"
   ]
  },
  {
   "cell_type": "code",
   "execution_count": 21,
   "metadata": {},
   "outputs": [
    {
     "data": {
      "text/plain": [
       "0.375"
      ]
     },
     "execution_count": 21,
     "metadata": {},
     "output_type": "execute_result"
    }
   ],
   "source": [
    "percent_vowels('Ningyuan')"
   ]
  },
  {
   "cell_type": "code",
   "execution_count": 22,
   "metadata": {},
   "outputs": [
    {
     "data": {
      "text/plain": [
       "{'Ningyuan': 0.375, 'Otto': 0.5, 'Gerhard': 0.2857142857142857}"
      ]
     },
     "execution_count": 22,
     "metadata": {},
     "output_type": "execute_result"
    }
   ],
   "source": [
    "first_names = [\"Ningyuan\", \"Otto\", \"Gerhard\"]\n",
    "D = {}\n",
    "for name in first_names:\n",
    "    D[name] = percent_vowels(name)\n",
    "\n",
    "D"
   ]
  },
  {
   "cell_type": "markdown",
   "metadata": {},
   "source": [
    "## Functions with List Arguments\n",
    "\n",
    "We know that functions can output tuples or lists."
   ]
  },
  {
   "cell_type": "code",
   "execution_count": 23,
   "metadata": {},
   "outputs": [],
   "source": [
    "def my_func():\n",
    "    return 50, 9000\n",
    "\n",
    "x, y = my_func()"
   ]
  },
  {
   "cell_type": "code",
   "execution_count": 24,
   "metadata": {},
   "outputs": [
    {
     "data": {
      "text/plain": [
       "50"
      ]
     },
     "execution_count": 24,
     "metadata": {},
     "output_type": "execute_result"
    }
   ],
   "source": [
    "my_tuple = my_func()\n",
    "my_tuple[0]"
   ]
  },
  {
   "cell_type": "markdown",
   "metadata": {},
   "source": [
    "It can also take arguments that are lists or tuples themselves."
   ]
  },
  {
   "cell_type": "code",
   "execution_count": 25,
   "metadata": {},
   "outputs": [
    {
     "data": {
      "text/plain": [
       "2.0"
      ]
     },
     "execution_count": 25,
     "metadata": {},
     "output_type": "execute_result"
    }
   ],
   "source": [
    "def average(numbers): \n",
    "    result = sum(numbers) / len(numbers)\n",
    "    return result\n",
    "\n",
    "average([1,2,3])"
   ]
  },
  {
   "cell_type": "markdown",
   "metadata": {},
   "source": [
    "But sometimes, we want to directly input numbers, instead of wrapping them into a tuple/list first. This can be done as follows by *adding \\* in front of the argument*:"
   ]
  },
  {
   "cell_type": "code",
   "execution_count": 26,
   "metadata": {},
   "outputs": [
    {
     "name": "stdout",
     "output_type": "stream",
     "text": [
      "20.0\n"
     ]
    }
   ],
   "source": [
    "def average(*numbers): # The asterisk turns this into a tuple\n",
    "    result = sum(numbers) / len(numbers)\n",
    "    return result\n",
    "\n",
    "x = average(10, 20, 30)\n",
    "print(x)"
   ]
  },
  {
   "cell_type": "markdown",
   "metadata": {},
   "source": [
    "We use the asterisk to tell the function to expect a number of variables in the form of a tuple. In this way, we can write a function that accepts varying amounts of parameters.\n",
    "\n",
    "In the opposite, we can use the asterisk to unpack the list argument, when the function only takes in numbers.\n"
   ]
  },
  {
   "cell_type": "code",
   "execution_count": null,
   "metadata": {},
   "outputs": [
    {
     "ename": "TypeError",
     "evalue": "unsupported operand type(s) for +: 'int' and 'list'",
     "output_type": "error",
     "traceback": [
      "\u001b[1;31m---------------------------------------------------------------------------\u001b[0m",
      "\u001b[1;31mTypeError\u001b[0m                                 Traceback (most recent call last)",
      "\u001b[1;32mc:\\Users\\admin-chenni14\\Dropbox\\Teaching\\UG_MGT201\\lectures\\lec5-6_function_scope\\Functions_and_Scope.ipynb Cell 53\u001b[0m in \u001b[0;36m<cell line: 2>\u001b[1;34m()\u001b[0m\n\u001b[0;32m      <a href='vscode-notebook-cell:/c%3A/Users/admin-chenni14/Dropbox/Teaching/UG_MGT201/lectures/lec5-6_function_scope/Functions_and_Scope.ipynb#Y103sZmlsZQ%3D%3D?line=0'>1</a>\u001b[0m mylist \u001b[39m=\u001b[39m [\u001b[39m10\u001b[39m, \u001b[39m20\u001b[39m, \u001b[39m30\u001b[39m]\n\u001b[1;32m----> <a href='vscode-notebook-cell:/c%3A/Users/admin-chenni14/Dropbox/Teaching/UG_MGT201/lectures/lec5-6_function_scope/Functions_and_Scope.ipynb#Y103sZmlsZQ%3D%3D?line=1'>2</a>\u001b[0m average(mylist)\n",
      "\u001b[1;32mc:\\Users\\admin-chenni14\\Dropbox\\Teaching\\UG_MGT201\\lectures\\lec5-6_function_scope\\Functions_and_Scope.ipynb Cell 53\u001b[0m in \u001b[0;36maverage\u001b[1;34m(*numbers)\u001b[0m\n\u001b[0;32m      <a href='vscode-notebook-cell:/c%3A/Users/admin-chenni14/Dropbox/Teaching/UG_MGT201/lectures/lec5-6_function_scope/Functions_and_Scope.ipynb#Y103sZmlsZQ%3D%3D?line=0'>1</a>\u001b[0m \u001b[39mdef\u001b[39;00m \u001b[39maverage\u001b[39m(\u001b[39m*\u001b[39mnumbers): \u001b[39m# The asterick turns this inot a tuple\u001b[39;00m\n\u001b[1;32m----> <a href='vscode-notebook-cell:/c%3A/Users/admin-chenni14/Dropbox/Teaching/UG_MGT201/lectures/lec5-6_function_scope/Functions_and_Scope.ipynb#Y103sZmlsZQ%3D%3D?line=1'>2</a>\u001b[0m     result \u001b[39m=\u001b[39m \u001b[39msum\u001b[39;49m(numbers) \u001b[39m/\u001b[39m \u001b[39mlen\u001b[39m(numbers)\n\u001b[0;32m      <a href='vscode-notebook-cell:/c%3A/Users/admin-chenni14/Dropbox/Teaching/UG_MGT201/lectures/lec5-6_function_scope/Functions_and_Scope.ipynb#Y103sZmlsZQ%3D%3D?line=2'>3</a>\u001b[0m     \u001b[39mreturn\u001b[39;00m result\n",
      "\u001b[1;31mTypeError\u001b[0m: unsupported operand type(s) for +: 'int' and 'list'"
     ]
    }
   ],
   "source": [
    "mylist = [10, 20, 30]\n",
    "average(mylist)\n"
   ]
  },
  {
   "cell_type": "code",
   "execution_count": 28,
   "metadata": {},
   "outputs": [
    {
     "data": {
      "text/plain": [
       "20.0"
      ]
     },
     "execution_count": 28,
     "metadata": {},
     "output_type": "execute_result"
    }
   ],
   "source": [
    "y = average(*mylist)\n",
    "y"
   ]
  },
  {
   "cell_type": "markdown",
   "metadata": {},
   "source": [
    "*Exercise*: Given a list of scores, write a function named highest_score that takes any number of individual scores (not a list) and returns the highest score among them. To test this function, unpack a list of scores when calling it.\n",
    "\n",
    "For example\n",
    "```python\n",
    "scores = [78, 83, 89, 91, 75, 87]\n",
    "high = highest_score(*scores)\n",
    "print(high)  # Expected: 91\n",
    "```"
   ]
  },
  {
   "cell_type": "markdown",
   "metadata": {},
   "source": [
    "## Variable Assignments\n",
    "\n",
    "We are familiar with how to assign values to variables and how to change them."
   ]
  },
  {
   "cell_type": "code",
   "execution_count": 29,
   "metadata": {},
   "outputs": [
    {
     "data": {
      "text/plain": [
       "(3, 5)"
      ]
     },
     "execution_count": 29,
     "metadata": {},
     "output_type": "execute_result"
    }
   ],
   "source": [
    "a=3\n",
    "b=a\n",
    "b=5\n",
    "a,b"
   ]
  },
  {
   "cell_type": "markdown",
   "metadata": {},
   "source": [
    "But what happens in the next script"
   ]
  },
  {
   "cell_type": "code",
   "execution_count": 3,
   "metadata": {},
   "outputs": [
    {
     "data": {
      "text/plain": [
       "[1, 2, 4]"
      ]
     },
     "execution_count": 3,
     "metadata": {},
     "output_type": "execute_result"
    }
   ],
   "source": [
    "a = [1,2,3]\n",
    "b = a\n",
    "a[2] = 4\n",
    "b"
   ]
  },
  {
   "cell_type": "markdown",
   "metadata": {},
   "source": [
    "So what is going on?"
   ]
  },
  {
   "cell_type": "markdown",
   "metadata": {},
   "source": [
    "In the first example, \n",
    "1. `a = 3`: Creates `a` number object with value 3 and makes `a` reference it\n",
    "2. `b = a`: Makes `b` reference the same number that `a` references\n",
    "3. `b = 5`: Creates a new number object with value 5 and makes `b` reference it\n",
    "4. `a` still references 3, while `b` now references 5\n",
    "\n",
    "This happens because numbers are \"immutable\" objects in Python - they can't be changed after creation.\n"
   ]
  },
  {
   "cell_type": "markdown",
   "metadata": {},
   "source": [
    "In the second example, here's what's happening:\n",
    "\n",
    "1. `a = [1, 2, 3]`: Creates a list object and makes a reference it\n",
    "2. `b = a`: Makes `b` reference the same list object that a references\n",
    "3. `a[2] = 4`: Modifies the list object that both `a` and `b` are referencing\n",
    "\n",
    "Since both variables reference the same list object, both see the change"
   ]
  },
  {
   "cell_type": "markdown",
   "metadata": {},
   "source": [
    "Key Concepts:\n",
    "\n",
    "1. Variables in Python are **references** (like labels or pointers) to objects\n",
    "2. Assignment (`=`) creates a reference to an object\n",
    "3. For mutable objects (like lists), multiple variables can reference the same object\n",
    "4. Modifying a mutable object affects all variables referencing it\n",
    "\n",
    "A few more examples"
   ]
  },
  {
   "cell_type": "code",
   "execution_count": 5,
   "metadata": {
    "collapsed": false
   },
   "outputs": [
    {
     "name": "stdout",
     "output_type": "stream",
     "text": [
      "[1, 2, 3]\n",
      "24\n"
     ]
    }
   ],
   "source": [
    "#This assignment just sets L1 to a different object\n",
    "L1 = [1,2,3]\n",
    "L2 = 24\n",
    "L1\n",
    "L2"
   ]
  },
  {
   "cell_type": "markdown",
   "metadata": {},
   "source": [
    "If we change this syntax slightly, however, it has a radically different effect"
   ]
  },
  {
   "cell_type": "code",
   "execution_count": 34,
   "metadata": {
    "collapsed": false
   },
   "outputs": [
    {
     "data": {
      "text/plain": [
       "[24, 3, 4]"
      ]
     },
     "execution_count": 34,
     "metadata": {},
     "output_type": "execute_result"
    }
   ],
   "source": [
    "L1=[2,3,4]\n",
    "L2=L1\n",
    "L1[0]=24\n",
    "L1\n",
    "L2"
   ]
  },
  {
   "cell_type": "code",
   "execution_count": 6,
   "metadata": {
    "collapsed": false
   },
   "outputs": [
    {
     "data": {
      "text/plain": [
       "[1, 2, 3]"
      ]
     },
     "execution_count": 6,
     "metadata": {},
     "output_type": "execute_result"
    }
   ],
   "source": [
    "#One way to make a copy\n",
    "L1 = [1,2,3]\n",
    "L2 = L1[:]\n",
    "L1[0]=24\n",
    "# Note that L2 is unchanged\n",
    "L1\n",
    "\n",
    "L2"
   ]
  },
  {
   "cell_type": "markdown",
   "metadata": {},
   "source": [
    "*(Tips)*: Note that this slicing technique won't work on the other mutable types such as dictionaries. "
   ]
  },
  {
   "cell_type": "markdown",
   "metadata": {},
   "source": [
    "### Copy a List\n",
    "\n",
    "The `copy` method allows one to copy the whole list, not just referencing to the same object."
   ]
  },
  {
   "cell_type": "code",
   "execution_count": 3,
   "metadata": {
    "collapsed": false
   },
   "outputs": [
    {
     "data": {
      "text/plain": [
       "([24, 2, 4], [1, 2, 4])"
      ]
     },
     "execution_count": 3,
     "metadata": {},
     "output_type": "execute_result"
    }
   ],
   "source": [
    "L1=[1,2,4]\n",
    "L2= L1.copy()\n",
    "\n",
    "L1[0]=24\n",
    "L1,L2"
   ]
  }
 ],
 "metadata": {
  "kernelspec": {
   "display_name": "Python 3",
   "language": "python",
   "name": "python3"
  },
  "language_info": {
   "codemirror_mode": {
    "name": "ipython",
    "version": 3
   },
   "file_extension": ".py",
   "mimetype": "text/x-python",
   "name": "python",
   "nbconvert_exporter": "python",
   "pygments_lexer": "ipython3",
   "version": "3.11.1 (v3.11.1:a7a450f84a, Dec  6 2022, 15:24:06) [Clang 13.0.0 (clang-1300.0.29.30)]"
  },
  "toc": {
   "colors": {
    "hover_highlight": "#DAA520",
    "navigate_num": "#000000",
    "navigate_text": "#333333",
    "running_highlight": "#FF0000",
    "selected_highlight": "#FFD700",
    "sidebar_border": "#EEEEEE",
    "wrapper_background": "#FFFFFF"
   },
   "moveMenuLeft": true,
   "nav_menu": {
    "height": "138px",
    "width": "252px"
   },
   "navigate_menu": true,
   "number_sections": true,
   "sideBar": true,
   "threshold": 4,
   "toc_cell": false,
   "toc_section_display": "block",
   "toc_window_display": false,
   "widenNotebook": false
  },
  "vscode": {
   "interpreter": {
    "hash": "aee8b7b246df8f9039afb4144a1f6fd8d2ca17a180786b69acc140d282b71a49"
   }
  }
 },
 "nbformat": 4,
 "nbformat_minor": 2
}

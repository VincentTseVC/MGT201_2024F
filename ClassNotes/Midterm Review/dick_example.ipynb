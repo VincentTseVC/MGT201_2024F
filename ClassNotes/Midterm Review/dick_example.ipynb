{
 "cells": [
  {
   "cell_type": "code",
   "execution_count": 4,
   "metadata": {},
   "outputs": [
    {
     "name": "stdout",
     "output_type": "stream",
     "text": [
      "{'Brian': ['programming', 'games'], 'Nick': ['programming'], 'Paco': ['programming', 'games', 'food']}\n"
     ]
    }
   ],
   "source": [
    "clubs_to_members = {\n",
    "    'programming': ['Brian', 'Nick', 'Paco'], \n",
    "    'games': ['Paco', 'Brian'], \n",
    "    'food': ['Paco'], \n",
    "    'homework': []\n",
    "}\n",
    "\n",
    "result = {}\n",
    "\n",
    "# 循環這個 dict, 去得到 每一個 社團 的名字\n",
    "for club in clubs_to_members:\n",
    "    # 獲取 當前 這個社團 的 成員『們』\n",
    "    members = clubs_to_members[club]\n",
    "    # 循環 成員list, 去得到每一位成員\n",
    "    for member in members:\n",
    "\n",
    "        # Q: 把當前這個 成員 和 他/她/牠 參加的社團 加進 result dict\n",
    "\n",
    "        # 如果 這個成員 已經在 result 裡\n",
    "        if member in result:\n",
    "            # 那就 添加 新社團\n",
    "            result[member].append(club)\n",
    "\n",
    "        # 不在\n",
    "        else:\n",
    "            # 那就 創建 成員: [社團]\n",
    "            result[member] = [ club ]\n",
    "\n",
    "\n",
    "# {'Paco': ['programming', 'games', 'food'], \n",
    "#  'Brian': ['programming', 'games'], \n",
    "#  'Nick': ['programming']}\n",
    "\n",
    "\n"
   ]
  },
  {
   "cell_type": "code",
   "execution_count": null,
   "metadata": {},
   "outputs": [],
   "source": [
    "clubs_to_members = {\n",
    "    'programming': ['Brian', 'Nick', 'Paco'], \n",
    "    'games': ['Paco', 'Brian'], \n",
    "    'food': ['Paco'], \n",
    "    'homework': []\n",
    "}\n",
    "\n",
    "result = {}\n",
    "\n",
    "# 循環這個 dict, 去得到 每一個 社團 的名字\n",
    "for club in clubs_to_members:\n",
    "    # 獲取 當前 這個社團 的 成員『們』\n",
    "    members = clubs_to_members[club]\n",
    "    # 循環 成員list, 去得到每一位成員\n",
    "    for member in members:\n",
    "\n",
    "        # Q: 把當前這個 成員 和 他/她/牠 參加的社團 加進 result dict\n",
    "\n",
    "        # 如果 這個成員 已經在 result 裡\n",
    "        if member in result:\n",
    "            # 那就 增加 這個 成員 參加的數量 +1\n",
    "            result[member] += 1\n",
    "\n",
    "        # 不在\n",
    "        else:\n",
    "            # 那就 創建 成員: 1\n",
    "            result[member] = 1\n",
    "\n",
    "\n",
    "# {'Paco': 3, 'Brian': 2, 'Nick': 1}"
   ]
  }
 ],
 "metadata": {
  "kernelspec": {
   "display_name": "Python 3",
   "language": "python",
   "name": "python3"
  },
  "language_info": {
   "codemirror_mode": {
    "name": "ipython",
    "version": 3
   },
   "file_extension": ".py",
   "mimetype": "text/x-python",
   "name": "python",
   "nbconvert_exporter": "python",
   "pygments_lexer": "ipython3",
   "version": "3.11.1 (v3.11.1:a7a450f84a, Dec  6 2022, 15:24:06) [Clang 13.0.0 (clang-1300.0.29.30)]"
  },
  "orig_nbformat": 4,
  "vscode": {
   "interpreter": {
    "hash": "aee8b7b246df8f9039afb4144a1f6fd8d2ca17a180786b69acc140d282b71a49"
   }
  }
 },
 "nbformat": 4,
 "nbformat_minor": 2
}

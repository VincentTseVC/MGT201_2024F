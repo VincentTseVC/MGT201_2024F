{
 "cells": [
  {
   "cell_type": "markdown",
   "metadata": {},
   "source": [
    "Return a copy of `s` but with characters before index `i` swapped with the characters after index `j`"
   ]
  },
  {
   "cell_type": "code",
   "execution_count": null,
   "metadata": {},
   "outputs": [],
   "source": [
    "def triple_cut(s: str, i: int, j: int) -> str:\n",
    "    ...\n",
    "\n",
    "print(triple_cut('ABCDEFGHIJKL', 2, 6)) # 'HIJKLCDEFGAB'"
   ]
  },
  {
   "cell_type": "markdown",
   "metadata": {},
   "source": [
    "The World Health Organization considers a person with Body Mass Index (BMI) less than 16 to be `severely underweight`. A non-severely underweight person with BMI less than 18.5 is considered `underweight`. A person with BMI of at least 30 is considered `obese`. A non-obese person with BMI of at least 25 is categorized as `overweight`, and everyone else is considered `normal`."
   ]
  },
  {
   "cell_type": "code",
   "execution_count": null,
   "metadata": {},
   "outputs": [],
   "source": [
    "def weight_category(bmi: float) -> str:\n",
    "    ...\n",
    "\n",
    "print(weight_category(15))      # severely_underweight\n",
    "print(weight_category(17))      # underweight\n",
    "print(weight_category(18.5))    # normal \n",
    "print(weight_category(27))      # overweight\n",
    "print(weight_category(32))      # obese"
   ]
  },
  {
   "cell_type": "markdown",
   "metadata": {},
   "source": [
    "Return the latte order with the given espresso shots, milk, and flavour, formatted as follows:\n",
    "\n",
    "`<shots> shot <flavour> latte with <milk> milk`\n",
    "\n",
    "There should exactly one space between each word in the order, and no extra leading or trailing spaces.\n",
    "\n",
    "If milk is `'A'`, replace it with `'almond'`, and if milk is `'S'`, replace it with `'soy'`.\n",
    "\n",
    "Precondition: milk is one of `'A'`, `'S'`, `'2%'`, `'1%'`"
   ]
  },
  {
   "cell_type": "code",
   "execution_count": null,
   "metadata": {},
   "outputs": [],
   "source": [
    "def latte_order(shots: int, milk: str, flavour: str) -> str:\n",
    "    ...\n",
    "\n",
    "print(latte_order(2, 'A', 'vanilla'))           # 2 shot vanilla latte with almond milk\n",
    "print(latte_order(1, '2%', 'pumpkin spice'))    # 1 shot pumpkin spice latte with 2% milk\n",
    "print(latte_order(3, 'S', ''))                  # 3 shot latte with soy milk"
   ]
  },
  {
   "cell_type": "markdown",
   "metadata": {},
   "source": [
    "Return the year of study for a student who has taken `num_of_courses` courses\n",
    "\n",
    "- Students with `10` courses or under are in `first-year`\n",
    "- Students who have taken between `11` to `20` courses are in `second-year`\n",
    "- Students who have taken `21` to `30` courses are in `third-year`\n",
    "- Students who have taken `31` to `40` courses are in `fourth-year` \n",
    "- Students who have taken more than `40` courses are considered `fifth-year or more`\n",
    "\n",
    "Precondition: `num_of_courses > 0`"
   ]
  },
  {
   "cell_type": "code",
   "execution_count": null,
   "metadata": {},
   "outputs": [],
   "source": [
    "def year_of_study(num_of_courses: int) -> str:\n",
    "    if ...: # A\n",
    "        if ...: # B\n",
    "            return 'fifth-year or more'\n",
    "        else:\n",
    "            if ...: # C\n",
    "                return 'third-year'\n",
    "            elif ...: # D\n",
    "                return 'fourth-year'\n",
    "            return 'second-year'\n",
    "    else:\n",
    "        return 'first-year'"
   ]
  },
  {
   "cell_type": "code",
   "execution_count": null,
   "metadata": {},
   "outputs": [],
   "source": [
    "# A\n",
    "\n",
    "# B\n",
    "\n",
    "# C\n",
    "\n",
    "# D"
   ]
  },
  {
   "cell_type": "markdown",
   "metadata": {},
   "source": [
    "## Simplifying If statements"
   ]
  },
  {
   "cell_type": "markdown",
   "metadata": {},
   "source": [
    "Simplify the following function so that there is NO any if statements."
   ]
  },
  {
   "cell_type": "code",
   "execution_count": null,
   "metadata": {},
   "outputs": [],
   "source": [
    "def example1(x: int, y: int, z: str) -> bool:\n",
    "    if x >= y:\n",
    "        if str(x) in z:\n",
    "            return True \n",
    "        elif str(y) not in z:\n",
    "            return False \n",
    "        else:\n",
    "            return False \n",
    "    else:\n",
    "        if str(x) in z:\n",
    "            return False \n",
    "        elif str(y) not in z:\n",
    "            return True \n",
    "        else:\n",
    "            return False"
   ]
  },
  {
   "cell_type": "code",
   "execution_count": null,
   "metadata": {},
   "outputs": [],
   "source": [
    "def example1(x: int, y: int, z: str) -> bool:\n",
    "    ..."
   ]
  },
  {
   "cell_type": "markdown",
   "metadata": {},
   "source": [
    "Simplify the following function so that there is NO any if statements."
   ]
  },
  {
   "cell_type": "code",
   "execution_count": null,
   "metadata": {},
   "outputs": [],
   "source": [
    "def example2(n: int) -> bool: \n",
    "    if n % 2 == 0: \n",
    "        if n % 3 == 1:\n",
    "            return True \n",
    "        else: \n",
    "            return False\n",
    "    elif n <= 4: \n",
    "        if n < 0: \n",
    "            return True\n",
    "        else: \n",
    "            return False \n",
    "    else: \n",
    "        if n % 3 == 1: \n",
    "            return False \n",
    "        else: \n",
    "            return True"
   ]
  },
  {
   "cell_type": "code",
   "execution_count": null,
   "metadata": {},
   "outputs": [],
   "source": [
    "def example2(n: int) -> bool:\n",
    "    ..."
   ]
  },
  {
   "cell_type": "markdown",
   "metadata": {},
   "source": [
    "Simplify the following function so that there is NO any if statements."
   ]
  },
  {
   "cell_type": "code",
   "execution_count": null,
   "metadata": {},
   "outputs": [],
   "source": [
    "def example3(c1: int, c2: int, c3: int) -> bool:\n",
    "    if c1 == c2:\n",
    "        return False\n",
    "    elif c1 > c2:\n",
    "        if c3 <= c2:\n",
    "            return False \n",
    "        else:\n",
    "            return True \n",
    "    else:\n",
    "        if c2 < c3:\n",
    "            return True \n",
    "        else:\n",
    "            return False"
   ]
  },
  {
   "cell_type": "code",
   "execution_count": null,
   "metadata": {},
   "outputs": [],
   "source": [
    "def example3(c1: int, c2: int, c3: int) -> bool:\n",
    "    ..."
   ]
  },
  {
   "cell_type": "markdown",
   "metadata": {},
   "source": [
    "# `題型 1` lookup (stopping early)"
   ]
  },
  {
   "cell_type": "markdown",
   "metadata": {},
   "source": [
    "Return `True` if and only if `text` does not contain any vowels."
   ]
  },
  {
   "cell_type": "code",
   "execution_count": null,
   "metadata": {},
   "outputs": [],
   "source": [
    "def no_vowels(text: str) -> bool:\n",
    "    for ch in text:\n",
    "        if ch in 'aeiouAEIOU':\n",
    "            return False\n",
    "    return True\n",
    "        \n",
    "\n",
    "print(no_vowels('xyz'))         # True\n",
    "print(no_vowels('Vincent'))     # False"
   ]
  },
  {
   "cell_type": "markdown",
   "metadata": {},
   "source": [
    "Return `True` if and only if `s` contains a numeric character."
   ]
  },
  {
   "cell_type": "code",
   "execution_count": null,
   "metadata": {},
   "outputs": [],
   "source": [
    "def contains_number(text: str) -> bool:\n",
    "    ...\n",
    "\n",
    "print(contains_number('mgt201'))         # True\n",
    "print(contains_number('vincent'))       # False"
   ]
  },
  {
   "cell_type": "markdown",
   "metadata": {},
   "source": [
    "Return `True` iff `s` is a valid phone number.\n",
    "\n",
    "For our purposes, a phone number is a string of 10 or more characters, and contains only digits, spaces, and dashes (`'-'`)."
   ]
  },
  {
   "cell_type": "code",
   "execution_count": null,
   "metadata": {},
   "outputs": [],
   "source": [
    "def is_valid_phone_number(s: str) -> bool:\n",
    "    if len(s) < 10:\n",
    "        return False\n",
    "    \n",
    "    for ch in s:\n",
    "        if not ch.isdigit() or ch not in ' -':\n",
    "            return False\n",
    "    return True\n",
    "\n",
    "print(is_valid_phone_number('416 123-4567'))    # True\n",
    "print(is_valid_phone_number('416 EAT-CAKE'))    # True\n",
    "print(is_valid_phone_number('44 1908 640404'))  # True\n",
    "print(is_valid_phone_number('416 978'))         # True"
   ]
  },
  {
   "cell_type": "markdown",
   "metadata": {},
   "source": [
    "Return `True` if and only if `s` has 3 digits that appear consecutively (i.e., next to each other) in `s`, and `False` otherwise."
   ]
  },
  {
   "cell_type": "code",
   "execution_count": null,
   "metadata": {},
   "outputs": [],
   "source": [
    "def has_3_consecutive_digits(s: str) -> bool:\n",
    "    \n",
    "    for i in range(len(s) - 2):\n",
    "        if s[i:i+3].isdigit():\n",
    "            return True\n",
    "    return False\n",
    "\n",
    "print(has_3_consecutive_digits('abc135xyz'))    # True\n",
    "print(has_3_consecutive_digits('a1b2c3'))       # False"
   ]
  },
  {
   "cell_type": "markdown",
   "metadata": {},
   "source": [
    "Return `True` if and only if `word` is a palindrome i.e. if word reads the same backward and forward."
   ]
  },
  {
   "cell_type": "code",
   "execution_count": null,
   "metadata": {},
   "outputs": [],
   "source": [
    "def is_palindrome(word: str) -> bool:\n",
    "    ...\n",
    "\n",
    "\n",
    "print(is_palindrome('racecar'))     # True\n",
    "print(is_palindrome('letter'))      # False"
   ]
  },
  {
   "cell_type": "markdown",
   "metadata": {},
   "source": [
    "We will now consider a more general definition of a palindrome. In this definition spaces, case, and punctuation are ignored. For example, `A Man, A Plan, A Canal: Panama!` is now considered a palindrome.\n",
    "\n",
    "We will consider only the following characters as punctuation: `. , : ; ? !` as well as a `space character`. Implement the function below. You must use the function `is_palindrome` in your solution.\n"
   ]
  },
  {
   "cell_type": "code",
   "execution_count": null,
   "metadata": {},
   "outputs": [],
   "source": [
    "def is_real_palindrome(text: str) -> bool:\n",
    "    ...\n",
    "\n",
    "print(is_real_palindrome(''))                                   # True\n",
    "print(is_real_palindrome('A Man, A Plan, A Canal: Panama!'))    # True\n",
    "print(is_real_palindrome('not at all'))                         # False"
   ]
  },
  {
   "cell_type": "markdown",
   "metadata": {},
   "source": [
    "Return the index of the first digit in `text`. If there is not digit, return the length of `text`."
   ]
  },
  {
   "cell_type": "code",
   "execution_count": null,
   "metadata": {},
   "outputs": [],
   "source": [
    "def find_first_digit(text: str) -> int:\n",
    "    ...\n",
    "\n",
    "print(find_first_digit('mgt201 is easy'))   # 3\n",
    "print(find_first_digit('vincent'))          # 7"
   ]
  },
  {
   "cell_type": "markdown",
   "metadata": {},
   "source": [
    "Return a copy of `nums` but only contains the item before the first occurrence of `key` (excluded)."
   ]
  },
  {
   "cell_type": "code",
   "execution_count": null,
   "metadata": {},
   "outputs": [],
   "source": [
    "def before(nums: list[int], key: int) -> list[int]:\n",
    "    ...\n",
    "\n",
    "\n",
    "print(before([1, 5, 3, 4, 7, 9, 4], 4))  # [1, 5, 3]"
   ]
  },
  {
   "cell_type": "markdown",
   "metadata": {},
   "source": [
    "# `題型2` Accumulate"
   ]
  },
  {
   "cell_type": "markdown",
   "metadata": {},
   "source": [
    "Return the number of vowels in `s`."
   ]
  },
  {
   "cell_type": "code",
   "execution_count": null,
   "metadata": {},
   "outputs": [],
   "source": [
    "def count_vowels(s: str) -> int:\n",
    "    ...\n",
    "\n",
    "print(count_vowels(\"Vincent\"))              # 2\n",
    "print(count_vowels(\"I like programming\"))   # 6"
   ]
  },
  {
   "cell_type": "markdown",
   "metadata": {},
   "source": [
    "Return the number of vowels in `lst`."
   ]
  },
  {
   "cell_type": "code",
   "execution_count": null,
   "metadata": {},
   "outputs": [],
   "source": [
    "def count_total_vowels(lst: list[str]) -> int:\n",
    "    ...\n",
    "\n",
    "print(count_total_vowels(['Vincent', 'I like programming', 'apple']))   # 8"
   ]
  },
  {
   "cell_type": "markdown",
   "metadata": {},
   "source": [
    "Return `True` iff all items of `lst` start with the same letter as `word`.\n",
    "\n",
    "Precondition: `len(lst) >= 1 and len(word) >= 1`"
   ]
  },
  {
   "cell_type": "code",
   "execution_count": null,
   "metadata": {},
   "outputs": [],
   "source": [
    "def start_with_same(lst: list[str], word: str) -> bool:\n",
    "    ...\n",
    "\n",
    "print(start_with_same(['my', 'midterm'], 'maybe'))          # True\n",
    "print(start_with_same(['abc', 'def', 'cab'], 'apple'))      # False"
   ]
  },
  {
   "cell_type": "markdown",
   "metadata": {},
   "source": [
    "Return the number of words from `word_list` for which all items of `lst` start with the same letter as the word."
   ]
  },
  {
   "cell_type": "code",
   "execution_count": null,
   "metadata": {},
   "outputs": [],
   "source": [
    "def count_start_with_same(lst: list[str], word_lst: list[str]) -> int:\n",
    "    ...\n",
    "\n",
    "print(start_with_same(['my', 'midterm'], ['maybe', 'mine', 'monster']))     # 3\n",
    "print(start_with_same(['my', 'midterm', 'max'], ['maybe', 'no']))           # 1"
   ]
  },
  {
   "cell_type": "markdown",
   "metadata": {},
   "source": [
    "Return `True` iff `s` contains an even number of the character `ch`.\n",
    "\n",
    "Precondition: `s` contains at least one occurrence of `ch`"
   ]
  },
  {
   "cell_type": "code",
   "execution_count": null,
   "metadata": {},
   "outputs": [],
   "source": [
    "def has_even_num_of_char(s: str, ch: str) -> bool:\n",
    "    ...\n",
    "\n",
    "print(has_even_num_of_char('hello', 'l'))   # True\n",
    "print(has_even_num_of_char('hello', 'e'))   # False"
   ]
  },
  {
   "cell_type": "markdown",
   "metadata": {},
   "source": [
    "Return the sum of all the even number in `lst`."
   ]
  },
  {
   "cell_type": "code",
   "execution_count": null,
   "metadata": {},
   "outputs": [],
   "source": [
    "def sum_even(lst: list[int]) -> int:\n",
    "    ...\n",
    "\n",
    "print(sum_even([1, 5, 2, 4, 6]))    # 12"
   ]
  },
  {
   "cell_type": "markdown",
   "metadata": {},
   "source": [
    "Return the sum of the numeric values of all digit characters in `phrase`. If `phrase` is an empty string return zero."
   ]
  },
  {
   "cell_type": "code",
   "execution_count": null,
   "metadata": {},
   "outputs": [],
   "source": [
    "def sum_of_digits(phrase: str) -> int:\n",
    "    ...\n",
    "\n",
    "print(sum_of_digits('18'))      # 9 \n",
    "print(sum_of_digits('MGT201'))  # 3\n",
    "print(sum_of_digits('Anya'))    # 0"
   ]
  },
  {
   "cell_type": "markdown",
   "metadata": {},
   "source": [
    "Return the string `'odd'` if the sum of all digits in odd indices of `phrase` is larger than sum of all digits in even indices. If the sums are equal return the string `'equal'` and otherwise return the string `'even'`\n",
    "\n",
    "You must use the `sum_of_digits` in your solution"
   ]
  },
  {
   "cell_type": "code",
   "execution_count": null,
   "metadata": {},
   "outputs": [],
   "source": [
    "def compare_sums(phrase: str) -> str:\n",
    "    ...\n",
    "\n",
    "\n",
    "print(compare_sums('MGT201'))   # odd\n",
    "print(compare_sums('1'))        # even\n",
    "print(compare_sums(''))         # equal"
   ]
  },
  {
   "cell_type": "markdown",
   "metadata": {},
   "source": [
    "Return a copy of `s` but with all the vowel removed."
   ]
  },
  {
   "cell_type": "code",
   "execution_count": null,
   "metadata": {},
   "outputs": [],
   "source": [
    "def remove_vowel(s: str) -> str:\n",
    "    res = ''\n",
    "\n",
    "    for ch in s:\n",
    "        if ch not in 'aeiouAEIOU':\n",
    "            res += ch\n",
    "    return res\n",
    "\n",
    "print(remove_vowel(\"Vincent\"))              # 'Vncnt'\n",
    "print(remove_vowel(\"I like Programming\"))   # ' lk Prgrmmng'"
   ]
  },
  {
   "cell_type": "markdown",
   "metadata": {},
   "source": [
    "Return a new integer but with all the even number digit removed \n",
    "\n",
    "Precondition: `n` contains at least one odd digit"
   ]
  },
  {
   "cell_type": "code",
   "execution_count": null,
   "metadata": {},
   "outputs": [],
   "source": [
    "def remove_even_digit(n: int) -> int:\n",
    "    \n",
    "    res = ''\n",
    "    for d in str(n):\n",
    "        if int(d) % 2 != 0:\n",
    "            res += d\n",
    "\n",
    "    return int(res)\n",
    "\n",
    "print(remove_even_digit(5201314))   # 5131"
   ]
  },
  {
   "cell_type": "markdown",
   "metadata": {},
   "source": [
    "Return a new string that contains all lowercase letters from `s` followed by all digits from `s`. The characters in the new string must appear in the same order as in `s`."
   ]
  },
  {
   "cell_type": "code",
   "execution_count": null,
   "metadata": {},
   "outputs": [],
   "source": [
    "def shuffle(s: str) -> str:\n",
    "    ...\n",
    "\n",
    "print(shuffle('416toronto'))    # toronto416\n",
    "print(shuffle('416yyz780yeg'))  # yyzyeg416780"
   ]
  },
  {
   "cell_type": "markdown",
   "metadata": {},
   "source": [
    "Return a list of every element in the sublists of `lst` that are even."
   ]
  },
  {
   "cell_type": "code",
   "execution_count": null,
   "metadata": {},
   "outputs": [],
   "source": [
    "def even_only(lst: list[list[int]]) -> list[int]:\n",
    "    # 創建一個空的列表\n",
    "    res = []\n",
    "    # 循環 lst 每個 item (sublist)\n",
    "    for sublst in lst:\n",
    "        # 循環 每一個 item (sublist) 裡的每一個數字\n",
    "        for n in sublst:\n",
    "            # 如果數字是偶數\n",
    "            if n % 2 == 0:\n",
    "                # 加入到列表裡\n",
    "                res.append(n)   # res += [n]\n",
    "\n",
    "    # 返回列表\n",
    "    return res\n",
    "print(even_only([[1, 2, 3], [7, 8, 9], [4, 62]]))   # [2, 8, 4, 62]"
   ]
  },
  {
   "cell_type": "markdown",
   "metadata": {},
   "source": [
    "Return a string that consists of every pair of characters taken from the back and front of `word`, i.e. the new string would consist of the last and first characters of `word`, followed by the second last and second characters of `word`, and so on, until the midpoint of `word` is reached."
   ]
  },
  {
   "cell_type": "code",
   "execution_count": null,
   "metadata": {},
   "outputs": [],
   "source": [
    "def pair_back_and_front(word: str) -> str:\n",
    "    ...\n",
    "\n",
    "print(pair_back_and_front('computer'))  # rceotmup\n",
    "print(pair_back_and_front('first'))     # tfsir"
   ]
  },
  {
   "cell_type": "markdown",
   "metadata": {},
   "source": [
    "Return the longest name in `names`."
   ]
  },
  {
   "cell_type": "code",
   "execution_count": null,
   "metadata": {},
   "outputs": [],
   "source": [
    "def find_longest(names: list[str]) -> str:\n",
    "    ...\n",
    "\n",
    "print(find_longest(['alice', 'bob', 'vincent', 'coral']))  # vincent"
   ]
  },
  {
   "cell_type": "markdown",
   "metadata": {},
   "source": [
    "Return `text` with all leading and trialing non-alphanumeric characters Removed."
   ]
  },
  {
   "cell_type": "code",
   "execution_count": null,
   "metadata": {},
   "outputs": [],
   "source": [
    "def clean_text(text: str) -> str:\n",
    "    ...\n",
    "\n",
    "\n",
    "print(clean_text('  ? 42mgt201:    !'))     # 42mgt201\n",
    "print(clean_text(' # 123 abc 5?67?   '))    # 123 abc 5?67"
   ]
  },
  {
   "cell_type": "markdown",
   "metadata": {},
   "source": [
    "Return a new string that is the result of merging `s1` and `s2`. \n",
    "\n",
    "Precondition: `s1` and `s2` are sorted in increasing order"
   ]
  },
  {
   "cell_type": "code",
   "execution_count": null,
   "metadata": {},
   "outputs": [],
   "source": [
    "def merge(s1: str, s2: str) -> str:\n",
    "    ...\n",
    "\n",
    "\n",
    "print(merge('begij', 'acdfh'))      # abcdefghij"
   ]
  },
  {
   "cell_type": "markdown",
   "metadata": {},
   "source": [
    "# `題型 3` Parallel"
   ]
  },
  {
   "cell_type": "markdown",
   "metadata": {},
   "source": [
    "Return the number of position in which `s1`, `s2`, and `s3` match.\n",
    "\n",
    "Precondition: `len(s1) == len(s2) == len(s3)`"
   ]
  },
  {
   "cell_type": "code",
   "execution_count": null,
   "metadata": {},
   "outputs": [],
   "source": [
    "def match(s1: str, s2: str, s3: str) -> int:\n",
    "    ...\n",
    "\n",
    "print(match('cat', 'bat', 'hat'))    # 2\n",
    "print(match('cat', 'dog', 'log'))    # 0"
   ]
  },
  {
   "cell_type": "markdown",
   "metadata": {},
   "source": [
    "Return a new string where each character is a character from either `s1` or `s2` chosen based on `selection`. `selection` is made up of 1s and 2s and indicates whether the character at the corresponding position of the new string should be from that position in `s1` or that position in `s2`.\n",
    "\n",
    "Precondition: `len(s1) == len(s2) == len(selection)`"
   ]
  },
  {
   "cell_type": "code",
   "execution_count": null,
   "metadata": {},
   "outputs": [],
   "source": [
    "def select_characters(s1: str, s2: str, selection: str) -> str:\n",
    "    ...\n",
    "\n",
    "\n",
    "print(select_characters('coat', 'hard', '1221'))    # cart\n",
    "print(select_characters('pizza', 'hints', '11222')) # pints"
   ]
  },
  {
   "cell_type": "markdown",
   "metadata": {},
   "source": [
    "# Mutating List"
   ]
  },
  {
   "cell_type": "markdown",
   "metadata": {},
   "source": [
    "Return a copy of `num_list` but with every number squared"
   ]
  },
  {
   "cell_type": "code",
   "execution_count": null,
   "metadata": {},
   "outputs": [],
   "source": [
    "def square_it(num_list: list[int]) -> list[int]:\n",
    "    ...\n",
    "\n",
    "print(square_it([2, 3, 4]))     # [4, 9, 16]"
   ]
  },
  {
   "cell_type": "markdown",
   "metadata": {},
   "source": [
    "Modify `num_list` so that every number is squared."
   ]
  },
  {
   "cell_type": "code",
   "execution_count": null,
   "metadata": {},
   "outputs": [],
   "source": [
    "def square_it(num_list: list[int]) -> None:\n",
    "    ...\n",
    "\n",
    "l = [2, 3, 4]\n",
    "square_it(l)\n",
    "print(l)        \n",
    "# [4, 9, 16]"
   ]
  },
  {
   "cell_type": "markdown",
   "metadata": {},
   "source": [
    "Remove all the duplicated value of `x` in `L`, except the first occurrence."
   ]
  },
  {
   "cell_type": "code",
   "execution_count": null,
   "metadata": {},
   "outputs": [],
   "source": [
    "def remove_duplicates(L: list[int], x: int) -> None:\n",
    "    ...\n",
    "\n",
    "l = [2, 6, 3, 6, 4, 6, 6, 7]\n",
    "remove_duplicates(l, 6)\n",
    "print(l)\n",
    "# [2, 6, 3, 4, 7]"
   ]
  }
 ],
 "metadata": {
  "kernelspec": {
   "display_name": "Python 3.10.5 64-bit",
   "language": "python",
   "name": "python3"
  },
  "language_info": {
   "name": "python",
   "version": "3.11.1 (v3.11.1:a7a450f84a, Dec  6 2022, 15:24:06) [Clang 13.0.0 (clang-1300.0.29.30)]"
  },
  "orig_nbformat": 4,
  "vscode": {
   "interpreter": {
    "hash": "aee8b7b246df8f9039afb4144a1f6fd8d2ca17a180786b69acc140d282b71a49"
   }
  }
 },
 "nbformat": 4,
 "nbformat_minor": 2
}

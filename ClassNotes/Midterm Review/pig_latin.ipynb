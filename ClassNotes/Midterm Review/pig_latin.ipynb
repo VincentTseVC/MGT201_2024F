{
 "cells": [
  {
   "cell_type": "markdown",
   "metadata": {},
   "source": [
    "Write a function that translates words into pig latin. \n",
    "\n",
    "RULES OF PIGLATIN\n",
    "\n",
    "- Words beginning with a vowel, have `'way'` put on the end (`'one'` becomes `'oneway'`)\n",
    "\n",
    "- Words with no vowels, have `'ay'` put on the end (`'xkcd'` becomes `'xkcday'`)\n",
    "\n",
    "- All other words have all of the letters before the first vowel moved to the end, <br/>and `'ay'` put on the end (`'brian'` becomes `'ianbray'`)\n",
    "\n",
    "- The code only works with lower case letters"
   ]
  },
  {
   "cell_type": "code",
   "execution_count": null,
   "metadata": {},
   "outputs": [],
   "source": [
    "def pig_latin(word):\n",
    "    if word[0] in 'aeiou':\n",
    "        return word + 'way'\n",
    "    else:\n",
    "        for i in range(1, len(word)):\n",
    "            if word[i] in 'aeiou':\n",
    "                return word[i:] + word[:i] + 'ay'\n",
    "        return word + 'ay'\n",
    "\n",
    "\n",
    "def pig_latin(word):\n",
    "    if word[0] in 'aeiou':\n",
    "        res = word + 'w'\n",
    "    else:\n",
    "        for i in range(1, len(word)):\n",
    "            if word[i] in 'aeiou':\n",
    "                break\n",
    "        res = word[i:] + word[:i]\n",
    "    \n",
    "    return res + 'ay'\n"
   ]
  },
  {
   "cell_type": "markdown",
   "metadata": {},
   "source": [
    "Write a program that translate the file `story.txt` to pig latin and save it to `p_story.txt`"
   ]
  },
  {
   "cell_type": "code",
   "execution_count": null,
   "metadata": {},
   "outputs": [],
   "source": [
    "f = open('story.txt', 'r')\n",
    "lines = f.readlines()\n",
    "f.close()\n",
    "\n",
    "f = open('p_story.txt', 'w')\n",
    "for line in lines:\n",
    "    word_list = line.strip(\"\\n\").split(' ')\n",
    "    for word in word_list:\n",
    "        new_word = pig_latin(word)\n",
    "        f.write(new_word + \" \")\n",
    "    f.write(\"\\n\")\n",
    "f.close()"
   ]
  },
  {
   "cell_type": "code",
   "execution_count": 7,
   "metadata": {},
   "outputs": [
    {
     "name": "stdout",
     "output_type": "stream",
     "text": [
      "MYTOM\n",
      "OMMY\n",
      "\n",
      "\n"
     ]
    }
   ],
   "source": [
    "#    01234\n",
    "s = \"TOMMY\"\n",
    "print(s[3:] + s[:3])\n",
    "print(s[1:99])\n",
    "print(s[99:1])\n",
    "\n",
    "\n",
    "print(s[:5] + s[5:])\n",
    "\n",
    "\n",
    "\n",
    "# -----------------\n",
    "#   1          99 -> \n"
   ]
  },
  {
   "cell_type": "code",
   "execution_count": 2,
   "metadata": {},
   "outputs": [
    {
     "name": "stdout",
     "output_type": "stream",
     "text": [
      "0\n",
      "1\n",
      "3\n",
      "4\n",
      "5\n",
      "6\n",
      "7\n",
      "8\n",
      "9\n"
     ]
    }
   ],
   "source": [
    "for i in range(10):\n",
    "    if i == 2:\n",
    "        # break\n",
    "        continue\n",
    "    print(i)\n",
    "    "
   ]
  }
 ],
 "metadata": {
  "kernelspec": {
   "display_name": "Python 3.10.5 64-bit",
   "language": "python",
   "name": "python3"
  },
  "language_info": {
   "codemirror_mode": {
    "name": "ipython",
    "version": 3
   },
   "file_extension": ".py",
   "mimetype": "text/x-python",
   "name": "python",
   "nbconvert_exporter": "python",
   "pygments_lexer": "ipython3",
   "version": "3.11.1"
  },
  "orig_nbformat": 4,
  "vscode": {
   "interpreter": {
    "hash": "aee8b7b246df8f9039afb4144a1f6fd8d2ca17a180786b69acc140d282b71a49"
   }
  }
 },
 "nbformat": 4,
 "nbformat_minor": 2
}

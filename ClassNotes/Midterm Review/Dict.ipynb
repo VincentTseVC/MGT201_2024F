{
 "cells": [
  {
   "cell_type": "markdown",
   "metadata": {},
   "source": [
    "Return a dictionary whose keys are the members of all clubs in `clubs_to_members`, and whose values are the lists of clubs to which that member belongs."
   ]
  },
  {
   "cell_type": "code",
   "execution_count": null,
   "metadata": {},
   "outputs": [],
   "source": [
    "def get_membership(clubs_to_members: dict[str, list[str]]) -> dict[str, list[str]]:\n",
    "    ...\n",
    "\n",
    "\n",
    "\n",
    "clubs_to_members = {\n",
    "    'programming': ['Brian', 'Nick', 'Paco'], \n",
    "    'games': ['Paco', 'Brian'], 'food': ['Paco'], 'homework': []\n",
    "}\n",
    "\n",
    "members_to_clubs = get_membership(clubs_to_members)\n",
    "print(members_to_clubs)\n",
    "# {'Paco': ['food', 'games', 'programming'], \n",
    "#  'Brian': ['games', 'programming'], \n",
    "#  'Nick': ['programming']}"
   ]
  },
  {
   "cell_type": "markdown",
   "metadata": {},
   "source": [
    "Return `True` iff the quantity (dict value) of every item (dict key) in `inventory_dict` is greater than or equal to the quantity of the item ordered in `order_dict`.\n",
    "\n",
    "If an item in `order_dict` is not in `inventory_dict`, return `False`."
   ]
  },
  {
   "cell_type": "code",
   "execution_count": null,
   "metadata": {},
   "outputs": [],
   "source": [
    "def can_fill_order(order_dict: dict[str, str], inventory_dict: dict[str, int]) -> bool:\n",
    "    needed = {}\n",
    "    for item in order_dict.values():\n",
    "        \n",
    "        # if item not in needed:\n",
    "        #     needed[item] = 0\n",
    "        # needed[item] += 1\n",
    "\n",
    "        if item in needed:\n",
    "            needed[item] += 1\n",
    "        else:\n",
    "            needed[item] = 1\n",
    "\n",
    "    for item in needed:\n",
    "        if item not in inventory_dict:\n",
    "            return False\n",
    "        \n",
    "        if inventory_dict[item] < needed[item]:\n",
    "            return False\n",
    "    \n",
    "    return True\n",
    "\n",
    "inventory = {'shirt': 2, 'mug': 2}\n",
    "print(can_fill_order({'Ann': 'mug', 'Bob': 'mug', 'Lee': 'mug'}, inventory))    # False\n",
    "print(can_fill_order({'Ann': 'shirt', 'Bob': 'mug', 'Lee': 'mug'}, inventory))  # True\n",
    "print(can_fill_order({'Ann': 'mug', 'Bob': 'mug', 'Lee': 'hat'}, inventory))    # False"
   ]
  },
  {
   "cell_type": "markdown",
   "metadata": {},
   "source": [
    "Return a dictionary where the keys are the individual words in `text`, and the values are the positions in the `text` where the words occur (starting at 1).\n",
    "\n",
    "Include punctuation and numbers in words, and convert alphabetic characters to lowercase."
   ]
  },
  {
   "cell_type": "code",
   "execution_count": 6,
   "metadata": {},
   "outputs": [
    {
     "name": "stdout",
     "output_type": "stream",
     "text": [
      "{'cats': [1, 2, 3], 'cats!!!': [4]}\n",
      "{'i': [1, 3], 'think': [2], 'like': [4], 'mgt201.': [5]}\n"
     ]
    }
   ],
   "source": [
    "def get_positions(text: str) -> dict[str, list[int]]:\n",
    "    res = {}\n",
    "    lst = text.lower().split(\" \")\n",
    "    for i in range(len(lst)):\n",
    "        s = lst[i]\n",
    "\n",
    "        if s in res:\n",
    "            res[s].append(i+1)\n",
    "        else:\n",
    "            res[s] = [ i+1 ] \n",
    "    return res        \n",
    "\n",
    "print(get_positions('cats Cats CATS CATS!!!')) \n",
    "# {'cats': [1, 2, 3], 'cats!!!': [4]}\n",
    "print(get_positions('I think I like MGT201.'))\n",
    "# {'i': [1, 3], 'think': [2], 'like': [4], 'mgt201.': [5]}"
   ]
  },
  {
   "cell_type": "markdown",
   "metadata": {},
   "source": [
    "Return a dictionary where the keys are continents from `continent_info` and the values are the total population of all cities on that continent."
   ]
  },
  {
   "cell_type": "code",
   "execution_count": 7,
   "metadata": {},
   "outputs": [
    {
     "name": "stdout",
     "output_type": "stream",
     "text": [
      "{'North America': 21600, 'Asia': 15456, 'Antarctica': 0}\n"
     ]
    }
   ],
   "source": [
    "def find_population(continent_info: dict[str, dict[str, dict[str, int]]]) -> dict[str,int]:\n",
    "    res = {}\n",
    "    for continent in continent_info:\n",
    "        res[continent] = 0\n",
    "        for country in continent_info[continent]:\n",
    "            res[continent] += sum(continent_info[continent][country].values())\n",
    "            # for city in continent_info[continent][country]:\n",
    "            #     res[continent] += continent_info[continent][country][city]\n",
    "\n",
    "    return res\n",
    "\n",
    "data = {\n",
    "    'North America': {\n",
    "        'Canada': {'Toronto': 5000, 'Ottawa': 200}, \n",
    "        'USA': {'Portland': 400, 'New York': 5000, 'Chicago': 1000},\n",
    "        'Mexico': {'Mexico City': 10000}},\n",
    "    'Asia': {\n",
    "        'Thailand': {'Bangkok': 456}, \n",
    "        'Japan': {'Tokyo': 10000, 'Osaka': 5000}},\n",
    "    'Antarctica': {}\n",
    "}\n",
    "\n",
    "print(find_population(data))\n",
    "# {'North America': 21600, 'Asia': 15456, 'Antarctica': 0}"
   ]
  },
  {
   "cell_type": "markdown",
   "metadata": {},
   "source": [
    "Return a dictionary based on the data in walks where the keys are dog names; the values are dictionaries where the keys are dog walker names and the values are the total distance that walker walked a particular dog.\n",
    "\n",
    "`walks` is a list of tuples, where each tuple has the form \n",
    "\n",
    "`<dog name>, <walker name>, <distance walked>` representing a single walk."
   ]
  },
  {
   "cell_type": "code",
   "execution_count": null,
   "metadata": {},
   "outputs": [],
   "source": [
    "def organize_walks(walks: list[tuple[str, str, int]]) -> dict[str, dict[str, int]]:\n",
    "    res = {}\n",
    "\n",
    "    for dog, walker, dist in walks:\n",
    "\n",
    "        if dog not in res:\n",
    "            res[dog] = {}\n",
    "        \n",
    "        if walker not in res[dog]:\n",
    "            res[dog][walker] = 0\n",
    "\n",
    "        res[dog][walker] += dist\n",
    "\n",
    "    return res\n",
    "\n",
    "\n",
    "print(organize_walks([('Uli', 'Jeff', 3), ('Uli', 'Jeff', 5)]))\n",
    "# {'Uli': {'Jeff': 8}}\n",
    "\n",
    "organize_walks([('Felix', 'Bob', 5), ('Fido', 'Bob', 2), \n",
    "                ('Felix', 'Bob', 3), ('Fluffy', 'Ann', 10), \n",
    "                ('Felix', 'Ann', 1), ('Fluffy', 'Ann', 10)])\n",
    "# {'Felix': {'Bob': 8, 'Ann': 1}, 'Fido': {'Bob': 2}, 'Fluffy': {'Ann': 20}}"
   ]
  },
  {
   "cell_type": "markdown",
   "metadata": {},
   "source": [
    "Copy the contents of `input_file` to `output_file` If any word in `input_file` is in `CENSORED_WORDS`, replace it with `'****'`"
   ]
  },
  {
   "cell_type": "code",
   "execution_count": null,
   "metadata": {},
   "outputs": [],
   "source": [
    "from typing import TextIO\n",
    "\n",
    "CENSORED_WORDS = ['shit', 'fuck', 'butt', 'dick']\n",
    "def mad_lib(input_file: TextIO, output_file: TextIO) -> None:\n",
    "    ...\n",
    "\n",
    "\n",
    "\n",
    "input_file = open(\"input_file.txt\", \"r\")\n",
    "output_file = open(\"output_file.txt\", \"w\") \n",
    "mad_lib(input_file, output_file) \n",
    "input_file.close() \n",
    "output_file.close()"
   ]
  },
  {
   "attachments": {},
   "cell_type": "markdown",
   "metadata": {},
   "source": [
    "\n",
    "In a play, the lines each character speaks have the following format:\n",
    "\n",
    "\n",
    "`[CHARACTER_NAME] first line of dialog`<br/>\n",
    "&nbsp;&nbsp;&nbsp;&nbsp;&nbsp;&nbsp;&nbsp;&nbsp;&nbsp;\n",
    "`additional lines of dialog (0 or more)`\n",
    "\n",
    "\n",
    "A ﬁle representing a play will contain character dialog formatted as above.<br/> \n",
    "Here is an example from Shakespeare’s *Antony and Cleopatra*:\n",
    "\n",
    "`[CLEOPATRA] I am sick and sullen.`<br/>\n",
    "`[MARK ANTONY] I am sorry`<br/>&nbsp;&nbsp;&nbsp;&nbsp;&nbsp;&nbsp;&nbsp;&nbsp;&nbsp;\n",
    "`to give breathing`<br/>&nbsp;&nbsp;&nbsp;&nbsp;&nbsp;&nbsp;&nbsp;&nbsp;&nbsp;\n",
    "`to my purpose,--`<br/>\n",
    "`[CLEOPATRA] Help me away,`<br/>&nbsp;&nbsp;&nbsp;&nbsp;&nbsp;&nbsp;&nbsp;&nbsp;&nbsp;\n",
    "`dear Charmian; I shall fall:`<br/>&nbsp;&nbsp;&nbsp;&nbsp;&nbsp;&nbsp;&nbsp;&nbsp;&nbsp; `It cannot be thus long,`<br/>&nbsp;&nbsp;&nbsp;&nbsp;&nbsp;&nbsp;&nbsp;&nbsp;&nbsp;\n",
    "`the sides of nature`<br/>&nbsp;&nbsp;&nbsp;&nbsp;&nbsp;&nbsp;&nbsp;&nbsp;&nbsp;\n",
    "`Will not sustain it.`<br>\n",
    "`[MARK ANTONY] Now,`<br/>&nbsp;&nbsp;&nbsp;&nbsp;&nbsp;&nbsp;&nbsp;&nbsp;&nbsp;\n",
    "`my dearest queen,--`<br/>\n",
    "`[CLEOPATRA] Pray you,`<br/>&nbsp;&nbsp;&nbsp;&nbsp;&nbsp;&nbsp;&nbsp;&nbsp;&nbsp;\n",
    "`stand further from me.`<br/>&nbsp;&nbsp;&nbsp;&nbsp;&nbsp;&nbsp;&nbsp;&nbsp;&nbsp;  \n",
    "`[MARK ANTONY] What's the matter?`<br/>\n",
    "\n",
    "In this question, you will write a function that reads a ﬁle containing lines from a play in this format. <br/>\n",
    "Some things you can assume:\n",
    "\n",
    "- Square brackets are never used except to mark a `CHARACTER_NAME`.\n",
    "- `CHARACTER_NAME`s may be any case, but will have consistent case throughout the ﬁle.\n",
    "- There are no blank lines.\n",
    "- There will always be a non-empty ﬁrst line of dialog.\n",
    "\n",
    "Assume the the file is called `play.txt`\n"
   ]
  },
  {
   "cell_type": "code",
   "execution_count": null,
   "metadata": {},
   "outputs": [],
   "source": [
    "def read_lines(play: TextIO, character: str) -> list[str]:\n",
    "\n",
    "    res = []\n",
    "\n",
    "    lines = play.readlines()\n",
    "    # lines.append('[')\n",
    "\n",
    "    name = ''\n",
    "\n",
    "    for line in lines:\n",
    "        line = line.strip()\n",
    "        if line[0] == '[':\n",
    "            \n",
    "            if name == character:\n",
    "                res.append(dialog)\n",
    "\n",
    "            name = line[1:line.find(']')]\n",
    "            dialog = line[line.find(']') + 2:]\n",
    "        else:\n",
    "            dialog += \" \" + line\n",
    "\n",
    "    if name == character:\n",
    "        res.append(dialog)\n",
    "\n",
    "\n",
    "file = open('play.txt', 'r')\n",
    "print(read_lines(file, 'MARK ANTONY'))\n",
    "file.close()\n",
    "# ['I am sorry to give breathing to my purpose,--',\n",
    "#  'Now, my dearest queen,--', \n",
    "#  'What's the matter?']"
   ]
  },
  {
   "cell_type": "markdown",
   "metadata": {},
   "source": [
    "Consider a CSV file `exams.csv` in exam time table format. \n",
    "\n",
    "Complete the following functions. You may assume that any files read are already open.\n",
    "\n",
    "`Code,Date,Time`<br/>\n",
    "`CSC108,2021-12-19,14:00`<br/>\n",
    "`CSC110,2021-12-19,14:00`<br/>\n",
    "`MAT137,2021-12-07,14:00`<br/>\n",
    "`MAT223,2021-12-18,9:00`<br/>"
   ]
  },
  {
   "cell_type": "markdown",
   "metadata": {},
   "source": [
    "`part a)`<br/>\n",
    "Given an open csv file in exam time table format, return a course dictionary where each key is a course and each corresponding value is a list [date, time]."
   ]
  },
  {
   "cell_type": "code",
   "execution_count": null,
   "metadata": {},
   "outputs": [],
   "source": [
    "def create_course_dict(filename: str) -> dict:\n",
    "    f = open(filename, 'r')\n",
    "    lines = f.readlines()\n",
    "    f.close()\n",
    "\n",
    "    course_dict = {}\n",
    "    lines = lines[1:]\n",
    "    for line in lines:\n",
    "        course, date, time = line.strip().split(',')\n",
    "\n",
    "        course_dict[course] = [date, time]\n",
    "    \n",
    "    return course_dict\n",
    "\n",
    "\n",
    "# For example, the entries for the lines in exams.csv would be: \n",
    "# {'CSC108': ['2021-12-19', '14:00'], 'MAT137': ['2021-12-07', '14:00'], \n",
    "#  'CSC110': ['2021-12-19', '14:00'], 'MAT223': ['2021-12-18', '9:00']}"
   ]
  },
  {
   "cell_type": "markdown",
   "metadata": {},
   "source": [
    "`part b)`<br/>\n",
    "Given a course dictionary where each key is a course code and the value is a list a date str and a time str, return a date dictionary where each key is a date and each corresponding value is a list of courses with an exam on that date."
   ]
  },
  {
   "cell_type": "code",
   "execution_count": null,
   "metadata": {},
   "outputs": [],
   "source": [
    "def create_date_dict(course_dict: dict) -> dict:\n",
    "    date_dict = {}\n",
    "    for course in course_dict:\n",
    "        date = course_dict[course][0]\n",
    "        \n",
    "        if date in date_dict:\n",
    "            date_dict[date].append(course)\n",
    "        else:\n",
    "            date_dict[date] = [course]\n",
    "    return date_dict\n",
    "\n",
    "course_dict = {'CSC108': ['2021-12-19', '14:00'], 'MAT137': ['2021-12-07', '14:00'], \n",
    "               'CSC110': ['2021-12-19', '14:00'], 'MAT223': ['2021-12-18', '9:00']}\n",
    "print(create_date_dict(course_dict))\n",
    "# {'2021-12-19': ['CSC108', 'CSC110'], '2021-12-07': ['MAT137'], \n",
    "#  '2021-12-18': ['MAT223']}"
   ]
  },
  {
   "cell_type": "markdown",
   "metadata": {},
   "source": [
    "`part c)`<br/>\n",
    "Given a course dictionary where each key is a course and each corresponding value is a list with two items, a date string and a time string. Print out the course codes for the exams in chronological order one course code per line, i.e., from earliest date to latest date. You only need to consider the date, not the time."
   ]
  },
  {
   "cell_type": "code",
   "execution_count": null,
   "metadata": {},
   "outputs": [],
   "source": [
    "def output_chrono(course_dict: dict) -> None:\n",
    "    date_dict = create_date_dict(course_dict)\n",
    "\n",
    "    dates = list(date_dict.keys())\n",
    "    dates.sort()\n",
    "\n",
    "    for date in dates:\n",
    "        for course in date_dict[date]:\n",
    "            print(course)\n",
    "\n",
    "    # -----------------\n",
    "    date_dict2 = date_dict.copy()\n",
    "\n",
    "    while len(date_dict2) > 0:\n",
    "        date = min(date_dict2)\n",
    "        for course in date_dict[date]:\n",
    "            print(course)\n",
    "            \n",
    "        del date_dict2[date]\n",
    "\n",
    "\n",
    "course_dict = {'CSC108': ['2021-12-19', '14:00'], 'MAT137': ['2021-12-07', '14:00'], \n",
    "               'CSC110': ['2021-12-19', '14:00'], 'MAT223': ['2021-12-18', '9:00']}\n",
    "output_chrono(course_dict)\n",
    "# MAT137\n",
    "# MAT223\n",
    "# CSC108 \n",
    "# CSC110"
   ]
  },
  {
   "cell_type": "markdown",
   "metadata": {},
   "source": [
    "`part d)`<br/>\n",
    "Given a course dictionary where each key is a course code and the value is a list a date str and a time str. Return the date with the most exams.\n",
    "\n",
    "If more than one date has the most exams return one of the dates."
   ]
  },
  {
   "cell_type": "code",
   "execution_count": null,
   "metadata": {},
   "outputs": [],
   "source": [
    "def busiest_day(course_dict: dict) -> str:\n",
    "    date_dict = create_date_dict(course_dict)\n",
    "    busiest = 0\n",
    "    day = ''\n",
    "\n",
    "    for date in date_dict:\n",
    "        num_tests = len(date_dict[date])\n",
    "        if num_tests > busiest:\n",
    "            busiest = num_tests\n",
    "            day = date\n",
    "    \n",
    "    return day\n",
    "\n",
    "    # ---------\n",
    "def busiest_day(course_dict: dict) -> str:\n",
    "    date_dict = create_date_dict(course_dict)\n",
    "    day_list = []\n",
    "    num_list = []\n",
    "\n",
    "    for day in date_dict:\n",
    "        num = len(date_dict[day])\n",
    "        day_list.append(day)\n",
    "        num_list.append(num)\n",
    "    \n",
    "    return day_list[num_list.index(max(num_list))]\n",
    "\n",
    "\n",
    "course_dict = {'CSC108': ['2021-12-19', '14:00'], 'MAT137': ['2021-12-07', '14:00'], \n",
    "               'CSC110': ['2021-12-19', '14:00'], 'MAT223': ['2021-12-18', '9:00']}\n",
    "\n",
    "print(busiest_day(course_dict)) # 2021-12-19"
   ]
  }
 ],
 "metadata": {
  "kernelspec": {
   "display_name": "Python 3.10.5 64-bit",
   "language": "python",
   "name": "python3"
  },
  "language_info": {
   "codemirror_mode": {
    "name": "ipython",
    "version": 3
   },
   "file_extension": ".py",
   "mimetype": "text/x-python",
   "name": "python",
   "nbconvert_exporter": "python",
   "pygments_lexer": "ipython3",
   "version": "3.11.1 (v3.11.1:a7a450f84a, Dec  6 2022, 15:24:06) [Clang 13.0.0 (clang-1300.0.29.30)]"
  },
  "orig_nbformat": 4,
  "vscode": {
   "interpreter": {
    "hash": "aee8b7b246df8f9039afb4144a1f6fd8d2ca17a180786b69acc140d282b71a49"
   }
  }
 },
 "nbformat": 4,
 "nbformat_minor": 2
}

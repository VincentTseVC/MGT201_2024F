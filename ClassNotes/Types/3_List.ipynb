{
 "cells": [
  {
   "cell_type": "markdown",
   "metadata": {},
   "source": [
    "# List 列表"
   ]
  },
  {
   "cell_type": "markdown",
   "metadata": {},
   "source": [
    "一个 collection, 可以装个很多不同的item, 用 `[]` 去表示\n",
    "\n",
    "\n"
   ]
  },
  {
   "cell_type": "code",
   "execution_count": 1,
   "metadata": {},
   "outputs": [
    {
     "name": "stdout",
     "output_type": "stream",
     "text": [
      "['vc', []]\n",
      "vc\n",
      "c\n"
     ]
    }
   ],
   "source": [
    "#    0    1        2        3\n",
    "L = [1, 3.14, ['vc', []], False]\n",
    "\n",
    "print(L[2])\n",
    "print(L[2][0])\n",
    "print(L[2][0][1])\n"
   ]
  },
  {
   "cell_type": "markdown",
   "metadata": {},
   "source": [
    "\n",
    "有顺序的, 所以和`string`一样, 也有 `index` 和 `slicing` 的功能"
   ]
  },
  {
   "cell_type": "code",
   "execution_count": 2,
   "metadata": {},
   "outputs": [
    {
     "name": "stdout",
     "output_type": "stream",
     "text": [
      "['Alice', 'Bob', 'Peter']\n"
     ]
    }
   ],
   "source": [
    "names = ['Vincent', 'Alice', 'Bob', 'Peter', 'Carol']\n",
    "print(names[1:4])"
   ]
  },
  {
   "cell_type": "markdown",
   "metadata": {},
   "source": [
    "也和`string` 一样 可以用 `+` 或者 `*`, 创建一个「新」的list"
   ]
  },
  {
   "cell_type": "code",
   "execution_count": 30,
   "metadata": {},
   "outputs": [
    {
     "name": "stdout",
     "output_type": "stream",
     "text": [
      "['Vincent', 'Alice', 'Bob', 'Peter', 'Carol']\n",
      "['Anya', 'Zac']\n",
      "['Vincent', 'Alice', 'Bob', 'Peter', 'Carol', 'Anya', 'Zac']\n",
      "\n",
      "['Anya', 'Zac']\n",
      "['Anya', 'Zac', 'Anya', 'Zac']\n"
     ]
    }
   ],
   "source": [
    "names = ['Vincent', 'Alice', 'Bob', 'Peter', 'Carol']\n",
    "others = ['Anya', 'Zac']\n",
    "\n",
    "# Generate a NEW list\n",
    "new = names + others\n",
    "print(names)\n",
    "print(others)\n",
    "print(new)\n",
    "\n",
    "print()\n",
    "\n",
    "new2 = others * 2\n",
    "print(others)\n",
    "print(new2)"
   ]
  },
  {
   "cell_type": "markdown",
   "metadata": {},
   "source": [
    "### List 是 Mutable object (可被改变的)"
   ]
  },
  {
   "cell_type": "code",
   "execution_count": 4,
   "metadata": {},
   "outputs": [
    {
     "name": "stdout",
     "output_type": "stream",
     "text": [
      "['Vincent', 'Anya', 'Bob', 'Peter', 'Carol']\n"
     ]
    }
   ],
   "source": [
    "names = ['Vincent', 'Alice', 'Bob', 'Peter', 'Carol']\n",
    "names[1] = 'Anya'\n",
    "print(names)"
   ]
  },
  {
   "attachments": {},
   "cell_type": "markdown",
   "metadata": {},
   "source": [
    "HOW TO FUCKING DELETE ITEM FROM LIST (In OLD way)"
   ]
  },
  {
   "cell_type": "code",
   "execution_count": 2,
   "metadata": {},
   "outputs": [
    {
     "data": {
      "text/plain": [
       "['Alice', 'Bob', 'Peter', 'Carol']"
      ]
     },
     "execution_count": 2,
     "metadata": {},
     "output_type": "execute_result"
    }
   ],
   "source": [
    "names = ['Vincent', 'Alice', 'Bob', 'Peter', 'Carol']\n",
    "del names[0]\n",
    "names"
   ]
  },
  {
   "cell_type": "markdown",
   "metadata": {},
   "source": [
    "# 常用的 List methods"
   ]
  },
  {
   "cell_type": "markdown",
   "metadata": {},
   "source": [
    "因为 `List` 是 `mutable`, 所以 以下`所有`的mehod 都是直接 modify(改变) 原本的list\n",
    "\n",
    "并`不会`像 string methods 那样 返回一个新的 list, 而是 什么都不会返回\n",
    "\n",
    "python 为了告诉你 什么都没有 (Nothing), 这些method 都会返回 `None`"
   ]
  },
  {
   "cell_type": "markdown",
   "metadata": {},
   "source": [
    "```python\n",
    "L.append(x)\n",
    "```\n",
    "把 `x` 加到 `L` 的最后面 (直接modify L), 返回 `None` "
   ]
  },
  {
   "cell_type": "code",
   "execution_count": 3,
   "metadata": {},
   "outputs": [
    {
     "name": "stdout",
     "output_type": "stream",
     "text": [
      "['Vincent', 'Alice', 'Bob', 'Peter', 'Carol', 'Anya']\n",
      "None\n"
     ]
    }
   ],
   "source": [
    "names = ['Vincent', 'Alice', 'Bob', 'Peter', 'Carol']\n",
    "\n",
    "x = names.append('Anya')\n",
    "print(names)\n",
    "print(x)  # None (這是python 告訴你 'nothing' 的方式～)"
   ]
  },
  {
   "cell_type": "markdown",
   "metadata": {},
   "source": [
    "```python\n",
    "L.insert(i, x)\n",
    "```\n",
    "把 `x` 加到 `L` 插入到 index `i` 的位置 (直接modify L) 返回 `None`\n",
    "\n",
    "`i` 一定要是 `int`\n",
    "\n",
    "\n"
   ]
  },
  {
   "cell_type": "code",
   "execution_count": 10,
   "metadata": {},
   "outputs": [
    {
     "name": "stdout",
     "output_type": "stream",
     "text": [
      "['Vincent', 'Alice', 'Carrol', 'Bob', 'Peter', 'Carol']\n"
     ]
    }
   ],
   "source": [
    "names = ['Vincent', 'Alice', 'Bob', 'Peter', 'Carol']\n",
    "\n",
    "names.insert(2, \"Carrol\")\n",
    "print(names)"
   ]
  },
  {
   "cell_type": "markdown",
   "metadata": {},
   "source": [
    "```python\n",
    "L.pop(i)\n",
    "```\n",
    "把 `L` 在 index `i` 位置 的 item 删掉 (直接modify L) 返回 `被删掉的item`\n",
    "\n",
    "`i` 一定要是 `int` 并且 `0 <= i < len(L)` 不然会有 `IndexError`\n",
    "\n",
    "如果 `i` 不给, 默认 删掉最后一个 index\n",
    "\n",
    "注意!!!!: 这是唯一 几个 不是 返回 `None` 的 method"
   ]
  },
  {
   "cell_type": "code",
   "execution_count": 15,
   "metadata": {},
   "outputs": [
    {
     "name": "stdout",
     "output_type": "stream",
     "text": [
      "['Vincent', 'Alice', 'Bob', 'Carol']\n",
      "Peter was removed.\n",
      "['Vincent', 'Alice', 'Bob']\n",
      "Carol was removed\n"
     ]
    },
    {
     "ename": "IndexError",
     "evalue": "pop index out of range",
     "output_type": "error",
     "traceback": [
      "\u001b[0;31m---------------------------------------------------------------------------\u001b[0m",
      "\u001b[0;31mIndexError\u001b[0m                                Traceback (most recent call last)",
      "Cell \u001b[0;32mIn [15], line 12\u001b[0m\n\u001b[1;32m      9\u001b[0m \u001b[38;5;28mprint\u001b[39m(names)\n\u001b[1;32m     10\u001b[0m \u001b[38;5;28mprint\u001b[39m(y \u001b[38;5;241m+\u001b[39m \u001b[38;5;124m\"\u001b[39m\u001b[38;5;124m was removed\u001b[39m\u001b[38;5;124m\"\u001b[39m)\n\u001b[0;32m---> 12\u001b[0m \u001b[43mnames\u001b[49m\u001b[38;5;241;43m.\u001b[39;49m\u001b[43mpop\u001b[49m\u001b[43m(\u001b[49m\u001b[38;5;241;43m99\u001b[39;49m\u001b[43m)\u001b[49m\n",
      "\u001b[0;31mIndexError\u001b[0m: pop index out of range"
     ]
    }
   ],
   "source": [
    "names = ['Vincent', 'Alice', 'Bob', 'Peter', 'Carol']\n",
    "\n",
    "x = names.pop(3)\n",
    "print(names)\n",
    "print(x + \" was removed.\")\n",
    "\n",
    "# default last index\n",
    "y = names.pop()\n",
    "print(names)\n",
    "print(y + \" was removed\")\n",
    "\n",
    "names.pop(99)"
   ]
  },
  {
   "cell_type": "markdown",
   "metadata": {},
   "source": [
    "```python\n",
    "L.remove(x)\n",
    "```\n",
    "把 `x` 从 `L` 里删掉 (直接modify L) 返回 `None`\n",
    "\n",
    "如果 `x` 不存在 则报错: `ValueError`"
   ]
  },
  {
   "cell_type": "code",
   "execution_count": 19,
   "metadata": {},
   "outputs": [
    {
     "name": "stdout",
     "output_type": "stream",
     "text": [
      "['Vincent', 'Bob', 'Peter', 'Carol']\n",
      "None was removed\n"
     ]
    },
    {
     "ename": "ValueError",
     "evalue": "list.remove(x): x not in list",
     "output_type": "error",
     "traceback": [
      "\u001b[0;31m---------------------------------------------------------------------------\u001b[0m",
      "\u001b[0;31mValueError\u001b[0m                                Traceback (most recent call last)",
      "Cell \u001b[0;32mIn [19], line 7\u001b[0m\n\u001b[1;32m      4\u001b[0m \u001b[38;5;28mprint\u001b[39m(names)\n\u001b[1;32m      5\u001b[0m \u001b[38;5;28mprint\u001b[39m(\u001b[38;5;28mstr\u001b[39m(x) \u001b[38;5;241m+\u001b[39m \u001b[38;5;124m\"\u001b[39m\u001b[38;5;124m was removed\u001b[39m\u001b[38;5;124m\"\u001b[39m)\n\u001b[0;32m----> 7\u001b[0m \u001b[43mnames\u001b[49m\u001b[38;5;241;43m.\u001b[39;49m\u001b[43mremove\u001b[49m\u001b[43m(\u001b[49m\u001b[38;5;124;43m\"\u001b[39;49m\u001b[38;5;124;43mZac\u001b[39;49m\u001b[38;5;124;43m\"\u001b[39;49m\u001b[43m)\u001b[49m\n",
      "\u001b[0;31mValueError\u001b[0m: list.remove(x): x not in list"
     ]
    }
   ],
   "source": [
    "names = ['Vincent', 'Alice', 'Bob', 'Peter', 'Carol']\n",
    "\n",
    "x = names.remove(\"Alice\")\n",
    "print(names)\n",
    "print(str(x) + \" was removed\")\n",
    "\n",
    "names.remove(\"Zac\")"
   ]
  },
  {
   "cell_type": "markdown",
   "metadata": {},
   "source": [
    "```python\n",
    "L.extend(L2)\n",
    "```\n",
    "把 `L2` 合并 在 `L` 的后面 (直接modify L) 返回 `None`\n",
    "\n",
    "`L2` 也要是一个 `list`"
   ]
  },
  {
   "cell_type": "code",
   "execution_count": 22,
   "metadata": {},
   "outputs": [
    {
     "name": "stdout",
     "output_type": "stream",
     "text": [
      "['Vincent', 'Alice', 'Bob', 'Peter', 'Carol', 'Anya', 'Zac']\n",
      "['Anya', 'Zac']\n",
      "['Vincent', 'Alice', 'Bob', 'Peter', 'Carol', 'Anya', 'Zac', ['Anya', 'Zac']]\n"
     ]
    }
   ],
   "source": [
    "names =  ['Vincent', 'Alice', 'Bob', 'Peter', 'Carol']\n",
    "\n",
    "others = ['Anya', 'Zac']\n",
    "\n",
    "names.extend(others)\n",
    "print(names)\n",
    "print(others)\n",
    "\n",
    "names.append(others)\n",
    "print(names)"
   ]
  },
  {
   "cell_type": "markdown",
   "metadata": {},
   "source": [
    "```python\n",
    "L.index(x)\n",
    "```\n",
    "返回 `x` 在 `L` 从左边 第一次出现的 `index`\n",
    "\n",
    "如果 `x` 不在, 报错: `ValueError`"
   ]
  },
  {
   "cell_type": "code",
   "execution_count": 25,
   "metadata": {},
   "outputs": [
    {
     "name": "stdout",
     "output_type": "stream",
     "text": [
      "2\n"
     ]
    },
    {
     "ename": "ValueError",
     "evalue": "'zac' is not in list",
     "output_type": "error",
     "traceback": [
      "\u001b[0;31m---------------------------------------------------------------------------\u001b[0m",
      "\u001b[0;31mValueError\u001b[0m                                Traceback (most recent call last)",
      "Cell \u001b[0;32mIn [25], line 6\u001b[0m\n\u001b[1;32m      3\u001b[0m i \u001b[38;5;241m=\u001b[39m names\u001b[38;5;241m.\u001b[39mindex(\u001b[38;5;124m'\u001b[39m\u001b[38;5;124mBob\u001b[39m\u001b[38;5;124m'\u001b[39m)\n\u001b[1;32m      4\u001b[0m \u001b[38;5;28mprint\u001b[39m(i)\n\u001b[0;32m----> 6\u001b[0m \u001b[43mnames\u001b[49m\u001b[38;5;241;43m.\u001b[39;49m\u001b[43mindex\u001b[49m\u001b[43m(\u001b[49m\u001b[38;5;124;43m'\u001b[39;49m\u001b[38;5;124;43mzac\u001b[39;49m\u001b[38;5;124;43m'\u001b[39;49m\u001b[43m)\u001b[49m\n",
      "\u001b[0;31mValueError\u001b[0m: 'zac' is not in list"
     ]
    }
   ],
   "source": [
    "names =  ['Vincent', 'Alice', 'Bob', 'Peter', 'Carol']\n",
    "\n",
    "i = names.index('Bob')\n",
    "print(i)\n",
    "\n",
    "names.index('zac')"
   ]
  },
  {
   "cell_type": "markdown",
   "metadata": {},
   "source": [
    "```python\n",
    "L.count(x)\n",
    "```\n",
    "返回 `x` 在 `L` 里出现几次"
   ]
  },
  {
   "cell_type": "code",
   "execution_count": 31,
   "metadata": {},
   "outputs": [
    {
     "name": "stdout",
     "output_type": "stream",
     "text": [
      "2\n"
     ]
    }
   ],
   "source": [
    "names = ['Vincent', 'Alice', 'Bob', 'Peter', 'Carol', 'Alice', 'alice']\n",
    "print(names.count('Alice'))"
   ]
  },
  {
   "cell_type": "markdown",
   "metadata": {},
   "source": [
    "```python\n",
    "L.sort()\n",
    "```\n",
    "把 `L` 从`小`到`大`排列好 (直接modify L) 返回 `None`\n",
    "\n",
    "如果要 从`大`到`小`, 可以多写一个 参数: `L.sort(reverse=True)`"
   ]
  },
  {
   "cell_type": "code",
   "execution_count": 32,
   "metadata": {},
   "outputs": [
    {
     "name": "stdout",
     "output_type": "stream",
     "text": [
      "['Alice', 'Bob', 'Carol', 'Peter', 'Vincent']\n"
     ]
    }
   ],
   "source": [
    "names = ['Vincent', 'Alice', 'Bob', 'Peter', 'Carol']\n",
    "names.sort()\n",
    "print(names)"
   ]
  }
 ],
 "metadata": {
  "kernelspec": {
   "display_name": "Python 3.10.5 64-bit",
   "language": "python",
   "name": "python3"
  },
  "language_info": {
   "codemirror_mode": {
    "name": "ipython",
    "version": 3
   },
   "file_extension": ".py",
   "mimetype": "text/x-python",
   "name": "python",
   "nbconvert_exporter": "python",
   "pygments_lexer": "ipython3",
   "version": "3.11.1 (v3.11.1:a7a450f84a, Dec  6 2022, 15:24:06) [Clang 13.0.0 (clang-1300.0.29.30)]"
  },
  "orig_nbformat": 4,
  "vscode": {
   "interpreter": {
    "hash": "aee8b7b246df8f9039afb4144a1f6fd8d2ca17a180786b69acc140d282b71a49"
   }
  }
 },
 "nbformat": 4,
 "nbformat_minor": 2
}

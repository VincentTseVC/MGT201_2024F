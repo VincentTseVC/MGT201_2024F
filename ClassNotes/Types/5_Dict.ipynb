{
 "cells": [
  {
   "cell_type": "markdown",
   "metadata": {},
   "source": [
    "# Dictionary "
   ]
  },
  {
   "cell_type": "markdown",
   "metadata": {},
   "source": [
    "一个 collection, 可以有很多个 `key: value` Pair, 每个 `key` 对应一个`value`\n",
    "\n",
    "`{key1: value1, key2: value2, key3: value3, ... }`\n",
    "\n",
    "- `Dict` 是没有顺序的\n",
    "- `key` 一定是 *Unqiue* (不会有重复) 并且必须是 `immutable` type (`int`, `float`, `str`, `tuple`)\n",
    "\n",
    "- `value` 可以是任何 type\n",
    "\n",
    "---"
   ]
  },
  {
   "cell_type": "code",
   "execution_count": null,
   "metadata": {},
   "outputs": [
    {
     "name": "stdout",
     "output_type": "stream",
     "text": [
      "{'Vincent': 4.0, 'Alice': 3.1, 'Peter': 4.0, 'Bob': 0.7}\n"
     ]
    }
   ],
   "source": [
    "name_to_gpa = {'Vincent': 4.0, 'Alice': 2.7, 'Peter': 4.0, 'Bob': 0.7, 'Alice': 3.1}\n",
    "print(name_to_gpa)\n",
    "# 注意, 'Alice' 的 gpa, 3.1 覆盖了 2.7"
   ]
  },
  {
   "cell_type": "code",
   "execution_count": 3,
   "metadata": {},
   "outputs": [
    {
     "ename": "TypeError",
     "evalue": "unhashable type: 'list'",
     "output_type": "error",
     "traceback": [
      "\u001b[0;31m---------------------------------------------------------------------------\u001b[0m",
      "\u001b[0;31mTypeError\u001b[0m                                 Traceback (most recent call last)",
      "Cell \u001b[0;32mIn[3], line 2\u001b[0m\n\u001b[1;32m      1\u001b[0m \u001b[39m# key 不能是 list ...\u001b[39;00m\n\u001b[0;32m----> 2\u001b[0m d \u001b[39m=\u001b[39m {[\u001b[39m'\u001b[39m\u001b[39mAlice\u001b[39m\u001b[39m'\u001b[39m, \u001b[39m'\u001b[39m\u001b[39mChen\u001b[39m\u001b[39m'\u001b[39m]: \u001b[39m4.0\u001b[39m, [\u001b[39m'\u001b[39m\u001b[39mAnya\u001b[39m\u001b[39m'\u001b[39m, \u001b[39m'\u001b[39m\u001b[39mCute\u001b[39m\u001b[39m'\u001b[39m]: \u001b[39m2.7\u001b[39m}\n",
      "\u001b[0;31mTypeError\u001b[0m: unhashable type: 'list'"
     ]
    }
   ],
   "source": [
    "# key 不能是 list ...\n",
    "d = {['Alice', 'Chen']: 4.0, ['Anya', 'Cute']: 2.7}"
   ]
  },
  {
   "cell_type": "markdown",
   "metadata": {},
   "source": [
    "## 常用的 Operation"
   ]
  },
  {
   "cell_type": "markdown",
   "metadata": {},
   "source": [
    "`dict[key]`\n",
    "- 得到 这个 `key` 在 `dict` 对应的 `value`,\n",
    "- 如果 `key` 不在, 報錯: `KeyError`\n",
    "\n",
    "`dict[key] = value` \n",
    "- 如果`key`不在, 添加一个新的`key: value`, 否则改变原本`key`的`value`\n",
    "\n",
    "`del dict[key]`\n",
    "- 把 `key` 和它对应的`value` 从 `dict` 里删掉"
   ]
  },
  {
   "cell_type": "code",
   "execution_count": 4,
   "metadata": {},
   "outputs": [
    {
     "name": "stdout",
     "output_type": "stream",
     "text": [
      "0.7\n",
      "{'Vincent': 4.0, 'Alice': 2.7, 'Peter': 4.0, 'Bob': 0.7, 'Coral': 3.1}\n",
      "{'Vincent': 4.0, 'Alice': 2.7, 'Peter': 4.0, 'Bob': 1.7, 'Coral': 3.1}\n",
      "{'Vincent': 4.0, 'Alice': 2.7, 'Peter': 4.0, 'Coral': 3.1}\n"
     ]
    }
   ],
   "source": [
    "name_to_gpa = {'Vincent': 4.0, 'Alice': 2.7, 'Peter': 4.0, 'Bob': 0.7}\n",
    "\n",
    "# how to retrieve the value of a given key\n",
    "print(name_to_gpa['Bob'])\n",
    "# print(name_to_gpa['Steve']) # KeyError\n",
    "\n",
    "# how to add a new pair to the dictionary\n",
    "name_to_gpa['Coral'] = 3.1\n",
    "print(name_to_gpa)\n",
    "\n",
    "# how to modify the value given the key\n",
    "name_to_gpa['Bob'] = 1.7\n",
    "print(name_to_gpa)\n",
    "\n",
    "# how to delete a key and its value\n",
    "del name_to_gpa['Bob']\n",
    "print(name_to_gpa)"
   ]
  },
  {
   "cell_type": "markdown",
   "metadata": {},
   "source": [
    "## 常用的 methods"
   ]
  },
  {
   "cell_type": "markdown",
   "metadata": {},
   "source": [
    "`dict.keys()`\n",
    "- 返回一个 collection, 内包含了全部的`key`, 顺序是从最先加进去的到最后加进去的\n",
    "- 通常会把这个 collection 用 `list()` convert 成一个列表\n",
    "\n",
    "`dict.values()`\n",
    "- 返回一个 collection, 内包含了全部的`value`, 顺序是从最先加进去的到最后加进去的\n",
    "- 通常会把这个 collection 用 `list()` convert 成一个列表\n",
    "\n",
    "`dict.items()`\n",
    "- 返回一个 collection, 内包含了每个`pair (key, value)`, 顺序是从最先加进去的到最后加进去的\n",
    "- 每个 `pair` 是长度为 2 的 `tuple`\n",
    "- 通常会把这个 collection 用 `list()` convert 成一个列表\n",
    "\n",
    "`dict.update(dict2)`\n",
    "- 把 `dict2` 里全部的 `key: value` 都加进 `dict` 里 (直接modify)\n",
    "- 别忘了 `key` 是 Unique 的"
   ]
  },
  {
   "cell_type": "code",
   "execution_count": 7,
   "metadata": {},
   "outputs": [
    {
     "name": "stdout",
     "output_type": "stream",
     "text": [
      "['Vincent', 'Alice', 'Peter', 'Bob']\n",
      "[4.0, 2.7, 4.0, 0.7]\n",
      "[('Vincent', 4.0), ('Alice', 2.7), ('Peter', 4.0), ('Bob', 0.7)]\n",
      "{'Vincent': 4.0, 'Alice': 4.0, 'Peter': 4.0, 'Bob': 0.7, 'Anya': 3.2}\n"
     ]
    }
   ],
   "source": [
    "name_to_gpa = {'Vincent': 4.0, 'Alice': 2.7, 'Peter': 4.0, 'Bob': 0.7}\n",
    "\n",
    "# how to get all the keys\n",
    "names = list(name_to_gpa.keys())\n",
    "print(names)\n",
    "\n",
    "# how to get all the values\n",
    "gpas = list(name_to_gpa.values())\n",
    "print(gpas)\n",
    "\n",
    "students = list(name_to_gpa.items())\n",
    "print(students)\n",
    "\n",
    "name_to_gpa.update({'Alice': 4.0, 'Anya': 3.2})\n",
    "print(name_to_gpa) # 注意, Alice 的 gpa"
   ]
  },
  {
   "cell_type": "markdown",
   "metadata": {},
   "source": [
    "*`Example 1:`* find the name of the dumbest student :) we dont like stupid"
   ]
  },
  {
   "cell_type": "code",
   "execution_count": 5,
   "metadata": {},
   "outputs": [
    {
     "name": "stdout",
     "output_type": "stream",
     "text": [
      "['Vincent', 'Alice', 'Peter', 'Bob']\n",
      "[4.0, 2.7, 4.0, 0.7]\n",
      "STUPID: Bob\n",
      "STUPID: Bob\n"
     ]
    }
   ],
   "source": [
    "name_to_gpa = {'Vincent': 4.0, 'Alice': 2.7, 'Peter': 4.0, 'Bob': 0.7}\n",
    "\n",
    "# step1: get a list of names\n",
    "names = list(name_to_gpa.keys())\n",
    "print(names)\n",
    "# step2: get a list of gpa\n",
    "gpas = list(name_to_gpa.values())\n",
    "print(gpas)\n",
    "# step3: find the minimum gpa in the gpa list\n",
    "min_gpa = min(gpas)\n",
    "# step4: find the index of the lowest gpa in the gpa list\n",
    "i = gpas.index(min_gpa)\n",
    "# step5: get the name of the student at the same position in the name list\n",
    "name = names[i]\n",
    "\n",
    "print(\"STUPID: \" + name)\n",
    "print(\"STUPID: \" + names[gpas.index(min(gpas))])"
   ]
  },
  {
   "cell_type": "markdown",
   "metadata": {},
   "source": [
    "## Iterate Over Dict"
   ]
  },
  {
   "cell_type": "code",
   "execution_count": 8,
   "metadata": {},
   "outputs": [
    {
     "name": "stdout",
     "output_type": "stream",
     "text": [
      "Vincent got 4.0 on MGT201\n",
      "Alice got 2.7 on MGT201\n",
      "Peter got 4.0 on MGT201\n",
      "Bob got 0.7 on MGT201\n",
      "\n",
      "Vincent got 4.0 on MGT201\n",
      "Alice got 2.7 on MGT201\n",
      "Peter got 4.0 on MGT201\n",
      "Bob got 0.7 on MGT201\n"
     ]
    }
   ],
   "source": [
    "name_to_gpa = {'Vincent': 4.0, 'Alice': 2.7, 'Peter': 4.0, 'Bob': 0.7}\n",
    "\n",
    "for name in name_to_gpa:\n",
    "    gpa = name_to_gpa[name]\n",
    "    # print(name + ' got ' + str(gpa) + ' on MGT201')\n",
    "    print(f'{name} got {gpa} on MGT201')\n",
    "print()\n",
    "\n",
    "for name, gpa in name_to_gpa.items():\n",
    "    print(f'{name} got {gpa} on MGT201')"
   ]
  },
  {
   "cell_type": "markdown",
   "metadata": {},
   "source": [
    "# 考試 必考"
   ]
  },
  {
   "cell_type": "markdown",
   "metadata": {},
   "source": [
    "*`Example`* Print a dictionary that map each gpa to a list of names"
   ]
  },
  {
   "cell_type": "code",
   "execution_count": 6,
   "metadata": {},
   "outputs": [
    {
     "name": "stdout",
     "output_type": "stream",
     "text": [
      "{4.0: ['Vincent', 'Peter'], 2.7: ['Alice'], 0.7: ['Bob']}\n"
     ]
    }
   ],
   "source": [
    "name_to_gpa = {'Vincent': 4.0, 'Alice': 2.7, 'Peter': 4.0, 'Bob': 0.7}\n",
    "\n",
    "gpa_to_name = {}\n",
    "\n",
    "for name in name_to_gpa:\n",
    "    gpa = name_to_gpa[name]\n",
    "    # 如果 pga 已經在 result 裡, 要通過.append() 把名字 加進去\n",
    "    if gpa in gpa_to_name:\n",
    "        gpa_to_name[gpa].append(name)\n",
    "    # 否則 這是我們第一次 看到此 gpa, 可以直接加一個新的 key: value Pair\n",
    "    else:\n",
    "        gpa_to_name[gpa] = [ name ]\n",
    "\n",
    "print(gpa_to_name)\n",
    "\n",
    "\n",
    "# gpa_to_name-> {\n",
    "#   4.0: ['Vincent', 'Peter']\n",
    "#   2.7: ['Alice']\n",
    "# }\n",
    "\n",
    "#             第一次           第二次         第三次\n",
    "# name        Vincent   ->    Alice   ->    Peter\n",
    "# gpa         4.0       ->    2.7     ->    4.0\n",
    "#                                           .append()"
   ]
  },
  {
   "cell_type": "markdown",
   "metadata": {},
   "source": [
    "另一種寫法"
   ]
  },
  {
   "cell_type": "code",
   "execution_count": 12,
   "metadata": {},
   "outputs": [
    {
     "name": "stdout",
     "output_type": "stream",
     "text": [
      "{4.0: ['Vincent', 'Peter'], 2.7: ['Alice'], 0.7: ['Bob']}\n"
     ]
    }
   ],
   "source": [
    "name_to_gpa = {'Vincent': 4.0, 'Alice': 2.7, 'Peter': 4.0, 'Bob': 0.7}\n",
    "\n",
    "gpa_to_name = {}\n",
    "for name in name_to_gpa:\n",
    "    gpa = name_to_gpa[name]\n",
    "    \n",
    "    # 如果是 此 gpa 是第一次出現, 先把它加進去 result裡 並且給一個 空的 list 作為 value\n",
    "    if gpa not in gpa_to_name:\n",
    "        gpa_to_name[gpa] = []\n",
    "        \n",
    "    # 不管是否是第一次, 都可以直接 .append() 了 :)\n",
    "    gpa_to_name[gpa].append(name)\n",
    "\n",
    "print(gpa_to_name)"
   ]
  }
 ],
 "metadata": {
  "kernelspec": {
   "display_name": "Python 3.10.5 64-bit",
   "language": "python",
   "name": "python3"
  },
  "language_info": {
   "codemirror_mode": {
    "name": "ipython",
    "version": 3
   },
   "file_extension": ".py",
   "mimetype": "text/x-python",
   "name": "python",
   "nbconvert_exporter": "python",
   "pygments_lexer": "ipython3",
   "version": "3.11.1 (v3.11.1:a7a450f84a, Dec  6 2022, 15:24:06) [Clang 13.0.0 (clang-1300.0.29.30)]"
  },
  "orig_nbformat": 4,
  "vscode": {
   "interpreter": {
    "hash": "aee8b7b246df8f9039afb4144a1f6fd8d2ca17a180786b69acc140d282b71a49"
   }
  }
 },
 "nbformat": 4,
 "nbformat_minor": 2
}

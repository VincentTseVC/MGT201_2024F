{
 "cells": [
  {
   "cell_type": "markdown",
   "metadata": {},
   "source": [
    "# Tuple"
   ]
  },
  {
   "cell_type": "markdown",
   "metadata": {},
   "source": [
    "一种collection, 类似 `list` 可以装很多 item, 用 `()` 表示\n",
    "\n",
    "- 有顺序的, 所以和`string`, `list` 一样, 也有 `index` 和 `slicing` 的功能\n",
    "\n",
    "- 但是 `tuple` 是 `Immutable type` (不可被改变！！)\n",
    "\n",
    "- 因此, `tuple` 没有任何 `method`\n",
    "\n",
    "- 大多数时候, 可以不需要写 `()`, 两个 value 中间用 `,` 隔开 就默认是 `tuple`\n",
    "\n",
    "- 如果要创建一个 长度为1 的 `tuple` 必须加上一个`,` 在后面, Ex: `(3, )`\n",
    "---"
   ]
  },
  {
   "cell_type": "code",
   "execution_count": 5,
   "metadata": {},
   "outputs": [
    {
     "name": "stdout",
     "output_type": "stream",
     "text": [
      "vincent\n",
      "Bob\n"
     ]
    }
   ],
   "source": [
    "#            0         1       2\n",
    "names = (\"vincent\", \"Alice\", \"Bob\")\n",
    "print(names[0])\n",
    "print(names[2])\n",
    "\n",
    "# (3) 3 "
   ]
  },
  {
   "cell_type": "code",
   "execution_count": 6,
   "metadata": {},
   "outputs": [
    {
     "ename": "TypeError",
     "evalue": "'tuple' object does not support item assignment",
     "output_type": "error",
     "traceback": [
      "\u001b[0;31m---------------------------------------------------------------------------\u001b[0m",
      "\u001b[0;31mTypeError\u001b[0m                                 Traceback (most recent call last)",
      "Cell \u001b[0;32mIn [6], line 1\u001b[0m\n\u001b[0;32m----> 1\u001b[0m \u001b[43mnames\u001b[49m\u001b[43m[\u001b[49m\u001b[38;5;241;43m0\u001b[39;49m\u001b[43m]\u001b[49m \u001b[38;5;241m=\u001b[39m \u001b[38;5;124m\"\u001b[39m\u001b[38;5;124mAnya\u001b[39m\u001b[38;5;124m\"\u001b[39m\n",
      "\u001b[0;31mTypeError\u001b[0m: 'tuple' object does not support item assignment"
     ]
    }
   ],
   "source": [
    "names[0] = \"Anya\""
   ]
  },
  {
   "cell_type": "markdown",
   "metadata": {},
   "source": [
    "### 通常会用 `tuple` 去实现 `parallel assignment` (同时赋值)"
   ]
  },
  {
   "cell_type": "code",
   "execution_count": 8,
   "metadata": {},
   "outputs": [
    {
     "name": "stdout",
     "output_type": "stream",
     "text": [
      "1\n",
      "2\n"
     ]
    }
   ],
   "source": [
    "# (x, y) = (1, 2)\n",
    "x, y = 1, 2\n",
    "print(x)\n",
    "print(y)\n"
   ]
  },
  {
   "cell_type": "code",
   "execution_count": 9,
   "metadata": {},
   "outputs": [
    {
     "name": "stdout",
     "output_type": "stream",
     "text": [
      "vincent tse 18\n"
     ]
    }
   ],
   "source": [
    "info = ['vincent', 'tse', 18]\n",
    "\n",
    "# way 1:\n",
    "first_name = info[0]\n",
    "last_name = info[1]\n",
    "age = info[2]\n",
    "\n",
    "# way 2: # 如果能確保 = 號 右邊的 collection 只少有 3 個 items, 可以直接這麼 assign\n",
    "first_name, last_name, age = info\n",
    "print(first_name, last_name, age)"
   ]
  },
  {
   "cell_type": "markdown",
   "metadata": {},
   "source": [
    "*`example:`* Swap the value between `x` and `y`"
   ]
  },
  {
   "cell_type": "code",
   "execution_count": 11,
   "metadata": {},
   "outputs": [
    {
     "name": "stdout",
     "output_type": "stream",
     "text": [
      "2 1\n"
     ]
    }
   ],
   "source": [
    "x = 1\n",
    "y = 2\n",
    "\n",
    "# Method 1: Without tuple\n",
    "temp = x\n",
    "x = y\n",
    "y = temp\n",
    "print(x, y)"
   ]
  },
  {
   "cell_type": "code",
   "execution_count": 12,
   "metadata": {},
   "outputs": [
    {
     "name": "stdout",
     "output_type": "stream",
     "text": [
      "2 1\n"
     ]
    }
   ],
   "source": [
    "x = 1\n",
    "y = 2\n",
    "\n",
    "# Method 1: Using tuple\n",
    "x, y = y, x\n",
    "\n",
    "print(x, y)"
   ]
  },
  {
   "cell_type": "code",
   "execution_count": 3,
   "metadata": {},
   "outputs": [
    {
     "name": "stdout",
     "output_type": "stream",
     "text": [
      "vc tse 18\n",
      "alice chen 2\n",
      "bob zhang 3\n"
     ]
    }
   ],
   "source": [
    "info_lst = [['vc', 'tse', 18], ['alice', 'chen', 2], ['bob', 'zhang', 3]]\n",
    "\n",
    "for first_name, last_name, age in info_lst:\n",
    "    print(first_name, last_name, age)\n",
    "    "
   ]
  }
 ],
 "metadata": {
  "kernelspec": {
   "display_name": "Python 3.10.5 64-bit",
   "language": "python",
   "name": "python3"
  },
  "language_info": {
   "codemirror_mode": {
    "name": "ipython",
    "version": 3
   },
   "file_extension": ".py",
   "mimetype": "text/x-python",
   "name": "python",
   "nbconvert_exporter": "python",
   "pygments_lexer": "ipython3",
   "version": "3.11.1 (v3.11.1:a7a450f84a, Dec  6 2022, 15:24:06) [Clang 13.0.0 (clang-1300.0.29.30)]"
  },
  "orig_nbformat": 4,
  "vscode": {
   "interpreter": {
    "hash": "aee8b7b246df8f9039afb4144a1f6fd8d2ca17a180786b69acc140d282b71a49"
   }
  }
 },
 "nbformat": 4,
 "nbformat_minor": 2
}

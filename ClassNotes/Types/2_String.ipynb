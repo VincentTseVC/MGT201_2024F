{
 "cells": [
  {
   "cell_type": "markdown",
   "metadata": {},
   "source": [
    "# String 字符串\n",
    "\n",
    "在Python表达文字的方式\n",
    "\n",
    "用 `\"` 双引号 或者 `'` 单引号 把问字括起来, Python 就会看待成普通的文字, 不会对其运算\n",
    "- `'MGT201'`, `\"MGT201\"`\n",
    "---"
   ]
  },
  {
   "cell_type": "markdown",
   "metadata": {},
   "source": [
    "## 常用的operation\n",
    "\n",
    "- `s1 + s2` .... 返回一个「新」string, 是s1, s2 合并在一起的结果\n",
    "- `s1 * n` ...... 返回一个「新」string, 是s1 重复 n 次的结果 (n 一定要是 `int`)\n",
    "- `s1 in s2` .. 返回 `True` 如果 s1 一整個string 在 s2 裡, 反則 `False`\n"
   ]
  },
  {
   "cell_type": "code",
   "execution_count": 1,
   "metadata": {},
   "outputs": [
    {
     "name": "stdout",
     "output_type": "stream",
     "text": [
      "VincentTse\n",
      "MGT201 MGT201 MGT201 \n",
      "True\n",
      "False\n"
     ]
    }
   ],
   "source": [
    "print(\"Vincent\" + \"Tse\")\n",
    "print(\"MGT201 \" * 3)\n",
    "\n",
    "print(\"cen\" in \"Vincent\")\n",
    "print(\"cne\" in \"Vincent\")"
   ]
  },
  {
   "cell_type": "markdown",
   "metadata": {},
   "source": [
    "***Important:*** *如何判斷一個字母是否是 vowel?*"
   ]
  },
  {
   "cell_type": "code",
   "execution_count": 6,
   "metadata": {},
   "outputs": [
    {
     "name": "stdout",
     "output_type": "stream",
     "text": [
      "False\n"
     ]
    }
   ],
   "source": [
    "ch = 'v'\n",
    "print(ch in 'aeiouAEIOU')"
   ]
  },
  {
   "cell_type": "markdown",
   "metadata": {},
   "source": [
    "在比较String的时候 python 是比较每个字母对应的ASCII number, 非字母本身\n",
    "- `A` 对应 `65`, `B` 对应 `66`, ...依此类推\n",
    "- `a` 对应 `97`, `b` 对应 `98`, ...依此类推\n",
    "\n",
    "完整的ASCII TABLE 可以參考: (https://www.asciitable.com)"
   ]
  },
  {
   "cell_type": "code",
   "execution_count": 7,
   "metadata": {},
   "outputs": [
    {
     "name": "stdout",
     "output_type": "stream",
     "text": [
      "False\n",
      "True\n",
      "True\n"
     ]
    }
   ],
   "source": [
    "print(\"a\" > \"b\")\n",
    "print(\"a\" > \"A\")   # 'a' -> 97  'A' -> 65\n",
    "print(\"apple\" > \"appears\")  # 前面 'app' 一樣, 從第四個字母開始 'l' > 'e'"
   ]
  },
  {
   "cell_type": "markdown",
   "metadata": {},
   "source": [
    "## Indexing\n",
    "\n",
    "String(字符串) 是由很多个字母组成的, 并且是有顺序的, \n",
    "\n",
    "那就能通过 index 去找到某个 position (位置) 对应的 character (字母).\n",
    "\n",
    "- index 一定是从 0 开始, (第一个字母的 index 是 0)\n",
    "- `s[i]` 会返回 `s` 这个string 在 index `i` 的字母\n",
    "- `'MGT201'[1]` 会返回 `'G'`\n",
    "\n",
    "注意: 空格也算字母"
   ]
  },
  {
   "cell_type": "code",
   "execution_count": 2,
   "metadata": {},
   "outputs": [
    {
     "name": "stdout",
     "output_type": "stream",
     "text": [
      "11\n",
      "S\n",
      "e\n",
      "1\n",
      "1\n",
      "1\n",
      "2\n"
     ]
    },
    {
     "ename": "IndexError",
     "evalue": "string index out of range",
     "output_type": "error",
     "traceback": [
      "\u001b[0;31m---------------------------------------------------------------------------\u001b[0m",
      "\u001b[0;31mIndexError\u001b[0m                                Traceback (most recent call last)",
      "Cell \u001b[0;32mIn[2], line 17\u001b[0m\n\u001b[1;32m     14\u001b[0m \u001b[39m# 找到 倒數第三個字母\u001b[39;00m\n\u001b[1;32m     15\u001b[0m \u001b[39mprint\u001b[39m(s[\u001b[39m-\u001b[39m\u001b[39m3\u001b[39m])  \u001b[39m# 2\u001b[39;00m\n\u001b[0;32m---> 17\u001b[0m \u001b[39mprint\u001b[39m(s[\u001b[39m12\u001b[39;49m])  \u001b[39m# IndexError: string index out of range\u001b[39;00m\n",
      "\u001b[0;31mIndexError\u001b[0m: string index out of range"
     ]
    }
   ],
   "source": [
    "#    0   1   2   3   4   5   6   7   8   9   10       12\n",
    "#    S   p   e   e   d   U   p       2   0   1\n",
    "#  -11 -10  -9  -8  -7  -6  -5  -4  -3  -2  -1\n",
    "s = \"SpeedUp 201\"\n",
    "print(len(s))   # 11\n",
    "print(s[0])     # S\n",
    "print(s[2])     # e\n",
    "\n",
    "# get the last char (找到最後一個字母)\n",
    "print(s[10])\n",
    "print(s[len(s) - 1])\n",
    "print(s[-1])\n",
    "\n",
    "# 找到 倒數第三個字母\n",
    "print(s[-3])  # 2\n",
    "\n",
    "# print(s[12])  # IndexError: string index out of range"
   ]
  },
  {
   "cell_type": "markdown",
   "metadata": {},
   "source": [
    "String is *Immutable* (不可被改变的)!!!"
   ]
  },
  {
   "cell_type": "code",
   "execution_count": 12,
   "metadata": {},
   "outputs": [
    {
     "ename": "TypeError",
     "evalue": "'str' object does not support item assignment",
     "output_type": "error",
     "traceback": [
      "\u001b[0;31m---------------------------------------------------------------------------\u001b[0m",
      "\u001b[0;31mTypeError\u001b[0m                                 Traceback (most recent call last)",
      "Cell \u001b[0;32mIn [12], line 1\u001b[0m\n\u001b[0;32m----> 1\u001b[0m \u001b[38;5;124;43m\"\u001b[39;49m\u001b[38;5;124;43mVincent\u001b[39;49m\u001b[38;5;124;43m\"\u001b[39;49m\u001b[43m[\u001b[49m\u001b[38;5;241;43m0\u001b[39;49m\u001b[43m]\u001b[49m \u001b[38;5;241m=\u001b[39m \u001b[38;5;124m\"\u001b[39m\u001b[38;5;124mB\u001b[39m\u001b[38;5;124m\"\u001b[39m\n",
      "\u001b[0;31mTypeError\u001b[0m: 'str' object does not support item assignment"
     ]
    }
   ],
   "source": [
    "\"Vincent\"[0] = \"B\"   # TypeError:  String 是 Immutable"
   ]
  },
  {
   "cell_type": "markdown",
   "metadata": {},
   "source": [
    "## Slicing 切片\n",
    "\n",
    "- `s[start: end: step]` index 从 `start` 开始, 到 `end` (不包括) 结束, 每次增加 `step`\n",
    "\n",
    "- `s[start: end]` 默认每一次 `+1`\n",
    "\n",
    "- `s[: end]` 默认从`０`开始\n",
    "\n",
    "- `s[:]`  从头到尾, `s[0: len(s): 1]`\n",
    "\n",
    "- `s[::-1]` 从尾到头, 反过来\n",
    "\n",
    "注意: \n",
    "- 永远不会有Error\n",
    "- `step` 如果是 positive, `start` 要在 `end` 的**左**边, 并且往**右**走\n",
    "- `step` 如果是 negative, `start` 要在 `end` 的**右**边, 并且往**左**走"
   ]
  },
  {
   "cell_type": "code",
   "execution_count": null,
   "metadata": {},
   "outputs": [],
   "source": [
    "#    0   1   2   3   4   5   6   7   8   9   10 \n",
    "#    a   b   c   d   e   f   g   h   i   j   k\n",
    "#  -11 -10  -9  -8  -7  -6  -5  -4  -3  -2  -1\n",
    "\n",
    "s = \"abcdefghijk\"\n",
    "print(s[1:9:3]) # -> 1 4 7 -> 'beh'\n",
    "print(s[1:9:1]) # bcdefghi\n",
    "print(s[1:9])   # bcdefghi        默認+1\n",
    "print(s[:9])    # abcdefghi       從0開始\n",
    "print(s[:])     # abcdefghijk     從頭到尾\n",
    "\n",
    "print(s[1:-4])  # bcdefg\n",
    "print(s[-9:4])  # cd\n",
    "\n",
    "print(s[1:99])  # bcdefghijk\n",
    "\n",
    "#                                                            ->\n",
    "print(s[99:1])   # 空                   -1------------------99-\n",
    "\n",
    "#                                               <-\n",
    "print(s[9:1:-1]) # jihgfedc             -1--------9-------------\n",
    "\n",
    "#                                       <-\n",
    "print(s[1:9:-1]) # 空                   -1--------9-------------\n",
    "\n",
    "\n",
    "print(s[::-1])  # kjihgfedcba (reversed)\n",
    "print(\"done\")"
   ]
  },
  {
   "cell_type": "markdown",
   "metadata": {},
   "source": [
    "*`Example:`* Create a copy of `s` but with the characters before index `i` swapped with the characters after index `j`"
   ]
  },
  {
   "cell_type": "code",
   "execution_count": 11,
   "metadata": {},
   "outputs": [
    {
     "name": "stdout",
     "output_type": "stream",
     "text": [
      "ng programingm learniI a\n"
     ]
    }
   ],
   "source": [
    "s = \"I am learning programing\"     # -> \"ng programingm learniI a\"\n",
    "i = 3\n",
    "j = 10\n",
    "\n",
    "# TODO:\n",
    "print(s[j+1:] + s[i:j+1] + s[:i])"
   ]
  },
  {
   "cell_type": "markdown",
   "metadata": {},
   "source": [
    "## 常用的 string methods \n",
    "\n",
    "判断并返回 `True` / `False` 的 method\n",
    "```python\n",
    "s.isalpha()       # 全是英文字母, 无论大小写\n",
    "s.isdigit()       # 全是 0 - 9\n",
    "s.islower()       # 至少一个英文字母, 并且全部字母部分是小写\n",
    "s.isupper()       # 至少一个英文字母, 并且全部字母部分是大写\n",
    "s.isalnum()       # 只有数字和字母 isalpha() + isdigit()\n",
    "s.startswith(s2)  # s 是否 s2 开头\n",
    "s.endswith(s2)    # s 是否 s2 结尾\n",
    "\n",
    "```\n",
    "\n",
    "返回「新」的string 的 method\n",
    "```python\n",
    "s.lower()         # 返回一个「新」的string, 全部小写\n",
    "s.upper()         # 返回一个「新」的string, 全部大写\n",
    "s.replace(x, y)   # 返回一个「新」的string, 全部的 x 都被替换成 y\n",
    "\n",
    "```\n",
    "\n",
    "其他比较常用的 method\n",
    "```python\n",
    "s.find(sub)       # 返回从「左」边数来第一个sub 出现的index, 找不到则返回 -1\n",
    "s.count(x)        # 返回 x 出现几次\n",
    "s.split(x)        # 利用 x 把 s 分开成一个 list (列表)\n",
    "```\n",
    "\n"
   ]
  },
  {
   "cell_type": "markdown",
   "metadata": {},
   "source": [
    "如果想了解更多string的method, 可以直接打 `help(str)`"
   ]
  },
  {
   "cell_type": "code",
   "execution_count": null,
   "metadata": {},
   "outputs": [],
   "source": [
    "help(str)"
   ]
  },
  {
   "cell_type": "code",
   "execution_count": null,
   "metadata": {},
   "outputs": [],
   "source": [
    "print('Ayna'.isalpha())     # True\n",
    "print('MGT201'.isalpha())   # False\n",
    "\n",
    "print('anya 123'.islower()) # True\n",
    "print('123'.islower())      # False\n",
    "\n",
    "s = 'Anya is so cute :3'\n",
    "print(s.startswith('Anya'))       # True\n",
    "print(s[:len('Anya')] == 'Anya')  # True (也可以這麼寫～)"
   ]
  },
  {
   "cell_type": "code",
   "execution_count": null,
   "metadata": {},
   "outputs": [],
   "source": [
    "name = 'Anya'\n",
    "print(name.upper()) # ANYA\n",
    "print(name)         # Anya (沒有變)\n",
    "\n",
    "print('Anya is so cute, Waku~ Waku~'.replace('a', '@@')) # Any@@ is so cute, W@@ku~ W@@ku~"
   ]
  },
  {
   "cell_type": "code",
   "execution_count": null,
   "metadata": {},
   "outputs": [],
   "source": [
    "msg = 'The course MGT201 so stupidly designed.'\n",
    "print(msg.find('MGT201'))   # 11\n",
    "\n",
    "print('Vincent'.split('n')) # ['Vi', 'ce', 't']"
   ]
  },
  {
   "cell_type": "markdown",
   "metadata": {},
   "source": [
    "## `'\\'` Escape Character 的用法"
   ]
  },
  {
   "cell_type": "markdown",
   "metadata": {},
   "source": [
    "没有规定一定要用单引号 或者 双引号, 但除了一些特殊情况: 比如文字本身中有 单/双引号"
   ]
  },
  {
   "cell_type": "code",
   "execution_count": null,
   "metadata": {},
   "outputs": [
    {
     "name": "stdout",
     "output_type": "stream",
     "text": [
      "I'm learning programming\n"
     ]
    }
   ],
   "source": [
    "print(\"I'm learning programming\")"
   ]
  },
  {
   "cell_type": "markdown",
   "metadata": {},
   "source": [
    "以下, python 会把 `I'm` 中间的 `'` 当成是string 的结尾, 所以后面 `m learning programin` 会有 SyntaxError\n",
    "\n",
    "所以:\n",
    "- 文字中 若有`\"` 双引号, 那整个string 就用 `'` 单引号括起来\n",
    "- 文字中 若有`'` 单引号, 那整个string 就用 `\"` 双引号括起来"
   ]
  },
  {
   "cell_type": "code",
   "execution_count": null,
   "metadata": {},
   "outputs": [
    {
     "ename": "SyntaxError",
     "evalue": "unterminated string literal (detected at line 1) (2022210581.py, line 1)",
     "output_type": "error",
     "traceback": [
      "\u001b[0;36m  Cell \u001b[0;32mIn [19], line 1\u001b[0;36m\u001b[0m\n",
      "\u001b[0;31m    print('I'm learning programing')\u001b[0m\n",
      "\u001b[0m                                  ^\u001b[0m\n",
      "\u001b[0;31mSyntaxError\u001b[0m\u001b[0;31m:\u001b[0m unterminated string literal (detected at line 1)\n"
     ]
    }
   ],
   "source": [
    "print('I'm learning programing')"
   ]
  },
  {
   "cell_type": "markdown",
   "metadata": {},
   "source": [
    "*`*但是*`*\n",
    "\n",
    "python 有一个特殊符号 `'\\'` (escape character), 他会更近一步的告诉python 不要把它之后的那一个character 当成有任何含义"
   ]
  },
  {
   "cell_type": "code",
   "execution_count": null,
   "metadata": {},
   "outputs": [
    {
     "name": "stdout",
     "output_type": "stream",
     "text": [
      "I'm learning programming\n"
     ]
    }
   ],
   "source": [
    "print('I\\'m learning programming')"
   ]
  },
  {
   "cell_type": "code",
   "execution_count": null,
   "metadata": {},
   "outputs": [
    {
     "name": "stdout",
     "output_type": "stream",
     "text": [
      "https:\\utoronto\\utm.ca\n"
     ]
    }
   ],
   "source": [
    "print('https:\\\\utoronto\\\\utm.ca') # 注意, 我們需要 一個 '\\' 去 escape 掉 第二個 '\\'"
   ]
  },
  {
   "cell_type": "markdown",
   "metadata": {},
   "source": [
    "## 其他特殊符号\n",
    "- `'\\n'` Enter 回车键\n",
    "- `'\\t'` Tab 键"
   ]
  },
  {
   "cell_type": "code",
   "execution_count": 1,
   "metadata": {},
   "outputs": [
    {
     "name": "stdout",
     "output_type": "stream",
     "text": [
      "Hello\n",
      "Anya says:\tWaku! Waku!\n"
     ]
    }
   ],
   "source": [
    "print('Hello\\nAnya says:\\tWaku! Waku!')"
   ]
  },
  {
   "cell_type": "markdown",
   "metadata": {},
   "source": [
    "## Formating A String"
   ]
  },
  {
   "cell_type": "code",
   "execution_count": 26,
   "metadata": {},
   "outputs": [],
   "source": [
    "name = 'Anya'\n",
    "age = 3"
   ]
  },
  {
   "cell_type": "markdown",
   "metadata": {},
   "source": [
    "用 `+` 号 去 合并"
   ]
  },
  {
   "cell_type": "code",
   "execution_count": 27,
   "metadata": {},
   "outputs": [
    {
     "name": "stdout",
     "output_type": "stream",
     "text": [
      "Waku~ Waku~, Anya is 3 years old.\n"
     ]
    }
   ],
   "source": [
    "print('Waku~ Waku~, ' + name + ' is ' + str(age) + ' years old.')"
   ]
  },
  {
   "cell_type": "markdown",
   "metadata": {},
   "source": [
    "用 `s.format(v1, v2, ....)`, 后面的 参数 会按照顺序 被 代入到前面 string 里的 `{}`"
   ]
  },
  {
   "cell_type": "code",
   "execution_count": 25,
   "metadata": {},
   "outputs": [
    {
     "name": "stdout",
     "output_type": "stream",
     "text": [
      "Waku~ Waku~ Anya is 3 years old.\n"
     ]
    }
   ],
   "source": [
    "print('Waku~ Waku~ {} is {} years old.'.format(name, age))"
   ]
  },
  {
   "cell_type": "markdown",
   "metadata": {},
   "source": [
    "从 Python 3.8 開始, 可以用 formatted String, 在string前面加个 `f` 就可以在里面 插入代码"
   ]
  },
  {
   "cell_type": "code",
   "execution_count": 28,
   "metadata": {},
   "outputs": [
    {
     "name": "stdout",
     "output_type": "stream",
     "text": [
      "Waku~ Waku~ Anya is 3 years old.\n"
     ]
    }
   ],
   "source": [
    "print(f'Waku~ Waku~ {name} is {age} years old.')"
   ]
  },
  {
   "cell_type": "markdown",
   "metadata": {},
   "source": [
    "很多其他的语言 `Java, C++, C#, ...` 都是 strongly type language, print 的时候 需要用 `'%(type)'`\n",
    "\n",
    "现在, python 也提供了此功能 *(很少人会这么用...)*\n",
    "\n",
    "- `%s` 表示: 被代入的value是個 `str`\n",
    "- `%d` 表示: 被代入的value是個 `int`\n",
    "- `%f` 表示: 被代入的value是個 `float`\n",
    "\n",
    "其他语言还有 `%lu %u %p %c ...` 但 python 并没有这么多种type"
   ]
  },
  {
   "cell_type": "code",
   "execution_count": 29,
   "metadata": {},
   "outputs": [
    {
     "name": "stdout",
     "output_type": "stream",
     "text": [
      "Waku~ Waku~ Anya is 3 years old.\n"
     ]
    }
   ],
   "source": [
    "print('Waku~ Waku~ %s is %d years old.' % (name, age))"
   ]
  },
  {
   "cell_type": "markdown",
   "metadata": {},
   "source": [
    "### Multi-Line String"
   ]
  },
  {
   "cell_type": "markdown",
   "metadata": {},
   "source": [
    "`\"`, `'` 的 `str` 是不能直接換行的, 如果需要 換行 可以用 `\"\"\"`, `'''`"
   ]
  },
  {
   "cell_type": "code",
   "execution_count": null,
   "metadata": {},
   "outputs": [],
   "source": [
    "msg = 'Hello~\n",
    "My name is Vincent'"
   ]
  },
  {
   "cell_type": "code",
   "execution_count": 3,
   "metadata": {},
   "outputs": [
    {
     "name": "stdout",
     "output_type": "stream",
     "text": [
      "Hello~\n",
      "My name is Vincent\n",
      "\n"
     ]
    }
   ],
   "source": [
    "msg = '''Hello~\n",
    "My name is Vincent\n",
    "'''\n",
    "\n",
    "msg = \"\"\"Hello~\n",
    "My name is Vincent\n",
    "\"\"\"\n",
    "\n",
    "print(msg)"
   ]
  },
  {
   "cell_type": "code",
   "execution_count": 3,
   "metadata": {},
   "outputs": [
    {
     "name": "stdout",
     "output_type": "stream",
     "text": [
      "a\n",
      "b\tc\n"
     ]
    }
   ],
   "source": [
    "print('a\\nb\\tc')"
   ]
  }
 ],
 "metadata": {
  "kernelspec": {
   "display_name": "Python 3.10.5 64-bit",
   "language": "python",
   "name": "python3"
  },
  "language_info": {
   "codemirror_mode": {
    "name": "ipython",
    "version": 3
   },
   "file_extension": ".py",
   "mimetype": "text/x-python",
   "name": "python",
   "nbconvert_exporter": "python",
   "pygments_lexer": "ipython3",
   "version": "3.11.1 (v3.11.1:a7a450f84a, Dec  6 2022, 15:24:06) [Clang 13.0.0 (clang-1300.0.29.30)]"
  },
  "orig_nbformat": 4,
  "vscode": {
   "interpreter": {
    "hash": "aee8b7b246df8f9039afb4144a1f6fd8d2ca17a180786b69acc140d282b71a49"
   }
  }
 },
 "nbformat": 4,
 "nbformat_minor": 2
}

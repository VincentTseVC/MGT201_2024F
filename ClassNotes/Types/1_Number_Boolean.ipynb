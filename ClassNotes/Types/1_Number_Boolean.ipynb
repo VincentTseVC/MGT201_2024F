{
 "cells": [
  {
   "cell_type": "code",
   "execution_count": 3,
   "metadata": {},
   "outputs": [
    {
     "name": "stdout",
     "output_type": "stream",
     "text": [
      "3\n",
      "8\n",
      "I'm learning programming\n",
      "1\n",
      "I'm learning programming\n",
      "AxB\n",
      "1 + 2\n"
     ]
    }
   ],
   "source": [
    "print(1 + 2)\n",
    "print(3 + 5)\n",
    "\n",
    "\n",
    "print(\"I'm learning programming\")\n",
    "print('1')\n",
    "\n",
    "# \\ <- escape character \n",
    "print('I\\'m learning programming')\n",
    "\n",
    "print(\"A\", end=\"x\")   # '\\n' <- new line character\n",
    "print(\"B\")\n",
    "\n",
    "\n",
    "print('1 + 2')"
   ]
  },
  {
   "cell_type": "markdown",
   "metadata": {},
   "source": [
    "# Number\n",
    "\n",
    "在Python, 表达数字的方式 分两种:\n",
    "- `int` (Integer) 整数: `3, 5`\n",
    "- `float` (Float) 有小数点的数字: `1.0, 3.14`\n",
    "---"
   ]
  },
  {
   "cell_type": "markdown",
   "metadata": {},
   "source": [
    "最基本的 operation"
   ]
  },
  {
   "cell_type": "code",
   "execution_count": 4,
   "metadata": {},
   "outputs": [
    {
     "name": "stdout",
     "output_type": "stream",
     "text": [
      "8\n",
      "4\n",
      "12\n",
      "3.0\n",
      "1\n",
      "3\n",
      "8\n",
      "14\n"
     ]
    }
   ],
   "source": [
    "print(6 + 2) \n",
    "print(6 - 2)\n",
    "print(6 * 2)\n",
    "print(6 / 2)    # 除法 -> float\n",
    "print(3 // 2)   # integer division, 除完後 只取整數的部分  same as: print(int(3 / 2))\n",
    "print(11 % 4)   # 餘數 mod (remainder) 11 / 4 = 2 ... 3\n",
    "print(2 ** 3)   # 2^3, 2的3次方\n",
    "print(2 ** (1 + 2) + 2 * 3)\n"
   ]
  },
  {
   "cell_type": "markdown",
   "metadata": {},
   "source": [
    "可以通过 `int()` 或者 `float()` 去 convert 一个 value"
   ]
  },
  {
   "cell_type": "code",
   "execution_count": 5,
   "metadata": {},
   "outputs": [
    {
     "name": "stdout",
     "output_type": "stream",
     "text": [
      "2\n",
      "2.0\n"
     ]
    }
   ],
   "source": [
    "print(int(2.9))   \n",
    "print(float(2))"
   ]
  },
  {
   "cell_type": "markdown",
   "metadata": {},
   "source": [
    "比较常用的 有关数字 的 function (函数)"
   ]
  },
  {
   "cell_type": "code",
   "execution_count": 15,
   "metadata": {},
   "outputs": [
    {
     "name": "stdout",
     "output_type": "stream",
     "text": [
      "4\n",
      "8\n",
      "10\n",
      "25\n",
      "2\n",
      "1.67\n",
      "2.0\n",
      "3\n",
      "2\n"
     ]
    }
   ],
   "source": [
    "# 常用到的 function\n",
    "\n",
    "print(abs(-4))            # 絕對值\n",
    "print(pow(2, 3))          # 2^3, 2的3次方\n",
    "print(min(10, 25, 15))    # 最小值\n",
    "print(max(10, 25, 15))    # 最大值\n",
    "\n",
    "print(round(1.66666))     \n",
    "print(round(1.66666, 2))  # 小数点 后两位\n",
    "\n",
    "import math\n",
    "# from math import sqrt\n",
    "\n",
    "print(math.sqrt(4))       # 根號\n",
    "print(math.ceil(2.1))     # 直接往上取整\n",
    "print(math.floor(2.9))    # 直接往下取整\n"
   ]
  },
  {
   "cell_type": "markdown",
   "metadata": {},
   "source": [
    "比较常见的 `Error`"
   ]
  },
  {
   "cell_type": "code",
   "execution_count": 17,
   "metadata": {},
   "outputs": [
    {
     "name": "stdout",
     "output_type": "stream",
     "text": [
      "Hello~~~\n"
     ]
    },
    {
     "ename": "ValueError",
     "evalue": "invalid literal for int() with base 10: 'a'",
     "output_type": "error",
     "traceback": [
      "\u001b[0;31m---------------------------------------------------------------------------\u001b[0m",
      "\u001b[0;31mValueError\u001b[0m                                Traceback (most recent call last)",
      "Cell \u001b[0;32mIn[17], line 4\u001b[0m\n\u001b[1;32m      1\u001b[0m \u001b[39mprint\u001b[39m(\u001b[39m'\u001b[39m\u001b[39mHello~~~\u001b[39m\u001b[39m'\u001b[39m)\n\u001b[1;32m      2\u001b[0m \u001b[39m# print(3 / 0)    # ZeroDivisionError\u001b[39;00m\n\u001b[1;32m      3\u001b[0m \u001b[39m# print(3 + \"2\")  # TypeError\u001b[39;00m\n\u001b[0;32m----> 4\u001b[0m \u001b[39mprint\u001b[39m(\u001b[39mint\u001b[39;49m(\u001b[39m\"\u001b[39;49m\u001b[39ma\u001b[39;49m\u001b[39m\"\u001b[39;49m)) \u001b[39m# ValueError\u001b[39;00m\n\u001b[1;32m      6\u001b[0m \u001b[39mprint\u001b[39m(\u001b[39m'\u001b[39m\u001b[39mbye!!\u001b[39m\u001b[39m'\u001b[39m)\n",
      "\u001b[0;31mValueError\u001b[0m: invalid literal for int() with base 10: 'a'"
     ]
    }
   ],
   "source": [
    "print('Hello~~~')\n",
    "# print(3 / 0)    # ZeroDivisionError\n",
    "# print(3 + \"2\")  # TypeError\n",
    "print(int(\"a\")) # ValueError\n",
    "\n",
    "print('bye!!')\n"
   ]
  },
  {
   "cell_type": "markdown",
   "metadata": {},
   "source": [
    "# Boolean\n",
    "\n",
    "在Python裡的一種type 用來表示 真/假 是/否 對/錯\n",
    "- 只有兩種值: `True` 和 `False`\n",
    "---"
   ]
  },
  {
   "cell_type": "markdown",
   "metadata": {},
   "source": [
    "以下这些 都能得出一个boolean\n",
    "\n",
    "- `x == y`: &nbsp;比较 x 是否 等于 y\n",
    "- `x != y`: &nbsp;比较 x 是否 不等于 y\n",
    "- `x > y`: &nbsp;&nbsp;&nbsp;比较 x 是否 大于 y\n",
    "- `x >= y`: &nbsp;比较 x 是否 大于或等于 y\n",
    "- `x < y`: &nbsp;&nbsp;&nbsp;比较 x 是否 小于 y\n",
    "- `x <= y`: &nbsp;比较 x 是否 小于或等于 y\n",
    "- `x in y`: &nbsp;比较 x 是否 在 y 里 (y 一定要 collection, 比如: `str, list, tuple, dict`) \n",
    "- `x not in y`: 比较 x 是否 不在 y 里 (y 一定要 collection)"
   ]
  },
  {
   "cell_type": "code",
   "execution_count": 1,
   "metadata": {},
   "outputs": [
    {
     "name": "stdout",
     "output_type": "stream",
     "text": [
      "True\n",
      "True\n",
      "False\n",
      "False\n"
     ]
    }
   ],
   "source": [
    "print(3 == 3) \n",
    "print(3 == 3.0)   # 兩個值一樣\n",
    "print(3 == \"3\")   # type 不一樣\n",
    "print(1 > 2)      "
   ]
  },
  {
   "cell_type": "markdown",
   "metadata": {},
   "source": [
    "Python 会实施 Lazy Evaluation, 永远从左边执行到右边\n",
    "\n",
    "如果知道是 `True or ...` 就会直接返回 `True`, 完全不会运行后面 `...` 的代码, (即使有可能会报错)\n",
    "\n",
    "一样, `False and ...` 会直接返回 `False`"
   ]
  },
  {
   "cell_type": "code",
   "execution_count": 19,
   "metadata": {},
   "outputs": [
    {
     "name": "stdout",
     "output_type": "stream",
     "text": [
      "False\n",
      "True\n",
      "False\n"
     ]
    },
    {
     "ename": "TypeError",
     "evalue": "unsupported operand type(s) for +: 'int' and 'str'",
     "output_type": "error",
     "traceback": [
      "\u001b[0;31m---------------------------------------------------------------------------\u001b[0m",
      "\u001b[0;31mTypeError\u001b[0m                                 Traceback (most recent call last)",
      "Cell \u001b[0;32mIn[19], line 15\u001b[0m\n\u001b[1;32m     12\u001b[0m \u001b[39mprint\u001b[39m(\u001b[39mFalse\u001b[39;00m \u001b[39mand\u001b[39;00m \u001b[39m3\u001b[39m \u001b[39m/\u001b[39m \u001b[39m0\u001b[39m \u001b[39m==\u001b[39m \u001b[39m0\u001b[39m)\n\u001b[1;32m     14\u001b[0m \u001b[39m# 把 or 改成 and 就會報錯\u001b[39;00m\n\u001b[0;32m---> 15\u001b[0m \u001b[39mprint\u001b[39m(\u001b[39m2\u001b[39m \u001b[39m==\u001b[39m \u001b[39m2.0\u001b[39m \u001b[39mand\u001b[39;00m \u001b[39m3\u001b[39;49m \u001b[39m+\u001b[39;49m \u001b[39m\"\u001b[39;49m\u001b[39m2\u001b[39;49m\u001b[39m\"\u001b[39;49m \u001b[39m==\u001b[39m \u001b[39m5\u001b[39m)\n",
      "\u001b[0;31mTypeError\u001b[0m: unsupported operand type(s) for +: 'int' and 'str'"
     ]
    }
   ],
   "source": [
    "#  a  b       a and b       a or b      not a\n",
    "# --------------------------------------------\n",
    "#  T  T          T            T           F\n",
    "#  T  F          F            T           F\n",
    "#  F  T          F            T           T\n",
    "#  F  F          F            F           T\n",
    "\n",
    "print(1 < 2 and 3 > 5)\n",
    "\n",
    "# Lazy Evaluation\n",
    "print(2 == 2.0 or 3 + \"2\" == 5)\n",
    "print(False and 3 / 0 == 0)\n",
    "\n",
    "# 把 or 改成 and 就會報錯\n",
    "print(2 == 2.0 and 3 + \"2\" == 5)"
   ]
  }
 ],
 "metadata": {
  "kernelspec": {
   "display_name": "Python 3.10.5 64-bit",
   "language": "python",
   "name": "python3"
  },
  "language_info": {
   "codemirror_mode": {
    "name": "ipython",
    "version": 3
   },
   "file_extension": ".py",
   "mimetype": "text/x-python",
   "name": "python",
   "nbconvert_exporter": "python",
   "pygments_lexer": "ipython3",
   "version": "3.11.1"
  },
  "orig_nbformat": 4,
  "vscode": {
   "interpreter": {
    "hash": "aee8b7b246df8f9039afb4144a1f6fd8d2ca17a180786b69acc140d282b71a49"
   }
  }
 },
 "nbformat": 4,
 "nbformat_minor": 2
}

{
 "cells": [
  {
   "attachments": {},
   "cell_type": "markdown",
   "metadata": {},
   "source": [
    "算出 這個數字 有多少位數"
   ]
  },
  {
   "cell_type": "code",
   "execution_count": 3,
   "metadata": {},
   "outputs": [
    {
     "name": "stdout",
     "output_type": "stream",
     "text": [
      "11\n"
     ]
    }
   ],
   "source": [
    "n = 39372948274\n",
    "\n",
    "# print(len(str(n)))\n",
    "\n",
    "count = 0\n",
    "for d in str(n):\n",
    "    count += 1\n",
    "\n",
    "print(count)"
   ]
  },
  {
   "attachments": {},
   "cell_type": "markdown",
   "metadata": {},
   "source": [
    "算出 這個數字 有幾個 even digit"
   ]
  },
  {
   "cell_type": "code",
   "execution_count": 5,
   "metadata": {},
   "outputs": [
    {
     "name": "stdout",
     "output_type": "stream",
     "text": [
      "5\n"
     ]
    }
   ],
   "source": [
    "n = 39372948274\n",
    "count = 0\n",
    "for d in str(n):\n",
    "    if int(d) % 2 == 0:\n",
    "        count += 1\n",
    "\n",
    "print(count)"
   ]
  },
  {
   "attachments": {},
   "cell_type": "markdown",
   "metadata": {},
   "source": [
    "算出 這個數字 所有 even digit 的 總和"
   ]
  },
  {
   "cell_type": "code",
   "execution_count": 6,
   "metadata": {},
   "outputs": [
    {
     "name": "stdout",
     "output_type": "stream",
     "text": [
      "20\n"
     ]
    }
   ],
   "source": [
    "n = 39372948274\n",
    "total = 0\n",
    "for d in str(n):\n",
    "    if int(d) % 2 == 0:\n",
    "        total += int(d)\n",
    "\n",
    "print(total)"
   ]
  },
  {
   "attachments": {},
   "cell_type": "markdown",
   "metadata": {},
   "source": [
    "得到一個新個數字, 是把原本的數字裡的 even digit 都刪掉了 (只保留 Odd digit)\n",
    "並且最後判斷他是不是3的倍數"
   ]
  },
  {
   "cell_type": "code",
   "execution_count": 8,
   "metadata": {},
   "outputs": [
    {
     "name": "stdout",
     "output_type": "stream",
     "text": [
      "False\n"
     ]
    }
   ],
   "source": [
    "n = 39372948274\n",
    "\n",
    "res = ''\n",
    "for d in str(n):\n",
    "    if int(d) % 2 == 0:\n",
    "        res += d\n",
    "\n",
    "print(int(res) % 3 == 0)"
   ]
  },
  {
   "attachments": {},
   "cell_type": "markdown",
   "metadata": {},
   "source": [
    "創建一個新的列表, 裡面只包含 even digit"
   ]
  },
  {
   "cell_type": "code",
   "execution_count": 9,
   "metadata": {},
   "outputs": [
    {
     "name": "stdout",
     "output_type": "stream",
     "text": [
      "[2, 4, 8, 2, 4]\n"
     ]
    }
   ],
   "source": [
    "n = 39372948274\n",
    "\n",
    "res = []\n",
    "for d in str(n):\n",
    "    if int(d) % 2 == 0:\n",
    "        res.append(int(d))\n",
    "\n",
    "print(res)"
   ]
  },
  {
   "attachments": {},
   "cell_type": "markdown",
   "metadata": {},
   "source": [
    "創建一個新的字典, 裡面是 每一個digit 對應到 它出現的次數"
   ]
  },
  {
   "cell_type": "code",
   "execution_count": 10,
   "metadata": {},
   "outputs": [
    {
     "name": "stdout",
     "output_type": "stream",
     "text": [
      "{3: 2, 9: 2, 7: 2, 2: 2, 4: 2, 8: 1}\n"
     ]
    }
   ],
   "source": [
    "n = 39372948274\n",
    "\n",
    "res = {}\n",
    "for d in str(n):\n",
    "    d_ = int(d)\n",
    "\n",
    "    if d_ in res:\n",
    "        res[d_] = res[d_] + 1\n",
    "    else:\n",
    "        res[d_] = 1\n",
    "\n",
    "print(res)"
   ]
  },
  {
   "cell_type": "code",
   "execution_count": null,
   "metadata": {},
   "outputs": [],
   "source": [
    "# n = 39372948274\n",
    "\n",
    "#               第一次for           第二次for               第三次for\n",
    "\n",
    "# d_ =>            3                  9                     3\n",
    "\n",
    "\n",
    "# res =>        {3: 1}           {3: 1, 9: 1}            {3: 2, 9: 1}"
   ]
  },
  {
   "attachments": {},
   "cell_type": "markdown",
   "metadata": {},
   "source": [
    "得到一個 list of words"
   ]
  },
  {
   "cell_type": "code",
   "execution_count": 11,
   "metadata": {},
   "outputs": [
    {
     "name": "stdout",
     "output_type": "stream",
     "text": [
      "['I', 'think', 'I', 'hate', 'MGT201', 'just', 'like', 'I', 'hate', 'math']\n"
     ]
    }
   ],
   "source": [
    "phrase = \"I think I hate MGT201 just like I hate math\"\n",
    "\n",
    "words = phrase.split()\n",
    "print(words)"
   ]
  },
  {
   "attachments": {},
   "cell_type": "markdown",
   "metadata": {},
   "source": [
    "得到一個 list of uniqe words"
   ]
  },
  {
   "cell_type": "code",
   "execution_count": 13,
   "metadata": {},
   "outputs": [
    {
     "name": "stdout",
     "output_type": "stream",
     "text": [
      "['I', 'think', 'hate', 'MGT201', 'just', 'like', 'math']\n"
     ]
    }
   ],
   "source": [
    "phrase = \"I think I hate MGT201 just like I hate math\"\n",
    "words = phrase.split()\n",
    "\n",
    "res = []\n",
    "for word in words:\n",
    "    if word not in res:\n",
    "        res.append(word)\n",
    "\n",
    "print(res)"
   ]
  },
  {
   "attachments": {},
   "cell_type": "markdown",
   "metadata": {},
   "source": [
    "得到一個 list of vowel counts\n",
    "\n",
    "[1, 1, 1, 2, 0, 1, 2, 1, 2, 1]"
   ]
  },
  {
   "cell_type": "code",
   "execution_count": 14,
   "metadata": {},
   "outputs": [
    {
     "name": "stdout",
     "output_type": "stream",
     "text": [
      "[1, 1, 1, 2, 0, 1, 2, 1, 2, 1]\n"
     ]
    }
   ],
   "source": [
    "phrase = \"I think I hate MGT201 just like I hate math\"\n",
    "words = phrase.split()\n",
    "\n",
    "res = []\n",
    "\n",
    "for word in words:\n",
    "    count = 0 # 重新 reset to Zero\n",
    "    for ch in word:\n",
    "        if ch in 'aeiouAEIOU':\n",
    "            count += 1\n",
    "    res.append(count)\n",
    "\n",
    "print(res)"
   ]
  },
  {
   "attachments": {},
   "cell_type": "markdown",
   "metadata": {},
   "source": [
    "得到一個 list of str, 但是每個str 只有 even index 的字母"
   ]
  },
  {
   "cell_type": "code",
   "execution_count": 18,
   "metadata": {},
   "outputs": [
    {
     "name": "stdout",
     "output_type": "stream",
     "text": [
      "['I', 'tik', 'I', 'ht', 'MT0', 'js', 'lk', 'I', 'ht', 'mt']\n"
     ]
    }
   ],
   "source": [
    "#         0 01234 0 0123 012345 0123 0123 0 0123 0123\n",
    "phrase = \"I think I hate MGT201 just like I hate math\"\n",
    "words = phrase.split()\n",
    "\n",
    "res = []\n",
    "\n",
    "for word in words:\n",
    "    s = ''\n",
    "    # for ch in word[::2]:\n",
    "        # s += ch\n",
    "    for i in range(0, len(word), 2):\n",
    "        s += word[i]\n",
    "    res.append(s)\n",
    "\n",
    "print(res) # ['I', 'tik', 'I', 'MT0', 'js', 'lk', 'I', 'ht', 'mt']"
   ]
  },
  {
   "attachments": {},
   "cell_type": "markdown",
   "metadata": {},
   "source": [
    "得到一個 dict, 是每個字 出現幾次吧"
   ]
  },
  {
   "cell_type": "code",
   "execution_count": 19,
   "metadata": {},
   "outputs": [
    {
     "name": "stdout",
     "output_type": "stream",
     "text": [
      "{'I': 3, 'think': 1, 'hate': 2, 'MGT201': 1, 'just': 1, 'like': 1, 'math': 1}\n"
     ]
    }
   ],
   "source": [
    "#         0 01234 0 0123 012345 0123 0123 0 0123 0123\n",
    "phrase = \"I think I hate MGT201 just like I hate math\"\n",
    "words = phrase.split()\n",
    "\n",
    "res = {}\n",
    "\n",
    "for word in words:\n",
    "    if word in res:\n",
    "        res[word] += 1\n",
    "    else:\n",
    "        res[word] = 1\n",
    "\n",
    "print(res) # {'I': 3, ....}"
   ]
  },
  {
   "attachments": {},
   "cell_type": "markdown",
   "metadata": {},
   "source": [
    "得到一個 dict, 是每個字 在 哪一個position 出現過"
   ]
  },
  {
   "cell_type": "code",
   "execution_count": 21,
   "metadata": {},
   "outputs": [
    {
     "name": "stdout",
     "output_type": "stream",
     "text": [
      "{'I': [1, 3, 8], 'think': [2], 'hate': [4, 9], 'MGT201': [5], 'just': [6], 'like': [7], 'math': [10]}\n"
     ]
    }
   ],
   "source": [
    "#         0 01234 0 0123 012345 0123 0123 0 0123 0123\n",
    "phrase = \"I think I hate MGT201 just like I hate math\"\n",
    "# i       0   1   2   3     4     5    6  7   8   9\n",
    "words = phrase.split()\n",
    "\n",
    "res = {}\n",
    "\n",
    "#for word in words:\n",
    "for i in range(len(words)):\n",
    "    word = words[i]\n",
    "    \n",
    "    if word in res:\n",
    "        res[word].append(i+1)\n",
    "    else:\n",
    "        res[word] = [ i+1 ]\n",
    "\n",
    "print(res) # {'I': [1, 3, 8], 'think': [2], 'hate': [4, 9], ....}"
   ]
  },
  {
   "attachments": {},
   "cell_type": "markdown",
   "metadata": {},
   "source": [
    "得到一個 list of words, up until but not include the first word that has length >= 6"
   ]
  },
  {
   "cell_type": "code",
   "execution_count": 22,
   "metadata": {},
   "outputs": [
    {
     "name": "stdout",
     "output_type": "stream",
     "text": [
      "['I', 'think', 'I', 'hate']\n"
     ]
    }
   ],
   "source": [
    "#         0 01234 0 0123 012345 0123 0123 0 0123 0123\n",
    "phrase = \"I think I hate MGT201 just like I hate math\"\n",
    "# phrase = input(\"Enter a sentence: \")\n",
    "# i       0   1   2   3     4     5    6  7   8   9\n",
    "words = phrase.split()\n",
    "\n",
    "res = []\n",
    "\n",
    "#for word in words:\n",
    "for word in words:\n",
    "    if len(word) >= 6:\n",
    "        break\n",
    "    res.append(word)\n",
    "\n",
    "print(res) # ['I', 'think', 'I', 'hate']"
   ]
  },
  {
   "cell_type": "code",
   "execution_count": 24,
   "metadata": {},
   "outputs": [
    {
     "name": "stdout",
     "output_type": "stream",
     "text": [
      "['I', 'think', 'I', 'hate']\n"
     ]
    }
   ],
   "source": [
    "#         0 01234 0 0123 012345 0123 0123 0 0123 0123\n",
    "phrase = \"I think I hate MGT201 just like I hate math\"\n",
    "# phrase = input(\"Enter a sentence: \")\n",
    "# i       0   1   2   3     4     5    6  7   8   9\n",
    "words = phrase.split()\n",
    "\n",
    "res = []\n",
    "\n",
    "i = 0\n",
    "while i < len(words) and len(words[i]) < 6:\n",
    "    res.append(words[i])\n",
    "    i += 1\n",
    "\n",
    "print(res) # ['I', 'think', 'I', 'hate']"
   ]
  },
  {
   "attachments": {},
   "cell_type": "markdown",
   "metadata": {},
   "source": [
    "判斷 這個 phrase 是否有數字"
   ]
  },
  {
   "cell_type": "code",
   "execution_count": 25,
   "metadata": {},
   "outputs": [
    {
     "name": "stdout",
     "output_type": "stream",
     "text": [
      "True\n"
     ]
    }
   ],
   "source": [
    "phrase = \"I think I hate MGT201 just like I hate math\"\n",
    "\n",
    "has_number = False\n",
    "for ch in phrase:\n",
    "    if ch in '1234567890':\n",
    "        has_number = True\n",
    "        break\n",
    "\n",
    "print(has_number)"
   ]
  },
  {
   "attachments": {},
   "cell_type": "markdown",
   "metadata": {},
   "source": [
    "判斷 這個 phrase 是否 沒有數字"
   ]
  },
  {
   "cell_type": "code",
   "execution_count": 28,
   "metadata": {},
   "outputs": [
    {
     "name": "stdout",
     "output_type": "stream",
     "text": [
      "True\n"
     ]
    }
   ],
   "source": [
    "phrase = \"I think I like Kuro just like I hate math\"\n",
    "\n",
    "no_number = True\n",
    "for ch in phrase:\n",
    "    if ch in '1234567890':\n",
    "        no_number = False\n",
    "        break\n",
    "\n",
    "print(no_number)"
   ]
  }
 ],
 "metadata": {
  "kernelspec": {
   "display_name": "Python 3",
   "language": "python",
   "name": "python3"
  },
  "language_info": {
   "codemirror_mode": {
    "name": "ipython",
    "version": 3
   },
   "file_extension": ".py",
   "mimetype": "text/x-python",
   "name": "python",
   "nbconvert_exporter": "python",
   "pygments_lexer": "ipython3",
   "version": "3.11.1 (v3.11.1:a7a450f84a, Dec  6 2022, 15:24:06) [Clang 13.0.0 (clang-1300.0.29.30)]"
  },
  "orig_nbformat": 4,
  "vscode": {
   "interpreter": {
    "hash": "aee8b7b246df8f9039afb4144a1f6fd8d2ca17a180786b69acc140d282b71a49"
   }
  }
 },
 "nbformat": 4,
 "nbformat_minor": 2
}

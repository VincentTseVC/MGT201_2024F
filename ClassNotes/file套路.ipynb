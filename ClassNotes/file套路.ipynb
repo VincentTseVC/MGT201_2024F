{
 "cells": [
  {
   "cell_type": "code",
   "execution_count": null,
   "metadata": {},
   "outputs": [],
   "source": [
    "f = open('filename.txt', 'r')\n",
    "lines = f.readlines()\n",
    "f.close()\n",
    "\n",
    "# 如果前面 n 行 是不需要的 (要skip的)\n",
    "lines = lines[n:]\n",
    "\n",
    "for line in lines:\n",
    "    line = line.strip() # 把 '\\n' 刪掉\n",
    "\n",
    "    # 如果你是個 csv 文件 \n",
    "    data = line.split(',') # ';', ' ', ....etc.\n",
    "    # do something with data (list)\n",
    "\n",
    "    # 或者\n",
    "    # do something with line (a3 question 3)\n"
   ]
  },
  {
   "cell_type": "code",
   "execution_count": null,
   "metadata": {},
   "outputs": [],
   "source": [
    "def starts_with_same(words, word):\n",
    "    \"\"\"\n",
    "    Return True if every string in <words> starts with the same letter as <word>\n",
    "\n",
    "    Parameters:\n",
    "    - words (list[str])\n",
    "    - word (str)\n",
    "    \n",
    "    Returns:\n",
    "    - bool:\n",
    "    \"\"\"\n",
    "    for s in words:\n",
    "        if s[0] != word[0]:\n",
    "            return False\n",
    "    return True\n"
   ]
  },
  {
   "cell_type": "code",
   "execution_count": null,
   "metadata": {},
   "outputs": [],
   "source": [
    "print(starts_with_same['my', 'max', 'mother fucker'], 'midterm') # True\n",
    "print(starts_with_same['my', 'nigga', 'mother fucker'], 'midterm') # False"
   ]
  },
  {
   "cell_type": "code",
   "execution_count": null,
   "metadata": {},
   "outputs": [],
   "source": [
    "def count_starts_with_same(words, lst):\n",
    "    count = 0\n",
    "    for word in lst:\n",
    "        if starts_with_same(words, word):\n",
    "            count += 1\n",
    "    return count\n",
    "\n"
   ]
  },
  {
   "cell_type": "code",
   "execution_count": null,
   "metadata": {},
   "outputs": [],
   "source": [
    "print(count_starts_with_same['my', 'max', 'mother fucker'], ['midterm', 'nigga', 'mom']) # 2"
   ]
  }
 ],
 "metadata": {
  "kernelspec": {
   "display_name": "Python 3",
   "language": "python",
   "name": "python3"
  },
  "language_info": {
   "name": "python",
   "version": "3.11.1 (v3.11.1:a7a450f84a, Dec  6 2022, 15:24:06) [Clang 13.0.0 (clang-1300.0.29.30)]"
  },
  "orig_nbformat": 4,
  "vscode": {
   "interpreter": {
    "hash": "aee8b7b246df8f9039afb4144a1f6fd8d2ca17a180786b69acc140d282b71a49"
   }
  }
 },
 "nbformat": 4,
 "nbformat_minor": 2
}

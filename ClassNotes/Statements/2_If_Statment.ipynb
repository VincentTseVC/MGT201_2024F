{
 "cells": [
  {
   "cell_type": "markdown",
   "metadata": {},
   "source": [
    "# If Statement"
   ]
  },
  {
   "cell_type": "markdown",
   "metadata": {},
   "source": [
    "通过某个条件 `True` or `False` 去判断是否要执行某一段代码 或者 要执行哪一段代码"
   ]
  },
  {
   "cell_type": "markdown",
   "metadata": {},
   "source": [
    "## `if` statement"
   ]
  },
  {
   "cell_type": "markdown",
   "metadata": {},
   "source": [
    "`if` 后面一定要是一段能得出一个boolean的代码, \n",
    "\n",
    "如果是 `True` 就执行所有空了4格空格的代码, 反之则什么都不做, 最后再执行和 `if` 并排的\n",
    "\n",
    "注意: `if` 那一行最后要有一个 `:`"
   ]
  },
  {
   "cell_type": "code",
   "execution_count": 5,
   "metadata": {},
   "outputs": [
    {
     "name": "stdout",
     "output_type": "stream",
     "text": [
      "Anya is cute!!\n",
      "Waku Waku~\n",
      "spy x family 真好看 :3\n"
     ]
    }
   ],
   "source": [
    "name = 'Anya'\n",
    "if name == 'Anya':\n",
    "    print(\"Anya is cute!!\")\n",
    "    print(\"Waku Waku~\")\n",
    "    \n",
    "print(\"spy x family 真好看 :3\")"
   ]
  },
  {
   "cell_type": "code",
   "execution_count": 6,
   "metadata": {},
   "outputs": [
    {
     "name": "stdout",
     "output_type": "stream",
     "text": [
      "spy x family 真好看 :3\n"
     ]
    }
   ],
   "source": [
    "name = 'Anya'\n",
    "if name == 'anya':\n",
    "    print(\"Anya is cute!!\")\n",
    "    print(\"Waku Waku~\")\n",
    "    \n",
    "print(\"spy x family 真好看 :3\")"
   ]
  },
  {
   "cell_type": "markdown",
   "metadata": {},
   "source": [
    "## `if else` statement"
   ]
  },
  {
   "cell_type": "markdown",
   "metadata": {},
   "source": [
    "如果有两段代码 要只选择跑其中一段, 那么 `if` 通常会搭配 `else`\n",
    "\n",
    "如果 `if` 的条件最后是 `False` 那就会执行 所有在 `else` 里的代码\n",
    "\n",
    "注意: `else` 后面的 `:`"
   ]
  },
  {
   "cell_type": "code",
   "execution_count": 7,
   "metadata": {},
   "outputs": [
    {
     "name": "stdout",
     "output_type": "stream",
     "text": [
      "Large\n",
      "Done\n"
     ]
    }
   ],
   "source": [
    "num = 12\n",
    "if num > 10:\n",
    "    print(\"Large\")\n",
    "else:\n",
    "    print(\"Small\")\n",
    "print(\"Done\")"
   ]
  },
  {
   "cell_type": "code",
   "execution_count": 8,
   "metadata": {},
   "outputs": [
    {
     "name": "stdout",
     "output_type": "stream",
     "text": [
      "Small\n",
      "Done\n"
     ]
    }
   ],
   "source": [
    "num = 3\n",
    "if num > 10:\n",
    "    print(\"Large\")\n",
    "else:\n",
    "    print(\"Small\")\n",
    "print(\"Done\")"
   ]
  },
  {
   "cell_type": "markdown",
   "metadata": {},
   "source": [
    "这里是 两个 单独的 `if` block, 从上往下 都要检查"
   ]
  },
  {
   "cell_type": "code",
   "execution_count": 9,
   "metadata": {},
   "outputs": [
    {
     "name": "stdout",
     "output_type": "stream",
     "text": [
      "Large\n",
      "Medium\n",
      "Done\n"
     ]
    }
   ],
   "source": [
    "num = 12\n",
    "if num > 10:\n",
    "    print(\"Large\") \n",
    "  \n",
    "if num >= 5:\n",
    "    print(\"Medium\")\n",
    "else:\n",
    "    print(\"Small\")\n",
    "print(\"Done\")"
   ]
  },
  {
   "cell_type": "markdown",
   "metadata": {},
   "source": [
    "## `if elif else` statement"
   ]
  },
  {
   "cell_type": "markdown",
   "metadata": {},
   "source": [
    "`elif` 是 `else if` 的缩写\n",
    "\n",
    "从上往下, 如果 `if` 是 *`False`*, 那就检查下一个 `elif`, 如果还是 *`False`*, 那就再检查下一个`elif`\n",
    "\n",
    "如果第一个 `if` 或者 中间某个 `elif` 是  *`True`* 了, 那么 底下全部的 `elif` 和 `else` 都不会跑\n",
    "\n",
    "\n",
    "注意: `if` 和 `else` 之间 可以有无数个 `elif`"
   ]
  },
  {
   "cell_type": "code",
   "execution_count": 10,
   "metadata": {},
   "outputs": [
    {
     "name": "stdout",
     "output_type": "stream",
     "text": [
      "Large\n",
      "Done\n"
     ]
    }
   ],
   "source": [
    "num = 12\n",
    "if num > 10:\n",
    "    print(\"Large\")\n",
    "elif num >= 5: \n",
    "    print(\"Medium\")\n",
    "elif num >= 2:\n",
    "    print(\"Kind of small..\")\n",
    "else:\n",
    "    print(\"Small\")\n",
    "print(\"Done\")"
   ]
  },
  {
   "cell_type": "code",
   "execution_count": 11,
   "metadata": {},
   "outputs": [
    {
     "name": "stdout",
     "output_type": "stream",
     "text": [
      "Medium\n",
      "Done\n"
     ]
    }
   ],
   "source": [
    "num = 8\n",
    "if num > 10:\n",
    "    print(\"Large\")\n",
    "elif num >= 5: \n",
    "    print(\"Medium\")\n",
    "elif num >= 2:\n",
    "    print(\"Kind of small..\")\n",
    "else:\n",
    "    print(\"Small\")\n",
    "print(\"Done\")"
   ]
  },
  {
   "cell_type": "code",
   "execution_count": 12,
   "metadata": {},
   "outputs": [
    {
     "name": "stdout",
     "output_type": "stream",
     "text": [
      "Kind of small..\n",
      "Done\n"
     ]
    }
   ],
   "source": [
    "num = 2\n",
    "if num > 10:\n",
    "    print(\"Large\")\n",
    "elif num >= 5: \n",
    "    print(\"Medium\")\n",
    "elif num >= 2:\n",
    "    print(\"Kind of small..\")\n",
    "else:\n",
    "    print(\"Small\")\n",
    "print(\"Done\")"
   ]
  },
  {
   "cell_type": "code",
   "execution_count": 13,
   "metadata": {},
   "outputs": [
    {
     "name": "stdout",
     "output_type": "stream",
     "text": [
      "Small\n",
      "Done\n"
     ]
    }
   ],
   "source": [
    "num = 1\n",
    "if num > 10:\n",
    "    print(\"Large\")\n",
    "elif num >= 5: \n",
    "    print(\"Medium\")\n",
    "elif num >= 2:\n",
    "    print(\"Kind of small..\")\n",
    "else:\n",
    "    print(\"Small\")\n",
    "print(\"Done\")"
   ]
  },
  {
   "cell_type": "markdown",
   "metadata": {},
   "source": [
    "注意: 我们在用 `if elif` 时 一定要 从小检查到大, 或者 从大检查到小"
   ]
  },
  {
   "cell_type": "code",
   "execution_count": 19,
   "metadata": {},
   "outputs": [
    {
     "name": "stdout",
     "output_type": "stream",
     "text": [
      "Medium\n",
      "Done\n"
     ]
    }
   ],
   "source": [
    "# This is Wrong !!!!!!!\n",
    "num = 12\n",
    "if num >= 5: \n",
    "    print(\"Medium\")\n",
    "elif num > 10:\n",
    "    print(\"Large\")\n",
    "elif num >= 2:\n",
    "    print(\"Kind of small..\")\n",
    "else:\n",
    "    print(\"Small\")\n",
    "print(\"Done\")"
   ]
  },
  {
   "cell_type": "markdown",
   "metadata": {},
   "source": [
    "## Nested If Statments"
   ]
  },
  {
   "cell_type": "markdown",
   "metadata": {},
   "source": [
    "`if` 里面 也可以再套 `if`"
   ]
  },
  {
   "cell_type": "code",
   "execution_count": 14,
   "metadata": {},
   "outputs": [
    {
     "name": "stdout",
     "output_type": "stream",
     "text": [
      "Large even number\n"
     ]
    }
   ],
   "source": [
    "num = 12\n",
    "if num > 10:\n",
    "    if num % 2 == 0:\n",
    "        print(\"Large even number\")\n",
    "    else:\n",
    "        print(\"Large odd number\")\n",
    "elif ...:\n",
    "    ..."
   ]
  },
  {
   "cell_type": "markdown",
   "metadata": {},
   "source": [
    "*`Example:`* Print the practice time needed based on the table below, given the age and whether or not its a beginner"
   ]
  },
  {
   "cell_type": "code",
   "execution_count": 17,
   "metadata": {},
   "outputs": [
    {
     "name": "stdout",
     "output_type": "stream",
     "text": [
      "30\n"
     ]
    }
   ],
   "source": [
    "age = 3        # int\n",
    "beginner = False   # bool\n",
    "\n",
    "# age of player               practice time\n",
    "# -----------------------------------------\n",
    "# under 6 years               30 minutes\n",
    "# 6 to 8 years, inclusive     50 minutes\n",
    "# over 8 years                75 minutes\n",
    "\n",
    "# Add 15 minutes to the practice time if the player is a beginner.\n",
    "\n",
    "# Calculate the practice time ...\n",
    "if age < 6:\n",
    "    time = 30\n",
    "elif age <= 8:\n",
    "    time = 50\n",
    "else:\n",
    "    time = 75\n",
    "\n",
    "if beginner:\n",
    "    time = time + 15    # time += 15\n",
    "\n",
    "print(time)"
   ]
  },
  {
   "cell_type": "code",
   "execution_count": null,
   "metadata": {},
   "outputs": [],
   "source": []
  }
 ],
 "metadata": {
  "kernelspec": {
   "display_name": "Python 3.10.5 64-bit",
   "language": "python",
   "name": "python3"
  },
  "language_info": {
   "codemirror_mode": {
    "name": "ipython",
    "version": 3
   },
   "file_extension": ".py",
   "mimetype": "text/x-python",
   "name": "python",
   "nbconvert_exporter": "python",
   "pygments_lexer": "ipython3",
   "version": "3.11.1 (v3.11.1:a7a450f84a, Dec  6 2022, 15:24:06) [Clang 13.0.0 (clang-1300.0.29.30)]"
  },
  "orig_nbformat": 4,
  "vscode": {
   "interpreter": {
    "hash": "aee8b7b246df8f9039afb4144a1f6fd8d2ca17a180786b69acc140d282b71a49"
   }
  }
 },
 "nbformat": 4,
 "nbformat_minor": 2
}

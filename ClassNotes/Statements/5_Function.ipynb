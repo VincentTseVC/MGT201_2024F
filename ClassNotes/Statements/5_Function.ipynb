{
 "cells": [
  {
   "attachments": {},
   "cell_type": "markdown",
   "metadata": {},
   "source": [
    "在數學裡 我們可以創建一個函數  \n",
    "\n",
    "f(x) = x + 1\n",
    "\n",
    "我們可以去叫這個函數 並給他不同的 arguments (inputs)\n",
    "\n",
    "f(5) -> 6  \n",
    "f(10) -> 11  "
   ]
  },
  {
   "cell_type": "code",
   "execution_count": 9,
   "metadata": {},
   "outputs": [],
   "source": [
    "def f(x):\n",
    "    return x + 1"
   ]
  },
  {
   "cell_type": "code",
   "execution_count": 10,
   "metadata": {},
   "outputs": [
    {
     "data": {
      "text/plain": [
       "1000"
      ]
     },
     "execution_count": 10,
     "metadata": {},
     "output_type": "execute_result"
    }
   ],
   "source": [
    "f(999)"
   ]
  },
  {
   "cell_type": "code",
   "execution_count": 11,
   "metadata": {},
   "outputs": [
    {
     "data": {
      "text/plain": [
       "11"
      ]
     },
     "execution_count": 11,
     "metadata": {},
     "output_type": "execute_result"
    }
   ],
   "source": [
    "f(10)"
   ]
  },
  {
   "cell_type": "code",
   "execution_count": null,
   "metadata": {},
   "outputs": [],
   "source": [
    "\n",
    "print('wtf')\n",
    "\n",
    "print(f(5))\n",
    "print(f(10))\n",
    "\n",
    "y = f(15)\n",
    "print(y + 2)"
   ]
  },
  {
   "cell_type": "code",
   "execution_count": 1,
   "metadata": {},
   "outputs": [
    {
     "name": "stdout",
     "output_type": "stream",
     "text": [
      "My gpa is 4.0\n",
      "My gpa is 4.0\n",
      "My gpa is 4.0\n",
      "My gpa is 4.0\n"
     ]
    }
   ],
   "source": [
    "gpa = 4.0\n",
    "\n",
    "print('My gpa is ' + str(gpa))\n",
    "print('My gpa is {}'.format(gpa))\n",
    "print(f'My gpa is {gpa}')\n",
    "print('My gpa is %.1f' % gpa)"
   ]
  },
  {
   "cell_type": "code",
   "execution_count": 7,
   "metadata": {},
   "outputs": [
    {
     "name": "stdout",
     "output_type": "stream",
     "text": [
      "Hello my name is Vincent and I am 3 years old\n",
      "Vincent will probably die within 97 years\n",
      "bye~~\n"
     ]
    }
   ],
   "source": [
    "def tell_the_truth(name, age):\n",
    "    print(f'Hello my name is {name} and I am {age} years old')\n",
    "    print(f'Vincent will probably die within {100 - age} years')\n",
    "    print('bye~~')\n",
    "\n",
    "tell_the_truth('Vincent', 3)"
   ]
  },
  {
   "cell_type": "code",
   "execution_count": 8,
   "metadata": {},
   "outputs": [
    {
     "name": "stdout",
     "output_type": "stream",
     "text": [
      "heeeeee\n",
      "Hello my name is Anya and I am 15 years old\n",
      "Vincent will probably die within 85 years\n",
      "bye~~\n",
      "wahahahaha\n"
     ]
    }
   ],
   "source": [
    "print('heeeeee')\n",
    "tell_the_truth('Anya', 15)\n",
    "print('wahahahaha')"
   ]
  },
  {
   "cell_type": "code",
   "execution_count": 14,
   "metadata": {},
   "outputs": [
    {
     "name": "stdout",
     "output_type": "stream",
     "text": [
      "Hello!!\n",
      "how are you~~~\n"
     ]
    }
   ],
   "source": [
    "def greeting():\n",
    "    print(\"Hello!!\")\n",
    "    print(\"how are you~~~\")\n",
    "\n",
    "greeting()"
   ]
  },
  {
   "cell_type": "markdown",
   "metadata": {},
   "source": [
    "錯的 不要用 print!!!"
   ]
  },
  {
   "cell_type": "code",
   "execution_count": 15,
   "metadata": {},
   "outputs": [
    {
     "name": "stdout",
     "output_type": "stream",
     "text": [
      "100.0\n",
      "The area is: None\n"
     ]
    }
   ],
   "source": [
    "def triangle_area(base, height):\n",
    "    area = base * height * 0.5\n",
    "    print(area)\n",
    "\n",
    "res = triangle_area(10, 20)\n",
    "print(f'The area is: {res}')"
   ]
  },
  {
   "cell_type": "markdown",
   "metadata": {},
   "source": [
    "對的！！ 用 return"
   ]
  },
  {
   "cell_type": "code",
   "execution_count": 16,
   "metadata": {},
   "outputs": [
    {
     "name": "stdout",
     "output_type": "stream",
     "text": [
      "The area is: 100.0\n"
     ]
    }
   ],
   "source": [
    "def triangle_area(base, height):\n",
    "    area = base * height * 0.5\n",
    "    return area\n",
    "\n",
    "res = triangle_area(10, 20)\n",
    "print(f'The area is: {res}')"
   ]
  },
  {
   "attachments": {},
   "cell_type": "markdown",
   "metadata": {},
   "source": [
    "# Examples\n",
    "\n",
    "Write a function that takes in a string and return True iff it contains a vowel, other False"
   ]
  },
  {
   "cell_type": "code",
   "execution_count": 23,
   "metadata": {},
   "outputs": [],
   "source": [
    "def contains_vowels(s):\n",
    "    for ch in s:\n",
    "        if ch in 'aeiouAEIOU':\n",
    "            return True\n",
    "        # else:\n",
    "        #     return False\n",
    "    return False"
   ]
  },
  {
   "cell_type": "code",
   "execution_count": 24,
   "metadata": {},
   "outputs": [
    {
     "name": "stdout",
     "output_type": "stream",
     "text": [
      "True\n",
      "False\n",
      "True\n"
     ]
    }
   ],
   "source": [
    "print(contains_vowels('Vincent'))   # True\n",
    "print(contains_vowels('mgt201'))    # False\n",
    "print(contains_vowels('Anya'))      # True"
   ]
  },
  {
   "attachments": {},
   "cell_type": "markdown",
   "metadata": {},
   "source": [
    "Write a function that takes in a list of numbers and return True if and only if the list contains no negative number"
   ]
  },
  {
   "cell_type": "code",
   "execution_count": null,
   "metadata": {},
   "outputs": [],
   "source": [
    "def no_negative(L):\n",
    "    for num in L:\n",
    "        if num < 0:\n",
    "            return False\n",
    "    return True"
   ]
  },
  {
   "attachments": {},
   "cell_type": "markdown",
   "metadata": {},
   "source": [
    "Write a function that count the number of vowels in a string"
   ]
  },
  {
   "cell_type": "code",
   "execution_count": null,
   "metadata": {},
   "outputs": [],
   "source": [
    "# for <variable_name> in <collection>\n",
    "\n",
    "# for ch in \"MGT201\":\n",
    "# for item in [1, 3, 6]:\n",
    "# for key in {'a': 1, 'b': 2, ...}\n",
    "# for num in range(2, 15, 3)"
   ]
  },
  {
   "cell_type": "code",
   "execution_count": null,
   "metadata": {},
   "outputs": [],
   "source": [
    "def count_vowel(s):\n",
    "    count = 0\n",
    "    for ch in s:\n",
    "        if ch in 'aeiouAEIOU':\n",
    "            count += 1\n",
    "    return count"
   ]
  },
  {
   "attachments": {},
   "cell_type": "markdown",
   "metadata": {},
   "source": [
    "Write a function that count the total number of vowels in a list of strings"
   ]
  },
  {
   "cell_type": "code",
   "execution_count": null,
   "metadata": {},
   "outputs": [],
   "source": [
    "def count_total_vowels(lst):\n",
    "    total_count = 0\n",
    "    for string in lst:\n",
    "        total_count += count_vowel(string)\n",
    "    return total_count\n",
    "\n",
    "print(count_total_vowels(['Vincent', 'I hate programming'])) # 2 + 6 => 8"
   ]
  },
  {
   "attachments": {},
   "cell_type": "markdown",
   "metadata": {},
   "source": [
    "Write a function that takes in a list of numbers and return the number of even numbers in the list"
   ]
  },
  {
   "cell_type": "code",
   "execution_count": 25,
   "metadata": {},
   "outputs": [],
   "source": [
    "def count_even(L):\n",
    "    count = 0\n",
    "    for num in L:\n",
    "        if num % 2 == 0:\n",
    "            count += 1\n",
    "    return count\n"
   ]
  },
  {
   "cell_type": "code",
   "execution_count": 26,
   "metadata": {},
   "outputs": [
    {
     "data": {
      "text/plain": [
       "4"
      ]
     },
     "execution_count": 26,
     "metadata": {},
     "output_type": "execute_result"
    }
   ],
   "source": [
    "count_even([2024, 2, 10, 3, 27, 8, 5, 3]) # 4"
   ]
  },
  {
   "cell_type": "code",
   "execution_count": 29,
   "metadata": {},
   "outputs": [
    {
     "data": {
      "text/plain": [
       "4"
      ]
     },
     "execution_count": 29,
     "metadata": {},
     "output_type": "execute_result"
    }
   ],
   "source": [
    "def count_all_even(L):\n",
    "    count = 0\n",
    "    for sub in L:\n",
    "        count += count_even(sub)\n",
    "    return count\n",
    "\n",
    "\n",
    "count_all_even([[2024, 2, 10], [3, 27], [8, 5, 3]]) # 4"
   ]
  },
  {
   "cell_type": "code",
   "execution_count": 15,
   "metadata": {},
   "outputs": [
    {
     "name": "stdout",
     "output_type": "stream",
     "text": [
      "1\n",
      "1\n",
      "2\n",
      "1\n",
      "2\n",
      "3\n",
      "0\n",
      "4\n",
      "8\n",
      "7\n"
     ]
    }
   ],
   "source": [
    "def func(*x):\n",
    "    for item in x:\n",
    "        print(item)\n",
    "\n",
    "\n",
    "func(1)\n",
    "func(1, 2)\n",
    "func(1, 2, 3)\n",
    "func(0, 4, 8, 7)\n"
   ]
  },
  {
   "cell_type": "code",
   "execution_count": 16,
   "metadata": {},
   "outputs": [
    {
     "name": "stdout",
     "output_type": "stream",
     "text": [
      "[10, 2, 3, 4]\n"
     ]
    }
   ],
   "source": [
    "def first_times_10(lst):\n",
    "    lst[0] = lst[0] * 10\n",
    "\n",
    "\n",
    "numbers = [1, 2, 3, 4]\n",
    "first_times_10(numbers)\n",
    "print(numbers)"
   ]
  },
  {
   "attachments": {},
   "cell_type": "markdown",
   "metadata": {},
   "source": [
    "# Example !!!!!"
   ]
  },
  {
   "attachments": {},
   "cell_type": "markdown",
   "metadata": {},
   "source": [
    "Write a function that takes in a list of number and return a new list with every number squared"
   ]
  },
  {
   "cell_type": "code",
   "execution_count": 18,
   "metadata": {},
   "outputs": [
    {
     "name": "stdout",
     "output_type": "stream",
     "text": [
      "[4, 9, 16]\n",
      "[2, 3, 4]\n"
     ]
    }
   ],
   "source": [
    "def square(lst):\n",
    "    result = []\n",
    "    for num in lst:\n",
    "        result.append(num ** 2)\n",
    "    return result\n",
    "\n",
    "numbers = [2, 3, 4]\n",
    "res = square(numbers)\n",
    "print(res) # [4, 9, 16]\n",
    "print(numbers) # [2, 3, 4]"
   ]
  },
  {
   "attachments": {},
   "cell_type": "markdown",
   "metadata": {},
   "source": [
    "Write a function that takes in a list of numbers and MODIFIY the list so that every number is squared."
   ]
  },
  {
   "cell_type": "code",
   "execution_count": 22,
   "metadata": {},
   "outputs": [
    {
     "name": "stdout",
     "output_type": "stream",
     "text": [
      "None\n",
      "[4, 9, 16]\n"
     ]
    }
   ],
   "source": [
    "def square_v2(lst):\n",
    "    # for num in lst:\n",
    "    #     num = num ** 2\n",
    "    for i in range(0, len(lst), 1):\n",
    "        lst[i] = lst[i] ** 2\n",
    "        # print(lst[i])\n",
    "\n",
    "numbers = [2, 3, 4]\n",
    "res = square_v2(numbers)\n",
    "print(res) # None\n",
    "print(numbers) # [4, 9, 16]"
   ]
  },
  {
   "attachments": {},
   "cell_type": "markdown",
   "metadata": {},
   "source": [
    "Write a function that takes in a list of numbers and Modify the list so that every even number is removed."
   ]
  },
  {
   "cell_type": "code",
   "execution_count": 23,
   "metadata": {},
   "outputs": [
    {
     "name": "stdout",
     "output_type": "stream",
     "text": [
      "[1, 3, 5]\n"
     ]
    }
   ],
   "source": [
    "def remove_even(lst):\n",
    "    copy = lst[:]\n",
    "    for n in copy:\n",
    "        if n % 2 == 0:\n",
    "            lst.remove(n)\n",
    "\n",
    "\n",
    "numbers = [1, 2, 2, 3, 4, 8, 6, 5, 6]\n",
    "remove_even(numbers)\n",
    "print(numbers) # [1, 3, 5]\n"
   ]
  }
 ],
 "metadata": {
  "kernelspec": {
   "display_name": "Python 3.10.5 64-bit",
   "language": "python",
   "name": "python3"
  },
  "language_info": {
   "codemirror_mode": {
    "name": "ipython",
    "version": 3
   },
   "file_extension": ".py",
   "mimetype": "text/x-python",
   "name": "python",
   "nbconvert_exporter": "python",
   "pygments_lexer": "ipython3",
   "version": "3.11.1 (v3.11.1:a7a450f84a, Dec  6 2022, 15:24:06) [Clang 13.0.0 (clang-1300.0.29.30)]"
  },
  "orig_nbformat": 4,
  "vscode": {
   "interpreter": {
    "hash": "aee8b7b246df8f9039afb4144a1f6fd8d2ca17a180786b69acc140d282b71a49"
   }
  }
 },
 "nbformat": 4,
 "nbformat_minor": 2
}

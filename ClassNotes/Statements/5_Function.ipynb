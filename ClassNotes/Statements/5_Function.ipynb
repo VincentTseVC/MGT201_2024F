{
 "cells": [
  {
   "cell_type": "code",
   "execution_count": 1,
   "metadata": {},
   "outputs": [
    {
     "name": "stdout",
     "output_type": "stream",
     "text": [
      "My gpa is 4.0\n",
      "My gpa is 4.0\n",
      "My gpa is 4.0\n",
      "My gpa is 4.0\n"
     ]
    }
   ],
   "source": [
    "gpa = 4.0\n",
    "\n",
    "print('My gpa is ' + str(gpa))\n",
    "print('My gpa is {}'.format(gpa))\n",
    "print(f'My gpa is {gpa}')\n",
    "print('My gpa is %.1f' % gpa)"
   ]
  },
  {
   "cell_type": "code",
   "execution_count": 12,
   "metadata": {},
   "outputs": [
    {
     "name": "stdout",
     "output_type": "stream",
     "text": [
      "Hello my name is Vincent and I am 3 years old\n",
      "Vincent will probably die within 97 years\n",
      "bye~~\n"
     ]
    }
   ],
   "source": [
    "def tell_the_truth(name, age):\n",
    "    print(f'Hello my name is {name} and I am {age} years old')\n",
    "    print(f'Vincent will probably die within {100 - age} years')\n",
    "    print('bye~~')\n",
    "\n",
    "tell_the_truth('Vincent', 3)"
   ]
  },
  {
   "cell_type": "code",
   "execution_count": 13,
   "metadata": {},
   "outputs": [
    {
     "name": "stdout",
     "output_type": "stream",
     "text": [
      "heeeeee\n",
      "Hello my name is Anya and I am 15 years old\n",
      "Vincent will probably die within 85 years\n",
      "bye~~\n",
      "wahahahaha\n"
     ]
    }
   ],
   "source": [
    "print('heeeeee')\n",
    "tell_the_truth('Anya', 15)\n",
    "print('wahahahaha')"
   ]
  },
  {
   "cell_type": "code",
   "execution_count": 14,
   "metadata": {},
   "outputs": [
    {
     "name": "stdout",
     "output_type": "stream",
     "text": [
      "Hello!!\n",
      "how are you~~~\n"
     ]
    }
   ],
   "source": [
    "def greeting():\n",
    "    print(\"Hello!!\")\n",
    "    print(\"how are you~~~\")\n",
    "\n",
    "greeting()"
   ]
  },
  {
   "cell_type": "markdown",
   "metadata": {},
   "source": [
    "錯的 不要用 print!!!"
   ]
  },
  {
   "cell_type": "code",
   "execution_count": 15,
   "metadata": {},
   "outputs": [
    {
     "name": "stdout",
     "output_type": "stream",
     "text": [
      "100.0\n",
      "The area is: None\n"
     ]
    }
   ],
   "source": [
    "def triangle_area(base, height):\n",
    "    area = base * height * 0.5\n",
    "    print(area)\n",
    "\n",
    "res = triangle_area(10, 20)\n",
    "print(f'The area is: {res}')"
   ]
  },
  {
   "cell_type": "markdown",
   "metadata": {},
   "source": [
    "對的！！ 用 return"
   ]
  },
  {
   "cell_type": "code",
   "execution_count": 16,
   "metadata": {},
   "outputs": [
    {
     "name": "stdout",
     "output_type": "stream",
     "text": [
      "The area is: 100.0\n"
     ]
    }
   ],
   "source": [
    "def triangle_area(base, height):\n",
    "  area = base * height * 0.5\n",
    "  return area\n",
    "\n",
    "res = triangle_area(10, 20)\n",
    "print(f'The area is: {res}')"
   ]
  },
  {
   "attachments": {},
   "cell_type": "markdown",
   "metadata": {},
   "source": [
    "# Examples\n",
    "\n",
    "Write a function that takes in a string and return True iff it contains a vowel, other False"
   ]
  },
  {
   "cell_type": "code",
   "execution_count": 23,
   "metadata": {},
   "outputs": [],
   "source": [
    "def contains_digit(s):\n",
    "    for ch in s:\n",
    "        if ch in 'aeiouAEIOU':\n",
    "            return True\n",
    "        # else:\n",
    "            # return False\n",
    "    return False"
   ]
  },
  {
   "cell_type": "code",
   "execution_count": 24,
   "metadata": {},
   "outputs": [
    {
     "name": "stdout",
     "output_type": "stream",
     "text": [
      "True\n",
      "False\n",
      "True\n"
     ]
    }
   ],
   "source": [
    "print(contains_digit('Vincent')) # False\n",
    "print(contains_digit('mgt201')) # False\n",
    "print(contains_digit('Anya'))   # True"
   ]
  },
  {
   "attachments": {},
   "cell_type": "markdown",
   "metadata": {},
   "source": [
    "Write a function that takes in a list of numbers and return True if and only if the list contains no negative number"
   ]
  },
  {
   "cell_type": "code",
   "execution_count": null,
   "metadata": {},
   "outputs": [],
   "source": [
    "def no_negative(L):\n",
    "    for num in L:\n",
    "        if num < 0:\n",
    "            return False\n",
    "    return True"
   ]
  },
  {
   "attachments": {},
   "cell_type": "markdown",
   "metadata": {},
   "source": [
    "Write a function that takes in a list of numbers and return the number of even numbers in the list"
   ]
  },
  {
   "cell_type": "code",
   "execution_count": 25,
   "metadata": {},
   "outputs": [],
   "source": [
    "def count_even(L):\n",
    "    count = 0\n",
    "    for num in L:\n",
    "        if num % 2 == 0:\n",
    "            count += 1\n",
    "    return count\n"
   ]
  },
  {
   "cell_type": "code",
   "execution_count": 26,
   "metadata": {},
   "outputs": [
    {
     "data": {
      "text/plain": [
       "4"
      ]
     },
     "execution_count": 26,
     "metadata": {},
     "output_type": "execute_result"
    }
   ],
   "source": [
    "count_even([2024, 2, 10, 3, 27, 8, 5, 3]) # 4"
   ]
  },
  {
   "cell_type": "code",
   "execution_count": 29,
   "metadata": {},
   "outputs": [
    {
     "data": {
      "text/plain": [
       "4"
      ]
     },
     "execution_count": 29,
     "metadata": {},
     "output_type": "execute_result"
    }
   ],
   "source": [
    "def count_all_even(L):\n",
    "    count = 0\n",
    "    for sub in L:\n",
    "        count += count_even(sub)\n",
    "    return count\n",
    "\n",
    "\n",
    "count_all_even([[2024, 2, 10], [3, 27], [8, 5, 3]]) # 4"
   ]
  }
 ],
 "metadata": {
  "kernelspec": {
   "display_name": "Python 3.10.5 64-bit",
   "language": "python",
   "name": "python3"
  },
  "language_info": {
   "codemirror_mode": {
    "name": "ipython",
    "version": 3
   },
   "file_extension": ".py",
   "mimetype": "text/x-python",
   "name": "python",
   "nbconvert_exporter": "python",
   "pygments_lexer": "ipython3",
   "version": "3.11.1"
  },
  "orig_nbformat": 4,
  "vscode": {
   "interpreter": {
    "hash": "aee8b7b246df8f9039afb4144a1f6fd8d2ca17a180786b69acc140d282b71a49"
   }
  }
 },
 "nbformat": 4,
 "nbformat_minor": 2
}

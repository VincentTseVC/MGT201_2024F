{
 "cells": [
  {
   "cell_type": "markdown",
   "metadata": {},
   "source": [
    "# Loop 循环"
   ]
  },
  {
   "cell_type": "markdown",
   "metadata": {},
   "source": [
    "## `while` loop"
   ]
  },
  {
   "cell_type": "markdown",
   "metadata": {},
   "source": [
    "通过某个条件 `True` or `False` 去判断是否要继续重复执行某一段代码"
   ]
  },
  {
   "cell_type": "code",
   "execution_count": 5,
   "metadata": {},
   "outputs": [
    {
     "name": "stdout",
     "output_type": "stream",
     "text": [
      "I hate programing...\n",
      "I hate programing...\n",
      "I hate programing...\n",
      "I hate programing...\n",
      "I hate programing...\n",
      "I hate programing...\n",
      "I hate programing...\n",
      "I hate programing...\n",
      "I hate programing...\n",
      "I hate programing...\n",
      "Done\n"
     ]
    }
   ],
   "source": [
    "# 重複 print \"I hate programing...\", 10次\n",
    "n = 0\n",
    "while n < 10:\n",
    "    print(\"I hate programing...\")\n",
    "    n = n + 1\n",
    "print(\"Done\")"
   ]
  },
  {
   "cell_type": "code",
   "execution_count": 6,
   "metadata": {},
   "outputs": [
    {
     "data": {
      "text/plain": [
       "['Anna', 'Vincent', 'Bob']"
      ]
     },
     "execution_count": 6,
     "metadata": {},
     "output_type": "execute_result"
    }
   ],
   "source": [
    "# 把所有的 Anya 都刪掉\n",
    "names = ['Anya', 'Anna', 'Anya', 'Vincent', 'Anya', 'Anya', 'Bob']\n",
    "\n",
    "while 'Anya' in names:\n",
    "    names.remove('Anya')\n",
    "\n",
    "names"
   ]
  },
  {
   "cell_type": "code",
   "execution_count": 10,
   "metadata": {},
   "outputs": [
    {
     "name": "stdout",
     "output_type": "stream",
     "text": [
      "0 M\n",
      "1 G\n",
      "2 T\n",
      "3 2\n",
      "4 0\n",
      "5 1\n"
     ]
    }
   ],
   "source": [
    "#    012345\n",
    "s = \"MGT201\"\n",
    "\n",
    "i = 0\n",
    "while i < 6:\n",
    "    print(i, s[i])\n",
    "    i += 1       # i = i + 1"
   ]
  },
  {
   "attachments": {},
   "cell_type": "markdown",
   "metadata": {},
   "source": [
    "Example: count vowel"
   ]
  },
  {
   "cell_type": "code",
   "execution_count": 11,
   "metadata": {},
   "outputs": [
    {
     "name": "stdout",
     "output_type": "stream",
     "text": [
      "2\n"
     ]
    }
   ],
   "source": [
    "s = \"Vincent\"\n",
    "count = 0\n",
    "i = 0\n",
    "while i < len(s):\n",
    "    if s[i] in 'aeiouAEIOU':\n",
    "        count += 1\n",
    "    i += 1\n",
    "\n",
    "print(count)"
   ]
  },
  {
   "cell_type": "markdown",
   "metadata": {},
   "source": [
    "## `for` loop"
   ]
  },
  {
   "cell_type": "markdown",
   "metadata": {},
   "source": [
    "```python\n",
    "for variable in collection:\n",
    "    # do something about the variable\n",
    "```\n",
    "\n",
    "循环 `collection` 里的 每一个 item, 并把每个item 依次 放进 `variable` 里\n",
    "\n",
    "`collection` 一定要是 `str`, `list`, `tuple`, `dict`, `set`, `file`"
   ]
  },
  {
   "cell_type": "code",
   "execution_count": 12,
   "metadata": {},
   "outputs": [
    {
     "name": "stdout",
     "output_type": "stream",
     "text": [
      "hello M\n",
      "bye\n",
      "hello G\n",
      "bye\n",
      "hello T\n",
      "bye\n",
      "hello 2\n",
      "bye\n",
      "hello 0\n",
      "bye\n",
      "hello 1\n",
      "bye\n",
      "結束\n"
     ]
    }
   ],
   "source": [
    "s = \"MGT201\"\n",
    "for fuck in s:\n",
    "    print(\"hello \" + fuck)\n",
    "    print(\"bye\")\n",
    "\n",
    "print('結束')"
   ]
  },
  {
   "cell_type": "code",
   "execution_count": 9,
   "metadata": {},
   "outputs": [
    {
     "name": "stdout",
     "output_type": "stream",
     "text": [
      "2\n"
     ]
    }
   ],
   "source": [
    "s = 'Vincent'\n",
    "count = 0\n",
    "for ch in s:\n",
    "    if ch in 'aeiouAEIOU':\n",
    "        count += 1\n",
    "print(count)"
   ]
  },
  {
   "cell_type": "code",
   "execution_count": 14,
   "metadata": {},
   "outputs": [
    {
     "name": "stdout",
     "output_type": "stream",
     "text": [
      "apple\n",
      "a is a VOWEL\n",
      "p is a LETTER\n",
      "p is a LETTER\n",
      "l is a LETTER\n",
      "e is a VOWEL\n",
      "banana\n",
      "b is a LETTER\n",
      "a is a VOWEL\n",
      "n is a LETTER\n",
      "a is a VOWEL\n",
      "n is a LETTER\n",
      "a is a VOWEL\n",
      "carrot\n",
      "c is a LETTER\n",
      "a is a VOWEL\n",
      "r is a LETTER\n",
      "r is a LETTER\n",
      "o is a VOWEL\n",
      "t is a LETTER\n"
     ]
    }
   ],
   "source": [
    "items = ['apple', 'banana', 'carrot']\n",
    "for shit in items:\n",
    "    print(shit)\n",
    "    for fk in shit:\n",
    "        if fk in 'aeiouAEIOU':\n",
    "            print(fk + ' is a VOWEL')\n",
    "        elif fk.isdigit():\n",
    "            print(fk + ' is a NUMBER')\n",
    "        else:\n",
    "            print(fk + ' is a LETTER')"
   ]
  },
  {
   "cell_type": "markdown",
   "metadata": {},
   "source": [
    "## `range` 函数"
   ]
  },
  {
   "cell_type": "markdown",
   "metadata": {},
   "source": [
    "创造一个 collection of `int`\n",
    "\n",
    "拿进的参数的意思 和 `slicing` 一样\n",
    "\n",
    "- `range(start, end, step)` 从 `start` 开始, 到 `end` (不包括) 结束, 每次增加 `step`\n",
    "\n",
    "- `range(start, end)` 默认每一次 `+1`\n",
    "\n",
    "- `range(end)` 默认从`０`开始\n",
    "\n",
    "注意: \n",
    "- `step` 如果是 positive, `start` <= `end`\n",
    "- `step` 如果是 negative, `start` >= `end`"
   ]
  },
  {
   "cell_type": "code",
   "execution_count": 16,
   "metadata": {},
   "outputs": [
    {
     "name": "stdout",
     "output_type": "stream",
     "text": [
      "[1, 4, 7]\n",
      "1\n",
      "4\n",
      "7\n"
     ]
    }
   ],
   "source": [
    "num_lst = list(range(1, 9, 3)) # 創建一個 collection 裡面只有 1, 4, 7 三個數字\n",
    "print(num_lst)\n",
    "\n",
    "for num in num_lst:\n",
    "    print(num)"
   ]
  },
  {
   "cell_type": "code",
   "execution_count": 17,
   "metadata": {},
   "outputs": [
    {
     "name": "stdout",
     "output_type": "stream",
     "text": [
      "1\n",
      "4\n",
      "7\n"
     ]
    }
   ],
   "source": [
    "r = range(1, 9, 3)\n",
    "for n in r:\n",
    "    print(n)"
   ]
  },
  {
   "cell_type": "code",
   "execution_count": 18,
   "metadata": {},
   "outputs": [
    {
     "name": "stdout",
     "output_type": "stream",
     "text": [
      "1\n",
      "4\n",
      "7\n"
     ]
    }
   ],
   "source": [
    "for n in range(1, 9, 3):\n",
    "    print(n)"
   ]
  },
  {
   "cell_type": "code",
   "execution_count": 19,
   "metadata": {},
   "outputs": [
    {
     "name": "stdout",
     "output_type": "stream",
     "text": [
      "1\n",
      "2\n",
      "3\n",
      "4\n",
      "5\n",
      "6\n",
      "7\n",
      "8\n"
     ]
    }
   ],
   "source": [
    "for n in range(1, 9):\n",
    "    print(n)"
   ]
  },
  {
   "cell_type": "code",
   "execution_count": 20,
   "metadata": {},
   "outputs": [
    {
     "name": "stdout",
     "output_type": "stream",
     "text": [
      "0\n",
      "1\n",
      "2\n",
      "3\n",
      "4\n",
      "5\n",
      "6\n",
      "7\n",
      "8\n"
     ]
    }
   ],
   "source": [
    "for n in range(9):\n",
    "    print(n)"
   ]
  },
  {
   "cell_type": "code",
   "execution_count": 21,
   "metadata": {},
   "outputs": [
    {
     "ename": "TypeError",
     "evalue": "range expected at least 1 argument, got 0",
     "output_type": "error",
     "traceback": [
      "\u001b[0;31m---------------------------------------------------------------------------\u001b[0m",
      "\u001b[0;31mTypeError\u001b[0m                                 Traceback (most recent call last)",
      "Cell \u001b[0;32mIn[21], line 1\u001b[0m\n\u001b[0;32m----> 1\u001b[0m \u001b[39mfor\u001b[39;00m n \u001b[39min\u001b[39;00m \u001b[39mrange\u001b[39;49m(): \u001b[39m# 會有 Error!!!\u001b[39;00m\n\u001b[1;32m      2\u001b[0m     \u001b[39mprint\u001b[39m(n)\n",
      "\u001b[0;31mTypeError\u001b[0m: range expected at least 1 argument, got 0"
     ]
    }
   ],
   "source": [
    "for n in range(): # 會有 Error!!!\n",
    "    print(n)"
   ]
  },
  {
   "cell_type": "code",
   "execution_count": 22,
   "metadata": {},
   "outputs": [
    {
     "name": "stdout",
     "output_type": "stream",
     "text": [
      "10\n",
      "9\n",
      "8\n",
      "7\n",
      "6\n",
      "5\n",
      "4\n",
      "3\n"
     ]
    }
   ],
   "source": [
    "for n in range(10, 2, -1):\n",
    "    print(n)"
   ]
  },
  {
   "cell_type": "code",
   "execution_count": 25,
   "metadata": {},
   "outputs": [
    {
     "name": "stdout",
     "output_type": "stream",
     "text": [
      "2\n"
     ]
    }
   ],
   "source": [
    "s = 'Vincent'\n",
    "count = 0\n",
    "# for n in range(0, len(s), 1):\n",
    "for i in range(len(s)):\n",
    "    if s[i] in 'aeiouAEIOU':\n",
    "        count += 1\n",
    "\n",
    "print(count)"
   ]
  },
  {
   "cell_type": "markdown",
   "metadata": {},
   "source": [
    "## *`不同的方式`* 去循环一个 `str`, `list`, `tuple`"
   ]
  },
  {
   "cell_type": "code",
   "execution_count": 12,
   "metadata": {},
   "outputs": [
    {
     "name": "stdout",
     "output_type": "stream",
     "text": [
      "A\n",
      "n\n",
      "y\n",
      "a\n"
     ]
    }
   ],
   "source": [
    "name = 'Anya'\n",
    "for ch in name:\n",
    "    print(ch)"
   ]
  },
  {
   "cell_type": "code",
   "execution_count": 13,
   "metadata": {},
   "outputs": [
    {
     "name": "stdout",
     "output_type": "stream",
     "text": [
      "A\n",
      "n\n",
      "y\n",
      "a\n"
     ]
    }
   ],
   "source": [
    "name = 'Anya'\n",
    "for i in range(0, len(name), 1):\n",
    "    print(name[i])"
   ]
  },
  {
   "cell_type": "code",
   "execution_count": 14,
   "metadata": {},
   "outputs": [
    {
     "name": "stdout",
     "output_type": "stream",
     "text": [
      "A\n",
      "n\n",
      "y\n",
      "a\n"
     ]
    }
   ],
   "source": [
    "name = 'Anya'\n",
    "i = 0\n",
    "while i < len(name):\n",
    "    print(name[i])\n",
    "    i += 1"
   ]
  },
  {
   "cell_type": "code",
   "execution_count": 30,
   "metadata": {},
   "outputs": [
    {
     "name": "stdout",
     "output_type": "stream",
     "text": [
      "2\n",
      "0\n",
      "2\n",
      "4\n",
      "0\n",
      "1\n",
      "2\n",
      "0\n",
      "\n",
      "2\n",
      "0\n",
      "2\n",
      "4\n",
      "0\n",
      "1\n",
      "2\n",
      "0\n",
      "\n",
      "2\n",
      "0\n",
      "2\n",
      "4\n",
      "0\n",
      "1\n",
      "2\n",
      "0\n"
     ]
    }
   ],
   "source": [
    "nums = [2, 0, 2, 4, 0, 1, 2, 0]\n",
    "\n",
    "for num in nums:\n",
    "    print(num)\n",
    "\n",
    "print()\n",
    "\n",
    "for i in range(0, len(nums), 1):\n",
    "    print(nums[i])\n",
    "\n",
    "print()\n",
    "\n",
    "i = 0\n",
    "while i < len(nums):\n",
    "    print(nums[i])\n",
    "    i += 1"
   ]
  },
  {
   "cell_type": "code",
   "execution_count": 34,
   "metadata": {},
   "outputs": [
    {
     "name": "stdout",
     "output_type": "stream",
     "text": [
      "11\n",
      "11\n",
      "11\n"
     ]
    }
   ],
   "source": [
    "nums = [2, 0, 2, 4, 0, 1, 2, 0]\n",
    "\n",
    "總和 = 0\n",
    "for num in nums:\n",
    "    總和 = 總和 + num\n",
    "print(總和)\n",
    "\n",
    "\n",
    "total = 0\n",
    "for i in range(0, len(nums), 1):\n",
    "    total = total + nums[i]\n",
    "print(total)\n",
    "\n",
    "total = 0\n",
    "i = 0\n",
    "while i < len(nums):\n",
    "    total += nums[i]\n",
    "    i += 1\n",
    "print(total)"
   ]
  },
  {
   "cell_type": "code",
   "execution_count": 35,
   "metadata": {},
   "outputs": [
    {
     "name": "stdout",
     "output_type": "stream",
     "text": [
      "10\n"
     ]
    }
   ],
   "source": [
    "nums = [2, 0, 2, 4, 0, 1, 2, 0]\n",
    "\n",
    "even_sum = 0\n",
    "for num in nums:\n",
    "    if num % 2 == 0:\n",
    "        even_sum += num\n",
    "print(even_sum)\n"
   ]
  },
  {
   "cell_type": "code",
   "execution_count": 38,
   "metadata": {},
   "outputs": [
    {
     "name": "stdout",
     "output_type": "stream",
     "text": [
      "87.5\n"
     ]
    }
   ],
   "source": [
    "nums = [2, 0, 2, 4, 0, 1, 2, 0]\n",
    "\n",
    "num_of_even = 0\n",
    "for num in nums:\n",
    "    if num % 2 == 0:\n",
    "        num_of_even += 1\n",
    "print(num_of_even / len(nums) * 100)"
   ]
  }
 ],
 "metadata": {
  "kernelspec": {
   "display_name": "Python 3.10.5 64-bit",
   "language": "python",
   "name": "python3"
  },
  "language_info": {
   "codemirror_mode": {
    "name": "ipython",
    "version": 3
   },
   "file_extension": ".py",
   "mimetype": "text/x-python",
   "name": "python",
   "nbconvert_exporter": "python",
   "pygments_lexer": "ipython3",
   "version": "3.11.1 (v3.11.1:a7a450f84a, Dec  6 2022, 15:24:06) [Clang 13.0.0 (clang-1300.0.29.30)]"
  },
  "orig_nbformat": 4,
  "vscode": {
   "interpreter": {
    "hash": "aee8b7b246df8f9039afb4144a1f6fd8d2ca17a180786b69acc140d282b71a49"
   }
  }
 },
 "nbformat": 4,
 "nbformat_minor": 2
}

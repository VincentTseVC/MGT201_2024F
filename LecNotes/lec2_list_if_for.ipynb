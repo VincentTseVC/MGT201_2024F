{
 "cells": [
  {
   "cell_type": "markdown",
   "metadata": {},
   "source": [
    "# Lists, Conditions and Loops\n",
    "\n",
    "In this lecture, we will introduce a very flexible data structures called list. Then we will introduce two useful operations.\n",
    "- [String from the Last Lecture](#string)\n",
    "- [List](#list)\n",
    "- [If Statement](#if-statement)\n",
    "- [While Loop](#while-loop)\n",
    "- [For Loop](#for-loop)"
   ]
  },
  {
   "cell_type": "code",
   "execution_count": null,
   "metadata": {},
   "outputs": [],
   "source": [
    "#This bit of code allows me to output more than one variable value without using a print statement.\n",
    "from IPython.core.interactiveshell import InteractiveShell\n",
    "InteractiveShell.ast_node_interactivity = \"all\""
   ]
  },
  {
   "cell_type": "markdown",
   "metadata": {},
   "source": [
    "# String\n",
    "### Slicing Strings\n",
    "\n",
    "We can access chunks of a string by separating the beginning and end indices by a \":\".  The end index in non-inclusive.\n",
    "This is called *slicing*."
   ]
  },
  {
   "cell_type": "code",
   "execution_count": null,
   "metadata": {},
   "outputs": [],
   "source": [
    "name = 'Charlie'\n",
    "# from the 0th index to the 2nd index, not including the last (2nd) index\n",
    "name[0:2]\n",
    "# we can omit the start; by default it starts from 0\n",
    "name[:3]\n",
    "# we can omit the end; by default it goes to the end\n",
    "name[3:]"
   ]
  },
  {
   "cell_type": "markdown",
   "metadata": {},
   "source": [
    "There can be a third option when slicing, separated using another :. It means the step size. By default, it is 1."
   ]
  },
  {
   "cell_type": "code",
   "execution_count": null,
   "metadata": {},
   "outputs": [],
   "source": [
    "name[0:6:2]"
   ]
  },
  {
   "cell_type": "markdown",
   "metadata": {},
   "source": [
    "*(Question)*: What would happen if we type `name[6:0:-1]`? What about `name[0:6:-1]`?"
   ]
  },
  {
   "cell_type": "markdown",
   "metadata": {},
   "source": [
    "Negative numbers can represent an index as well. For example, `[-1]` means the last index, `[-2]` means the last but one, etc."
   ]
  },
  {
   "cell_type": "code",
   "execution_count": null,
   "metadata": {},
   "outputs": [],
   "source": [
    "name[-1]\n",
    "name[2:-2]"
   ]
  },
  {
   "cell_type": "markdown",
   "metadata": {},
   "source": [
    "### String Concatenation\n",
    "\n",
    "It is easy to combine strings using +. "
   ]
  },
  {
   "cell_type": "code",
   "execution_count": null,
   "metadata": {},
   "outputs": [],
   "source": [
    "first_name = 'Ningyuan'\n",
    "last_name = 'Chen'\n",
    "full_name = first_name + last_name\n",
    "print(full_name)"
   ]
  },
  {
   "cell_type": "code",
   "execution_count": null,
   "metadata": {},
   "outputs": [],
   "source": [
    "# adding a space between the two \n",
    "full_name = first_name + ' ' + last_name\n",
    "print(full_name)"
   ]
  },
  {
   "cell_type": "markdown",
   "metadata": {},
   "source": [
    "*(Exercise)*: Try to concatenate your first and last name with a space in between. Output the length of the full name."
   ]
  },
  {
   "cell_type": "code",
   "execution_count": null,
   "metadata": {},
   "outputs": [],
   "source": [
    "# another example\n",
    "initial = first_name[0] + last_name[0]\n",
    "print(initial)\n",
    "# * can be used to repeat a string\n",
    "print(last_name*2)"
   ]
  },
  {
   "cell_type": "markdown",
   "metadata": {},
   "source": [
    "*(Tips)*: Note that `+` has completely different behavior when applied between two numbers and two strings. This is why knowing the *type* of variables is important.\n",
    "\n",
    "*(Question)*: What is the output of the following code?\n",
    "\n",
    "```Python\n",
    "x = 3\n",
    "y = '4'\n",
    "x + y\n",
    "```\n",
    "\n",
    "What if we change it to \n",
    "\n",
    "```Python\n",
    "x = 3\n",
    "y = '4'\n",
    "x + float(y)\n",
    "```"
   ]
  },
  {
   "cell_type": "markdown",
   "metadata": {},
   "source": [
    "# List\n",
    "\n",
    "Lists are Python's most flexible ordered collection object type. We can create a list using `[]`.\n"
   ]
  },
  {
   "cell_type": "code",
   "execution_count": null,
   "metadata": {},
   "outputs": [],
   "source": [
    "# create a list\n",
    "mylist = [1,2, 's', 4]\n",
    "mylist"
   ]
  },
  {
   "cell_type": "markdown",
   "metadata": {},
   "source": [
    "As you can see, list can \n",
    "\n",
    "- hold a *collection* of objects\n",
    "- the objects can have *heterogeneous* types\n",
    "- lists are ordered; the elements belong to a position from left to right\n",
    "\n",
    "Naturally, lists have an attribute called *length*."
   ]
  },
  {
   "cell_type": "code",
   "execution_count": null,
   "metadata": {},
   "outputs": [],
   "source": [
    "# find the length of a list\n",
    "len(mylist)"
   ]
  },
  {
   "cell_type": "markdown",
   "metadata": {},
   "source": [
    "Lists are so flexible that it can be nested, i.e., a list of lists. The sub-lists do not need to have the same length."
   ]
  },
  {
   "cell_type": "code",
   "execution_count": null,
   "metadata": {},
   "outputs": [],
   "source": [
    "# nested list\n",
    "mylist=[[1,2,3], ['a','b','c','d']]\n",
    "\n",
    "mylist\n",
    "len(mylist)"
   ]
  },
  {
   "cell_type": "markdown",
   "metadata": {},
   "source": [
    "*(Tips)*: like strings, we can check if an element is in the list using `in`.\n",
    "\n",
    "*(Exercise)*: Create a nested list, with the first list storing your first and last names, and the second list storing the day, month and year of your date of birth."
   ]
  },
  {
   "cell_type": "markdown",
   "metadata": {},
   "source": [
    "\n",
    "## Indexing and Slicing\n",
    "\n",
    "Indexing and slicing works for lists similar to strings."
   ]
  },
  {
   "cell_type": "code",
   "execution_count": null,
   "metadata": {},
   "outputs": [],
   "source": [
    "mylist = [100, 350, 720, 2500, 7800, 9000] \n",
    "mylist[2]\n",
    "mylist[1:]\n",
    "mylist[:5]"
   ]
  },
  {
   "cell_type": "markdown",
   "metadata": {},
   "source": [
    "Like strings, we can use **[start:end:increment]** to access a sublist of a list. The returned value is itself a list if the length is $\\ge 2$.\n",
    "\n",
    "If we omit one of the values, then the default rule will be imposed. You can play with it to see if the default rule is consistent with your expectation.\n",
    "\n",
    "*(Question)*: What does the following code output `mylist[::2]`, `mylist[3::2]`, `mylist[:2]`?"
   ]
  },
  {
   "cell_type": "markdown",
   "metadata": {},
   "source": [
    "\n",
    "\n",
    "For nested lists, the indexing rule follows similarly with double `[]`."
   ]
  },
  {
   "cell_type": "code",
   "execution_count": null,
   "metadata": {},
   "outputs": [],
   "source": [
    "mylist = [[1, 2, 3], ['Bob', 'Bill']]\n",
    "mylist[0][2]\n",
    "mylist[1][0][1]"
   ]
  },
  {
   "cell_type": "markdown",
   "metadata": {},
   "source": [
    "## Change Values in a List\n",
    "\n",
    "We can change values in a list. "
   ]
  },
  {
   "cell_type": "code",
   "execution_count": null,
   "metadata": {},
   "outputs": [],
   "source": [
    "mylist = [20, 60, 500, 1200, 9000]\n",
    "mylist[1] = 30\n",
    "mylist"
   ]
  },
  {
   "cell_type": "markdown",
   "metadata": {},
   "source": [
    "We can even change a slice of the list."
   ]
  },
  {
   "cell_type": "code",
   "execution_count": null,
   "metadata": {},
   "outputs": [],
   "source": [
    "mylist[:2] = [1,2,3]\n",
    "mylist"
   ]
  },
  {
   "cell_type": "markdown",
   "metadata": {},
   "source": [
    "To **remove** an element from the list, we can use `del`."
   ]
  },
  {
   "cell_type": "code",
   "execution_count": null,
   "metadata": {},
   "outputs": [],
   "source": [
    "mylist = [1,2,3]\n",
    "del mylist[1] # delete the second element\n",
    "mylist"
   ]
  },
  {
   "cell_type": "markdown",
   "metadata": {},
   "source": [
    "## Basic Operations\n",
    "\n",
    "We introduce a few basic operations inlcuding \n",
    "\n",
    "- List concatenation\n",
    "- List repetition\n",
    "\n",
    "More will come in future lectures."
   ]
  },
  {
   "cell_type": "code",
   "execution_count": null,
   "metadata": {},
   "outputs": [],
   "source": [
    "mylist = [1,2,3]\n",
    "mylist = mylist + [4,5,6]\n",
    "mylist"
   ]
  },
  {
   "cell_type": "code",
   "execution_count": null,
   "metadata": {},
   "outputs": [],
   "source": [
    "mylist = [1,2,3]\n",
    "mylist*2"
   ]
  },
  {
   "cell_type": "markdown",
   "metadata": {},
   "source": [
    "*(Exercise)*: Create a list of 10 ones and 15 twos in a single line. "
   ]
  },
  {
   "cell_type": "markdown",
   "metadata": {},
   "source": [
    "# If Statement\n",
    "\n",
    "In many cases, we want Python to take actions based on the conditions.\n",
    "In general, Python runs code in the following order:\n",
    "\n",
    "- **Statements execute one after the other, until you say otherwise**: Python runs code from the top of the file to the bottom, but note that if statements, for example, can cause the interpreter to jump around in your code.\n",
    "\n",
    "- **Blank lines, spaces and comments are usually ignored.**\n",
    "\n",
    "The If statement can change the flow of the script."
   ]
  },
  {
   "cell_type": "markdown",
   "metadata": {},
   "source": [
    "## Basic Format\n",
    "\n",
    "If statement is a compound statement that selects actions to perform. The basic form looks like this:\n",
    "\n",
    "onditions). Here is the general format :\n",
    "\n",
    "```python\n",
    "if test1: \n",
    "    statement1   \n",
    "statement2\n",
    "```\n",
    "After checking `test1`, `statement1` will be executed if and only if `test1` is `True`. \n",
    "After that `statement2` is executed.\n",
    "Let's look at an example."
   ]
  },
  {
   "cell_type": "code",
   "execution_count": null,
   "metadata": {},
   "outputs": [],
   "source": [
    "x = 6\n",
    "if x>5:\n",
    "    print('x is greater than 5')\n",
    "print('Program ended')"
   ]
  },
  {
   "cell_type": "markdown",
   "metadata": {},
   "source": [
    "Let's dissect the above code:\n",
    "\n",
    "- `x=6` represents the code before the *if statement*\n",
    "- The if statement starts with `if`.\n",
    "- `x>5` is a boolean value (it is `True` in this case). It is followed by `:`.\n",
    "- `print('x is greater than 5')` is executed because `test1` is `True`.\n",
    "- `print('Program ended')` is always executed regardless of the value of `test1` because it is after the if statement."
   ]
  },
  {
   "cell_type": "markdown",
   "metadata": {},
   "source": [
    "## If Else Statement\n",
    "\n",
    "The if statement is often paired with `else`. It provides more control over the flow of the program.\n",
    "\n",
    "```python\n",
    "if test1: \n",
    "    statement1  \n",
    "else:\n",
    "    statement2\n",
    "statement3\n",
    "```\n",
    "\n",
    "The difference from the basic format is that, once `test1` turns out to be `False`, `statement2` will be executed instead of `statement1`, after which `statement3` is executed.\n",
    "Note that the `else` statement is optional."
   ]
  },
  {
   "cell_type": "code",
   "execution_count": null,
   "metadata": {},
   "outputs": [],
   "source": [
    "x = 4\n",
    "if x>5:\n",
    "    print('x is greater than 5')\n",
    "else:\n",
    "    print('x is not greater than 5')\n",
    "print('Program ended')"
   ]
  },
  {
   "cell_type": "markdown",
   "metadata": {},
   "source": [
    "*(Tips)*: Don't forget \"`:`\" after `else`.\n",
    "\n",
    "\n",
    "*(Tips)*: No need to capitalize the keywords."
   ]
  },
  {
   "cell_type": "markdown",
   "metadata": {},
   "source": [
    "*(Exercise)*: Use the following code to roll a dice (generate a number between 1 and 6). Then use if/else to print \"you win\" if it is 4, 5, or 6. Otherwise, print \"you lose\".\n",
    "\n",
    "```python\n",
    "import numpy as np\n",
    "dice_roll = np.random.choice([1,2,3,4,5,6])\n",
    "```"
   ]
  },
  {
   "cell_type": "markdown",
   "metadata": {},
   "source": [
    "\n",
    "\n",
    "## If Elif Else statement\n",
    "\n",
    "If we have more than a binary test, what can we do? We need `elif`. See the following example."
   ]
  },
  {
   "cell_type": "code",
   "execution_count": null,
   "metadata": {},
   "outputs": [],
   "source": [
    "#Print the number of days in a month this year\n",
    "\n",
    "current_month = 4\n",
    "\n",
    "if current_month in [4, 6, 11, 10]:\n",
    "    print(\"This month has 30 days\")\n",
    "elif current_month == 2:\n",
    "    print(\"This month has 28 (or 29) days\")\n",
    "else:\n",
    "    print(\"This month has 31 days\")\n",
    "print('Done')"
   ]
  },
  {
   "cell_type": "markdown",
   "metadata": {},
   "source": [
    "- The running order of the lines: 3->5->6->11\n",
    "- *(Qestion)*: what is the order if `current_month=2`? What about 1?\n",
    "- `elif` comes between `if` and `else`.\n",
    "- Analogously, one can have multiple `elif`s. If one of the tests is true, the rest is skipped. If none of the tests are true, then `else` is executed.\n",
    "- The indentation needs to be matched.\n",
    "\n",
    "The fourth point is important. See the following code. "
   ]
  },
  {
   "cell_type": "code",
   "execution_count": null,
   "metadata": {},
   "outputs": [
    {
     "ename": "",
     "evalue": "",
     "output_type": "error",
     "traceback": [
      "\u001b[1;31mJupyter cannot be started. Error attempting to locate Jupyter: Running cells with 'Python 3.10.5 64-bit' requires jupyter and notebook package.\n",
      "\u001b[1;31mRun the following command to install 'jupyter and notebook' into the Python environment. \n",
      "\u001b[1;31mCommand: 'python -m pip install jupyter notebook -U\n",
      "\u001b[1;31mor\n",
      "\u001b[1;31mconda install jupyter notebook -U'\n",
      "Click <a href='https://aka.ms/installJupyterForVSCode'>here</a> for more info."
     ]
    }
   ],
   "source": [
    "score = 50\n",
    "if score >= 50:\n",
    "    grade = \"A\"\n",
    "elif score >= 40:\n",
    "    grade = \"B\"\n",
    "else:\n",
    "    grade = \"C\"\n",
    "print(\"Your grade:\", grade)"
   ]
  },
  {
   "cell_type": "markdown",
   "metadata": {},
   "source": [
    "*(Question)*: In the above code, when `score=50`, we have that `score>=40` being `True`. But this and the following lines are not executed. \n",
    "Why?"
   ]
  },
  {
   "cell_type": "markdown",
   "metadata": {},
   "source": [
    "## Nested If Statements\n",
    "\n",
    "We can nest the if statement. "
   ]
  },
  {
   "cell_type": "code",
   "execution_count": null,
   "metadata": {},
   "outputs": [],
   "source": [
    "#Nested if - Check if an food item is a brunch item\n",
    "\n",
    "breakfast = ['eggs', 'bacon','sandwich']\n",
    "lunch = ['burger', 'sandwich', 'pizza']\n",
    "\n",
    "food = 'burger'\n",
    "if food in breakfast:\n",
    "    if food in lunch:\n",
    "        print('%s is a brunch item' %food)\n",
    "    else:\n",
    "        print('%s is a breakfast item' %food)\n",
    "else:\n",
    "    if food in lunch:\n",
    "        print('%s is a lunch item' %food)\n",
    "    else:\n",
    "        print('%s is not on the menu' % food)\n"
   ]
  },
  {
   "cell_type": "markdown",
   "metadata": {},
   "source": [
    "The most commmon check in if statements:\n",
    "\n",
    " - `x==y`: check if x is equal to y\n",
    " - `x>=y`: check if x is greater than or equal to y\n",
    " - `x<=y`: check if x if less than or equal to y\n",
    " - `x!=y`: check if x is not equal to y\n",
    " - `x in y`: check if x is in y (y must be list, string, tuple or dictionary)\n",
    " - `x not in y`: check if x is not in y (y must be list, string tuple or dictionary). \n",
    " "
   ]
  },
  {
   "cell_type": "markdown",
   "metadata": {},
   "source": [
    "We can combine several boolean values in a single statement."
   ]
  },
  {
   "cell_type": "code",
   "execution_count": null,
   "metadata": {},
   "outputs": [],
   "source": [
    "breakfast = ['eggs', 'bacon','sandwich']\n",
    "lunch = ['burger', 'pizza']\n",
    "\n",
    "# Check if we have a new food item\n",
    "food= 'burger'\n",
    "\n",
    "if (food not in breakfast) and (food not in lunch):\n",
    "    print('New item')\n",
    "else:\n",
    "    if food in breakfast:\n",
    "        print('breakfast')\n",
    "    else:\n",
    "        print('lunch')"
   ]
  },
  {
   "cell_type": "markdown",
   "metadata": {},
   "source": [
    "# While Loop\n",
    "\n",
    "`while` is used to execute a line/block of code repeatedly.\n",
    "This is called a loop.\n",
    "The basic format is \n",
    "\n",
    "```python\n",
    "while test1:\n",
    "    statement1\n",
    "```\n",
    "The code will run test1->statement1->test1->statemen1->..., until test1 fails, i.e., the value is `false`.\n",
    "See the following example."
   ]
  },
  {
   "cell_type": "code",
   "execution_count": null,
   "metadata": {},
   "outputs": [],
   "source": [
    "a = 1\n",
    "while a != 9:\n",
    "    print('a is', a)\n",
    "    a += 1\n",
    "print('Done')"
   ]
  },
  {
   "cell_type": "markdown",
   "metadata": {},
   "source": [
    "What happened in the above code? We have \n",
    "\n",
    "- Line 1 -> Line 2 (a=1 so it is `True`) -> Line 3,4 -> Line 2 (a=2 so it is `True`) -> ...(7 more repetitions) -> Line 2 (a=9 so it is `False`) -> Line 5.\n",
    "- If you found yourself stuck in an infinite loop, don't panic, pressing \"Interupt the Kernel\" would save you.\n",
    "\n",
    "*(Exercise)*: Can you print all **even** numbers from 1 to 15? Hint: use `while`, `if`, and the modulus `%`."
   ]
  },
  {
   "cell_type": "markdown",
   "metadata": {},
   "source": [
    "# For Loop\n",
    "\n",
    "`for` loop offers a more flexible and powerful way to repeat actions than `while`. \n",
    "It can iterate over elements of a list or string; perform some operation on each one of them.\n",
    "We will learn the syntax from various examples.\n",
    "\n",
    "## For Loop with Lists\n"
   ]
  },
  {
   "cell_type": "code",
   "execution_count": null,
   "metadata": {},
   "outputs": [],
   "source": [
    "mylist = [2,4,6,8]\n",
    "list_sum = 0\n",
    "for num in mylist:\n",
    "    list_sum += num\n",
    "print(list_sum)\n"
   ]
  },
  {
   "cell_type": "markdown",
   "metadata": {},
   "source": [
    "Let's breakdown the steps of the above code.\n",
    "\n",
    "- The syntax of `for` loop looks like this:\n",
    "```python\n",
    "for var in list:\n",
    "    statement\n",
    "```\n",
    "The variable `var` is taken from the elements of the list, and changes value every iteration.\n",
    "- In the first iteration, `num=2` and the statement is `list_sum = 0+2`.\n",
    "- In the second iteration, `num=4` and the statement is `list_sum = 2+4`.\n",
    "- Continuing the iteration, we sum up all the numbers in the list."
   ]
  },
  {
   "cell_type": "markdown",
   "metadata": {},
   "source": [
    "## For Loop with Strings\n",
    "\n",
    "We can replace the list with a string.\n",
    "The next code counts the number of spaces in a sentence. "
   ]
  },
  {
   "cell_type": "code",
   "execution_count": null,
   "metadata": {},
   "outputs": [],
   "source": [
    "sentence = 'The quick brown fox jumps over the lazy dog.'\n",
    "count = 0\n",
    "for c in sentence:\n",
    "    if c==' ':\n",
    "        count += 1\n",
    "count"
   ]
  },
  {
   "cell_type": "markdown",
   "metadata": {},
   "source": [
    "The iteration is run `len(sentence)` times, but line 5 is run 8 times.\n",
    "\n",
    "So far we have seen:\n",
    "- If the loop target is a list – iterate over the elements of the list by increasing index\n",
    "- If the loop target is a string – iterate over the characters of the string by increasing index\n",
    "\n",
    "We will see other objects that can be iterated.\n"
   ]
  },
  {
   "cell_type": "markdown",
   "metadata": {},
   "source": [
    "## For Loop with `range`\n",
    "\n",
    "`range` is a function in Python, which will be covered more extensively later.\n",
    "It is a general tool that can be used in a variety of contexts, although it is used most often to generate indexes in a for loop. \n",
    "\n",
    "It has a similar rule to list indexing. We can do `range(start:end:increment)` to quickly generate a list to iterate."
   ]
  },
  {
   "cell_type": "code",
   "execution_count": null,
   "metadata": {},
   "outputs": [],
   "source": [
    "list(range(5)) \n",
    "list(range(2,5))\n",
    "list(range(10,0,-1))"
   ]
  },
  {
   "cell_type": "markdown",
   "metadata": {},
   "source": [
    "We can use `range()` to get consecutive even numbers into a list."
   ]
  },
  {
   "cell_type": "code",
   "execution_count": null,
   "metadata": {},
   "outputs": [],
   "source": [
    "even_num = []\n",
    "for i in range(5):\n",
    "    if i%2 == 0:\n",
    "        even_num = even_num+[i]"
   ]
  },
  {
   "cell_type": "markdown",
   "metadata": {},
   "source": [
    "- In the first iteration, `even_num=[]`, `i=0`, and `if` test passes so `even_num=[0]`\n",
    "- In the first iteration, `even_num=[0]`, `i=1`, and `if` test fails so `even_num` doesn't change.\n",
    "- In the third iteration, `even_num=[0]`, `i=2`, and `if` test passes so `even_num=[0,2]`\n",
    "- so on...\n",
    "\n",
    "*(Tips)*: it is usually very helpful to be able to see how the variable changes in an iteration. Try to add `print` to track the process. For example,\n",
    "```python\n",
    "even_num = []\n",
    "for i in range(5):\n",
    "    print(i)\n",
    "    if i%2 == 0:\n",
    "        print('passed if')\n",
    "        even_num = even_num+[i]\n",
    "        print(even_num)\n",
    "```"
   ]
  },
  {
   "cell_type": "markdown",
   "metadata": {},
   "source": [
    "*(Questions)*: Why do we use `+[i]` instead of `+i`?"
   ]
  },
  {
   "cell_type": "markdown",
   "metadata": {},
   "source": [
    "We can make multiplication tables of $9\\times 9$."
   ]
  },
  {
   "cell_type": "code",
   "execution_count": null,
   "metadata": {},
   "outputs": [],
   "source": [
    "#Make 9x9 multiplication table\n",
    "for i in range(1,10):\n",
    "    for j in range(1,10):\n",
    "        print(i*j, end = '\\t')\n",
    "    print('\\n')"
   ]
  },
  {
   "cell_type": "markdown",
   "metadata": {},
   "source": [
    "## Break from the Loop\n",
    "\n",
    "Sometimes we need to jump out of the loop before reaching the end.\n",
    "It is done using `break`.\n",
    "Here is the typical use case:\n",
    "```python\n",
    "while test1:\n",
    "    statement1\n",
    "    if test2:\n",
    "        break\n",
    "\n",
    "for var in list:\n",
    "    if test1:\n",
    "        break\n",
    "```\n",
    "\n",
    "Let's illustrate the idea using a more complicated example. We are checking if `x` is a prime number."
   ]
  },
  {
   "cell_type": "code",
   "execution_count": null,
   "metadata": {},
   "outputs": [],
   "source": [
    "x = 15 # the number to be checked\n",
    "flag = 0 # 1 to flag a nonprime number \n",
    "for i in range(2,x): # check if i is a factor of x, starting from 2 and end at x\n",
    "    if x%i ==0: # if i is a factor of x\n",
    "        flag=1  # flag x\n",
    "        multiple = i # store the factor\n",
    "        break\n",
    "\n",
    "if flag==0:\n",
    "    print('%d is prime' %x)\n",
    "else:\n",
    "    print('%d is not prime since %d is multiple' %(x, multiple))"
   ]
  },
  {
   "cell_type": "markdown",
   "metadata": {},
   "source": [
    "Let's emulate the process below.\n",
    "- In the first iteration, `i=2`, and `x%i` is not 0. So the if statement is not executed.\n",
    "- In the second iteration, `i=3`, and `x%i=0`. So the if statement is executed. It lets `flag=1` and `multiple=3`. Then it breaks out of the **nearest** loop, in this case, the only `for` loop.\n",
    "- Print the results.\n"
   ]
  }
 ],
 "metadata": {
  "kernelspec": {
   "display_name": "Python 3.10.5 64-bit",
   "language": "python",
   "name": "python3"
  },
  "language_info": {
   "codemirror_mode": {
    "name": "ipython",
    "version": 3
   },
   "file_extension": ".py",
   "mimetype": "text/x-python",
   "name": "python",
   "nbconvert_exporter": "python",
   "pygments_lexer": "ipython3",
   "version": "3.11.1 (v3.11.1:a7a450f84a, Dec  6 2022, 15:24:06) [Clang 13.0.0 (clang-1300.0.29.30)]"
  },
  "orig_nbformat": 2,
  "vscode": {
   "interpreter": {
    "hash": "aee8b7b246df8f9039afb4144a1f6fd8d2ca17a180786b69acc140d282b71a49"
   }
  }
 },
 "nbformat": 4,
 "nbformat_minor": 2
}

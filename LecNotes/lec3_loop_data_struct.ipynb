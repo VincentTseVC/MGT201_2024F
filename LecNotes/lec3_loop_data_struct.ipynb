{
 "cells": [
  {
   "cell_type": "markdown",
   "metadata": {},
   "source": [
    "# While/For Loop, Dictionaries, Tuples\n",
    "\n",
    "In this lecture, we will introduce two more data structures. Then we will introduce the useful methods associated with the structures, including strings and lists.\n",
    "- [While Loop](#while-loop)\n",
    "- [For Loop](#for-loop)\n",
    "- [Tuple](#tuple)\n",
    "- [Dictionary](#dictionary)"
   ]
  },
  {
   "cell_type": "code",
   "execution_count": null,
   "metadata": {},
   "outputs": [],
   "source": [
    "#This bit of code allows me to output more than one variable value without using a print statement.\n",
    "from IPython.core.interactiveshell import InteractiveShell\n",
    "InteractiveShell.ast_node_interactivity = \"all\""
   ]
  },
  {
   "cell_type": "markdown",
   "metadata": {},
   "source": [
    "# Review\n",
    "\n",
    "So far we have learned some common data types/structures, including\n",
    "- `int` and `float`\n",
    "- `string`\n",
    "- `list`\n",
    "\n",
    "We have also learned how to use\n",
    "- `if` statement, including `else` and `elif`. They can be nested if necessary."
   ]
  },
  {
   "cell_type": "markdown",
   "metadata": {},
   "source": [
    "# While Loop\n",
    "\n",
    "`while` is used to execute a line/block of code repeatedly.\n",
    "This is called a loop.\n",
    "The basic format is \n",
    "\n",
    "```python\n",
    "while test1:\n",
    "    statement1\n",
    "```\n",
    "The code will run test1->statement1->test1->statemen1->..., until test1 fails, i.e., the value is `False`.\n",
    "See the following example."
   ]
  },
  {
   "cell_type": "code",
   "execution_count": null,
   "metadata": {},
   "outputs": [],
   "source": [
    "a = 1\n",
    "while a != 9:\n",
    "    print('a is', a)\n",
    "    a += 1\n",
    "print('Done')"
   ]
  },
  {
   "cell_type": "markdown",
   "metadata": {},
   "source": [
    "What happened in the above code? We have \n",
    "\n",
    "- Line 1 -> Line 2 (a=1 so it is `True`) -> Line 3,4 -> Line 2 (a=2 so it is `True`) -> ...(7 more repetitions) -> Line 2 (a=9 so it is `False`) -> Line 5.\n",
    "- If you found yourself stuck in an infinite loop, don't panic, pressing \"Interupt the Kernel\" would save you.\n",
    "\n",
    "*(Exercise)*: Can you print all **even** numbers from 1 to 15? Hint: use `while`, `if`, and the modulus `%`."
   ]
  },
  {
   "cell_type": "markdown",
   "metadata": {},
   "source": [
    "# For Loop\n",
    "\n",
    "`for` loop offers a more flexible and powerful way to repeat actions than `while`. \n",
    "It can iterate over elements of a list or string; perform some operation on each one of them.\n",
    "We will learn the syntax from various examples.\n",
    "\n",
    "## For Loop with Lists\n"
   ]
  },
  {
   "cell_type": "code",
   "execution_count": null,
   "metadata": {},
   "outputs": [],
   "source": [
    "mylist = [2,4,6,8]\n",
    "list_sum = 0\n",
    "for num in mylist:\n",
    "    list_sum += num\n",
    "print(list_sum)\n"
   ]
  },
  {
   "cell_type": "markdown",
   "metadata": {},
   "source": [
    "Let's breakdown the steps of the above code.\n",
    "\n",
    "- The syntax of `for` loop looks like this:\n",
    "```python\n",
    "for var in list:\n",
    "    statement\n",
    "```\n",
    "The variable `var` is taken from the elements of the list, and changes value every iteration.\n",
    "- In the first iteration, `num=2` and the statement is `list_sum = 0+2`.\n",
    "- In the second iteration, `num=4` and the statement is `list_sum = 2+4`.\n",
    "- Continuing the iteration, we sum up all the numbers in the list."
   ]
  },
  {
   "cell_type": "markdown",
   "metadata": {},
   "source": [
    "## For Loop with Strings\n",
    "\n",
    "We can replace the list with a string.\n",
    "The next code counts the number of spaces in a sentence. "
   ]
  },
  {
   "cell_type": "code",
   "execution_count": null,
   "metadata": {},
   "outputs": [],
   "source": [
    "sentence = 'The quick brown fox jumps over the lazy dog.'\n",
    "count = 0\n",
    "for c in sentence:\n",
    "    if c==' ':\n",
    "        count += 1\n",
    "count"
   ]
  },
  {
   "cell_type": "markdown",
   "metadata": {},
   "source": [
    "The iteration is run `len(sentence)` times, but line 5 is run 8 times."
   ]
  },
  {
   "cell_type": "markdown",
   "metadata": {},
   "source": [
    "\n",
    "\n",
    "So far we have seen:\n",
    "- If the loop target is a list – iterate over the elements of the list by increasing index\n",
    "- If the loop target is a string – iterate over the characters of the string by increasing index\n",
    "\n",
    "We will see other objects that can be iterated.\n"
   ]
  },
  {
   "cell_type": "markdown",
   "metadata": {},
   "source": [
    "## For Loop with `range`\n",
    "\n",
    "`range` is a function in Python, which will be covered more extensively later.\n",
    "It is a general tool that can be used in a variety of contexts, although it is used most often to generate indexes in a for loop. \n",
    "\n",
    "It has a similar rule to list indexing. We can do `range(start:end:increment)` to quickly generate a list to iterate."
   ]
  },
  {
   "cell_type": "code",
   "execution_count": null,
   "metadata": {},
   "outputs": [],
   "source": [
    "list(range(5)) \n",
    "list(range(2,5))\n",
    "list(range(10,0,-1))"
   ]
  },
  {
   "cell_type": "markdown",
   "metadata": {},
   "source": [
    "We can use `range()` to get consecutive even numbers into a list."
   ]
  },
  {
   "cell_type": "code",
   "execution_count": null,
   "metadata": {},
   "outputs": [],
   "source": [
    "even_num = []\n",
    "for i in range(5):\n",
    "    if i%2 == 0:\n",
    "        even_num = even_num+[i]"
   ]
  },
  {
   "cell_type": "markdown",
   "metadata": {},
   "source": [
    "- In the first iteration, `even_num=[]`, `i=0`, and `if` test passes so `even_num=[0]`\n",
    "- In the first iteration, `even_num=[0]`, `i=1`, and `if` test fails so `even_num` doesn't change.\n",
    "- In the third iteration, `even_num=[0]`, `i=2`, and `if` test passes so `even_num=[0,2]`\n",
    "- so on...\n",
    "\n",
    "*(Tips)*: it is usually very helpful to be able to see how the variable changes in an iteration. Try to add `print` to track the process. For example,\n",
    "```python\n",
    "even_num = []\n",
    "for i in range(5):\n",
    "    print(i)\n",
    "    if i%2 == 0:\n",
    "        print('passed if')\n",
    "        even_num = even_num+[i]\n",
    "        print(even_num)\n",
    "```"
   ]
  },
  {
   "cell_type": "markdown",
   "metadata": {},
   "source": [
    "*(Questions)*: Why do we use `+[i]` instead of `+i`?"
   ]
  },
  {
   "cell_type": "markdown",
   "metadata": {},
   "source": [
    "We can make multiplication tables of $9\\times 9$."
   ]
  },
  {
   "cell_type": "code",
   "execution_count": null,
   "metadata": {},
   "outputs": [],
   "source": [
    "#Make 9x9 multiplication table\n",
    "for i in range(1,10):\n",
    "    for j in range(1,10):\n",
    "        print(i*j, end = '\\t')\n",
    "    print('\\n')"
   ]
  },
  {
   "cell_type": "markdown",
   "metadata": {},
   "source": [
    "*(Tips)*: Some characters cannot be printed literally. Imagine printing the quotation mark. For these characters, the escape character '\\' with another letter is used. For example,\n",
    "\n",
    "- `\\n` new line\n",
    "- `\\t` tab\n",
    "- `\\\\` the character `\\` itself\n",
    "- `\\'` the single quote"
   ]
  },
  {
   "cell_type": "markdown",
   "metadata": {},
   "source": [
    "*(Exercise)*: Print the following pattern using loop.\n",
    "\n",
    "```python\n",
    "1 \n",
    "1 2\n",
    "1 2 3 \n",
    "1 2 3 4 \n",
    "1 2 3 4 5\n",
    "```"
   ]
  },
  {
   "cell_type": "markdown",
   "metadata": {},
   "source": [
    "## Break from the Loop\n",
    "\n",
    "Sometimes we need to jump out of the loop before reaching the end.\n",
    "It is done using `break`.\n",
    "Here is the typical use case:\n",
    "```python\n",
    "while test1:\n",
    "    statement1\n",
    "    if test2:\n",
    "        break\n",
    "    statement2\n",
    "statement3\n",
    "\n",
    "\n",
    "for var in list:\n",
    "    statement1\n",
    "    if test1:\n",
    "        break\n",
    "    statement2\n",
    "statement3\n",
    "```\n",
    "In both cases, after encountering `break`, statement2 in the current iteration is skipped and statement3 is executed.\n",
    "\n",
    "Let's illustrate the idea using a more complicated example. We are checking if `x` is a prime number."
   ]
  },
  {
   "cell_type": "code",
   "execution_count": null,
   "metadata": {},
   "outputs": [],
   "source": [
    "x = 15 # the number to be checked\n",
    "flag = 0 # 1 to flag a nonprime number \n",
    "for i in range(2,x): # check if i is a factor of x, starting from 2 and end at x\n",
    "    if x%i ==0: # if i is a factor of x\n",
    "        flag=1  # flag x\n",
    "        multiple = i # store the factor\n",
    "        break\n",
    "\n",
    "if flag==0:\n",
    "    print(x + ' is prime')\n",
    "else:\n",
    "    print('%d is not prime since %d is multiple' %(x, multiple))"
   ]
  },
  {
   "cell_type": "markdown",
   "metadata": {},
   "source": [
    "Let's explain the process below.\n",
    "- In the first iteration, `i=2`, and `x%i` is not 0. So the if statement is not executed.\n",
    "- In the second iteration, `i=3`, and `x%i=0`. So the if statement is executed. It lets `flag=1` and `multiple=3`. Then it breaks out of the **nearest** loop, in this case, the only `for` loop.\n",
    "- Print the results.\n"
   ]
  },
  {
   "cell_type": "markdown",
   "metadata": {},
   "source": [
    "*(Exercise)*: Create an arbitrary string `my_string`. Use `for` and `break` to count the number of characters before (not including) the first letter 's'. If no 's' is found, then return the length of the string."
   ]
  },
  {
   "cell_type": "markdown",
   "metadata": {},
   "source": [
    "# Tuple\n",
    "\n",
    "Tuples are very similar to lists. They can be created in the following way."
   ]
  },
  {
   "cell_type": "code",
   "execution_count": null,
   "metadata": {},
   "outputs": [],
   "source": [
    "# create a tuple\n",
    "mytuple = (1,2, 's', 4)\n",
    "mytuple\n",
    "type(mytuple)"
   ]
  },
  {
   "cell_type": "markdown",
   "metadata": {},
   "source": [
    "In creating a tuple, we replace *[]* in a list by *()*.\n",
    "A lot of operations designed for lists can be used for tuples in the same way."
   ]
  },
  {
   "cell_type": "code",
   "execution_count": null,
   "metadata": {},
   "outputs": [],
   "source": [
    "# length\n",
    "len(mytuple)\n",
    "# Concatenation\n",
    "(1,2) + (3,4)\n",
    "# indexing\n",
    "mytuple[2:]\n",
    "# for loop\n",
    "for x in mytuple:\n",
    "    print(x)"
   ]
  },
  {
   "cell_type": "markdown",
   "metadata": {},
   "source": [
    "The major difference is that tuples are **immutable**, meaning that once created, they cannot be changed."
   ]
  },
  {
   "cell_type": "code",
   "execution_count": null,
   "metadata": {},
   "outputs": [],
   "source": [
    "mytuple = (1,2,3,4)\n",
    "mylist = [1,2,3,4]\n",
    "mylist[1] = 1\n",
    "mylist\n",
    "mytuple[1] = 1"
   ]
  },
  {
   "cell_type": "markdown",
   "metadata": {},
   "source": [
    "## Why Tuples?\n",
    "\n",
    "The best answer seems to be that the immutability of tuples provides some integrity -- you can be sure a tuple won't be changed through another reference elsewhere in your program. \n",
    "As a rule of thumb, lists are the tool of choice for ordered collections that might need to change; tuples can handle the other cases of fixed associations."
   ]
  },
  {
   "cell_type": "markdown",
   "metadata": {},
   "source": [
    "# Dictionary\n",
    "\n",
    "Dictionaries are an *unordered* collection of objects. To fetch an element in a dictionary, one needs *keys*. "
   ]
  },
  {
   "cell_type": "code",
   "execution_count": null,
   "metadata": {},
   "outputs": [],
   "source": [
    "employees = {'Bob': 1234, 'Steve': 5678, 'Mike': (9012, 9003)}\n",
    "print(employees['Steve'])"
   ]
  },
  {
   "cell_type": "markdown",
   "metadata": {},
   "source": [
    "- The dictionary consists of *key:value* pairs. \n",
    "- To access the values, simply call the keys. So keys are like the indices of the values.\n",
    "- They can hold *mixed* data types.\n",
    "- Different from tuples and lists: `{}` and `:`\n",
    "\n",
    "To remove an element in a dictionary, we use `del` like in lists.\n",
    "To add an element, we assign a value to a new key."
   ]
  },
  {
   "cell_type": "code",
   "execution_count": null,
   "metadata": {},
   "outputs": [],
   "source": [
    "# delete\n",
    "employees = {'Bob': 1234, 'Steve': 5678, 'Mike': (9012, 9003)}\n",
    "del employees['Steve']\n",
    "employees\n",
    "# add\n",
    "employees['Amy'] = 9013\n",
    "employees\n",
    "# inclusion\n",
    "'Amy' in employees"
   ]
  },
  {
   "cell_type": "markdown",
   "metadata": {},
   "source": [
    "We can iterate over the keys."
   ]
  },
  {
   "cell_type": "code",
   "execution_count": null,
   "metadata": {},
   "outputs": [],
   "source": [
    "for name in employees:\n",
    "    print(name)\n",
    "# alternative\n",
    "for name in employees.keys():\n",
    "    print(name)\n"
   ]
  },
  {
   "cell_type": "markdown",
   "metadata": {},
   "source": [
    "One can also iterate over the values, or the key value pairs."
   ]
  },
  {
   "cell_type": "code",
   "execution_count": null,
   "metadata": {},
   "outputs": [],
   "source": [
    "for id in employees.values():\n",
    "    print(id)\n",
    "for name, id in employees.items():\n",
    "    print(name, id)"
   ]
  },
  {
   "cell_type": "markdown",
   "metadata": {},
   "source": [
    "In the second for loop, you can think of we are iterating the tuple *(name, id)* in the dictionary.\n",
    "\n",
    "## Why Dictionaries?\n",
    "\n",
    "The dictionary offers an easy way to store a database. In many cases, the order of the entries is not important, and we just want to access the entry by their keys, such as name or ID.\n",
    "\n",
    "For example, we may want to add up the assignment marks for various students."
   ]
  },
  {
   "cell_type": "code",
   "execution_count": null,
   "metadata": {},
   "outputs": [],
   "source": [
    "# raw data\n",
    "marks = [['Bob', 50], ['Steve', 60], ['Mike', 70], ['Bob', 60], ['Steve', 65], ['Mike', 65]]\n",
    "# construct an empty dictionary\n",
    "mydict = {}\n",
    "for pair in marks:\n",
    "    name = pair[0]\n",
    "    mark = pair[1]\n",
    "    if name in mydict:\n",
    "        mydict[name]+=mark\n",
    "    else:\n",
    "        mydict[name]=mark\n",
    "mydict"
   ]
  },
  {
   "cell_type": "markdown",
   "metadata": {},
   "source": [
    "*(Exercise)*: merge two given dictionaries into one. For example, consider\n",
    "```python\n",
    "dict1 = {'Ten': 10, 'Twenty': 20, 'Thirty': 30}\n",
    "dict2 = {'Thirty': 30, 'Fourty': 40, 'Fifty': 50}\n",
    "```\n",
    "The expected output should be \n",
    "```python\n",
    "{'Ten': 10, 'Twenty': 20, 'Thirty': 30, 'Fourty': 40, 'Fifty': 50}\n",
    "```"
   ]
  }
 ],
 "metadata": {
  "kernelspec": {
   "display_name": "Python 3.10.5 64-bit",
   "language": "python",
   "name": "python3"
  },
  "language_info": {
   "codemirror_mode": {
    "name": "ipython",
    "version": 3
   },
   "file_extension": ".py",
   "mimetype": "text/x-python",
   "name": "python",
   "nbconvert_exporter": "python",
   "pygments_lexer": "ipython3",
   "version": "3.11.1 (v3.11.1:a7a450f84a, Dec  6 2022, 15:24:06) [Clang 13.0.0 (clang-1300.0.29.30)]"
  },
  "orig_nbformat": 2,
  "vscode": {
   "interpreter": {
    "hash": "aee8b7b246df8f9039afb4144a1f6fd8d2ca17a180786b69acc140d282b71a49"
   }
  }
 },
 "nbformat": 4,
 "nbformat_minor": 2
}

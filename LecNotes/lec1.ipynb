{
 "cells": [
  {
   "cell_type": "markdown",
   "metadata": {},
   "source": [
    "# Basics of Python and Jupyter Notebook\n",
    "\n",
    "In this lecture, we will go over some of the basics of Python and Jupyter Notebook. Here is an outline of the contents.\n",
    "- [Installation](#installation)\n",
    "- [The Basics of Jupyter Notebook](#the-basics-of-jupyter-notebook)\n",
    "- [Python Basic Objects](#python-basics)\n",
    "    - [Numbers](#numbers)\n",
    "    - [Booleans](#booleans)\n",
    "    - [Strings](#strings)\n",
    "- [Extra Materials](#extra-materials)"
   ]
  },
  {
   "cell_type": "markdown",
   "metadata": {},
   "source": [
    "# Installation\n",
    "\n",
    "## Method 1: Access JupyterHub at the UTM Server (No Installation Required)\n",
    "\n",
    "One of the hassles dealing with Python and Jupyter is the installation of the language and packages. Fortunately, UTM provides us with a uninform online environment so regardless of the OS, we can access the same environment. Please follow the steps below:\n",
    "\n",
    "1. Visit https://mgmtjupyterhub.utm.utoronto.ca/hub/login in your favorite web browser, such as Safari or Chrome.\n",
    "2. Sign in using your UTORid.\n",
    "3. Create and organize the folders as you like, just like in your local PC.\n",
    "4. Once you are in the right folder, click **New** at the right top corner and then **Python 3**.\n",
    "5. Now you can start writing your first notebook!\n",
    "\n",
    "This method is probably the easiest, and you can access it on any computer from anywhere as long as you have internet. But, the server may crash (it happened a few times during exams). So please **make sure** you are familiar with the other methods too."
   ]
  },
  {
   "cell_type": "markdown",
   "metadata": {},
   "source": [
    "## Method 2: Install Jupyter Notebook in Your Local PC/Mac\n",
    "\n",
    "If you want to run your Jupyter Notebook locally, you may install Anaconda.\n",
    "\n",
    "1. Download Anaconda at https://www.anaconda.com/products/individual for your PC/Mac\n",
    "2. After installing, open **Anaconda Navigator**\n",
    "3. Open **Jupyter Notebook**\n",
    "\n",
    "Instead of showing the directories of your remote folder at the server, now it shows your local files. Go to the proper folder and create files.\n",
    "It is possible that your local Jupyter doesn't have certain packages installed (the remote Jupyter has everything installed managed by the IT team).\n",
    "In this case, click **Environment**, choose **base (root)** and search for the packages you want to install.\n",
    "\n",
    "We encourage you to explore the local option because you can no longer access the server after this semester. During exams, the server may also crash due to high traffic.\n",
    "\n",
    "Please try this option after the class, and make sure you can run the same *ipynb* file both on the server and in your local machine.\n",
    "\n",
    "Anaconda is also installed on the lab computer as well. Make sure you know how to use it, because the lab computer will be used for the exams.\n",
    "\n"
   ]
  },
  {
   "cell_type": "markdown",
   "metadata": {},
   "source": [
    "## Method 3: Public JupyterHub hosted by Google \n",
    "\n",
    "If you have internet access, you can visit [Colab](https://colab.research.google.com/). It is similar to Method 1 but the server is more stable (but also less resources/control). A backup option."
   ]
  },
  {
   "cell_type": "markdown",
   "metadata": {},
   "source": [
    "## File Structures\n",
    "\n",
    "Oftentimes, we will need to access some files through Jupyter. \n",
    "\n",
    "- On JupyterHub, you are given a folder on the server, and you can structure the files in that folder in anyway you want.\n",
    "- On Anaconda, it is similar to File Explorer (Windows) or Finder (macOS). \n",
    "\n",
    "Try navigating the file system and get familiar with it."
   ]
  },
  {
   "cell_type": "markdown",
   "metadata": {},
   "source": [
    "# The Basics of Jupyter Notebook\n",
    "\n",
    "The basic structure of Jupyter Notebook is a *cell*. A cell is where you can write your thoughts/comments or code. There are two major types of cells: *Code* and *Markdown*.  \n",
    "Choose the cell type from the dropdown menu. Click **run** to execute the cell.\n",
    "\n",
    "### Markdown Cells\n",
    "\n",
    "It is fun to write in markdown. Here is a simple [cheatsheet](https://medium.com/@ingeh/markdown-for-jupyter-notebooks-cheatsheet-386c05aeebed). Remember that markdown can also render mathematical expressions using [LaTex](https://www.math.ubc.ca/~pwalls/math-python/jupyter/latex/), such as \n",
    "$\\pi > \\frac{5}{4}$. So you can essentially do all the homework in Jupyter.\n",
    "Some common ones:\n",
    "\n",
    "- **Unordered list**: starting a line with '-'\n",
    "- **Ordered list**: starting a line with '1.', '2.', etc.\n",
    "- **Header**: use different numbers of # for headers of different levels\n",
    "- **Bold**: use ** ** to enclose a word or a phrase\n",
    "- **Hyperlink**: use [ ] for text and follow it by ( ) for the link\n",
    "- **Basic math**: use $ $ to enclose latex expressions\n",
    "- **Code block**: use \\` \\` to enclose and highlight Python command inline, such as `print()`. Use **\\`\\`\\`python code \\`\\`\\`** for a block.\n",
    "\n",
    "\n",
    "\n",
    "You may find a few other useful ones in the above link. Markdown forces you to forget about formatting and focus on the structure and logic of your wrtitings."
   ]
  },
  {
   "cell_type": "markdown",
   "metadata": {},
   "source": [
    "### Code Cells\n",
    "\n",
    "Our main focus today is the code cell. It is where the magic happens. It doesn't have much to do with Jupyter Notebook, but is mainly about Python. We will start with some basic ideas of Python.\n",
    "\n",
    "### Export Notebook\n",
    "\n",
    "If you save this notebook, you will get **ipynb** file in your computer or on the server. You may click *File* on the menu bar and export it to html.\n",
    "To submit homeworks, you will need to submit both **ipynb** and **html** (or **pdf**).\n",
    "\n",
    "<!---\n",
    "### The Old Way\n",
    "\n",
    "Before Jupyter Notebook, Python code is executed in a different way. You can export this Notebook to a *test.py* file, and run \n",
    "\n",
    "```python\n",
    "python test.py\n",
    "```\n",
    "\n",
    "in the terminal.\n",
    "-->"
   ]
  },
  {
   "cell_type": "markdown",
   "metadata": {},
   "source": [
    "## Some Useful Commands\n",
    "\n",
    "Commands for when in command mode:\n",
    "\n",
    "- **Enter**: Enter edit mode\n",
    "- **Ctrl-Enter**: Run cell\n",
    "- **a**: Insert cell above\n",
    "- **b**: Insert cell below\n",
    "- **d,d**: Delete cell\n",
    "- **m**: Convert to markdown cell\n",
    "- **y**: Convert to code cell\n",
    "- **Ctrl+Shift+p**: Call the command palette and search for specific command. \n",
    "\n",
    "Replace **Ctrl** by **Command** for macOS."
   ]
  },
  {
   "cell_type": "markdown",
   "metadata": {},
   "source": [
    "# Python Basics\n",
    "\n",
    "## What are Python Objects?\n",
    "\n",
    "Any data that we store or keep track of will take the form of a python object.  Different objects are used to store different types of a data; a number is stored differently than a word which is stored differently than a list of numbers.  We will use the following built-in objects:\n",
    "\n",
    "- **Numbers**: integers, real numbers, etc...\n",
    "- **Boolean** : True or False\n",
    "- **Strings**: arbitary sequence of characters\n",
    "- Lists: ordered collection of objects\n",
    "- Dictionaries: store objects by key\n",
    "- Tuples: list that cannot be changed\n",
    "- Files: stores contents of file (.csv, .txt, .xls)\n",
    "\n",
    "\n",
    "Python objects are *dynamically typed*: you do not have to declare the type of variable upon creation.\n",
    "\n",
    "Python objects are *strongly typed*: there are type specific operations.\n",
    "\n",
    "Objects that are *mutable* can be changed once created.  *Immutable* objects cannot be changed once created.\n"
   ]
  },
  {
   "cell_type": "markdown",
   "metadata": {},
   "source": [
    "\n",
    "## Variables and Basic Expressions\n",
    "\n",
    "*Variables* are simply names that are used to keep track of information (stored as various objects) in your program.\n",
    "\n",
    "- Variables are created when they are first assigned a value.\n",
    "- Variables must be assigned before they can be used.\n",
    "- Variables refer to objects.\n",
    "\n"
   ]
  },
  {
   "cell_type": "markdown",
   "metadata": {},
   "source": [
    "## Numbers\n",
    "\n",
    "\n",
    "Let's create our first variables!"
   ]
  },
  {
   "cell_type": "code",
   "execution_count": null,
   "metadata": {},
   "outputs": [],
   "source": [
    "# Create our first variables.\n",
    "x = 5\n",
    "y = 6.6\n",
    "\n",
    "print(y)\n",
    "print(x)"
   ]
  },
  {
   "cell_type": "markdown",
   "metadata": {},
   "source": [
    "- The above cell is a code cell. Notice that [1] shows the order of the code cell being run. It is easy for us to refer to a cell as well.\n",
    "- The text after \\# in the same line is called **comment**. It will not be executed by Python, just for other people (and a later yourself) to understand the code.\n",
    "- **`=`** assignes the value in the right to the \"variable\" in the left. \n",
    "- `print()` outputs the value of a variable.\n"
   ]
  },
  {
   "cell_type": "markdown",
   "metadata": {},
   "source": [
    "With regards to number objects, we will almost exclusively work with integers and floating point numbers (real numbers). Python stores these two types differently and for certain arithmetic operations it is important to know the type you are working with."
   ]
  },
  {
   "cell_type": "code",
   "execution_count": null,
   "metadata": {},
   "outputs": [],
   "source": [
    "type(x)\n",
    "type(y)"
   ]
  },
  {
   "cell_type": "markdown",
   "metadata": {},
   "source": [
    "*(Tip)*: Python will only output the last line. To change this behavior, use the following two lines in the beginning of your notebook."
   ]
  },
  {
   "cell_type": "code",
   "execution_count": null,
   "metadata": {},
   "outputs": [],
   "source": [
    "# This bit of code allows me to output more than one variable value without using a print statement.\n",
    "from IPython.core.interactiveshell import InteractiveShell\n",
    "InteractiveShell.ast_node_interactivity = \"all\"\n"
   ]
  },
  {
   "cell_type": "code",
   "execution_count": null,
   "metadata": {},
   "outputs": [],
   "source": [
    "type(x)\n",
    "type(y)"
   ]
  },
  {
   "cell_type": "markdown",
   "metadata": {},
   "source": [
    "We can convert the types. Explain what happened in the following code."
   ]
  },
  {
   "cell_type": "code",
   "execution_count": null,
   "metadata": {},
   "outputs": [],
   "source": [
    "x\n",
    "float(x)\n",
    "y\n",
    "int(y)"
   ]
  },
  {
   "cell_type": "markdown",
   "metadata": {},
   "source": [
    "### Simple Arithmatic\n",
    "\n",
    "We can ask Python to do some labor work for us."
   ]
  },
  {
   "cell_type": "code",
   "execution_count": 1,
   "metadata": {},
   "outputs": [
    {
     "ename": "NameError",
     "evalue": "name 'x' is not defined",
     "output_type": "error",
     "traceback": [
      "\u001b[0;31m---------------------------------------------------------------------------\u001b[0m",
      "\u001b[0;31mNameError\u001b[0m                                 Traceback (most recent call last)",
      "Cell \u001b[0;32mIn [1], line 2\u001b[0m\n\u001b[1;32m      1\u001b[0m \u001b[38;5;66;03m# addition\u001b[39;00m\n\u001b[0;32m----> 2\u001b[0m \u001b[43mx\u001b[49m \u001b[38;5;241m+\u001b[39m y\n\u001b[1;32m      3\u001b[0m \u001b[38;5;66;03m# subtraction\u001b[39;00m\n\u001b[1;32m      4\u001b[0m x \u001b[38;5;241m-\u001b[39m y\n",
      "\u001b[0;31mNameError\u001b[0m: name 'x' is not defined"
     ]
    }
   ],
   "source": [
    "# addition\n",
    "x + y\n",
    "# subtraction\n",
    "x - y\n",
    "# multiplication\n",
    "x * y\n",
    "# division\n",
    "x / y"
   ]
  },
  {
   "cell_type": "markdown",
   "metadata": {},
   "source": [
    "*(Question)*: Is the output `int` or `float`? Why does Python behave this way?\n",
    "\n",
    "There are other operations we can do. We can also directly assign the result to another variable."
   ]
  },
  {
   "cell_type": "code",
   "execution_count": null,
   "metadata": {},
   "outputs": [],
   "source": [
    "# Exponentiation\n",
    "x = 5\n",
    "y = 2\n",
    "z = x**2\n",
    "z\n",
    "\n",
    "# Modulus - output the remainder\n",
    "7%2\n",
    "\n",
    "# Absolute value\n",
    "abs(-5)\n",
    "\n",
    "# Square root\n",
    "import math\n",
    "z = math.sqrt(25)\n",
    "z"
   ]
  },
  {
   "cell_type": "markdown",
   "metadata": {},
   "source": [
    "*(Tips)*: Use informative variable names, such as \n",
    "\n",
    "```Python\n",
    "num_students = 50\n",
    "avg_age = 20\n",
    "total_age = num_students*avg_age\n",
    "```\n",
    "But you cannot include a space in a variable name. To have multiple words, we use **_** to connect them."
   ]
  },
  {
   "cell_type": "markdown",
   "metadata": {},
   "source": [
    "We often need to update the variables:"
   ]
  },
  {
   "cell_type": "code",
   "execution_count": null,
   "metadata": {},
   "outputs": [],
   "source": [
    "count=0\n",
    "count= count+1\n",
    "count"
   ]
  },
  {
   "cell_type": "markdown",
   "metadata": {},
   "source": [
    "*(Tip)*: The second line never holds if we interpret it as an equation!\n",
    "\n",
    "The **`+=`** operator is shorthand for this operation that is very useful."
   ]
  },
  {
   "cell_type": "code",
   "execution_count": null,
   "metadata": {},
   "outputs": [],
   "source": [
    "count=0\n",
    "count += 1\n",
    "count"
   ]
  },
  {
   "cell_type": "markdown",
   "metadata": {},
   "source": [
    "*(Question)*: What is the output of the following code cell?\n",
    "\n",
    "```Python\n",
    "count = 0\n",
    "count -= 1\n",
    "count *= 2\n",
    "count\n",
    "```"
   ]
  },
  {
   "cell_type": "markdown",
   "metadata": {},
   "source": [
    "## Booleans\n",
    "\n",
    "- The Boolean type can be viewed as numeric in nature because its values (True and False) are just customized versions of the integers 1 and 0.\n",
    "- The True and False behave in the same way as 1 and 0, they just make the code more readable.\n",
    "- Let us check if specified conditions are true\n"
   ]
  },
  {
   "cell_type": "code",
   "execution_count": null,
   "metadata": {},
   "outputs": [],
   "source": [
    "# Create boolean variable\n",
    "boolean_var = True\n",
    "boolean_var"
   ]
  },
  {
   "cell_type": "code",
   "execution_count": null,
   "metadata": {},
   "outputs": [],
   "source": [
    "# It behaves exactly like 1\n",
    "boolean_var*5"
   ]
  },
  {
   "cell_type": "markdown",
   "metadata": {},
   "source": [
    "We can check conditions in Python, and they return boolean values."
   ]
  },
  {
   "cell_type": "code",
   "execution_count": null,
   "metadata": {},
   "outputs": [],
   "source": [
    "# create a variable \n",
    "x = 5\n",
    "# check if it is indeed 5\n",
    "x == 5\n",
    "# check if it is less than or equal to 4\n",
    "x <= 4"
   ]
  },
  {
   "cell_type": "markdown",
   "metadata": {},
   "source": [
    "Boolean values are useful when we compare multiple variables. Some common operators:\n",
    "\n",
    "- `==`, `<`, `<=`, `>`, `>=`\n",
    "- `and`, `or`, `not`"
   ]
  },
  {
   "cell_type": "code",
   "execution_count": null,
   "metadata": {},
   "outputs": [],
   "source": [
    "# x1 and x2 is true if and only if x1 is true and x2 is true\n",
    "True and True\n",
    "# the usage of not is clear\n",
    "not True\n",
    "not (x==5)\n",
    "# x1 or x2 is true if at least one of x1 or x2 is true\n",
    "True or False"
   ]
  },
  {
   "cell_type": "markdown",
   "metadata": {},
   "source": [
    "## Strings\n",
    "\n",
    "The Python string is an ordered collection of characters used to store and represent text-based information. \n",
    "\n",
    "From a functional perspective, strings can be used to represent just about anything that can be encoded as text: symbols, words, numbers, contents of files, etc...\n",
    "\n",
    "Strings are created by placing quotation marks (single or double) around the given sequence of characters. \n"
   ]
  },
  {
   "cell_type": "code",
   "execution_count": null,
   "metadata": {},
   "outputs": [],
   "source": [
    "#We generally use single quotes to create a string\n",
    "name = 'Charlie'\n",
    "\n",
    "name"
   ]
  },
  {
   "cell_type": "markdown",
   "metadata": {},
   "source": [
    "We can confirm the type of the variable and check the length."
   ]
  },
  {
   "cell_type": "code",
   "execution_count": null,
   "metadata": {},
   "outputs": [],
   "source": [
    "type(name)\n",
    "len(name)"
   ]
  },
  {
   "cell_type": "markdown",
   "metadata": {},
   "source": [
    "### Indexing Strings\n",
    "\n",
    "We can access the characters of the string through their **index**.\n",
    "\n"
   ]
  },
  {
   "cell_type": "code",
   "execution_count": null,
   "metadata": {},
   "outputs": [],
   "source": [
    "name\n",
    "name[0]\n",
    "name[6]\n",
    "name[7]"
   ]
  },
  {
   "cell_type": "markdown",
   "metadata": {},
   "source": [
    "A few things to notice:\n",
    "\n",
    "- We use [ ] to access the characters.\n",
    "- The index starts with **0** instead of **1**. This is very important and a key Python characteristic.\n",
    "- We cannot access more than the length of the string. So the largest index we can access is `len(name)-1`. (Why minus 1 here?)"
   ]
  },
  {
   "cell_type": "markdown",
   "metadata": {},
   "source": [
    "*(Question)*: What is the output of the next code cell?\n",
    "\n",
    "```Python\n",
    "favorite_food = 'ice cream'\n",
    "favorite_food[4]\n",
    "```"
   ]
  },
  {
   "cell_type": "markdown",
   "metadata": {},
   "source": [
    "### Slicing Strings\n",
    "\n",
    "We can access chunks of a string by separating the beginning and end indices by a \":\".  The end index in non-inclusive.\n",
    "This is called *slicing*."
   ]
  },
  {
   "cell_type": "code",
   "execution_count": null,
   "metadata": {},
   "outputs": [],
   "source": [
    "# from the 0th index to the 2nd index, not including the last (2nd) index\n",
    "name[0:2]\n",
    "# we can omit the start; by default it starts from 0\n",
    "name[:3]\n",
    "# we can omit the end; by default it goes to the end\n",
    "name[3:]"
   ]
  },
  {
   "cell_type": "markdown",
   "metadata": {},
   "source": [
    "There can be a third option when slicing, separated using another :. It means the step size. By default, it is 1."
   ]
  },
  {
   "cell_type": "code",
   "execution_count": null,
   "metadata": {},
   "outputs": [],
   "source": [
    "name[0:6:2]"
   ]
  },
  {
   "cell_type": "markdown",
   "metadata": {},
   "source": [
    "### String Concatenation\n",
    "\n",
    "It is easy to combine strings using +. "
   ]
  },
  {
   "cell_type": "code",
   "execution_count": null,
   "metadata": {},
   "outputs": [],
   "source": [
    "first_name = 'Ningyuan'\n",
    "last_name = 'Chen'\n",
    "full_name = first_name + last_name\n",
    "print(full_name)\n"
   ]
  },
  {
   "cell_type": "code",
   "execution_count": null,
   "metadata": {},
   "outputs": [],
   "source": [
    "# adding a space between the two \n",
    "full_name = first_name + ' ' + last_name\n",
    "print(full_name)"
   ]
  },
  {
   "cell_type": "code",
   "execution_count": null,
   "metadata": {},
   "outputs": [],
   "source": [
    "# another example\n",
    "initial = first_name[0] + last_name[0]\n",
    "print(initial)\n",
    "# * can be used to repeat a string\n",
    "print(last_name*2)"
   ]
  },
  {
   "cell_type": "markdown",
   "metadata": {},
   "source": [
    "*(Tips)*: Note that `+` has completely different behavior when applied between two numbers and two strings. This is why knowing the *type* of variables is important.\n",
    "\n",
    "*(Question)*: What is the output of the following code?\n",
    "\n",
    "```Python\n",
    "x = 3\n",
    "y = '4'\n",
    "x + y\n",
    "```\n",
    "\n",
    "What if we change it to \n",
    "\n",
    "```Python\n",
    "x = 3\n",
    "y = '4'\n",
    "x + float(y)\n",
    "```"
   ]
  },
  {
   "cell_type": "markdown",
   "metadata": {},
   "source": [
    "# Extra Materials"
   ]
  },
  {
   "cell_type": "markdown",
   "metadata": {},
   "source": [
    "## Strings\n",
    "\n",
    "Since we use quotes to define strings, what if the string itself includes quotes?\n",
    "Using double quotes to create the string allows us to embed things like an apostrophe inside the string."
   ]
  },
  {
   "cell_type": "code",
   "execution_count": null,
   "metadata": {
    "collapsed": false
   },
   "outputs": [],
   "source": [
    "#One way to embed an apostrophe \n",
    "sentence_w_apostrophe = \"Ningyuan's favorite programming language is Python.\"\n",
    "\n",
    "sentence_w_apostrophe"
   ]
  },
  {
   "cell_type": "markdown",
   "metadata": {},
   "source": [
    "Or we can use backlash to *\"escape\"* the apostrophe."
   ]
  },
  {
   "cell_type": "code",
   "execution_count": null,
   "metadata": {
    "collapsed": false
   },
   "outputs": [],
   "source": [
    "#Another way is to use the backslash with single quotes\n",
    "other_sentence_w_apostrophe = 'Ningyuan\\'s favorite programming language is Python.'\n",
    "\n",
    "other_sentence_w_apostrophe"
   ]
  },
  {
   "cell_type": "markdown",
   "metadata": {},
   "source": [
    "The backslash additional string formatting capabilities. Consider the following commands:\n",
    "\n",
    "- **\\t** - inserts tab in string\n",
    "- **\\n** -  inserts new line in string\n",
    "\n",
    "These will probably be the ones you use most, but there are others."
   ]
  },
  {
   "cell_type": "code",
   "execution_count": null,
   "metadata": {
    "collapsed": false
   },
   "outputs": [],
   "source": [
    "sentence_w_newline = 'Roses are red, \\nviolets are blue.'\n",
    "\n",
    "#Notice that when we just output the variable, the new line character appears\n",
    "sentence_w_newline"
   ]
  },
  {
   "cell_type": "code",
   "execution_count": null,
   "metadata": {
    "collapsed": false
   },
   "outputs": [],
   "source": [
    "#printing the variable will formate the string\n",
    "print(sentence_w_newline)"
   ]
  },
  {
   "cell_type": "code",
   "execution_count": null,
   "metadata": {
    "collapsed": false
   },
   "outputs": [],
   "source": [
    "#We can also create a string with multiple lines using 3 double quotes as follows\n",
    "sentence_w_triple_quotes =  \"\"\" Roses are red,\n",
    "violets are blue.    \"\"\"\n",
    "\n",
    "#Note that the new line character is added for us.\n",
    "sentence_w_triple_quotes"
   ]
  },
  {
   "cell_type": "markdown",
   "metadata": {},
   "source": [
    "We can check if a character is in a string using **in**. There is also a **not in**.  The result return a boolean."
   ]
  },
  {
   "cell_type": "code",
   "execution_count": null,
   "metadata": {
    "collapsed": false
   },
   "outputs": [],
   "source": [
    "#Use of in\n",
    "name  = 'Charlie'\n",
    "\n",
    "\"C\" in name"
   ]
  },
  {
   "cell_type": "code",
   "execution_count": null,
   "metadata": {
    "collapsed": false
   },
   "outputs": [],
   "source": [
    "#Another use\n",
    "\n",
    "\"Charl\" in name"
   ]
  },
  {
   "cell_type": "code",
   "execution_count": null,
   "metadata": {
    "collapsed": false
   },
   "outputs": [],
   "source": [
    "#Use of not in\n",
    "\n",
    "'5' not in name"
   ]
  },
  {
   "cell_type": "markdown",
   "metadata": {},
   "source": [
    "These string formatting techniques will be extremely important when we start reading and writing to files and more generally dealing with data. "
   ]
  }
 ],
 "metadata": {
  "kernelspec": {
   "display_name": "Python 3.10.5 64-bit",
   "language": "python",
   "name": "python3"
  },
  "language_info": {
   "codemirror_mode": {
    "name": "ipython",
    "version": 3
   },
   "file_extension": ".py",
   "mimetype": "text/x-python",
   "name": "python",
   "nbconvert_exporter": "python",
   "pygments_lexer": "ipython3",
   "version": "3.11.1 (v3.11.1:a7a450f84a, Dec  6 2022, 15:24:06) [Clang 13.0.0 (clang-1300.0.29.30)]"
  },
  "orig_nbformat": 2,
  "vscode": {
   "interpreter": {
    "hash": "aee8b7b246df8f9039afb4144a1f6fd8d2ca17a180786b69acc140d282b71a49"
   }
  }
 },
 "nbformat": 4,
 "nbformat_minor": 2
}
